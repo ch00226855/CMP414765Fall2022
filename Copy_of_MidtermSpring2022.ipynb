{
  "nbformat": 4,
  "nbformat_minor": 0,
  "metadata": {
    "colab": {
      "provenance": [],
      "collapsed_sections": [],
      "include_colab_link": true
    },
    "kernelspec": {
      "name": "python3",
      "display_name": "Python 3"
    },
    "language_info": {
      "name": "python"
    }
  },
  "cells": [
    {
      "cell_type": "markdown",
      "metadata": {
        "id": "view-in-github",
        "colab_type": "text"
      },
      "source": [
        "<a href=\"https://colab.research.google.com/github/ch00226855/CMP414765Fall2022/blob/main/Copy_of_MidtermSpring2022.ipynb\" target=\"_parent\"><img src=\"https://colab.research.google.com/assets/colab-badge.svg\" alt=\"Open In Colab\"/></a>"
      ]
    },
    {
      "cell_type": "markdown",
      "source": [
        "# CMP 414/765 Mid-Term Project \n",
        "\n",
        "<img src=\"https://upload.wikimedia.org/wikipedia/commons/thumb/f/fd/RMS_Titanic_3.jpg/450px-RMS_Titanic_3.jpg\" width=\"300\">\n",
        "\n",
        "The sinking of the RMS Titanic is one of the most infamous shipwrecks in history. On April 15, 1912, during her maiden voyage, the Titanic sank after colliding with an iceberg, killing 1502 out of 2224 passengers and crew. One of the reasons that the shipwreck led to such loss of life was that there were not enough lifeboats for the passengers and crew. Although where was some element of luck involved in surviving the sinking, some groups of people were more likely to survive than others, such as women, children, and the upper-class.\n",
        "\n",
        "For the mid-term project, we will work with the [Titanic dataset](https://www.kaggle.com/c/titanic) on Kaggle.com. In this project, you will get to apply machine learning tools to analyze the passenger information from the training set, and analyze what factors may affect a passenger's chance for survival. **You are expected to submit a complete Jupyter notebook with python code (including detailed comments), numerical results, and graphs (with proper labeling) to Blackboard.** The submission deadline is **Sunday, November 13th**.\n"
      ],
      "metadata": {
        "id": "pKCFiptqRyGK"
      }
    },
    {
      "cell_type": "markdown",
      "source": [
        "# Stage I: Data Exploration\n"
      ],
      "metadata": {
        "id": "Ejbol2coR_GV"
      }
    },
    {
      "cell_type": "markdown",
      "source": [
        "(1) Download the training data from https://www.kaggle.com/c/titanic/data as a CSV file."
      ],
      "metadata": {
        "id": "oyabnRvSTDFb"
      }
    },
    {
      "cell_type": "markdown",
      "source": [
        "(2) Load the training dataset as a Pandas DataFrame. "
      ],
      "metadata": {
        "id": "WhY0wKWGTIJu"
      }
    },
    {
      "cell_type": "code",
      "source": [],
      "metadata": {
        "id": "uiwKCoukTNXn"
      },
      "execution_count": null,
      "outputs": []
    },
    {
      "cell_type": "markdown",
      "source": [
        "(3) Obtain basic information of variables. For each variable, find out:\n",
        "1. What does this variable represent\n",
        "2. The meaning of values\n",
        "3. Numerical summary\n",
        "4. Graphical distributions of values\n"
      ],
      "metadata": {
        "id": "m4eBiWeATPq8"
      }
    },
    {
      "cell_type": "code",
      "source": [],
      "metadata": {
        "id": "uYb0TTJkTWBm"
      },
      "execution_count": null,
      "outputs": []
    },
    {
      "cell_type": "code",
      "source": [],
      "metadata": {
        "id": "PfXvFCxHTZIY"
      },
      "execution_count": null,
      "outputs": []
    },
    {
      "cell_type": "code",
      "source": [],
      "metadata": {
        "id": "FDWEHtcMTZQi"
      },
      "execution_count": null,
      "outputs": []
    },
    {
      "cell_type": "markdown",
      "source": [
        "(4) Data Cleaning\n",
        "\n",
        "Discard all passengers with incomplete information may significantly reduce the number of data example. Please handle the missing value problem in the following way:\n",
        "1. Remove all columns that contain more than 5% missing values.\n",
        "2. After Step 1, remove any row that has missing values.\n",
        "\n"
      ],
      "metadata": {
        "id": "9Et6BGIcTZgX"
      }
    },
    {
      "cell_type": "code",
      "source": [],
      "metadata": {
        "id": "cO9fLa2ZUJFZ"
      },
      "execution_count": null,
      "outputs": []
    },
    {
      "cell_type": "markdown",
      "source": [
        "(5) Prediction Power\n",
        "A good model should only include variables that are indeed related to the task. Use correlation coefficients and scatter plots to decide which variables have strong relationship to passengers’ survival, and which don’t. \n"
      ],
      "metadata": {
        "id": "FEWBSjrwUJxp"
      }
    },
    {
      "cell_type": "code",
      "source": [],
      "metadata": {
        "id": "ywLZySU4UQMD"
      },
      "execution_count": null,
      "outputs": []
    },
    {
      "cell_type": "markdown",
      "source": [
        "(6) (optional) You may think that the name feature is irrelevant. However, a closer look at the names will show that some passengers have rare titles such as Dr., Mme, or Master., which indicates their high social status. Please create a column to indicate whether a passenger has a rare title."
      ],
      "metadata": {
        "id": "0UnTmyR2UQqq"
      }
    },
    {
      "cell_type": "code",
      "source": [],
      "metadata": {
        "id": "af_TK--uUVxZ"
      },
      "execution_count": null,
      "outputs": []
    },
    {
      "cell_type": "markdown",
      "source": [
        "## Stage II: Model Construction"
      ],
      "metadata": {
        "id": "4zaJVdJ3UV89"
      }
    },
    {
      "cell_type": "markdown",
      "source": [
        "(1) Converting Categorical Features\n",
        "\n",
        "1. Sex in the original dataset is categorial, and thus cannot be directly fed into Machine Learning models. Please convert the categories into 0’s and 1’s.\n",
        "2. Embarked is also categorical. However, it is not ideal to simply convert the three categories into 0, 1, and 2, since it creates a bias by imposing an order to the values. Instead, we can add an indicator variable (also known as a dummy variable) for each category separately. Please replace the Embarked variable with three variables – Embarked_S, Embarked_C, and Embarked_Q – to indicate the place a passenger boarded the ship. For example, if a passenger boarded from Southamptons, Embarked_S should be set to 1, and Embarked_C and Embarked_Q should be zero. ([pandas.get_dummies()](https://pandas.pydata.org/docs/reference/api/pandas.get_dummies.html) can help you with this)\n"
      ],
      "metadata": {
        "id": "Pr6pFSCGUYWi"
      }
    },
    {
      "cell_type": "code",
      "source": [],
      "metadata": {
        "id": "-oaEUeNhUxBY"
      },
      "execution_count": null,
      "outputs": []
    },
    {
      "cell_type": "markdown",
      "source": [
        "(2) Feature Scaling\n",
        "\n",
        "Machine learning models usually work best on datasets whose variables have similar ranges. Please scale each variable so that it has zero mean and unit variance (sklearn.preprocessing.StandardScaler() can help you with this)."
      ],
      "metadata": {
        "id": "JpOznDspU2S_"
      }
    },
    {
      "cell_type": "code",
      "source": [],
      "metadata": {
        "id": "uaom_ykUU9_X"
      },
      "execution_count": null,
      "outputs": []
    },
    {
      "cell_type": "markdown",
      "source": [
        "(3) Extract Validation set\n",
        "\n",
        "Because the test dataset from the website has no information on survival, it cannot be used to evaluate the performance of the model. As a result, we need to further split the data in train.csv into training set (80%) and validation set (20%). We will use training set to build the models, and use validation set to evaluate them. (`sklearn.model_selection.train_test_split()` can help you with this)"
      ],
      "metadata": {
        "id": "4rhYnbtgU-bA"
      }
    },
    {
      "cell_type": "code",
      "source": [],
      "metadata": {
        "id": "RX3jlnn3VMs-"
      },
      "execution_count": null,
      "outputs": []
    },
    {
      "cell_type": "markdown",
      "source": [
        "(4) (Optional: Feature Engineering)\n",
        "\n",
        "Previously we noticed that some passengers’ names have rare titles, which may indicate their unusual social status. Extracting a new feature from existing data is called feature engineering. Another interesting thing you may observed is that some passenger got on board for free! This could also be a potential indicator of the social status of the passenger. Please create an indicator variable on whether a person paid for the ticket."
      ],
      "metadata": {
        "id": "2IPF79TgVM_9"
      }
    },
    {
      "cell_type": "code",
      "source": [],
      "metadata": {
        "id": "fmDD7HTSVSzQ"
      },
      "execution_count": null,
      "outputs": []
    },
    {
      "cell_type": "code",
      "source": [],
      "metadata": {
        "id": "RIkC749xVTH7"
      },
      "execution_count": null,
      "outputs": []
    },
    {
      "cell_type": "markdown",
      "source": [
        "(5) Building Models\n",
        "\n",
        "So far, we have learned five models: linear regression, polynomial regression, logistic regression, k-nearest neighbors method, and linear support vector machine. Choose at least two models that are suitable for this problem and use corresponding sklearn classes to fit the data. Note that each model class has several parameters, you are welcome to change the default parameter values and try to improve the performance of the model.\n"
      ],
      "metadata": {
        "id": "zeKd3U1DVX8y"
      }
    },
    {
      "cell_type": "code",
      "source": [],
      "metadata": {
        "id": "thAte3I9VefA"
      },
      "execution_count": null,
      "outputs": []
    },
    {
      "cell_type": "markdown",
      "source": [
        "## Stage III: Model Selection and Interpretation"
      ],
      "metadata": {
        "id": "2O2sdJc-VexH"
      }
    },
    {
      "cell_type": "markdown",
      "source": [
        "(1) Model Selection. \n",
        "\n",
        "For each model you have trained, perform the following evaluations on the validation set:\n",
        "1. cross validation\n",
        "2. confusion matrix\n",
        "3. precision, and recall \n",
        "\n",
        "What is the best model?"
      ],
      "metadata": {
        "id": "cr58XdYrVg_e"
      }
    },
    {
      "cell_type": "code",
      "source": [],
      "metadata": {
        "id": "SjHGH0NcVlBA"
      },
      "execution_count": null,
      "outputs": []
    },
    {
      "cell_type": "markdown",
      "source": [
        "(2) Model Interpretation.\n",
        "\n",
        "Based on the model that you have selected, can you identify a few key variables that are important in predicting the survival of the passengers? Try to find out which characteristics can improve passengers’ chance of survival.\n"
      ],
      "metadata": {
        "id": "EiKyLBntVlWP"
      }
    },
    {
      "cell_type": "code",
      "source": [],
      "metadata": {
        "id": "3-ZcvIyIVo05"
      },
      "execution_count": null,
      "outputs": []
    },
    {
      "cell_type": "markdown",
      "source": [
        "(3) (optional) Submit Results to Kaggle.com\n",
        "Make predictions on the test set, submit your results to Kaggle.com. "
      ],
      "metadata": {
        "id": "qzHnGWQ4VpGY"
      }
    },
    {
      "cell_type": "code",
      "source": [],
      "metadata": {
        "id": "82r37RRmVsZ9"
      },
      "execution_count": null,
      "outputs": []
    }
  ]
}