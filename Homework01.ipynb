{
  "nbformat": 4,
  "nbformat_minor": 0,
  "metadata": {
    "colab": {
      "provenance": [],
      "authorship_tag": "ABX9TyOaapWbTlkVEGnqwPmzkI0i",
      "include_colab_link": true
    },
    "kernelspec": {
      "name": "python3",
      "display_name": "Python 3"
    },
    "language_info": {
      "name": "python"
    }
  },
  "cells": [
    {
      "cell_type": "markdown",
      "metadata": {
        "id": "view-in-github",
        "colab_type": "text"
      },
      "source": [
        "<a href=\"https://colab.research.google.com/github/ch00226855/CMP414765Fall2022/blob/main/Homework01.ipynb\" target=\"_parent\"><img src=\"https://colab.research.google.com/assets/colab-badge.svg\" alt=\"Open In Colab\"/></a>"
      ]
    },
    {
      "cell_type": "markdown",
      "source": [
        "# Homework: Python Basics\n",
        "\n",
        "A data set of sale prices is given as a Python list:"
      ],
      "metadata": {
        "id": "_3073i6ys9N0"
      }
    },
    {
      "cell_type": "code",
      "source": [
        "prices = [299.0, 399.0, 1709.0, 349.0, 549.0, 239.0, 399.0, 399.9, 299.0, 898.5, 449.0]"
      ],
      "metadata": {
        "id": "I_IqNxXwTwOb"
      },
      "execution_count": null,
      "outputs": []
    },
    {
      "cell_type": "markdown",
      "source": [
        "Ex. 1. Calculate the average price"
      ],
      "metadata": {
        "id": "I-jWNO1ytBkH"
      }
    },
    {
      "cell_type": "code",
      "source": [],
      "metadata": {
        "id": "WUdfehYFtBmh"
      },
      "execution_count": null,
      "outputs": []
    },
    {
      "cell_type": "markdown",
      "source": [
        "Ex. 2. The **median value** of a data set is the \"middle\" value. It is calculated as follows:\n",
        "- Sort the data set. (You can use the [sort](https://www.w3schools.com/python/ref_list_sort.asp) method to sort a Python list.)\n",
        "- If the size of the data set is odd, the median value is the value at index `size//2`.\n",
        "- If the size of the data set is even, the median value is the average of the value at index `size//2 - 1` and `size//2`.\n",
        "\n",
        "**Calculate the median price.**"
      ],
      "metadata": {
        "id": "i4LMmwXfVh0m"
      }
    },
    {
      "cell_type": "code",
      "source": [],
      "metadata": {
        "id": "0zoNOl8hVhTs"
      },
      "execution_count": null,
      "outputs": []
    },
    {
      "cell_type": "markdown",
      "source": [
        "Ex. 3. The **variance** is a descriptive statistic that measures how much a typical value in a data set differs from the average value. It is calculated as follows:\n",
        "- Calculate the average value.\n",
        "- For each value in the data set, calculate the square of the difference between the value and the average value. For example, if a value in the data set is 1.5 and the average value is 3.0, then calculate\n",
        "\n",
        "$$\n",
        "(1.5 - 3.0)^2 = 2.25.\n",
        "$$\n",
        "\n",
        "- The variance is the average of the squares calculated in the previous step.\n",
        "\n",
        "**Calculate the variance of the sale prices.**"
      ],
      "metadata": {
        "id": "jJjaCEOHtGVb"
      }
    },
    {
      "cell_type": "code",
      "source": [],
      "metadata": {
        "id": "Tspt7nHctUwa"
      },
      "execution_count": null,
      "outputs": []
    },
    {
      "cell_type": "markdown",
      "source": [
        "Please convert the completed notebook to a PDF file and submit it to the assignment section on Blackboard by **Wednesday, September 14th at 11:59pm**. "
      ],
      "metadata": {
        "id": "vnvtZhd4ta_1"
      }
    },
    {
      "cell_type": "code",
      "source": [],
      "metadata": {
        "id": "kqJBGU6CuzK3"
      },
      "execution_count": null,
      "outputs": []
    }
  ]
}