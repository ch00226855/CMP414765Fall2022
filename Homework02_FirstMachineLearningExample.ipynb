{
  "nbformat": 4,
  "nbformat_minor": 0,
  "metadata": {
    "colab": {
      "name": "HW_Week02_SimpleLinearModel",
      "provenance": [],
      "include_colab_link": true
    },
    "kernelspec": {
      "name": "python3",
      "display_name": "Python 3"
    },
    "language_info": {
      "name": "python"
    }
  },
  "cells": [
    {
      "cell_type": "markdown",
      "metadata": {
        "id": "view-in-github",
        "colab_type": "text"
      },
      "source": [
        "<a href=\"https://colab.research.google.com/github/ch00226855/CMP414765Fall2022/blob/main/Homework02_FirstMachineLearningExample.ipynb\" target=\"_parent\"><img src=\"https://colab.research.google.com/assets/colab-badge.svg\" alt=\"Open In Colab\"/></a>"
      ]
    },
    {
      "cell_type": "markdown",
      "source": [
        "# Homework 2\n",
        "\n",
        "This homework assignment aims to build a linear model to describe the trend of height increase for the United Kingdom between 1900 and 1980.\n",
        "\n",
        "**Please complete this notebook and submit it to Blackboard as a PDF file before Wednesday, Sep. 21 at 11:59PM.**\n",
        "\n",
        "\n",
        "\n",
        "\n"
      ],
      "metadata": {
        "id": "nIDEhy8l4glH"
      }
    },
    {
      "cell_type": "markdown",
      "source": [
        "1. Extract the average height values for **United Kingdom** between 1900 and 1980 from the dataset used in Week 2 notebook."
      ],
      "metadata": {
        "id": "md-IiDAKEA35"
      }
    },
    {
      "cell_type": "code",
      "source": [],
      "metadata": {
        "id": "tH0MvsonECdE"
      },
      "execution_count": null,
      "outputs": []
    },
    {
      "cell_type": "markdown",
      "source": [
        "2. Find a linear model (height = m * year + b) that can describe the trend of height increase.\n",
        "    - The value of `m` should be close to the average height increase\n",
        "    - The value of `b` should make the line close to the data points.\n",
        "    - Use the `LinearRegression` class from `sklearn.linear_model` for this task"
      ],
      "metadata": {
        "id": "1PukrnGBEA6e"
      }
    },
    {
      "cell_type": "code",
      "source": [],
      "metadata": {
        "id": "F2ApyRCoET8V"
      },
      "execution_count": null,
      "outputs": []
    },
    {
      "cell_type": "markdown",
      "source": [
        "3. Display the model line together with the data points."
      ],
      "metadata": {
        "id": "NWkpzWhbEA9D"
      }
    },
    {
      "cell_type": "code",
      "source": [],
      "metadata": {
        "id": "xlE57KIYEYbg"
      },
      "execution_count": null,
      "outputs": []
    },
    {
      "cell_type": "markdown",
      "source": [
        "4. Compute the mean square error (MSE) of this model. "
      ],
      "metadata": {
        "id": "9lufl3XOEA_w"
      }
    },
    {
      "cell_type": "code",
      "source": [],
      "metadata": {
        "id": "ww3Rwtoc4p9Q"
      },
      "execution_count": null,
      "outputs": []
    }
  ]
}