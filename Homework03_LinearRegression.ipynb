{
  "nbformat": 4,
  "nbformat_minor": 0,
  "metadata": {
    "colab": {
      "provenance": [],
      "include_colab_link": true
    },
    "kernelspec": {
      "name": "python3",
      "display_name": "Python 3"
    },
    "language_info": {
      "name": "python"
    }
  },
  "cells": [
    {
      "cell_type": "markdown",
      "metadata": {
        "id": "view-in-github",
        "colab_type": "text"
      },
      "source": [
        "<a href=\"https://colab.research.google.com/github/ch00226855/CMP414765Fall2022/blob/main/Homework03_LinearRegression.ipynb\" target=\"_parent\"><img src=\"https://colab.research.google.com/assets/colab-badge.svg\" alt=\"Open In Colab\"/></a>"
      ]
    },
    {
      "cell_type": "markdown",
      "source": [
        "# Homework 3\n",
        "\n",
        "In this homework assignment, we will further explore the **linear regression** model for regression tasks.\n",
        "\n",
        "Please submit your solutions as a PDF file to Blackboard by **Wednesday, March 28th at 11:59 PM**."
      ],
      "metadata": {
        "id": "pMsNlMeyDHDR"
      }
    },
    {
      "cell_type": "markdown",
      "source": [
        "Goal: Train a linear regression model using the normal equation and verify that the results coincide with the results from `sklearn`.\n",
        "\n",
        "We will use the advertisement revenue data used in Week 3 notebook and build a linear regression model on `radio` and `sales`."
      ],
      "metadata": {
        "id": "Nb-T8FtoEodp"
      }
    },
    {
      "cell_type": "code",
      "source": [
        "import numpy as np\n",
        "import pandas as pd\n",
        "import matplotlib.pyplot as plt\n",
        "%matplotlib inline"
      ],
      "metadata": {
        "id": "6pnaId6iDOkQ"
      },
      "execution_count": null,
      "outputs": []
    },
    {
      "cell_type": "code",
      "source": [
        "url = \"https://www.statlearning.com/s/Advertising.csv\"\n",
        "advertising = pd.read_csv(url, index_col=0)\n",
        "advertising.head()"
      ],
      "metadata": {
        "id": "dr_H8eZ7FH79"
      },
      "execution_count": null,
      "outputs": []
    },
    {
      "cell_type": "markdown",
      "source": [
        "1. Split the data into 85% training data and 15% test data."
      ],
      "metadata": {
        "id": "xH7DG5ekFnc3"
      }
    },
    {
      "cell_type": "code",
      "source": [],
      "metadata": {
        "id": "dACIMRSbFnCC"
      },
      "execution_count": null,
      "outputs": []
    },
    {
      "cell_type": "markdown",
      "source": [
        "2. Build a linear regression model that predicts `sales` with the `radio` feature using `sklearn`. Display the model parameters and its test MSE."
      ],
      "metadata": {
        "id": "8wh3s8N3FZAw"
      }
    },
    {
      "cell_type": "code",
      "source": [],
      "metadata": {
        "id": "506Gs3LoFllO"
      },
      "execution_count": null,
      "outputs": []
    },
    {
      "cell_type": "markdown",
      "source": [
        "3. Calculate the parameter values with the normal equation. These values should be the same as the values shown in Step 2."
      ],
      "metadata": {
        "id": "q051UAoEF8rH"
      }
    },
    {
      "cell_type": "code",
      "source": [],
      "metadata": {
        "id": "jT8WRRmNGKTN"
      },
      "execution_count": null,
      "outputs": []
    }
  ]
}