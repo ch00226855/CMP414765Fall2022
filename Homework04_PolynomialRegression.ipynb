{
  "nbformat": 4,
  "nbformat_minor": 0,
  "metadata": {
    "colab": {
      "name": "HW04_PolynomialRegression",
      "provenance": [],
      "include_colab_link": true
    },
    "kernelspec": {
      "name": "python3",
      "display_name": "Python 3"
    },
    "language_info": {
      "name": "python"
    }
  },
  "cells": [
    {
      "cell_type": "markdown",
      "metadata": {
        "id": "view-in-github",
        "colab_type": "text"
      },
      "source": [
        "<a href=\"https://colab.research.google.com/github/ch00226855/CMP414765Fall2022/blob/main/Homework04_PolynomialRegression.ipynb\" target=\"_parent\"><img src=\"https://colab.research.google.com/assets/colab-badge.svg\" alt=\"Open In Colab\"/></a>"
      ]
    },
    {
      "cell_type": "markdown",
      "source": [
        "# Homework 4\n",
        "This homework assignment will build three polynomial models on the same dataset and compare their performance. You can use tools from `sklearn` to complete this task."
      ],
      "metadata": {
        "id": "5HCnwhZ1OABm"
      }
    },
    {
      "cell_type": "code",
      "execution_count": null,
      "metadata": {
        "id": "qq3fSlX2M11C"
      },
      "outputs": [],
      "source": [
        "import numpy as np\n",
        "import pandas as pd\n",
        "import matplotlib.pyplot as plt\n",
        "np.random.seed(12345) # Fix a random seed so that the result is replicable.\n",
        "%matplotlib inline"
      ]
    },
    {
      "cell_type": "code",
      "source": [
        "# Generate a data set X and Y\n",
        "m = 100\n",
        "X = 6 * np.random.rand(m, 1) - 3\n",
        "Y = 4 * X ** 3 + 5 * X ** 2 + X + 2 + np.random.randn(m, 1)\n",
        "plt.plot(X, Y, 'c.')"
      ],
      "metadata": {
        "id": "BuvOOrXpNMNS"
      },
      "execution_count": null,
      "outputs": []
    },
    {
      "cell_type": "markdown",
      "source": [
        "1. Use train_test_split to split the data into training set (80%) and test set (20%)."
      ],
      "metadata": {
        "id": "sExzZNA2NOOt"
      }
    },
    {
      "cell_type": "code",
      "source": [],
      "metadata": {
        "id": "utPAJCUjNaId"
      },
      "execution_count": null,
      "outputs": []
    },
    {
      "cell_type": "markdown",
      "source": [
        "2. Build a degree 2 polynomial regression model with `X` as input variables and `Y` as output variable. Name the model model_pr2. Train the model on the training set and obtain the MSE on the test set."
      ],
      "metadata": {
        "id": "KTj0wOzmNc9W"
      }
    },
    {
      "cell_type": "code",
      "source": [],
      "metadata": {
        "id": "n3ms9vZ7Ndk1"
      },
      "execution_count": null,
      "outputs": []
    },
    {
      "cell_type": "markdown",
      "source": [
        "3. Build a degree 3 polynomial regression model with `X` as input variables and `Y` as output variable. Name the model model_pr3. Train the model on the training set and  obtain the MSE on the test set."
      ],
      "metadata": {
        "id": "pkG-uXoENd1T"
      }
    },
    {
      "cell_type": "code",
      "source": [],
      "metadata": {
        "id": "OuxT6hlgN2eE"
      },
      "execution_count": null,
      "outputs": []
    },
    {
      "cell_type": "markdown",
      "source": [
        "4. Build a degree 10 polynomial regression model with `X` as input variables and `Y` as output variable. Name the model model_pr10. Train the model on the training set and  obtain the MSE on the test set."
      ],
      "metadata": {
        "id": "7TubsDvaN2uW"
      }
    },
    {
      "cell_type": "code",
      "source": [],
      "metadata": {
        "id": "YOfkQGlWN8nG"
      },
      "execution_count": null,
      "outputs": []
    }
  ]
}