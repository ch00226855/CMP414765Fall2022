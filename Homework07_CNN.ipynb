{
  "nbformat": 4,
  "nbformat_minor": 0,
  "metadata": {
    "colab": {
      "provenance": [],
      "authorship_tag": "ABX9TyPtVFtTVOLgOsxL8cdbUsyi",
      "include_colab_link": true
    },
    "kernelspec": {
      "name": "python3",
      "display_name": "Python 3"
    },
    "language_info": {
      "name": "python"
    }
  },
  "cells": [
    {
      "cell_type": "markdown",
      "metadata": {
        "id": "view-in-github",
        "colab_type": "text"
      },
      "source": [
        "<a href=\"https://colab.research.google.com/github/ch00226855/CMP414765Fall2022/blob/main/Homework07_CNN.ipynb\" target=\"_parent\"><img src=\"https://colab.research.google.com/assets/colab-badge.svg\" alt=\"Open In Colab\"/></a>"
      ]
    },
    {
      "cell_type": "markdown",
      "source": [
        "# Homework 7 Convolutional Neural Networks"
      ],
      "metadata": {
        "id": "DfzZEPfkJEOX"
      }
    },
    {
      "cell_type": "markdown",
      "source": [
        "Implement the convolution function `conv(input, filter)` to calculate the output matrix given the input matrix and filter. Use the example below and the tensorflow implementation `tf.nn.convolution` to verify your result.\n",
        "\n",
        "Please submit your notebook as a PDF file to Blackboard by **Wednesday, Dec. 14th at 11:59 PM**."
      ],
      "metadata": {
        "id": "rS5tMOskJP1g"
      }
    },
    {
      "cell_type": "code",
      "source": [
        "import matplotlib.pyplot as plt\n",
        "import numpy as np\n",
        "import tensorflow as tf"
      ],
      "metadata": {
        "id": "_SXThBEtJq42"
      },
      "execution_count": 1,
      "outputs": []
    },
    {
      "cell_type": "code",
      "source": [
        "input_matrix = np.array([[0, 0, 0, 0, 0, 0, 0, 0],\n",
        "                         [0, 0, 0, 1, 1, 1, 1, 0],\n",
        "                         [0, 0, 0, 0, 0, 0, 1, 0],\n",
        "                         [0, 0, 0, 0, 0, 1, 0, 0],\n",
        "                         [0, 0, 0, 0, 0, 1, 0, 0],\n",
        "                         [0, 0, 0, 0, 1, 0, 0, 0],\n",
        "                         [0, 0, 0, 0, 1, 0, 0, 0],\n",
        "                         [0, 0, 0, 0, 0, 0, 0, 0],\n",
        "                         ])\n",
        "plt.imshow(input_matrix, cmap=\"Greys\")"
      ],
      "metadata": {
        "colab": {
          "base_uri": "https://localhost:8080/",
          "height": 282
        },
        "id": "OZPWT217Jwhd",
        "outputId": "41eeb415-adb0-46d5-f3ff-b7113550d802"
      },
      "execution_count": 3,
      "outputs": [
        {
          "output_type": "execute_result",
          "data": {
            "text/plain": [
              "<matplotlib.image.AxesImage at 0x7f115b3cebe0>"
            ]
          },
          "metadata": {},
          "execution_count": 3
        },
        {
          "output_type": "display_data",
          "data": {
            "text/plain": [
              "<Figure size 432x288 with 1 Axes>"
            ],
            "image/png": "[encoded data removed]"
          },
          "metadata": {
            "needs_background": "light"
          }
        }
      ]
    },
    {
      "cell_type": "code",
      "source": [
        "filter = np.array([[1, 1, 1],\n",
        "                   [0, 0, 0],\n",
        "                   [-1, -1, -1]\n",
        "                   ])"
      ],
      "metadata": {
        "id": "JQnczRPKKGOs"
      },
      "execution_count": 4,
      "outputs": []
    },
    {
      "cell_type": "code",
      "source": [
        "# Convolution calculated by TensorFlow\n",
        "input_tensor = input_matrix.astype('float32').reshape([1, 8, 8, 1])\n",
        "filter_tensor = filter.astype('float32').reshape([3, 3, 1, 1])\n",
        "result = tf.nn.convolution(input_tensor, filter_tensor)\n",
        "result_matrix = result[0, :, :, 0]\n",
        "print(result_matrix)\n",
        "plt.imshow(result_matrix, cmap=\"Greys\")"
      ],
      "metadata": {
        "colab": {
          "base_uri": "https://localhost:8080/",
          "height": 404
        },
        "id": "uITe0l4cKOo7",
        "outputId": "264d1caf-9390-486a-8b53-6143d221ea01"
      },
      "execution_count": 13,
      "outputs": [
        {
          "output_type": "stream",
          "name": "stdout",
          "text": [
            "tf.Tensor(\n",
            "[[ 0.  0.  0.  0. -1. -1.]\n",
            " [ 0.  1.  2.  2.  2.  1.]\n",
            " [ 0.  0.  0. -1.  0.  0.]\n",
            " [ 0.  0. -1.  0.  0.  1.]\n",
            " [ 0.  0. -1.  0.  0.  1.]\n",
            " [ 0.  0.  1.  1.  1.  0.]], shape=(6, 6), dtype=float32)\n"
          ]
        },
        {
          "output_type": "execute_result",
          "data": {
            "text/plain": [
              "<matplotlib.image.AxesImage at 0x7f1156902b20>"
            ]
          },
          "metadata": {},
          "execution_count": 13
        },
        {
          "output_type": "display_data",
          "data": {
            "text/plain": [
              "<Figure size 432x288 with 1 Axes>"
            ],
            "image/png": "[encoded data removed]"
          },
          "metadata": {
            "needs_background": "light"
          }
        }
      ]
    },
    {
      "cell_type": "code",
      "source": [
        "# Write your own function for convolution\n",
        "def conv(input_matrix, filter):\n",
        "\n",
        "    "
      ],
      "metadata": {
        "id": "UK2KFFRaKYKK"
      },
      "execution_count": null,
      "outputs": []
    },
    {
      "cell_type": "code",
      "source": [
        "# Apply the conv function on the matrix and filter defined above, and display the result\n",
        "# The result should be the same as displayed above.\n",
        "\n",
        "\n"
      ],
      "metadata": {
        "id": "ecOngDktLYjI"
      },
      "execution_count": 15,
      "outputs": []
    }
  ]
}