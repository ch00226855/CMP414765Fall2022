{
  "nbformat": 4,
  "nbformat_minor": 0,
  "metadata": {
    "colab": {
      "name": "Week01_PythonIntro",
      "provenance": [],
      "collapsed_sections": [],
      "authorship_tag": "ABX9TyPXhYXuuZ39+Vv49oGg4otQ",
      "include_colab_link": true
    },
    "kernelspec": {
      "name": "python3",
      "display_name": "Python 3"
    }
  },
  "cells": [
    {
      "cell_type": "markdown",
      "metadata": {
        "id": "view-in-github",
        "colab_type": "text"
      },
      "source": [
        "<a href=\"https://colab.research.google.com/github/ch00226855/CMP414765Fall2022/blob/main/Week01_PythonIntro.ipynb\" target=\"_parent\"><img src=\"https://colab.research.google.com/assets/colab-badge.svg\" alt=\"Open In Colab\"/></a>"
      ]
    },
    {
      "cell_type": "markdown",
      "metadata": {
        "id": "wY8eYMoyCHrm"
      },
      "source": [
        "# Week 1 Introduction to Python"
      ]
    },
    {
      "cell_type": "markdown",
      "metadata": {
        "id": "0Uu0-9HUSq1o"
      },
      "source": [
        "## Important Links\n",
        "- [Blackboard](http://www.lehman.edu/logins/)\n",
        "- [Course Github Repository](https://github.com/ch00226855/CMP414765Spring2022)\n",
        "- [Google Colaboratory](https://colab.research.google.com/)\n",
        "- [Anaconda Distribution for Python](https://www.anaconda.com/distribution/)"
      ]
    },
    {
      "cell_type": "markdown",
      "metadata": {
        "id": "s_E3iNYwStz3"
      },
      "source": [
        "## Python Tutorial"
      ]
    },
    {
      "cell_type": "markdown",
      "metadata": {
        "id": "FkI0kyPkuuIx"
      },
      "source": [
        "### 1. Hello World\n"
      ]
    },
    {
      "cell_type": "code",
      "metadata": {
        "id": "tCMTrQxUAeJn"
      },
      "source": [
        "# This prints Hello World\n",
        "print(\"Hello World\")"
      ],
      "execution_count": null,
      "outputs": []
    },
    {
      "cell_type": "markdown",
      "metadata": {
        "id": "yzTmHmCvu4BN"
      },
      "source": [
        "### 2. Variables\n",
        "- Declaration\n",
        "- Type"
      ]
    },
    {
      "cell_type": "code",
      "metadata": {
        "id": "YfsURQ1dAi1E"
      },
      "source": [
        "# Variables\n",
        "a = 4\n",
        "b = -5\n",
        "print(a + b)"
      ],
      "execution_count": null,
      "outputs": []
    },
    {
      "cell_type": "code",
      "metadata": {
        "id": "C2LGIQcFC27Z"
      },
      "source": [
        "# Type is important in python\n",
        "a2 = \"4\"\n",
        "print(a2 + b)"
      ],
      "execution_count": null,
      "outputs": []
    },
    {
      "cell_type": "code",
      "metadata": {
        "id": "Sgw-YIE8DLJY"
      },
      "source": [
        "# Show the type of a variable\n",
        "print(type(a))\n",
        "print(type(a2))"
      ],
      "execution_count": null,
      "outputs": []
    },
    {
      "cell_type": "code",
      "metadata": {
        "id": "yb2K09jcDfQr"
      },
      "source": [
        "c = 1.5\n",
        "d = True\n",
        "print(type(c))\n",
        "print(type(d))"
      ],
      "execution_count": null,
      "outputs": []
    },
    {
      "cell_type": "code",
      "metadata": {
        "id": "gcqBEYZbDs7Y"
      },
      "source": [
        "type(float(a))"
      ],
      "execution_count": null,
      "outputs": []
    },
    {
      "cell_type": "markdown",
      "metadata": {
        "id": "26GGonIJvZTZ"
      },
      "source": [
        "### 3. Arithmetics"
      ]
    },
    {
      "cell_type": "code",
      "metadata": {
        "id": "GvHIWSggD5A-"
      },
      "source": [
        "# Arithmetics\n",
        "# +, -, *, /\n",
        "# Integer division\n",
        "print(4 / 3) # gives a floating point number\n",
        "print(4 // 3) # double division always give an integer\n",
        "# Get remainder\n",
        "print(5 % 3) # give the remainder of integer division\n",
        "# Power\n",
        "print(3 ** 2) # represents 3 to the power of 2 = 9\n",
        "print(3 ** (1/2)) # square root of 3"
      ],
      "execution_count": null,
      "outputs": []
    },
    {
      "cell_type": "markdown",
      "metadata": {
        "id": "cao_PEgTFdAN"
      },
      "source": [
        "Exercise: quadratic formula:\n",
        "\n",
        "$x = \\frac{-b \\pm \\sqrt{b^2 - 4ac}}{2a}$"
      ]
    },
    {
      "cell_type": "code",
      "metadata": {
        "id": "GMNNPsPuFuIz"
      },
      "source": [
        "a = 1\n",
        "b = 2\n",
        "c = 3\n",
        "\n",
        "# Ex. Use the quadratoc formula to find the solutions to ax^2 + bx + c = 0.\n",
        "\n"
      ],
      "execution_count": null,
      "outputs": []
    },
    {
      "cell_type": "markdown",
      "metadata": {
        "id": "_N9VYHSPu7QG"
      },
      "source": [
        "### 4. Assignment Operators"
      ]
    },
    {
      "cell_type": "code",
      "metadata": {
        "id": "Nul9PyctFUVu"
      },
      "source": [
        "a = 1\n",
        "a += 1 # a = a + 1\n",
        "print(a)\n",
        "b, c, d = 2, 3, 4\n",
        "b -= 5\n",
        "c *= 10\n",
        "d /= 2\n",
        "print(b, c, d)"
      ],
      "execution_count": null,
      "outputs": []
    },
    {
      "cell_type": "markdown",
      "metadata": {
        "id": "A15kndiOu7Zn"
      },
      "source": [
        "### 5. Logical Operators"
      ]
    },
    {
      "cell_type": "code",
      "metadata": {
        "id": "KDAort5xF2QV"
      },
      "source": [
        "t, f = True, False\n",
        "print(t, f)"
      ],
      "execution_count": null,
      "outputs": []
    },
    {
      "cell_type": "code",
      "metadata": {
        "id": "m8kCogzcGAtJ"
      },
      "source": [
        "print(True or False) # \"or\" means or\n",
        "print(True and False) # \"and\" means and\n",
        "print(not True)\n",
        "print(not False)"
      ],
      "execution_count": null,
      "outputs": []
    },
    {
      "cell_type": "code",
      "metadata": {
        "id": "VHlukoO9GYKV"
      },
      "source": [
        "# Comparisons: >, <, ==, !=, >=, <=\n",
        "exp1 = (a > 5) and (b < 3)\n",
        "print(a, b, exp1)"
      ],
      "execution_count": null,
      "outputs": []
    },
    {
      "cell_type": "markdown",
      "source": [
        "## 6. Strings.\n",
        "Both `\"\"` and `''` can be used to define strings in Python."
      ],
      "metadata": {
        "id": "bZqBGLvLH68s"
      }
    },
    {
      "cell_type": "code",
      "metadata": {
        "id": "i68OFRA7GxWy"
      },
      "source": [
        "str1 = \"Hello\"\n",
        "str2 = 'World'\n",
        "str3 = '3'\n",
        "print(type(str3))\n",
        "print(str1 + str2 + str3) # Use \"+\" to concatenate strings\n",
        "print(\"My \\n Name \\n Is \\t Liang.\")"
      ],
      "execution_count": null,
      "outputs": []
    },
    {
      "cell_type": "code",
      "source": [
        "print('I said \"Good Morning\"') # If the string contains \"\", then use '' to define the string\n",
        "print(\"I said \\\"Good Morning\\\"\")"
      ],
      "metadata": {
        "id": "pFaGQG2ZHskZ"
      },
      "execution_count": null,
      "outputs": []
    },
    {
      "cell_type": "code",
      "metadata": {
        "id": "_Gnmou2bH1ac"
      },
      "source": [
        "# Remove extra space at the beginning and the end of a string\n",
        "data_value = \"     Liang Zhao     \"\n",
        "my_name = \"Liang Zhao\"\n",
        "print(data_value == my_name)\n",
        "print(data_value.strip())\n",
        "print(data_value.strip() == my_name)"
      ],
      "execution_count": null,
      "outputs": []
    },
    {
      "cell_type": "code",
      "metadata": {
        "id": "ScTAukHDIbXE"
      },
      "source": [
        "# Split a string\n",
        "file_names = \"Alex, Bob, Clare, David\"\n",
        "file_names.split(\", \")"
      ],
      "execution_count": null,
      "outputs": []
    },
    {
      "cell_type": "code",
      "metadata": {
        "id": "qoU3Y1bhI-Bv"
      },
      "source": [
        "# String formatting\n",
        "float_num = 45.67898765\n",
        "print(float_num)\n",
        "print(\"%5.2f\" % (float_num))\n",
        "formatted_string = \"Name: %10s | Score: %5d | Value: %.2f\" % (\"Alex\", 89, 12.345)\n",
        "print(formatted_string)\n",
        "formatted_string = \"Name: %10s | Score: %5d | Value: %.2f\" % (\"Bob\", 9, 543.21)\n",
        "print(formatted_string)"
      ],
      "execution_count": null,
      "outputs": []
    },
    {
      "cell_type": "markdown",
      "metadata": {
        "id": "KSE9jRDPu7pM"
      },
      "source": [
        "### 7. Basic Data Structures\n",
        "- List\n",
        "- Set\n",
        "- Tuple\n",
        "- Dictionary"
      ]
    },
    {
      "cell_type": "code",
      "metadata": {
        "id": "ABsE-J47KuLg"
      },
      "source": [
        "# List\n",
        "list1 = [1, 2, 3, 4, 6.5, \"Monday\", True]\n",
        "print(list1)\n",
        "list1.append(12)\n",
        "print(list1)\n",
        "val = list1.pop()\n",
        "print(val)\n",
        "print(list1)"
      ],
      "execution_count": null,
      "outputs": []
    },
    {
      "cell_type": "code",
      "metadata": {
        "id": "MFjPSyvmLfuK"
      },
      "source": [
        "# Indexing\n",
        "print(list1[0])\n",
        "print(list1[1])\n",
        "print(list1[-1])\n",
        "print(list1[-2])\n",
        "print(list1[2:5]) # the second index is exclusive\n",
        "print(list1[:5]) # omitting the first index means starting from 0\n",
        "print(list1[2:]) # omitting the second index means going to the end\n",
        "print(list1[:]) "
      ],
      "execution_count": null,
      "outputs": []
    },
    {
      "cell_type": "code",
      "metadata": {
        "id": "NDHetq2hM7HX"
      },
      "source": [
        "len(list1)"
      ],
      "execution_count": null,
      "outputs": []
    },
    {
      "cell_type": "code",
      "metadata": {
        "id": "X1zlhD-kM-iM",
        "outputId": "1389bf7e-0c1b-4a60-aa4a-0a6ee80b89fc",
        "colab": {
          "base_uri": "https://localhost:8080/"
        }
      },
      "source": [
        "# Set\n",
        "set1 = {1, 2, 3, 3, 2, 1}\n",
        "print(set1)"
      ],
      "execution_count": null,
      "outputs": [
        {
          "output_type": "stream",
          "name": "stdout",
          "text": [
            "{1, 2, 3}\n"
          ]
        }
      ]
    },
    {
      "cell_type": "code",
      "metadata": {
        "id": "pBMpWDYlNO6H",
        "outputId": "4911eda8-ce08-4574-db04-0d3626b13181",
        "colab": {
          "base_uri": "https://localhost:8080/",
          "height": 200
        }
      },
      "source": [
        "# Tuple\n",
        "tuple1 = (1, 2, 3)\n",
        "\n",
        "# tuples are immutable\n",
        "tuple1[2] = 5 # invalid statement"
      ],
      "execution_count": null,
      "outputs": [
        {
          "output_type": "error",
          "ename": "TypeError",
          "evalue": "ignored",
          "traceback": [
            "\u001b[0;31m---------------------------------------------------------------------------\u001b[0m",
            "\u001b[0;31mTypeError\u001b[0m                                 Traceback (most recent call last)",
            "\u001b[0;32m<ipython-input-2-bb017ea5b140>\u001b[0m in \u001b[0;36m<module>\u001b[0;34m()\u001b[0m\n\u001b[1;32m      3\u001b[0m \u001b[0;34m\u001b[0m\u001b[0m\n\u001b[1;32m      4\u001b[0m \u001b[0;31m# tuples are immutable\u001b[0m\u001b[0;34m\u001b[0m\u001b[0;34m\u001b[0m\u001b[0;34m\u001b[0m\u001b[0m\n\u001b[0;32m----> 5\u001b[0;31m \u001b[0mtuple1\u001b[0m\u001b[0;34m[\u001b[0m\u001b[0;36m2\u001b[0m\u001b[0;34m]\u001b[0m \u001b[0;34m=\u001b[0m \u001b[0;36m5\u001b[0m \u001b[0;31m# invalid statement\u001b[0m\u001b[0;34m\u001b[0m\u001b[0;34m\u001b[0m\u001b[0m\n\u001b[0m",
            "\u001b[0;31mTypeError\u001b[0m: 'tuple' object does not support item assignment"
          ]
        }
      ]
    },
    {
      "cell_type": "code",
      "metadata": {
        "id": "8lRPCt9KNftU",
        "outputId": "cf3009e6-2fab-4f04-be8f-818ca3c6e016",
        "colab": {
          "base_uri": "https://localhost:8080/"
        }
      },
      "source": [
        "# Dictionary: (key, value)\n",
        "dict1 = {\"Alex\": \"A\",\n",
        "         \"Bob\": \"B\", \n",
        "         \"Clare\": \"C\"}\n",
        "print(dict1['Alex'])\n",
        "print(dict1['Clare'])"
      ],
      "execution_count": null,
      "outputs": [
        {
          "output_type": "stream",
          "name": "stdout",
          "text": [
            "A\n",
            "C\n"
          ]
        }
      ]
    },
    {
      "cell_type": "markdown",
      "metadata": {
        "id": "bVgPhOdnu7wg"
      },
      "source": [
        "\n",
        "### 8. Loops and Branches\n"
      ]
    },
    {
      "cell_type": "code",
      "metadata": {
        "id": "sYd1zvs0OnCa",
        "outputId": "fc88c014-dadd-4718-a0de-e6a9eb9ba532",
        "colab": {
          "base_uri": "https://localhost:8080/"
        }
      },
      "source": [
        "names = ['Alex', 'Clare', 'Bob']\n",
        "# for name in names: # for (variable) in (list of values):\n",
        "#     print(dict1[name]) # Use indentation (4 spaces) to indicate the loop body\n",
        "\n",
        "for name in names:\n",
        "    print(\"Name:\", name, end=' ')\n",
        "    print(\"Grade:\", dict1[name])\n",
        "print(\"Done.\")"
      ],
      "execution_count": null,
      "outputs": [
        {
          "output_type": "stream",
          "name": "stdout",
          "text": [
            "Name: Alex Grade: A\n",
            "Name: Clare Grade: C\n",
            "Name: Bob Grade: B\n",
            "Done.\n"
          ]
        }
      ]
    },
    {
      "cell_type": "code",
      "source": [
        "a = 0\n",
        "while a < 10:\n",
        "    print(a)\n",
        "    a += 1"
      ],
      "metadata": {
        "id": "S5O5u0k7INld",
        "outputId": "f7c6b737-8a47-42c2-e738-aafd0e3b439e",
        "colab": {
          "base_uri": "https://localhost:8080/"
        }
      },
      "execution_count": null,
      "outputs": [
        {
          "output_type": "stream",
          "name": "stdout",
          "text": [
            "0\n",
            "1\n",
            "2\n",
            "3\n",
            "4\n",
            "5\n",
            "6\n",
            "7\n",
            "8\n",
            "9\n"
          ]
        }
      ]
    },
    {
      "cell_type": "code",
      "metadata": {
        "id": "82ApyVg9OqG6",
        "outputId": "d1f894cb-93f7-4197-b72c-5bdab5786af2",
        "colab": {
          "base_uri": "https://localhost:8080/"
        }
      },
      "source": [
        "a = -2\n",
        "if a > 0:\n",
        "    print(\"Greater than zero.\")\n",
        "else: \n",
        "    print(\"Not greater than zero.\")"
      ],
      "execution_count": null,
      "outputs": [
        {
          "output_type": "stream",
          "name": "stdout",
          "text": [
            "Not greater than zero.\n"
          ]
        }
      ]
    },
    {
      "cell_type": "code",
      "metadata": {
        "id": "U4cQB9oIO52f"
      },
      "source": [
        "a = 2\n",
        "b = 4\n",
        "if a < 0:\n",
        "    print(\"a less than zero\")\n",
        "elif b > 0: # \"elif\" means \"else if\"\n",
        "    print(\"a not less than zero, and b greater than zero\")\n",
        "else:\n",
        "    print(\"neither is greater than zero\")"
      ],
      "execution_count": null,
      "outputs": []
    },
    {
      "cell_type": "markdown",
      "metadata": {
        "id": "8fWcw5WMu75g"
      },
      "source": [
        "### 9. List Comprehensions"
      ]
    },
    {
      "cell_type": "code",
      "metadata": {
        "id": "Ug_cd-5yPao5",
        "outputId": "1a9a7714-1d1c-4cea-dc3e-86fd9ddfa172",
        "colab": {
          "base_uri": "https://localhost:8080/"
        }
      },
      "source": [
        "list1 = [1, 2, 3, 4, 5]\n",
        "# create a list whose values are 10 * values from list1:\n",
        "# Solution 1:\n",
        "list2 = []\n",
        "for elt in list1:\n",
        "    list2.append(10 * elt)\n",
        "print(list2)\n",
        "\n",
        "# Solution 2:\n",
        "list2 = [ (10 * x) for x in list1   ] # list comprehension\n",
        "print(list2)"
      ],
      "execution_count": null,
      "outputs": [
        {
          "output_type": "stream",
          "name": "stdout",
          "text": [
            "[10, 20, 30, 40, 50]\n",
            "[10, 20, 30, 40, 50]\n"
          ]
        }
      ]
    },
    {
      "cell_type": "code",
      "source": [
        "# Example: For each element in list1: change it to 0 if it is negative,  \n",
        "# remove it if it is greater than 10\n",
        "list1 = [1, -5, 20, 12, 0]\n",
        "# Solution 1:\n",
        "list2 = []\n",
        "for x in list1:\n",
        "    if x < 0:\n",
        "        list2.append(0)\n",
        "    elif x > 10:\n",
        "        continue\n",
        "    else:\n",
        "        list2.append(x)\n",
        "print(list2)"
      ],
      "metadata": {
        "id": "OcPii72hCwpg",
        "outputId": "3360a37f-ea99-4371-8ce6-acf68d49c5bf",
        "colab": {
          "base_uri": "https://localhost:8080/"
        }
      },
      "execution_count": null,
      "outputs": [
        {
          "output_type": "stream",
          "name": "stdout",
          "text": [
            "[1, 0, 0]\n"
          ]
        }
      ]
    },
    {
      "cell_type": "code",
      "source": [
        "list2 = [ x for x in list1 if x <= 10]\n",
        "print(list2)\n",
        "list2 = [ (y if y > 0 else 0) for y in list2]\n",
        "print(list2)"
      ],
      "metadata": {
        "id": "QwYJCc2KDg8_",
        "outputId": "dcd7f774-14aa-4e9c-f670-e84e6c977065",
        "colab": {
          "base_uri": "https://localhost:8080/"
        }
      },
      "execution_count": null,
      "outputs": [
        {
          "output_type": "stream",
          "name": "stdout",
          "text": [
            "[1, -5, 0]\n",
            "[1, 0, 0]\n"
          ]
        }
      ]
    },
    {
      "cell_type": "markdown",
      "metadata": {
        "id": "d4rrACaLu8DX"
      },
      "source": [
        "### 10. Functions and Classes"
      ]
    },
    {
      "cell_type": "code",
      "metadata": {
        "id": "gkBO1AkESMO2"
      },
      "source": [
        "def sum_of_list(list1):\n",
        "    sum = 0\n",
        "    for x in list1:\n",
        "        sum += x\n",
        "    return sum"
      ],
      "execution_count": null,
      "outputs": []
    },
    {
      "cell_type": "code",
      "metadata": {
        "id": "oO9qcwz9SeTX",
        "outputId": "3a1f1461-6017-4e48-fca7-603825280362",
        "colab": {
          "base_uri": "https://localhost:8080/"
        }
      },
      "source": [
        "print(list1)\n",
        "sum_of_list(list1)"
      ],
      "execution_count": null,
      "outputs": [
        {
          "output_type": "stream",
          "name": "stdout",
          "text": [
            "[1, -5, 20, 12, 0]\n"
          ]
        },
        {
          "output_type": "execute_result",
          "data": {
            "text/plain": [
              "28"
            ]
          },
          "metadata": {},
          "execution_count": 24
        }
      ]
    },
    {
      "cell_type": "code",
      "source": [
        "# A function can be applied to different types of inputs\n",
        "sum_of_list([1.2, 2.3, 3.4, 4.5, 5.6])\n",
        "sum_of_list([True, True, False, False, True])\n",
        "# sum_of_list([\"ABC\", \"DEF\", \"FGH\", \"XYZ\"])"
      ],
      "metadata": {
        "id": "cuJxj4WPGPQJ",
        "outputId": "f9c758e4-f948-413a-841b-ba3375546ddd",
        "colab": {
          "base_uri": "https://localhost:8080/"
        }
      },
      "execution_count": null,
      "outputs": [
        {
          "output_type": "execute_result",
          "data": {
            "text/plain": [
              "3"
            ]
          },
          "metadata": {},
          "execution_count": 29
        }
      ]
    },
    {
      "cell_type": "code",
      "metadata": {
        "id": "F6ExJvmbv5nN"
      },
      "source": [
        "#  A function can return multiple values\n",
        "def sum_and_product(list1):\n",
        "    sum = 0\n",
        "    product = 1\n",
        "    for x in list1:\n",
        "        sum += x\n",
        "        product *= x\n",
        "    return sum, product"
      ],
      "execution_count": null,
      "outputs": []
    },
    {
      "cell_type": "code",
      "metadata": {
        "id": "FtKnOuJjSt04",
        "outputId": "35ddfbb9-d766-4581-989b-9805205c14c0",
        "colab": {
          "base_uri": "https://localhost:8080/"
        }
      },
      "source": [
        "list1_sum, list1_product = sum_and_product(list1)\n",
        "print(list1_sum, list1_product)"
      ],
      "execution_count": null,
      "outputs": [
        {
          "output_type": "stream",
          "name": "stdout",
          "text": [
            "28 0\n"
          ]
        }
      ]
    },
    {
      "cell_type": "code",
      "source": [
        "result = sum_and_product(list1)\n",
        "print(result)\n",
        "print(result[0])\n",
        "print(result[1])"
      ],
      "metadata": {
        "id": "vNCdZZTOHYR9",
        "outputId": "dd4d9745-aa4b-43d0-9ca9-b67aadc23572",
        "colab": {
          "base_uri": "https://localhost:8080/"
        }
      },
      "execution_count": null,
      "outputs": [
        {
          "output_type": "stream",
          "name": "stdout",
          "text": [
            "(28, 0)\n",
            "28\n",
            "0\n"
          ]
        }
      ]
    },
    {
      "cell_type": "code",
      "source": [
        "_, list1_product = sum_and_product(list1)\n",
        "print(list1_product)\n",
        "print(_)"
      ],
      "metadata": {
        "id": "oNi5Z6lwHltz",
        "outputId": "646bd97f-d86d-46de-fd54-b27b28e8038c",
        "colab": {
          "base_uri": "https://localhost:8080/"
        }
      },
      "execution_count": null,
      "outputs": [
        {
          "output_type": "stream",
          "name": "stdout",
          "text": [
            "0\n",
            "28\n"
          ]
        }
      ]
    },
    {
      "cell_type": "markdown",
      "source": [
        "Objects are passed to a function by reference."
      ],
      "metadata": {
        "id": "8F1EB41XIIij"
      }
    },
    {
      "cell_type": "code",
      "metadata": {
        "id": "qENq27qvS3Mm"
      },
      "source": [
        "def implicit_list_mod(list1):\n",
        "    list1[0] = 100"
      ],
      "execution_count": null,
      "outputs": []
    },
    {
      "cell_type": "code",
      "metadata": {
        "id": "qS2e2oZTTCg-",
        "outputId": "c4a7c215-0cd2-4068-c02b-8d2ab7bbbc6d",
        "colab": {
          "base_uri": "https://localhost:8080/"
        }
      },
      "source": [
        "implicit_list_mod(list1) # lists are passed in by reference\n",
        "print(list1)"
      ],
      "execution_count": null,
      "outputs": [
        {
          "output_type": "stream",
          "name": "stdout",
          "text": [
            "[100, -5, 20, 12, 0]\n"
          ]
        }
      ]
    },
    {
      "cell_type": "markdown",
      "source": [
        "If a function takes in a variable (int, str, bool, float, etc.), it will create a copy of that variable. The original variable will not be affected. Variables are passed to a function by value."
      ],
      "metadata": {
        "id": "ndFr37QhJAZe"
      }
    },
    {
      "cell_type": "code",
      "source": [
        "def variable_modification(x):\n",
        "    x = 0"
      ],
      "metadata": {
        "id": "HlA6iTZ9IwBM"
      },
      "execution_count": null,
      "outputs": []
    },
    {
      "cell_type": "code",
      "source": [
        "x = 100\n",
        "variable_modification(x) # the value of x cannot be modified inside the function\n",
        "print(x)"
      ],
      "metadata": {
        "id": "REJdXTTOI3fK",
        "outputId": "f8959cb0-25c2-4b1b-f0ce-3a44e9261f2d",
        "colab": {
          "base_uri": "https://localhost:8080/"
        }
      },
      "execution_count": null,
      "outputs": [
        {
          "output_type": "stream",
          "name": "stdout",
          "text": [
            "100\n"
          ]
        }
      ]
    },
    {
      "cell_type": "code",
      "metadata": {
        "id": "Gc-u3xc2TWS3"
      },
      "source": [
        "# Some parameters can have default values.\n",
        "def addition(x, y=1):\n",
        "    return x + y"
      ],
      "execution_count": null,
      "outputs": []
    },
    {
      "cell_type": "code",
      "source": [
        "print(addition(1, 1))\n",
        "print(addition(2))\n",
        "print(addition(3))\n",
        "print(addition(3, 2))"
      ],
      "metadata": {
        "id": "EAtW7mLvJ4r3",
        "outputId": "c852bbe0-2caf-4cdf-ba19-e3efd98d5a91",
        "colab": {
          "base_uri": "https://localhost:8080/"
        }
      },
      "execution_count": null,
      "outputs": [
        {
          "output_type": "stream",
          "name": "stdout",
          "text": [
            "2\n",
            "3\n",
            "4\n"
          ]
        }
      ]
    },
    {
      "cell_type": "code",
      "metadata": {
        "id": "O8158hRRThMR"
      },
      "source": [
        "print(addition(5, 6))\n",
        "print(addition(10))\n",
        "print(addition(\"123\", \"456\"))"
      ],
      "execution_count": null,
      "outputs": []
    },
    {
      "cell_type": "code",
      "metadata": {
        "id": "5i1jiblnUJwD"
      },
      "source": [
        "class Student:\n",
        "\n",
        "    def __init__(self, name, age):\n",
        "        self.name = name\n",
        "        self.age = age\n",
        "\n",
        "    def print(self):\n",
        "        print(self.name, \" \", self.age)"
      ],
      "execution_count": null,
      "outputs": []
    },
    {
      "cell_type": "code",
      "metadata": {
        "id": "eypetCdTUo05",
        "outputId": "0cff9bf4-a181-4ffd-c9a6-f584c0ccb804",
        "colab": {
          "base_uri": "https://localhost:8080/"
        }
      },
      "source": [
        "student1 = Student(\"Alex\", 15)\n",
        "student1.print()"
      ],
      "execution_count": null,
      "outputs": [
        {
          "output_type": "stream",
          "name": "stdout",
          "text": [
            "Alex   15\n"
          ]
        }
      ]
    },
    {
      "cell_type": "markdown",
      "metadata": {
        "id": "NPOeK0KQVoJs"
      },
      "source": [
        "## Example: Heights for Men in the US"
      ]
    },
    {
      "cell_type": "code",
      "metadata": {
        "id": "VOQmbG9kVsaV",
        "outputId": "cce10a5a-6961-43ed-c6bc-07a3f25e80e4",
        "colab": {
          "base_uri": "https://localhost:8080/"
        }
      },
      "source": [
        "# 1. create two python lists containing average heights from 1900 to 1980\n",
        "list_year = [1900, 1910, 1920, 1930, 1940, 1950, 1960, 1970, 1980]\n",
        "list_height = [170, 172.1, 173.1, 173.4, 176.1, 177.1, 177.3, 178.3, 179]\n",
        "print(len(list_year), len(list_height))"
      ],
      "execution_count": null,
      "outputs": [
        {
          "output_type": "stream",
          "name": "stdout",
          "text": [
            "9 9\n"
          ]
        }
      ]
    },
    {
      "cell_type": "code",
      "metadata": {
        "id": "kk_094wYWK9F",
        "outputId": "9bfc5309-f072-42f8-ea25-ad77eca58dd4",
        "colab": {
          "base_uri": "https://localhost:8080/",
          "height": 282
        }
      },
      "source": [
        "# 2. Plot a gragh\n",
        "import matplotlib.pyplot as plt # import libraries\n",
        "plt.plot(list_year, list_height, \"rs\")"
      ],
      "execution_count": null,
      "outputs": [
        {
          "output_type": "execute_result",
          "data": {
            "text/plain": [
              "[<matplotlib.lines.Line2D at 0x7fa1772c4b10>]"
            ]
          },
          "metadata": {},
          "execution_count": 54
        },
        {
          "output_type": "display_data",
          "data": {
            "image/png": "[encoded data removed]",
            "text/plain": [
              "<Figure size 432x288 with 1 Axes>"
            ]
          },
          "metadata": {
            "needs_background": "light"
          }
        }
      ]
    },
    {
      "cell_type": "code",
      "metadata": {
        "id": "6WYwWfIwWwPu",
        "outputId": "6850ee2c-3a1c-4a2a-9f0a-dd52d1b368a8",
        "colab": {
          "base_uri": "https://localhost:8080/"
        }
      },
      "source": [
        "# Create a list that contains rate of change in list1\n",
        "# how much is increased from 1900 to 1910?\n",
        "\n",
        "# rate of change = (new value - old value) / old value\n",
        "\n",
        "# Compare 1900 to 1910\n",
        "(172.1 - 170) / 170 # 1.24%\n",
        "\n",
        "(list_height[1] - list_height[0]) / list_height[0]\n",
        "\n",
        "# Compare 1910 to 1920\n",
        "(list_height[2] - list_height[1]) / list_height[1]\n",
        "\n",
        "for k in range(len(list_height)-1): # k represents the index of the old value\n",
        "    print(\"K:\", k, \"rate of change:\", (list_height[k+1] - list_height[k]) / list_height[k])"
      ],
      "execution_count": null,
      "outputs": [
        {
          "output_type": "stream",
          "name": "stdout",
          "text": [
            "K: 0 rate of change: 0.012352941176470554\n",
            "K: 1 rate of change: 0.005810575246949448\n",
            "K: 2 rate of change: 0.0017331022530329948\n",
            "K: 3 rate of change: 0.015570934256055297\n",
            "K: 4 rate of change: 0.0056785917092561046\n",
            "K: 5 rate of change: 0.0011293054771316605\n",
            "K: 6 rate of change: 0.0056401579244218835\n",
            "K: 7 rate of change: 0.00392596747055518\n"
          ]
        }
      ]
    },
    {
      "cell_type": "code",
      "metadata": {
        "id": "yPbXiNKJ7N6K"
      },
      "source": [],
      "execution_count": null,
      "outputs": []
    }
  ]
}