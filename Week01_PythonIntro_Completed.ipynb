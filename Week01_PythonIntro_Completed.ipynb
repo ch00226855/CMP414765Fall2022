{
  "nbformat": 4,
  "nbformat_minor": 0,
  "metadata": {
    "colab": {
      "name": "Week01_PythonIntro_Completed",
      "provenance": [],
      "collapsed_sections": [],
      "authorship_tag": "ABX9TyNFiSEwLF7o3tFVdG0A3VCH",
      "include_colab_link": true
    },
    "kernelspec": {
      "name": "python3",
      "display_name": "Python 3"
    }
  },
  "cells": [
    {
      "cell_type": "markdown",
      "metadata": {
        "id": "view-in-github",
        "colab_type": "text"
      },
      "source": [
        "<a href=\"https://colab.research.google.com/github/ch00226855/CMP414765Fall2022/blob/main/Week01_PythonIntro_Completed.ipynb\" target=\"_parent\"><img src=\"https://colab.research.google.com/assets/colab-badge.svg\" alt=\"Open In Colab\"/></a>"
      ]
    },
    {
      "cell_type": "markdown",
      "metadata": {
        "id": "wY8eYMoyCHrm"
      },
      "source": [
        "# Week 1 Introduction to Python\n",
        "\n",
        "*To start, let's have a quick introduction to the Python language.*"
      ]
    },
    {
      "cell_type": "markdown",
      "source": [
        "## Why Python?\n",
        "\n",
        "- Easy to get started\n",
        "- Easy to read python code\n",
        "- Come with powerful libraries for data science\n",
        "- Support interactive coding"
      ],
      "metadata": {
        "id": "mGi17W0vCHL6"
      }
    },
    {
      "cell_type": "markdown",
      "source": [
        "## Google Colaboratory (Colab)\n",
        "\n",
        "- Supported by Google Cloud\n",
        "- Free to use\n",
        "- Connected with Google Drive\n",
        "\n",
        "Get familiar with the environment:\n",
        "- Menu\n",
        "- Files tab\n",
        "- Adding code / text cells\n",
        "- Execute a code cell\n",
        "- Save files in Google Drive\n",
        "- Convert to PDF"
      ],
      "metadata": {
        "id": "X1-u9YKkCiD2"
      }
    },
    {
      "cell_type": "markdown",
      "source": [
        "## Set up Jupyter Notebook Environment Locally\n",
        "\n",
        "- Python 3.x on Anaconda: https://www.anaconda.com/download/\n",
        "- Most data science libraries are pre-installed (numpy, scipy, pandas, sklearn)\n",
        "- Spyder: triditional IDE\n",
        "- Jupyter Notebook: interactive programming environment"
      ],
      "metadata": {
        "id": "TTSthSOiDHs9"
      }
    },
    {
      "cell_type": "markdown",
      "source": [
        "## Where to Find AI Projects?\n",
        "\n",
        "- AI projects on Github: https://github.com/topics/artificial-intelligence-projects\n",
        "- Data Science Compititions on Kaggle: https://www.kaggle.com/competitions"
      ],
      "metadata": {
        "id": "J38--J3wDheP"
      }
    },
    {
      "cell_type": "markdown",
      "metadata": {
        "id": "s_E3iNYwStz3"
      },
      "source": [
        "## Python Tutorial"
      ]
    },
    {
      "cell_type": "markdown",
      "metadata": {
        "id": "FkI0kyPkuuIx"
      },
      "source": [
        "### 1. Hello World\n"
      ]
    },
    {
      "cell_type": "code",
      "metadata": {
        "id": "tCMTrQxUAeJn",
        "colab": {
          "base_uri": "https://localhost:8080/"
        },
        "outputId": "a6210950-c5e2-4d6b-8f5a-f3380064a6a6"
      },
      "source": [
        "# This prints Hello World\n",
        "print(\"Hello World\")\n",
        "print('Hello World')"
      ],
      "execution_count": null,
      "outputs": [
        {
          "output_type": "stream",
          "name": "stdout",
          "text": [
            "Hello World\n",
            "Hello World\n"
          ]
        }
      ]
    },
    {
      "cell_type": "markdown",
      "metadata": {
        "id": "yzTmHmCvu4BN"
      },
      "source": [
        "### 2. Variables\n",
        "- Declaration\n",
        "- Type"
      ]
    },
    {
      "cell_type": "code",
      "metadata": {
        "id": "YfsURQ1dAi1E",
        "colab": {
          "base_uri": "https://localhost:8080/"
        },
        "outputId": "5b575946-d327-4ca2-d473-e985859db8c0"
      },
      "source": [
        "# Variables\n",
        "a = 4\n",
        "b = -5\n",
        "print(a + b)\n",
        "# type(a): check the variable type of a\n",
        "# the result of the last statement will be shown without using print"
      ],
      "execution_count": null,
      "outputs": [
        {
          "output_type": "stream",
          "name": "stdout",
          "text": [
            "-1\n"
          ]
        }
      ]
    },
    {
      "cell_type": "code",
      "metadata": {
        "id": "C2LGIQcFC27Z",
        "colab": {
          "base_uri": "https://localhost:8080/",
          "height": 218
        },
        "outputId": "60486e1a-e02a-4b58-e6fa-907801d9c47a"
      },
      "source": [
        "# Type is important in python\n",
        "a2 = \"4\"\n",
        "print(type(a2))\n",
        "print(a2 + b)"
      ],
      "execution_count": null,
      "outputs": [
        {
          "output_type": "stream",
          "name": "stdout",
          "text": [
            "<class 'str'>\n"
          ]
        },
        {
          "output_type": "error",
          "ename": "TypeError",
          "evalue": "ignored",
          "traceback": [
            "\u001b[0;31m---------------------------------------------------------------------------\u001b[0m",
            "\u001b[0;31mTypeError\u001b[0m                                 Traceback (most recent call last)",
            "\u001b[0;32m<ipython-input-6-01ab344cb2cc>\u001b[0m in \u001b[0;36m<module>\u001b[0;34m\u001b[0m\n\u001b[1;32m      2\u001b[0m \u001b[0ma2\u001b[0m \u001b[0;34m=\u001b[0m \u001b[0;34m\"4\"\u001b[0m\u001b[0;34m\u001b[0m\u001b[0;34m\u001b[0m\u001b[0m\n\u001b[1;32m      3\u001b[0m \u001b[0mprint\u001b[0m\u001b[0;34m(\u001b[0m\u001b[0mtype\u001b[0m\u001b[0;34m(\u001b[0m\u001b[0ma2\u001b[0m\u001b[0;34m)\u001b[0m\u001b[0;34m)\u001b[0m\u001b[0;34m\u001b[0m\u001b[0;34m\u001b[0m\u001b[0m\n\u001b[0;32m----> 4\u001b[0;31m \u001b[0mprint\u001b[0m\u001b[0;34m(\u001b[0m\u001b[0ma2\u001b[0m \u001b[0;34m+\u001b[0m \u001b[0mb\u001b[0m\u001b[0;34m)\u001b[0m\u001b[0;34m\u001b[0m\u001b[0;34m\u001b[0m\u001b[0m\n\u001b[0m",
            "\u001b[0;31mTypeError\u001b[0m: can only concatenate str (not \"int\") to str"
          ]
        }
      ]
    },
    {
      "cell_type": "code",
      "metadata": {
        "id": "Sgw-YIE8DLJY",
        "colab": {
          "base_uri": "https://localhost:8080/"
        },
        "outputId": "a9a70e21-64a9-43d3-8cbd-f7532a1bc677"
      },
      "source": [
        "# Show the type of a variable\n",
        "print(type(a))\n",
        "print(type(a2))"
      ],
      "execution_count": null,
      "outputs": [
        {
          "output_type": "stream",
          "name": "stdout",
          "text": [
            "<class 'int'>\n",
            "<class 'str'>\n"
          ]
        }
      ]
    },
    {
      "cell_type": "code",
      "metadata": {
        "id": "yb2K09jcDfQr",
        "colab": {
          "base_uri": "https://localhost:8080/"
        },
        "outputId": "8412c850-2de3-428f-fac9-80450dd8d737"
      },
      "source": [
        "c = 1.5\n",
        "d = True # True/False, not true/false\n",
        "print(type(c))\n",
        "print(type(d))"
      ],
      "execution_count": null,
      "outputs": [
        {
          "output_type": "stream",
          "name": "stdout",
          "text": [
            "<class 'float'>\n",
            "<class 'bool'>\n"
          ]
        }
      ]
    },
    {
      "cell_type": "code",
      "metadata": {
        "id": "gcqBEYZbDs7Y",
        "colab": {
          "base_uri": "https://localhost:8080/"
        },
        "outputId": "45061f7e-5c79-43d1-ea86-2656284146f4"
      },
      "source": [
        "type(float(a))"
      ],
      "execution_count": null,
      "outputs": [
        {
          "output_type": "execute_result",
          "data": {
            "text/plain": [
              "float"
            ]
          },
          "metadata": {},
          "execution_count": 9
        }
      ]
    },
    {
      "cell_type": "markdown",
      "metadata": {
        "id": "26GGonIJvZTZ"
      },
      "source": [
        "### 3. Arithmetics"
      ]
    },
    {
      "cell_type": "code",
      "metadata": {
        "id": "GvHIWSggD5A-",
        "colab": {
          "base_uri": "https://localhost:8080/"
        },
        "outputId": "86d75310-0d58-47c8-935e-e42a0d049939"
      },
      "source": [
        "# Arithmetics\n",
        "# +, -, *, /\n",
        "# Integer division\n",
        "print(4 / 3) # gives a floating point number\n",
        "print(4 // 3) # double division always give an integer\n",
        "# Get remainder\n",
        "print(8 % 3) # give the remainder of integer division\n",
        "# # Power\n",
        "print(3 ** 2) # represents 3 to the power of 2 = 9\n",
        "print(3 ** (1/2)) # square root of 3"
      ],
      "execution_count": null,
      "outputs": [
        {
          "output_type": "stream",
          "name": "stdout",
          "text": [
            "1.3333333333333333\n",
            "1\n",
            "2\n",
            "9\n",
            "1.7320508075688772\n"
          ]
        }
      ]
    },
    {
      "cell_type": "code",
      "source": [
        "# Convert from binary to decimal\n",
        "int(\"1001\", 8)\n",
        "\n",
        "bin(100)"
      ],
      "metadata": {
        "colab": {
          "base_uri": "https://localhost:8080/",
          "height": 35
        },
        "id": "qlSs0xARjN5b",
        "outputId": "c7a76bba-89ba-4871-f11d-c59cac2f7e0b"
      },
      "execution_count": null,
      "outputs": [
        {
          "output_type": "execute_result",
          "data": {
            "text/plain": [
              "'0b1100100'"
            ],
            "application/vnd.google.colaboratory.intrinsic+json": {
              "type": "string"
            }
          },
          "metadata": {},
          "execution_count": 19
        }
      ]
    },
    {
      "cell_type": "markdown",
      "metadata": {
        "id": "cao_PEgTFdAN"
      },
      "source": [
        "Exercise: quadratic formula:\n",
        "\n",
        "$x = \\frac{-b \\pm \\sqrt{b^2 - 4ac}}{2a}$"
      ]
    },
    {
      "cell_type": "code",
      "metadata": {
        "id": "GMNNPsPuFuIz",
        "colab": {
          "base_uri": "https://localhost:8080/"
        },
        "outputId": "e48eb802-90d9-409c-81e3-b0a243db17dd"
      },
      "source": [
        "a = 1\n",
        "b = -4\n",
        "c = 3\n",
        "\n",
        "# Ex. Use the quadratoc formula to find the solutions to ax^2 + bx + c = 0.\n",
        "\n",
        "x1 = (-b + (b ** 2 - 4 * a * c) ** 0.5) / (2 * a)\n",
        "x2 = (-b - (b ** 2 - 4 * a * c) ** 0.5) / (2 * a)\n",
        "\n",
        "print(x1, x2)"
      ],
      "execution_count": null,
      "outputs": [
        {
          "output_type": "stream",
          "name": "stdout",
          "text": [
            "3.0 1.0\n"
          ]
        }
      ]
    },
    {
      "cell_type": "markdown",
      "metadata": {
        "id": "_N9VYHSPu7QG"
      },
      "source": [
        "### 4. Assignment Operators"
      ]
    },
    {
      "cell_type": "code",
      "metadata": {
        "id": "Nul9PyctFUVu",
        "colab": {
          "base_uri": "https://localhost:8080/"
        },
        "outputId": "973eb6e6-e044-49ba-e925-792748baeccd"
      },
      "source": [
        "a = 1\n",
        "a += 1 # a = a + 1\n",
        "print(a)\n",
        "b, c, d = 2, 3, 4\n",
        "b -= 5\n",
        "c *= 10\n",
        "d /= 2\n",
        "print(b, c, d)"
      ],
      "execution_count": null,
      "outputs": [
        {
          "output_type": "stream",
          "name": "stdout",
          "text": [
            "2\n",
            "-3 30 2.0\n"
          ]
        }
      ]
    },
    {
      "cell_type": "markdown",
      "metadata": {
        "id": "A15kndiOu7Zn"
      },
      "source": [
        "### 5. Logical Operators"
      ]
    },
    {
      "cell_type": "code",
      "metadata": {
        "id": "KDAort5xF2QV"
      },
      "source": [
        "t, f = True, False\n",
        "print(t, f)"
      ],
      "execution_count": null,
      "outputs": []
    },
    {
      "cell_type": "code",
      "metadata": {
        "id": "m8kCogzcGAtJ",
        "colab": {
          "base_uri": "https://localhost:8080/"
        },
        "outputId": "d8523824-36cc-47b1-df4c-4f6d1c8e6151"
      },
      "source": [
        "print(True or False) # \"or\" means or\n",
        "print(True and False) # \"and\" means and\n",
        "print(not True)\n",
        "print(not False)"
      ],
      "execution_count": null,
      "outputs": [
        {
          "output_type": "stream",
          "name": "stdout",
          "text": [
            "True\n",
            "False\n",
            "False\n",
            "True\n"
          ]
        }
      ]
    },
    {
      "cell_type": "code",
      "metadata": {
        "id": "VHlukoO9GYKV",
        "colab": {
          "base_uri": "https://localhost:8080/"
        },
        "outputId": "a2bcd6e0-eed3-471f-d700-490686dd1406"
      },
      "source": [
        "# Comparisons: >, <, ==, !=, >=, <=\n",
        "exp1 = (a > 5) and (b < 3)\n",
        "print(a, b, exp1)"
      ],
      "execution_count": null,
      "outputs": [
        {
          "output_type": "stream",
          "name": "stdout",
          "text": [
            "2 -3 False\n"
          ]
        }
      ]
    },
    {
      "cell_type": "code",
      "source": [
        "# Check if c is in the interval [0, 10]\n",
        "condition = (c >= 0) and (c <= 10)\n",
        "print(c, condition)"
      ],
      "metadata": {
        "colab": {
          "base_uri": "https://localhost:8080/"
        },
        "id": "nEiAowyNoHUc",
        "outputId": "4dcd239a-d1b5-4d4f-c52e-8a0ad7eb6821"
      },
      "execution_count": null,
      "outputs": [
        {
          "output_type": "stream",
          "name": "stdout",
          "text": [
            "30 False\n"
          ]
        }
      ]
    },
    {
      "cell_type": "markdown",
      "source": [
        "## 6. Strings.\n",
        "Both `\"\"` and `''` can be used to define strings in Python."
      ],
      "metadata": {
        "id": "bZqBGLvLH68s"
      }
    },
    {
      "cell_type": "code",
      "metadata": {
        "id": "i68OFRA7GxWy",
        "colab": {
          "base_uri": "https://localhost:8080/"
        },
        "outputId": "8246cb50-f2eb-4bcb-feec-2de68a947eab"
      },
      "source": [
        "str1 = \"Hello\"\n",
        "str2 = 'World'\n",
        "str3 = '3'\n",
        "print(type(str3))\n",
        "print(str1 + str2 + str3) # Use \"+\" to concatenate strings\n",
        "print(\"My \\n Name \\n Is \\t Liang.\")"
      ],
      "execution_count": null,
      "outputs": [
        {
          "output_type": "stream",
          "name": "stdout",
          "text": [
            "<class 'str'>\n",
            "HelloWorld3\n",
            "My \n",
            " Name \n",
            " Is \t Liang.\n"
          ]
        }
      ]
    },
    {
      "cell_type": "code",
      "source": [
        "print('I said \"Good Morning\"') # If the string contains \"\", then use '' to define the string\n",
        "print(\"I said \\\"Good Morning\\\"\")"
      ],
      "metadata": {
        "id": "pFaGQG2ZHskZ",
        "colab": {
          "base_uri": "https://localhost:8080/"
        },
        "outputId": "8bf2841f-5ebb-4469-8059-c5fac1ae497e"
      },
      "execution_count": null,
      "outputs": [
        {
          "output_type": "stream",
          "name": "stdout",
          "text": [
            "I said \"Good Morning\"\n",
            "I said \"Good Morning\"\n"
          ]
        }
      ]
    },
    {
      "cell_type": "code",
      "metadata": {
        "id": "_Gnmou2bH1ac",
        "colab": {
          "base_uri": "https://localhost:8080/"
        },
        "outputId": "8ac2a155-03aa-4cff-ee32-4ae87a05f95f"
      },
      "source": [
        "# Remove extra space at the beginning and the end of a string\n",
        "data_value = \"     Liang Zhao     \"\n",
        "my_name = \"Liang Zhao\"\n",
        "print(data_value == my_name)\n",
        "print(data_value.strip())\n",
        "print(data_value.strip() == my_name)"
      ],
      "execution_count": null,
      "outputs": [
        {
          "output_type": "stream",
          "name": "stdout",
          "text": [
            "False\n",
            "Liang Zhao\n",
            "True\n"
          ]
        }
      ]
    },
    {
      "cell_type": "code",
      "metadata": {
        "id": "ScTAukHDIbXE",
        "colab": {
          "base_uri": "https://localhost:8080/"
        },
        "outputId": "d5e64e29-e61e-411d-8533-83cf3a9b5e5e"
      },
      "source": [
        "# Split a string\n",
        "file_names = \"Alex, Bob, Clare, David\"\n",
        "file_names.split(\", \")"
      ],
      "execution_count": null,
      "outputs": [
        {
          "output_type": "execute_result",
          "data": {
            "text/plain": [
              "['Alex', 'Bob', 'Clare', 'David']"
            ]
          },
          "metadata": {},
          "execution_count": 51
        }
      ]
    },
    {
      "cell_type": "code",
      "metadata": {
        "id": "qoU3Y1bhI-Bv",
        "colab": {
          "base_uri": "https://localhost:8080/"
        },
        "outputId": "3aec70e3-dcb5-482b-bb26-ae300898f6a8"
      },
      "source": [
        "# String formatting\n",
        "float_num = 45.67898765\n",
        "print(float_num)\n",
        "print(\"%020.4f\" % (float_num))\n",
        "formatted_string = \"Name: %10s | Score: %5d | Value: %.2f\" % (\"Alex\", 89, 12.345)\n",
        "print(formatted_string)\n",
        "formatted_string = \"Name: %10s | Score: %5d | Value: %.2f\" % (\"Bob\", 9, 543.21)\n",
        "print(formatted_string)"
      ],
      "execution_count": null,
      "outputs": [
        {
          "output_type": "stream",
          "name": "stdout",
          "text": [
            "45.67898765\n",
            "000000000000045.6790\n",
            "Name:       Alex | Score:    89 | Value: 12.35\n",
            "Name:        Bob | Score:     9 | Value: 543.21\n"
          ]
        }
      ]
    },
    {
      "cell_type": "code",
      "source": [
        "# Combine strings\n",
        "names = [\"Alice\", \"Bob\", \"Charle\", \"David\"]\n",
        "string = \", \".join(names)\n",
        "print(string)"
      ],
      "metadata": {
        "id": "OiOETZr42-fB",
        "colab": {
          "base_uri": "https://localhost:8080/"
        },
        "outputId": "cacd84aa-cb85-48e0-e569-d5854b1ecfdf"
      },
      "execution_count": null,
      "outputs": [
        {
          "output_type": "stream",
          "name": "stdout",
          "text": [
            "Alice, Bob, Charle, David\n"
          ]
        }
      ]
    },
    {
      "cell_type": "markdown",
      "metadata": {
        "id": "KSE9jRDPu7pM"
      },
      "source": [
        "### 7. Basic Data Structures\n",
        "- List\n",
        "- Set\n",
        "- Tuple\n",
        "- Dictionary"
      ]
    },
    {
      "cell_type": "code",
      "metadata": {
        "id": "ABsE-J47KuLg",
        "colab": {
          "base_uri": "https://localhost:8080/"
        },
        "outputId": "c7220b3b-c8ae-4be2-f2f7-6d94ffb45f4a"
      },
      "source": [
        "# List\n",
        "list1 = [1, 2, 3, 4, 6.5, \"Monday\", True]\n",
        "print(list1)\n",
        "list1.append(12)\n",
        "print(list1)\n",
        "val = list1.pop()\n",
        "print(val)\n",
        "print(list1)"
      ],
      "execution_count": null,
      "outputs": [
        {
          "output_type": "stream",
          "name": "stdout",
          "text": [
            "[1, 2, 3, 4, 6.5, 'Monday', True]\n",
            "[1, 2, 3, 4, 6.5, 'Monday', True, 12]\n",
            "12\n",
            "[1, 2, 3, 4, 6.5, 'Monday', True]\n"
          ]
        }
      ]
    },
    {
      "cell_type": "code",
      "metadata": {
        "id": "MFjPSyvmLfuK",
        "colab": {
          "base_uri": "https://localhost:8080/"
        },
        "outputId": "471963c1-c3be-4c5f-84cb-4c4b7ace755b"
      },
      "source": [
        "# Indexing\n",
        "print(list1[0])\n",
        "print(list1[1])\n",
        "print(list1[-1])\n",
        "print(list1[-2])\n",
        "print(list1[2:5]) # the second index is exclusive\n",
        "print(list1[:5]) # omitting the first index means starting from 0\n",
        "print(list1[2:]) # omitting the second index means going to the end\n",
        "print(list1[:]) "
      ],
      "execution_count": null,
      "outputs": [
        {
          "output_type": "stream",
          "name": "stdout",
          "text": [
            "1\n",
            "2\n",
            "True\n",
            "Monday\n",
            "[3, 4, 6.5]\n",
            "[1, 2, 3, 4, 6.5]\n",
            "[3, 4, 6.5, 'Monday', True]\n",
            "[1, 2, 3, 4, 6.5, 'Monday', True]\n"
          ]
        }
      ]
    },
    {
      "cell_type": "code",
      "metadata": {
        "id": "NDHetq2hM7HX",
        "colab": {
          "base_uri": "https://localhost:8080/"
        },
        "outputId": "d8786cb2-2b15-4001-f230-e20dc7b815c0"
      },
      "source": [
        "# The length of the list\n",
        "len(list1)"
      ],
      "execution_count": null,
      "outputs": [
        {
          "output_type": "execute_result",
          "data": {
            "text/plain": [
              "7"
            ]
          },
          "metadata": {},
          "execution_count": 72
        }
      ]
    },
    {
      "cell_type": "code",
      "metadata": {
        "id": "X1zlhD-kM-iM",
        "colab": {
          "base_uri": "https://localhost:8080/"
        },
        "outputId": "7b3264fb-84fc-483a-c678-76aec3d518e7"
      },
      "source": [
        "# Set\n",
        "set1 = {1, 2, 3, 3, 2, 1}\n",
        "print(set1)"
      ],
      "execution_count": null,
      "outputs": [
        {
          "output_type": "stream",
          "name": "stdout",
          "text": [
            "{1, 2, 3}\n"
          ]
        }
      ]
    },
    {
      "cell_type": "code",
      "metadata": {
        "id": "pBMpWDYlNO6H",
        "colab": {
          "base_uri": "https://localhost:8080/",
          "height": 201
        },
        "outputId": "965afc8d-8a3e-4044-d726-17effe9cfb31"
      },
      "source": [
        "# Tuple\n",
        "tuple1 = (1, 2, 3)\n",
        "\n",
        "# tuples are immutable\n",
        "tuple1[2] = 5 # invalid statement"
      ],
      "execution_count": null,
      "outputs": [
        {
          "output_type": "error",
          "ename": "TypeError",
          "evalue": "ignored",
          "traceback": [
            "\u001b[0;31m---------------------------------------------------------------------------\u001b[0m",
            "\u001b[0;31mTypeError\u001b[0m                                 Traceback (most recent call last)",
            "\u001b[0;32m<ipython-input-74-bb017ea5b140>\u001b[0m in \u001b[0;36m<module>\u001b[0;34m\u001b[0m\n\u001b[1;32m      3\u001b[0m \u001b[0;34m\u001b[0m\u001b[0m\n\u001b[1;32m      4\u001b[0m \u001b[0;31m# tuples are immutable\u001b[0m\u001b[0;34m\u001b[0m\u001b[0;34m\u001b[0m\u001b[0;34m\u001b[0m\u001b[0m\n\u001b[0;32m----> 5\u001b[0;31m \u001b[0mtuple1\u001b[0m\u001b[0;34m[\u001b[0m\u001b[0;36m2\u001b[0m\u001b[0;34m]\u001b[0m \u001b[0;34m=\u001b[0m \u001b[0;36m5\u001b[0m \u001b[0;31m# invalid statement\u001b[0m\u001b[0;34m\u001b[0m\u001b[0;34m\u001b[0m\u001b[0m\n\u001b[0m",
            "\u001b[0;31mTypeError\u001b[0m: 'tuple' object does not support item assignment"
          ]
        }
      ]
    },
    {
      "cell_type": "code",
      "metadata": {
        "id": "8lRPCt9KNftU",
        "colab": {
          "base_uri": "https://localhost:8080/"
        },
        "outputId": "f19bd161-81c4-49d7-8c05-20cbf1a90ea9"
      },
      "source": [
        "# Dictionary: (key, value)\n",
        "dict1 = {\"Alex\": \"A\",\n",
        "         \"Bob\": \"B\", \n",
        "         \"Clare\": \"C\"}\n",
        "print(dict1['Alex'])\n",
        "print(dict1['Clare'])"
      ],
      "execution_count": null,
      "outputs": [
        {
          "output_type": "stream",
          "name": "stdout",
          "text": [
            "A\n",
            "C\n"
          ]
        }
      ]
    },
    {
      "cell_type": "markdown",
      "metadata": {
        "id": "bVgPhOdnu7wg"
      },
      "source": [
        "\n",
        "### 8. Loops and Branches\n"
      ]
    },
    {
      "cell_type": "code",
      "metadata": {
        "id": "sYd1zvs0OnCa",
        "colab": {
          "base_uri": "https://localhost:8080/"
        },
        "outputId": "9fc9c3ba-2661-4ebd-8a5c-13583741621d"
      },
      "source": [
        "names = ['Alex', 'Clare', 'Bob']\n",
        "for name in names: # for (variable) in (list of values)\n",
        "    print(\"\")\n",
        "\n",
        "    print(name) # Use indentation (4 spaces) to indicate the loop body\n",
        "\n",
        "for name in names:\n",
        "    print(\"Name:\", name, end=' ', sep='----') # end is a keyword argument\n",
        "    print(\"Grade:\", dict1[name])\n",
        "print(\"Done.\")"
      ],
      "execution_count": null,
      "outputs": [
        {
          "output_type": "stream",
          "name": "stdout",
          "text": [
            "\n",
            "Alex\n",
            "\n",
            "Clare\n",
            "\n",
            "Bob\n",
            "Name:----Alex Grade: A\n",
            "Name:----Clare Grade: C\n",
            "Name:----Bob Grade: B\n",
            "Done.\n"
          ]
        }
      ]
    },
    {
      "cell_type": "code",
      "source": [
        "a = 0\n",
        "while a < 10:\n",
        "    print(a)\n",
        "    a += 1"
      ],
      "metadata": {
        "id": "S5O5u0k7INld"
      },
      "execution_count": null,
      "outputs": []
    },
    {
      "cell_type": "code",
      "metadata": {
        "id": "82ApyVg9OqG6"
      },
      "source": [
        "a = -2\n",
        "if a > 0:\n",
        "    print(\"Greater than zero.\")\n",
        "else: \n",
        "    print(\"Not greater than zero.\")"
      ],
      "execution_count": null,
      "outputs": []
    },
    {
      "cell_type": "code",
      "metadata": {
        "id": "U4cQB9oIO52f"
      },
      "source": [
        "a = 2\n",
        "b = 4\n",
        "if a < 0:\n",
        "    print(\"a less than zero\")\n",
        "elif b > 0: # \"elif\" means \"else if\"\n",
        "    print(\"a not less than zero, and b greater than zero\")\n",
        "else:\n",
        "    print(\"neither is greater than zero\")"
      ],
      "execution_count": null,
      "outputs": []
    },
    {
      "cell_type": "markdown",
      "metadata": {
        "id": "8fWcw5WMu75g"
      },
      "source": [
        "### 9. List Comprehensions"
      ]
    },
    {
      "cell_type": "code",
      "metadata": {
        "id": "Ug_cd-5yPao5"
      },
      "source": [
        "list1 = [1, 2, 3, 4, 5]\n",
        "# create a list whose values are 10 * values from list1:\n",
        "# Solution 1:\n",
        "list2 = []\n",
        "for elt in list1:\n",
        "    list2.append(10 * elt)\n",
        "print(list2)\n",
        "\n",
        "# Solution 2:\n",
        "list2 = [ (10 * x) for x in list1   ] # list comprehension\n",
        "print(list2)"
      ],
      "execution_count": null,
      "outputs": []
    },
    {
      "cell_type": "code",
      "source": [
        "# Example: For each element in list1: change it to 0 if it is negative,  \n",
        "# remove it if it is greater than 10\n",
        "list1 = [1, -5, 20, 12, 0]\n",
        "# Solution 1:\n",
        "list2 = []\n",
        "for x in list1:\n",
        "    if x < 0:\n",
        "        list2.append(0)\n",
        "    elif x > 10:\n",
        "        continue\n",
        "    else:\n",
        "        list2.append(x)\n",
        "print(list2)"
      ],
      "metadata": {
        "id": "OcPii72hCwpg"
      },
      "execution_count": null,
      "outputs": []
    },
    {
      "cell_type": "code",
      "source": [
        "list2 = [ x for x in list1 if x <= 10]\n",
        "print(list2)\n",
        "list2 = [ (y if y > 0 else 0) for y in list2]\n",
        "print(list2)"
      ],
      "metadata": {
        "id": "QwYJCc2KDg8_"
      },
      "execution_count": null,
      "outputs": []
    },
    {
      "cell_type": "markdown",
      "metadata": {
        "id": "d4rrACaLu8DX"
      },
      "source": [
        "### 10. Functions and Classes"
      ]
    },
    {
      "cell_type": "code",
      "metadata": {
        "id": "gkBO1AkESMO2"
      },
      "source": [
        "def sum_of_list(list1):\n",
        "    sum = 0\n",
        "    for x in list1:\n",
        "        sum += x\n",
        "    return sum"
      ],
      "execution_count": null,
      "outputs": []
    },
    {
      "cell_type": "code",
      "metadata": {
        "id": "oO9qcwz9SeTX"
      },
      "source": [
        "print(list1)\n",
        "sum_of_list(list1)"
      ],
      "execution_count": null,
      "outputs": []
    },
    {
      "cell_type": "code",
      "source": [
        "# A function can be applied to different types of inputs\n",
        "sum_of_list([1.2, 2.3, 3.4, 4.5, 5.6])\n",
        "sum_of_list([True, True, False, False, True])\n",
        "# sum_of_list([\"ABC\", \"DEF\", \"FGH\", \"XYZ\"])"
      ],
      "metadata": {
        "id": "cuJxj4WPGPQJ"
      },
      "execution_count": null,
      "outputs": []
    },
    {
      "cell_type": "code",
      "metadata": {
        "id": "F6ExJvmbv5nN"
      },
      "source": [
        "#  A function can return multiple values\n",
        "def sum_and_product(list1):\n",
        "    sum = 0\n",
        "    product = 1\n",
        "    for x in list1:\n",
        "        sum += x\n",
        "        product *= x\n",
        "    return sum, product"
      ],
      "execution_count": null,
      "outputs": []
    },
    {
      "cell_type": "code",
      "metadata": {
        "id": "FtKnOuJjSt04"
      },
      "source": [
        "list1_sum, list1_product = sum_and_product(list1)\n",
        "print(list1_sum, list1_product)"
      ],
      "execution_count": null,
      "outputs": []
    },
    {
      "cell_type": "code",
      "source": [
        "result = sum_and_product(list1)\n",
        "print(result)\n",
        "print(result[0])\n",
        "print(result[1])"
      ],
      "metadata": {
        "id": "vNCdZZTOHYR9"
      },
      "execution_count": null,
      "outputs": []
    },
    {
      "cell_type": "code",
      "source": [
        "_, list1_product = sum_and_product(list1)\n",
        "print(list1_product)\n",
        "print(_)"
      ],
      "metadata": {
        "id": "oNi5Z6lwHltz"
      },
      "execution_count": null,
      "outputs": []
    },
    {
      "cell_type": "markdown",
      "source": [
        "Objects are passed to a function by reference."
      ],
      "metadata": {
        "id": "8F1EB41XIIij"
      }
    },
    {
      "cell_type": "code",
      "metadata": {
        "id": "qENq27qvS3Mm"
      },
      "source": [
        "def implicit_list_mod(list1):\n",
        "    list1[0] = 100"
      ],
      "execution_count": null,
      "outputs": []
    },
    {
      "cell_type": "code",
      "metadata": {
        "id": "qS2e2oZTTCg-"
      },
      "source": [
        "implicit_list_mod(list1) # lists are passed in by reference\n",
        "print(list1)"
      ],
      "execution_count": null,
      "outputs": []
    },
    {
      "cell_type": "markdown",
      "source": [
        "If a function takes in a variable (int, str, bool, float, etc.), it will create a copy of that variable. The original variable will not be affected. Variables are passed to a function by value."
      ],
      "metadata": {
        "id": "ndFr37QhJAZe"
      }
    },
    {
      "cell_type": "code",
      "source": [
        "def variable_modification(x):\n",
        "    x = 0"
      ],
      "metadata": {
        "id": "HlA6iTZ9IwBM"
      },
      "execution_count": null,
      "outputs": []
    },
    {
      "cell_type": "code",
      "source": [
        "x = 100\n",
        "variable_modification(x) # the value of x cannot be modified inside the function\n",
        "print(x)"
      ],
      "metadata": {
        "id": "REJdXTTOI3fK"
      },
      "execution_count": null,
      "outputs": []
    },
    {
      "cell_type": "code",
      "metadata": {
        "id": "Gc-u3xc2TWS3"
      },
      "source": [
        "# Some parameters can have default values.\n",
        "def addition(x, y=1):\n",
        "    return x + y"
      ],
      "execution_count": null,
      "outputs": []
    },
    {
      "cell_type": "code",
      "source": [
        "print(addition(1, 1))\n",
        "print(addition(2))\n",
        "print(addition(3))\n",
        "print(addition(3, 2))"
      ],
      "metadata": {
        "id": "EAtW7mLvJ4r3"
      },
      "execution_count": null,
      "outputs": []
    },
    {
      "cell_type": "code",
      "metadata": {
        "id": "O8158hRRThMR"
      },
      "source": [
        "print(addition(5, 6))\n",
        "print(addition(10))\n",
        "print(addition(\"123\", \"456\"))"
      ],
      "execution_count": null,
      "outputs": []
    },
    {
      "cell_type": "code",
      "metadata": {
        "id": "5i1jiblnUJwD"
      },
      "source": [
        "class Student:\n",
        "\n",
        "    def __init__(self, name, age):\n",
        "        self.name = name\n",
        "        self.age = age\n",
        "\n",
        "    def print(self):\n",
        "        print(self.name, \" \", self.age)"
      ],
      "execution_count": null,
      "outputs": []
    },
    {
      "cell_type": "code",
      "metadata": {
        "id": "eypetCdTUo05"
      },
      "source": [
        "student1 = Student(\"Alex\", 15)\n",
        "student1.print()"
      ],
      "execution_count": null,
      "outputs": []
    },
    {
      "cell_type": "markdown",
      "metadata": {
        "id": "NPOeK0KQVoJs"
      },
      "source": [
        "## Example: Heights for Men in the US"
      ]
    },
    {
      "cell_type": "code",
      "metadata": {
        "id": "VOQmbG9kVsaV"
      },
      "source": [
        "# 1. create two python lists containing average heights from 1900 to 1980\n",
        "list_year = [1900, 1910, 1920, 1930, 1940, 1950, 1960, 1970, 1980]\n",
        "list_height = [170, 172.1, 173.1, 173.4, 176.1, 177.1, 177.3, 178.3, 179]\n",
        "print(len(list_year), len(list_height))"
      ],
      "execution_count": null,
      "outputs": []
    },
    {
      "cell_type": "code",
      "metadata": {
        "id": "kk_094wYWK9F"
      },
      "source": [
        "# 2. Plot a gragh\n",
        "import matplotlib.pyplot as plt # import libraries\n",
        "plt.plot(list_year, list_height, \"rs\")"
      ],
      "execution_count": null,
      "outputs": []
    },
    {
      "cell_type": "code",
      "metadata": {
        "id": "6WYwWfIwWwPu"
      },
      "source": [
        "# Create a list that contains rate of change in list1\n",
        "# how much is increased from 1900 to 1910?\n",
        "\n",
        "# rate of change = (new value - old value) / old value\n",
        "\n",
        "# Compare 1900 to 1910\n",
        "(172.1 - 170) / 170 # 1.24%\n",
        "\n",
        "(list_height[1] - list_height[0]) / list_height[0]\n",
        "\n",
        "# Compare 1910 to 1920\n",
        "(list_height[2] - list_height[1]) / list_height[1]\n",
        "\n",
        "for k in range(len(list_height)-1): # k represents the index of the old value\n",
        "    print(\"K:\", k, \"rate of change:\", (list_height[k+1] - list_height[k]) / list_height[k])"
      ],
      "execution_count": null,
      "outputs": []
    },
    {
      "cell_type": "code",
      "metadata": {
        "id": "yPbXiNKJ7N6K"
      },
      "source": [],
      "execution_count": null,
      "outputs": []
    }
  ]
}