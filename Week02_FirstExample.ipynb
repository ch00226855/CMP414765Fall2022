{
  "nbformat": 4,
  "nbformat_minor": 0,
  "metadata": {
    "colab": {
      "name": "Week02_FirstExample",
      "provenance": [],
      "collapsed_sections": [],
      "authorship_tag": "ABX9TyOjaSG4EiYMufHR4YsEW9I4",
      "include_colab_link": true
    },
    "kernelspec": {
      "name": "python3",
      "display_name": "Python 3"
    }
  },
  "cells": [
    {
      "cell_type": "markdown",
      "metadata": {
        "id": "view-in-github",
        "colab_type": "text"
      },
      "source": [
        "<a href=\"https://colab.research.google.com/github/ch00226855/CMP414765Fall2022/blob/main/Week02_FirstExample.ipynb\" target=\"_parent\"><img src=\"https://colab.research.google.com/assets/colab-badge.svg\" alt=\"Open In Colab\"/></a>"
      ]
    },
    {
      "cell_type": "markdown",
      "metadata": {
        "id": "ux7HKE_1cu88"
      },
      "source": [
        "# Week 2: First Machine Learning Example\n",
        "\n",
        "**Reading**: Chapter 1. The Machine Learning Landscape\n",
        "\n"
      ]
    },
    {
      "cell_type": "markdown",
      "metadata": {
        "id": "rddAEq-gefWH"
      },
      "source": [
        "## What is Machine Learning?\n",
        "\n",
        "Machine Learning is the science of programming computers so they can perform certain task with knowledge learned from data.\n",
        "\n",
        "**Example: spam filter**\n",
        "- Task: to flag spam for new emails\n",
        "- Data: existing emails with labels (either spam or non-spam)\n",
        "- Performance measure:\n",
        "    - percentage of correctly labeled emails\n",
        "    - percentage of a spam email being labeled correctly.\n",
        "    - percentage of a non-spam email being labeled correctly.\n",
        "    - Classification efficiency\n",
        "    - ..."
      ]
    },
    {
      "cell_type": "markdown",
      "metadata": {
        "id": "De99ptbCdN2Z"
      },
      "source": [
        "## Why Use Machine Learning?\n",
        "\n",
        "Traditional approach for spam filter:\n",
        "1. Choose features of spam emails manually: \"4U\", \"credit card\", \"free\", \"amazing\"\n",
        "2. Write an program to detect exactly the features you chose\n",
        "3. Test the program and modify the features until satisfactory\n",
        "\n",
        "Drawbacks of traditional approach: \n",
        "1. A large amount of features are needed - hard to maintain\n",
        "2. Spammers may change their writing to avoid explicit rules: change \"4U\" to \"For U\".\n",
        "3. For some complex problems, manually-engineered features are not good enough: hand-written digits\n",
        "\n",
        "Machine Learning models:\n",
        "1. Automatically learns which words and phrases are good predictors of spam. \n",
        "2. Since the program is not a stack of explicit rules, it is much shorter, easier to maintain, and most likely more accurate.\n",
        "3. With new training data, the Machine Learning model can update automatically to capture new indicators of spam emails.\n",
        "\n",
        "What Machine Learning is great for:\n",
        "1. Problems for which existing solutions require a lot of hand-tuning or long lists of rules: one Machine Learning algorithm can often simplify code and perform better.\n",
        "2. Complex problems for which there is no good solution at all using a traditional approach: the best Machine Learning techniques can find a solution.\n",
        "3. Fluctuating environments: a Machine Learning system can adapt to new data.\n",
        "4. Large amount of data: With Machine Learning, computers process big data faster than human.\n"
      ]
    },
    {
      "cell_type": "markdown",
      "metadata": {
        "id": "7vSCfx-OeLUQ"
      },
      "source": [
        "## First Example: Men's Height in the United States\n",
        "\n",
        "As an illustration of machine learning practice, let's consider the task of understanding the trend of American men's height in the 20th century. This project requires the following stages:\n",
        "- Data preparation\n",
        "- Data exploration\n",
        "- Model training\n",
        "- Model evaluation\n",
        "- Model application"
      ]
    },
    {
      "cell_type": "markdown",
      "metadata": {
        "id": "VMHJkGUFeySH"
      },
      "source": [
        "### 1. Download Data\n",
        "- Go to website:  https://ourworldindata.org/human-height\n",
        "- Find the interactive chart \"Increase of human height over two centuries\"\n",
        "- Click the \"Download\" tab, and download the CSV (comma-separated-values) file containing height data.\n",
        "\n",
        "After downloading, you can open it a text editor to view its content."
      ]
    },
    {
      "cell_type": "markdown",
      "metadata": {
        "id": "6zZpoKm1e3oC"
      },
      "source": [
        "### 2. Upload the CSV file to Google Colab\n",
        "- Click \"Files\" icon on the left column.\n",
        "- Click \"Upload to session storage\"\n",
        "- Upload the CSV file.\n",
        "\n",
        "Afterwards, you should see the file listed in the files tab.\n"
      ]
    },
    {
      "cell_type": "markdown",
      "metadata": {
        "id": "JqD2woXgfrPM"
      },
      "source": [
        "### 3. Load Data into Python\n",
        "- Import numpy, pandas, and matplotlib.\n",
        "- Load the data as a DataFrame using the following statement:\n",
        "`raw_data = pd.read_csv(filename, sep=',')`\n",
        "\n",
        "Now the data in the .csv file are loaded to the DataFrame `raw_data`. You can display its first 5 rows using `raw_data.head()`."
      ]
    },
    {
      "cell_type": "code",
      "metadata": {
        "id": "7ExZnG8QgAAG"
      },
      "source": [
        "import numpy as np  # scientific computation\n",
        "import pandas as pd  # data handling\n",
        "import matplotlib.pyplot as plt  # plotting\n",
        "# The following \"magic command\" allows figures to be displayed automatically in notebook\n",
        "%matplotlib inline  "
      ],
      "execution_count": null,
      "outputs": []
    },
    {
      "cell_type": "code",
      "metadata": {
        "id": "cW4X7CP1gH35"
      },
      "source": [
        "raw_data = pd.read_csv(\"average-height-of-men-for-selected-countries.csv\", sep=',')"
      ],
      "execution_count": null,
      "outputs": []
    },
    {
      "cell_type": "code",
      "metadata": {
        "id": "HKBx-e1dgdbd"
      },
      "source": [
        "raw_data.head()"
      ],
      "execution_count": null,
      "outputs": []
    },
    {
      "cell_type": "markdown",
      "metadata": {
        "id": "ZZzKoSzrgeIO"
      },
      "source": [
        "### DataFrame\n",
        "Data frame is a way to store data in rectangular grids that can easily be overviewed. Each row of these grids corresponds to measurements or values of an instance, while each column is a vector containing data for a specific variable. A data frame's row may contain different types of values: numeric, character, logical, etc.\n",
        "\n",
        "Data frames in Python come with the Pandas libarary, and they are defined as a two-dimensional labeled data structures with columns of potentially different types."
      ]
    },
    {
      "cell_type": "markdown",
      "metadata": {
        "id": "XNm4XTV7gmB6"
      },
      "source": [
        "### 4. Extract US Data\n",
        "- Create a filter on the rows with condition \"Entity = United States\"\n",
        "- Use the filter to select rows related to US.\n",
        "- Create another filter with condition \"Year >= 1900\", and use it to filter the data.\n",
        "- Display the resulting data frame."
      ]
    },
    {
      "cell_type": "code",
      "metadata": {
        "id": "OLgzJpv4g3Vs"
      },
      "source": [
        "filter1 = (raw_data['Entity'] == \"United States\")\n",
        "print(filter1)"
      ],
      "execution_count": null,
      "outputs": []
    },
    {
      "cell_type": "code",
      "metadata": {
        "id": "9MBIpZxng5Fn"
      },
      "source": [
        "filter1 = (raw_data['Entity'] == \"United States\")\n",
        "data = raw_data[filter1]\n",
        "data"
      ],
      "execution_count": null,
      "outputs": []
    },
    {
      "cell_type": "code",
      "metadata": {
        "id": "da8hGRR2g7UB"
      },
      "source": [
        "# You can combine the two steps in one statement\n",
        "data = raw_data[raw_data['Entity'] == \"United States\"]\n",
        "data.head()"
      ],
      "execution_count": null,
      "outputs": []
    },
    {
      "cell_type": "code",
      "metadata": {
        "id": "-W8UsV2an6H0"
      },
      "source": [
        "# Exercise:\n",
        "# Extract USA data since 1900.\n",
        "data = data[data['Year'] >= 1900]\n",
        "data"
      ],
      "execution_count": null,
      "outputs": []
    },
    {
      "cell_type": "markdown",
      "metadata": {
        "id": "1hany2AAnXGf"
      },
      "source": [
        "### 5. Clean the Dataset\n",
        "1. Reset the index.\n",
        "2. Remove Entity and Code column.\n",
        "3. Give a proper name to height column"
      ]
    },
    {
      "cell_type": "code",
      "metadata": {
        "id": "m62F50fQncBr"
      },
      "source": [
        "data = data.set_index([\"Year\"])\n",
        "data.head()"
      ],
      "execution_count": null,
      "outputs": []
    },
    {
      "cell_type": "code",
      "metadata": {
        "id": "Rzq1Xbebndoy"
      },
      "source": [
        "data.drop(['Entity', 'Code'], axis=1, inplace=True) # axis specifies row drop or column drop\n",
        "data.head()"
      ],
      "execution_count": null,
      "outputs": []
    },
    {
      "cell_type": "code",
      "metadata": {
        "id": "cLy9PtMlngqP"
      },
      "source": [
        "data = data.rename(columns={'Human Height (University of Tuebingen (2015))': \"Height(cm)\"})\n",
        "# data.tail()\n",
        "data"
      ],
      "execution_count": null,
      "outputs": []
    },
    {
      "cell_type": "markdown",
      "metadata": {
        "id": "JyEggVucno6r"
      },
      "source": [
        "### 6. Plot height vs. year\n",
        "- Extract the list of heights.\n",
        "- Extract the list of years.\n",
        "- Use `plt.plot()` to create a scatter plot."
      ]
    },
    {
      "cell_type": "code",
      "metadata": {
        "id": "eJie4oAOnvWo"
      },
      "source": [
        "heights = data['Height(cm)']\n",
        "years = data.index\n",
        "plt.plot(years, heights, 'g.')"
      ],
      "execution_count": null,
      "outputs": []
    },
    {
      "cell_type": "markdown",
      "metadata": {
        "id": "W4Lhccufnxsk"
      },
      "source": [
        "**How would you describe the trend?**\n",
        "1. Is there a trend?\n",
        "\n",
        "Answer: Yes\n",
        "2. Is the trend upward or downward?\n",
        "\n",
        "Answer: There is an increasing trend.\n",
        "3. It the trend consistent?\n",
        "\n",
        "Answer:The trend is flat during 1920s and 1950s. The increase is sharp during the 1930s.\n",
        "\n",
        "**Conclusion**: The trend closely follows a straight line."
      ]
    },
    {
      "cell_type": "markdown",
      "metadata": {
        "id": "pi2hHu3goFKy"
      },
      "source": [
        "## 7. Modeling\n",
        "\n",
        "Since we haven't studied any modeling method yet, let's use our intuition to find a function that describes the relation between year and height.\n",
        "- Linear model ($height = m \\cdot year + b$) seems a good fit to the data.\n",
        "- What is a good value for $m$?\n",
        "- What is a good value for $b$?\n",
        "- Plot the line represented by the linear model\n",
        "    - Create a list of x-coordinates using `np.linspace`\n",
        "    - Calculate the corresponding y-coordinates\n",
        "    - Use these two lists to plot the line."
      ]
    },
    {
      "cell_type": "code",
      "metadata": {
        "id": "TxAcEgyFoUFj"
      },
      "source": [
        "# Calculate the average increase per year between 1900 and 1980\n",
        "\n",
        "m1 = (data.loc[1980, 'Height(cm)'] - data.loc[1900, 'Height(cm)']) / 80\n",
        "print(\"Slope:\", m1)"
      ],
      "execution_count": null,
      "outputs": []
    },
    {
      "cell_type": "code",
      "metadata": {
        "id": "m73_5loQohPn"
      },
      "source": [
        "# Let the slope be the average rate of increase.\n",
        "# If the model is height = m * year + b, \n",
        "# find the value of b so that point (1900, 170.0) lies on the line.\n",
        "\n",
        "b1 = 170 - m1 * 1900\n",
        "print(b1)"
      ],
      "execution_count": null,
      "outputs": []
    },
    {
      "cell_type": "markdown",
      "source": [
        "Based on our discussion, the model is:\n",
        "\n",
        "Height = 0.1125 * Year - 43.75."
      ],
      "metadata": {
        "id": "rvIQF7W9fvsC"
      }
    },
    {
      "cell_type": "code",
      "metadata": {
        "id": "qGV3a7lzo3JE"
      },
      "source": [
        "# Plot the model line.\n",
        "x_coordinates = [1890, 1990]\n",
        "y_coordinates = []\n",
        "for year in x_coordinates:\n",
        "    y_coordinates.append(m1 * year + b1)\n",
        "\n",
        "plt.plot(x_coordinates, y_coordinates, \"r-\")\n",
        "plt.plot(years, heights, 'g.')"
      ],
      "execution_count": null,
      "outputs": []
    },
    {
      "cell_type": "markdown",
      "metadata": {
        "id": "cMVSz5VfpRg7"
      },
      "source": [
        "**Can you find another line that fits the model better?**"
      ]
    },
    {
      "cell_type": "code",
      "metadata": {
        "id": "i6ik6p7_pW0c"
      },
      "source": [
        "m2 = 0.1125\n",
        "b2 = -43\n",
        "# Plot the model line.\n",
        "x_coordinates = [1890, 1990]\n",
        "y_coordinates = []\n",
        "for year in x_coordinates:\n",
        "    y_coordinates.append(m2 * year + b2)\n",
        "\n",
        "plt.plot(x_coordinates, y_coordinates, \"r-\")\n",
        "plt.plot(years, heights, 'g.')\n",
        "\n",
        "# Let's plot our first choice as a comparison\n",
        "y_coordinates = []\n",
        "for year in x_coordinates:\n",
        "    y_coordinates.append(m1 * year + b1)\n",
        "plt.plot(x_coordinates, y_coordinates, \"b-\")\n",
        "\n"
      ],
      "execution_count": null,
      "outputs": []
    },
    {
      "cell_type": "code",
      "source": [
        "# What are the model's prediction for 1900, 1920, ..., 1980?\n",
        "pred_1930 = m2 * 1930 + b2\n",
        "print(\"Model's prediction on 1930:\", pred_1930)\n",
        "print(\"The actual value on 1930:\", data.loc[1930, \"Height(cm)\"])\n",
        "print(\"The error made on 1930:\", pred_1930 - data.loc[1930, \"Height(cm)\"])"
      ],
      "metadata": {
        "id": "OBMmGxtZjB6w"
      },
      "execution_count": null,
      "outputs": []
    },
    {
      "cell_type": "code",
      "source": [
        "# Display the error made on 1900, 1910, 1920, ..., 1980\n",
        "for year in data.index:\n",
        "    pred = m2 * year + b2\n",
        "    print(\"Model's prediction on \", year, \":\", pred)\n",
        "    print(\"The actual value on \", year, \":\", data.loc[year, \"Height(cm)\"])\n",
        "    print(\"The error made on \", year, \":\", pred - data.loc[year, \"Height(cm)\"])\n",
        "    print(\"-\"*20)"
      ],
      "metadata": {
        "id": "l6MOOzHEj8hT"
      },
      "execution_count": null,
      "outputs": []
    },
    {
      "cell_type": "markdown",
      "source": [
        "## 8. Model Evaluation\n",
        "\n",
        "A straight-forward idea of model evaluation is to sum up all errors made by the model. For example:\n",
        "\n",
        "- Let $x^{(i)}$ and $y^{(i)}$ to represent the x and y coordiante of the $i$th record\n",
        "- Let $n$ denote the total number of records.\n",
        "- Let $y = mx + b$ be the model.\n",
        "\n",
        "Then:\n",
        "- The model's prediction on Record i is $mx^{(i)} + b$\n",
        "- The actual target value on Record i is $y^{(i)}$\n",
        "- The error made on this record is $mx^{(i)} + b - y^{(i)}$.\n",
        "\n",
        "We would like to use the sum of all these error as an evaluation of the model's performance. However, we don't want positive errors to cancel with negative errors. There are two common solutions:\n",
        "\n",
        "*The Mean-Absolute-Error (MAE)*: To sum up the absolute values of all errors.\n",
        "\n",
        "$$\n",
        "MAE = \\frac{|mx^{(0)} + b - y^{(0)}| + |mx^{(1)} + b - y^{(1)}| + ... + |mx^{(n-1)} + b - y^{(n-1)}|}{n} = \\frac{\\sum_{i=0}^{n-1}|mx^{(i)} + b - y^{(i)}|}{n}\n",
        "$$\n",
        "\n",
        "*The Mean-Squared-Error (MSE)*: To sum up the square of all errors\n",
        "\n",
        "$$\n",
        "MSE = \\frac{(mx^{(0)} + b - y^{(0)})^2 + (mx^{(1)} + b - y^{(1)})^2 + ... + (mx^{(n-1)} + b - y^{(n-1)})^2}{n} = \\frac{\\sum_{i=0}^{n-1}(mx^{(i)} + b - y^{(i)})^2}{n}\n",
        "$$"
      ],
      "metadata": {
        "id": "tw1ZGeHkIOar"
      }
    },
    {
      "cell_type": "code",
      "source": [],
      "metadata": {
        "id": "_h0L-R0_IN-Q"
      },
      "execution_count": null,
      "outputs": []
    },
    {
      "cell_type": "markdown",
      "metadata": {
        "id": "9AB-4-Nwo9is"
      },
      "source": [
        "\n",
        "- Objective: find a linear model whose predictions are *close* to the actual values.\n",
        "- Metric on closeness: **mean square error (MSE):**\n",
        "$$MSE = \\frac{1}{\\textit{number of data}}\\sum_{\\text{(x, y) in dataset}}(mx + b - y)^2$$\n",
        "\n",
        "Now that we have multiple model candidates, which one gives the smallest MSE?"
      ]
    },
    {
      "cell_type": "code",
      "metadata": {
        "id": "s2wVync3pD7G"
      },
      "source": [
        "# Example: Calculate the error for 1930\n",
        "\n",
        "# Red line: height = m2 * year + b2\n",
        "# Blue line: height = m1 * year + b1\n",
        "\n",
        "# What is the red model's squared error on 1930?\n",
        "(m2 * 1930 + b2 - data.loc[1930, \"Height(cm)\"]) ** 2"
      ],
      "execution_count": null,
      "outputs": []
    },
    {
      "cell_type": "code",
      "metadata": {
        "id": "RMqGDiuNpcZc"
      },
      "source": [
        "# Calculate errors for each year\n",
        "\n",
        "total_error = 0 # we use snake casing to name variables and functions\n",
        "\n",
        "for year in data.index:\n",
        "\n",
        "    error = (m2 * year + b2 - data.loc[year, \"Height(cm)\"]) ** 2\n",
        "    # print(year, error)\n",
        "    total_error += error\n",
        "\n",
        "print(\"MSE for the red line:\", total_error/len(data)) # len() returns the number of rows when applied to a data frame\n"
      ],
      "execution_count": null,
      "outputs": []
    },
    {
      "cell_type": "code",
      "source": [
        "# How about the MSE for the blue line?\n",
        "# height = m1 * year + b1\n",
        "\n",
        "total_error = 0\n",
        "\n",
        "for year in data.index:\n",
        "    error = (m1 * year + b1 - data.loc[year, \"Height(cm)\"]) ** 2\n",
        "    total_error += error\n",
        "\n",
        "print(\"MSE for the blue line:\", total_error/len(data))"
      ],
      "metadata": {
        "id": "YN1sExCHN5-1"
      },
      "execution_count": null,
      "outputs": []
    },
    {
      "cell_type": "markdown",
      "metadata": {
        "id": "sc0mEvmEpg16"
      },
      "source": [
        "## 9: Use the Model\n",
        "- At what rate is US men's height growing?\n",
        "\n",
        "Answer: The slope of our model represents the rate of change on height. So US men's height is grow by 0.1125 cm per year.\n",
        "\n",
        "- What is your prediction on the average height in 1890?, 2000? 2050?\n",
        "\n",
        "Answer: we can apply our model to these years:\n",
        "    - Prediction on 1890: 0.1125 * 1890 - 43\n",
        "    - Prediction on 2000: 0.1125 * 2000 - 43\n",
        "    - Prediction on 2050: 0.1125 * 2505 - 43\n",
        "    \n",
        "- Check with the raw dataset and see if your 1890 prediction is close."
      ]
    },
    {
      "cell_type": "code",
      "metadata": {
        "id": "3zAqiKt_plut"
      },
      "source": [],
      "execution_count": null,
      "outputs": []
    },
    {
      "cell_type": "code",
      "metadata": {
        "id": "G4EcFjuLptma"
      },
      "source": [],
      "execution_count": null,
      "outputs": []
    },
    {
      "cell_type": "markdown",
      "source": [
        "The model suggests a steady growth of height during 1900 and 1980. However, it is unlikely to keep this rate forever. So its prediction far into the future can be unreliable."
      ],
      "metadata": {
        "id": "b6zBK8U4Q12m"
      }
    },
    {
      "cell_type": "code",
      "source": [],
      "metadata": {
        "id": "2r5r-2slSH2s"
      },
      "execution_count": null,
      "outputs": []
    }
  ]
}