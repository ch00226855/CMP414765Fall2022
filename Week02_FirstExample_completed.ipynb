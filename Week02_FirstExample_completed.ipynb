{
  "nbformat": 4,
  "nbformat_minor": 0,
  "metadata": {
    "colab": {
      "provenance": [],
      "collapsed_sections": [],
      "include_colab_link": true
    },
    "kernelspec": {
      "name": "python3",
      "display_name": "Python 3"
    }
  },
  "cells": [
    {
      "cell_type": "markdown",
      "metadata": {
        "id": "view-in-github",
        "colab_type": "text"
      },
      "source": [
        "<a href=\"https://colab.research.google.com/github/ch00226855/CMP414765Fall2022/blob/main/Week02_FirstExample_completed.ipynb\" target=\"_parent\"><img src=\"https://colab.research.google.com/assets/colab-badge.svg\" alt=\"Open In Colab\"/></a>"
      ]
    },
    {
      "cell_type": "markdown",
      "metadata": {
        "id": "ux7HKE_1cu88"
      },
      "source": [
        "# Week 2: First Machine Learning Example\n",
        "\n",
        "**Reading**: Chapter 1. The Machine Learning Landscape\n",
        "\n"
      ]
    },
    {
      "cell_type": "markdown",
      "metadata": {
        "id": "rddAEq-gefWH"
      },
      "source": [
        "## What is Machine Learning?\n",
        "\n",
        "Machine Learning is the science of programming computers so they can perform certain task with knowledge learned from data.\n",
        "\n",
        "**Example: spam filter**\n",
        "- Task: to flag spam for new emails\n",
        "- Data: existing emails with labels (either spam or non-spam)\n",
        "- Performance measure:\n",
        "    - percentage of correctly labeled emails\n",
        "    - percentage of a spam email being labeled correctly.\n",
        "    - percentage of a non-spam email being labeled correctly.\n",
        "    - Classification efficiency\n",
        "    - ..."
      ]
    },
    {
      "cell_type": "markdown",
      "metadata": {
        "id": "De99ptbCdN2Z"
      },
      "source": [
        "## Why Use Machine Learning?\n",
        "\n",
        "Traditional approach for spam filter:\n",
        "1. Choose features of spam emails manually: \"4U\", \"credit card\", \"free\", \"amazing\"\n",
        "2. Write an program to detect exactly the features you chose\n",
        "3. Test the program and modify the features until satisfactory\n",
        "\n",
        "Drawbacks of traditional approach: \n",
        "1. A large amount of features are needed - hard to maintain\n",
        "2. Spammers may change their writing to avoid explicit rules: change \"4U\" to \"For U\".\n",
        "3. For some complex problems, manually-engineered features are not good enough: hand-written digits\n",
        "\n",
        "Machine Learning models:\n",
        "1. Automatically learns which words and phrases are good predictors of spam. \n",
        "2. Since the program is not a stack of explicit rules, it is much shorter, easier to maintain, and most likely more accurate.\n",
        "3. With new training data, the Machine Learning model can update automatically to capture new indicators of spam emails.\n",
        "\n",
        "What Machine Learning is great for:\n",
        "1. Problems for which existing solutions require a lot of hand-tuning or long lists of rules: one Machine Learning algorithm can often simplify code and perform better.\n",
        "2. Complex problems for which there is no good solution at all using a traditional approach: the best Machine Learning techniques can find a solution.\n",
        "3. Fluctuating environments: a Machine Learning system can adapt to new data.\n",
        "4. Large amount of data: With Machine Learning, computers process big data faster than human.\n"
      ]
    },
    {
      "cell_type": "markdown",
      "metadata": {
        "id": "7vSCfx-OeLUQ"
      },
      "source": [
        "## First Example: Men's Height in the United States\n",
        "\n",
        "As an illustration of machine learning practice, let's consider the task of understanding the trend of American men's height in the 20th century. This project requires the following stages:\n",
        "- Data preparation\n",
        "- Data exploration\n",
        "- Model training\n",
        "- Model evaluation\n",
        "- Model application"
      ]
    },
    {
      "cell_type": "markdown",
      "metadata": {
        "id": "VMHJkGUFeySH"
      },
      "source": [
        "### 1. Download Data\n",
        "- Go to website:  https://ourworldindata.org/human-height\n",
        "- Find the interactive chart \"Increase of human height over two centuries\"\n",
        "- Click the \"Download\" tab, and download the CSV (comma-separated-values) file containing height data.\n",
        "\n",
        "After downloading, you can open it a text editor to view its content."
      ]
    },
    {
      "cell_type": "markdown",
      "metadata": {
        "id": "6zZpoKm1e3oC"
      },
      "source": [
        "### 2. Upload the CSV file to Google Colab\n",
        "- Click \"Files\" icon on the left column.\n",
        "- Click \"Upload to session storage\"\n",
        "- Upload the CSV file.\n",
        "\n",
        "Afterwards, you should see the file listed in the files tab.\n"
      ]
    },
    {
      "cell_type": "markdown",
      "metadata": {
        "id": "JqD2woXgfrPM"
      },
      "source": [
        "### 3. Load Data into Python\n",
        "- Import numpy, pandas, and matplotlib.\n",
        "- Load the data as a DataFrame using the following statement:\n",
        "`raw_data = pd.read_csv(filename, sep=',')`\n",
        "\n",
        "Now the data in the .csv file are loaded to the DataFrame `raw_data`. You can display its first 5 rows using `raw_data.head()`."
      ]
    },
    {
      "cell_type": "code",
      "metadata": {
        "id": "7ExZnG8QgAAG"
      },
      "source": [
        "import numpy as np  # scientific computation\n",
        "import pandas as pd  # data handling\n",
        "import matplotlib.pyplot as plt  # plotting\n",
        "# The following \"magic command\" allows figures to be displayed automatically in notebook\n",
        "%matplotlib inline  "
      ],
      "execution_count": null,
      "outputs": []
    },
    {
      "cell_type": "code",
      "metadata": {
        "id": "cW4X7CP1gH35"
      },
      "source": [
        "raw_data = pd.read_csv(\"average-height-of-men-for-selected-countries.csv\")"
      ],
      "execution_count": null,
      "outputs": []
    },
    {
      "cell_type": "code",
      "source": [
        "# The read_csv method creates a data frame object with data from the CSV file\n",
        "# Use ? to detect the type of an objects\n",
        "?raw_data "
      ],
      "metadata": {
        "id": "U37BU_rLXYh8"
      },
      "execution_count": null,
      "outputs": []
    },
    {
      "cell_type": "code",
      "metadata": {
        "id": "HKBx-e1dgdbd",
        "colab": {
          "base_uri": "https://localhost:8080/",
          "height": 206
        },
        "outputId": "9311b466-2fa1-4dac-90ad-66ea22a01078"
      },
      "source": [
        "raw_data.head() # The head() method display the first several rows of the data frame"
      ],
      "execution_count": null,
      "outputs": [
        {
          "output_type": "execute_result",
          "data": {
            "text/plain": [
              "        Entity Code  Year  Human Height (University of Tuebingen (2015))\n",
              "0  Afghanistan  AFG  1870                                          168.4\n",
              "1  Afghanistan  AFG  1880                                          165.7\n",
              "2  Afghanistan  AFG  1930                                          166.8\n",
              "3      Albania  ALB  1880                                          170.1\n",
              "4      Albania  ALB  1890                                          169.8"
            ],
            "text/html": [
              "\n",
              "  <div id=\"df-e7ae39ca-72a2-48f8-b741-c72c749e9c77\">\n",
              "    <div class=\"colab-df-container\">\n",
              "      <div>\n",
              "<style scoped>\n",
              "    .dataframe tbody tr th:only-of-type {\n",
              "        vertical-align: middle;\n",
              "    }\n",
              "\n",
              "    .dataframe tbody tr th {\n",
              "        vertical-align: top;\n",
              "    }\n",
              "\n",
              "    .dataframe thead th {\n",
              "        text-align: right;\n",
              "    }\n",
              "</style>\n",
              "<table border=\"1\" class=\"dataframe\">\n",
              "  <thead>\n",
              "    <tr style=\"text-align: right;\">\n",
              "      <th></th>\n",
              "      <th>Entity</th>\n",
              "      <th>Code</th>\n",
              "      <th>Year</th>\n",
              "      <th>Human Height (University of Tuebingen (2015))</th>\n",
              "    </tr>\n",
              "  </thead>\n",
              "  <tbody>\n",
              "    <tr>\n",
              "      <th>0</th>\n",
              "      <td>Afghanistan</td>\n",
              "      <td>AFG</td>\n",
              "      <td>1870</td>\n",
              "      <td>168.4</td>\n",
              "    </tr>\n",
              "    <tr>\n",
              "      <th>1</th>\n",
              "      <td>Afghanistan</td>\n",
              "      <td>AFG</td>\n",
              "      <td>1880</td>\n",
              "      <td>165.7</td>\n",
              "    </tr>\n",
              "    <tr>\n",
              "      <th>2</th>\n",
              "      <td>Afghanistan</td>\n",
              "      <td>AFG</td>\n",
              "      <td>1930</td>\n",
              "      <td>166.8</td>\n",
              "    </tr>\n",
              "    <tr>\n",
              "      <th>3</th>\n",
              "      <td>Albania</td>\n",
              "      <td>ALB</td>\n",
              "      <td>1880</td>\n",
              "      <td>170.1</td>\n",
              "    </tr>\n",
              "    <tr>\n",
              "      <th>4</th>\n",
              "      <td>Albania</td>\n",
              "      <td>ALB</td>\n",
              "      <td>1890</td>\n",
              "      <td>169.8</td>\n",
              "    </tr>\n",
              "  </tbody>\n",
              "</table>\n",
              "</div>\n",
              "      <button class=\"colab-df-convert\" onclick=\"convertToInteractive('df-e7ae39ca-72a2-48f8-b741-c72c749e9c77')\"\n",
              "              title=\"Convert this dataframe to an interactive table.\"\n",
              "              style=\"display:none;\">\n",
              "        \n",
              "  <svg xmlns=\"http://www.w3.org/2000/svg\" height=\"24px\"viewBox=\"0 0 24 24\"\n",
              "       width=\"24px\">\n",
              "    <path d=\"M0 0h24v24H0V0z\" fill=\"none\"/>\n",
              "    <path d=\"M18.56 5.44l.94 2.06.94-2.06 2.06-.94-2.06-.94-.94-2.06-.94 2.06-2.06.94zm-11 1L8.5 8.5l.94-2.06 2.06-.94-2.06-.94L8.5 2.5l-.94 2.06-2.06.94zm10 10l.94 2.06.94-2.06 2.06-.94-2.06-.94-.94-2.06-.94 2.06-2.06.94z\"/><path d=\"M17.41 7.96l-1.37-1.37c-.4-.4-.92-.59-1.43-.59-.52 0-1.04.2-1.43.59L10.3 9.45l-7.72 7.72c-.78.78-.78 2.05 0 2.83L4 21.41c.39.39.9.59 1.41.59.51 0 1.02-.2 1.41-.59l7.78-7.78 2.81-2.81c.8-.78.8-2.07 0-2.86zM5.41 20L4 18.59l7.72-7.72 1.47 1.35L5.41 20z\"/>\n",
              "  </svg>\n",
              "      </button>\n",
              "      \n",
              "  <style>\n",
              "    .colab-df-container {\n",
              "      display:flex;\n",
              "      flex-wrap:wrap;\n",
              "      gap: 12px;\n",
              "    }\n",
              "\n",
              "    .colab-df-convert {\n",
              "      background-color: #E8F0FE;\n",
              "      border: none;\n",
              "      border-radius: 50%;\n",
              "      cursor: pointer;\n",
              "      display: none;\n",
              "      fill: #1967D2;\n",
              "      height: 32px;\n",
              "      padding: 0 0 0 0;\n",
              "      width: 32px;\n",
              "    }\n",
              "\n",
              "    .colab-df-convert:hover {\n",
              "      background-color: #E2EBFA;\n",
              "      box-shadow: 0px 1px 2px rgba(60, 64, 67, 0.3), 0px 1px 3px 1px rgba(60, 64, 67, 0.15);\n",
              "      fill: #174EA6;\n",
              "    }\n",
              "\n",
              "    [theme=dark] .colab-df-convert {\n",
              "      background-color: #3B4455;\n",
              "      fill: #D2E3FC;\n",
              "    }\n",
              "\n",
              "    [theme=dark] .colab-df-convert:hover {\n",
              "      background-color: #434B5C;\n",
              "      box-shadow: 0px 1px 3px 1px rgba(0, 0, 0, 0.15);\n",
              "      filter: drop-shadow(0px 1px 2px rgba(0, 0, 0, 0.3));\n",
              "      fill: #FFFFFF;\n",
              "    }\n",
              "  </style>\n",
              "\n",
              "      <script>\n",
              "        const buttonEl =\n",
              "          document.querySelector('#df-e7ae39ca-72a2-48f8-b741-c72c749e9c77 button.colab-df-convert');\n",
              "        buttonEl.style.display =\n",
              "          google.colab.kernel.accessAllowed ? 'block' : 'none';\n",
              "\n",
              "        async function convertToInteractive(key) {\n",
              "          const element = document.querySelector('#df-e7ae39ca-72a2-48f8-b741-c72c749e9c77');\n",
              "          const dataTable =\n",
              "            await google.colab.kernel.invokeFunction('convertToInteractive',\n",
              "                                                     [key], {});\n",
              "          if (!dataTable) return;\n",
              "\n",
              "          const docLinkHtml = 'Like what you see? Visit the ' +\n",
              "            '<a target=\"_blank\" href=https://colab.research.google.com/notebooks/data_table.ipynb>data table notebook</a>'\n",
              "            + ' to learn more about interactive tables.';\n",
              "          element.innerHTML = '';\n",
              "          dataTable['output_type'] = 'display_data';\n",
              "          await google.colab.output.renderOutput(dataTable, element);\n",
              "          const docLink = document.createElement('div');\n",
              "          docLink.innerHTML = docLinkHtml;\n",
              "          element.appendChild(docLink);\n",
              "        }\n",
              "      </script>\n",
              "    </div>\n",
              "  </div>\n",
              "  "
            ]
          },
          "metadata": {},
          "execution_count": 18
        }
      ]
    },
    {
      "cell_type": "code",
      "source": [
        "raw_data.tail()"
      ],
      "metadata": {
        "colab": {
          "base_uri": "https://localhost:8080/",
          "height": 206
        },
        "id": "q4EHzq0_b4IR",
        "outputId": "9c80edee-b181-4a20-f681-1a98dd25f4f6"
      },
      "execution_count": null,
      "outputs": [
        {
          "output_type": "execute_result",
          "data": {
            "text/plain": [
              "        Entity Code  Year  Human Height (University of Tuebingen (2015))\n",
              "1245  Zimbabwe  ZWE  1900                                          167.6\n",
              "1246  Zimbabwe  ZWE  1950                                          171.0\n",
              "1247  Zimbabwe  ZWE  1960                                          171.1\n",
              "1248  Zimbabwe  ZWE  1970                                          171.3\n",
              "1249  Zimbabwe  ZWE  1980                                          171.0"
            ],
            "text/html": [
              "\n",
              "  <div id=\"df-0641d031-7c9d-4083-8f34-6251de9a0e19\">\n",
              "    <div class=\"colab-df-container\">\n",
              "      <div>\n",
              "<style scoped>\n",
              "    .dataframe tbody tr th:only-of-type {\n",
              "        vertical-align: middle;\n",
              "    }\n",
              "\n",
              "    .dataframe tbody tr th {\n",
              "        vertical-align: top;\n",
              "    }\n",
              "\n",
              "    .dataframe thead th {\n",
              "        text-align: right;\n",
              "    }\n",
              "</style>\n",
              "<table border=\"1\" class=\"dataframe\">\n",
              "  <thead>\n",
              "    <tr style=\"text-align: right;\">\n",
              "      <th></th>\n",
              "      <th>Entity</th>\n",
              "      <th>Code</th>\n",
              "      <th>Year</th>\n",
              "      <th>Human Height (University of Tuebingen (2015))</th>\n",
              "    </tr>\n",
              "  </thead>\n",
              "  <tbody>\n",
              "    <tr>\n",
              "      <th>1245</th>\n",
              "      <td>Zimbabwe</td>\n",
              "      <td>ZWE</td>\n",
              "      <td>1900</td>\n",
              "      <td>167.6</td>\n",
              "    </tr>\n",
              "    <tr>\n",
              "      <th>1246</th>\n",
              "      <td>Zimbabwe</td>\n",
              "      <td>ZWE</td>\n",
              "      <td>1950</td>\n",
              "      <td>171.0</td>\n",
              "    </tr>\n",
              "    <tr>\n",
              "      <th>1247</th>\n",
              "      <td>Zimbabwe</td>\n",
              "      <td>ZWE</td>\n",
              "      <td>1960</td>\n",
              "      <td>171.1</td>\n",
              "    </tr>\n",
              "    <tr>\n",
              "      <th>1248</th>\n",
              "      <td>Zimbabwe</td>\n",
              "      <td>ZWE</td>\n",
              "      <td>1970</td>\n",
              "      <td>171.3</td>\n",
              "    </tr>\n",
              "    <tr>\n",
              "      <th>1249</th>\n",
              "      <td>Zimbabwe</td>\n",
              "      <td>ZWE</td>\n",
              "      <td>1980</td>\n",
              "      <td>171.0</td>\n",
              "    </tr>\n",
              "  </tbody>\n",
              "</table>\n",
              "</div>\n",
              "      <button class=\"colab-df-convert\" onclick=\"convertToInteractive('df-0641d031-7c9d-4083-8f34-6251de9a0e19')\"\n",
              "              title=\"Convert this dataframe to an interactive table.\"\n",
              "              style=\"display:none;\">\n",
              "        \n",
              "  <svg xmlns=\"http://www.w3.org/2000/svg\" height=\"24px\"viewBox=\"0 0 24 24\"\n",
              "       width=\"24px\">\n",
              "    <path d=\"M0 0h24v24H0V0z\" fill=\"none\"/>\n",
              "    <path d=\"M18.56 5.44l.94 2.06.94-2.06 2.06-.94-2.06-.94-.94-2.06-.94 2.06-2.06.94zm-11 1L8.5 8.5l.94-2.06 2.06-.94-2.06-.94L8.5 2.5l-.94 2.06-2.06.94zm10 10l.94 2.06.94-2.06 2.06-.94-2.06-.94-.94-2.06-.94 2.06-2.06.94z\"/><path d=\"M17.41 7.96l-1.37-1.37c-.4-.4-.92-.59-1.43-.59-.52 0-1.04.2-1.43.59L10.3 9.45l-7.72 7.72c-.78.78-.78 2.05 0 2.83L4 21.41c.39.39.9.59 1.41.59.51 0 1.02-.2 1.41-.59l7.78-7.78 2.81-2.81c.8-.78.8-2.07 0-2.86zM5.41 20L4 18.59l7.72-7.72 1.47 1.35L5.41 20z\"/>\n",
              "  </svg>\n",
              "      </button>\n",
              "      \n",
              "  <style>\n",
              "    .colab-df-container {\n",
              "      display:flex;\n",
              "      flex-wrap:wrap;\n",
              "      gap: 12px;\n",
              "    }\n",
              "\n",
              "    .colab-df-convert {\n",
              "      background-color: #E8F0FE;\n",
              "      border: none;\n",
              "      border-radius: 50%;\n",
              "      cursor: pointer;\n",
              "      display: none;\n",
              "      fill: #1967D2;\n",
              "      height: 32px;\n",
              "      padding: 0 0 0 0;\n",
              "      width: 32px;\n",
              "    }\n",
              "\n",
              "    .colab-df-convert:hover {\n",
              "      background-color: #E2EBFA;\n",
              "      box-shadow: 0px 1px 2px rgba(60, 64, 67, 0.3), 0px 1px 3px 1px rgba(60, 64, 67, 0.15);\n",
              "      fill: #174EA6;\n",
              "    }\n",
              "\n",
              "    [theme=dark] .colab-df-convert {\n",
              "      background-color: #3B4455;\n",
              "      fill: #D2E3FC;\n",
              "    }\n",
              "\n",
              "    [theme=dark] .colab-df-convert:hover {\n",
              "      background-color: #434B5C;\n",
              "      box-shadow: 0px 1px 3px 1px rgba(0, 0, 0, 0.15);\n",
              "      filter: drop-shadow(0px 1px 2px rgba(0, 0, 0, 0.3));\n",
              "      fill: #FFFFFF;\n",
              "    }\n",
              "  </style>\n",
              "\n",
              "      <script>\n",
              "        const buttonEl =\n",
              "          document.querySelector('#df-0641d031-7c9d-4083-8f34-6251de9a0e19 button.colab-df-convert');\n",
              "        buttonEl.style.display =\n",
              "          google.colab.kernel.accessAllowed ? 'block' : 'none';\n",
              "\n",
              "        async function convertToInteractive(key) {\n",
              "          const element = document.querySelector('#df-0641d031-7c9d-4083-8f34-6251de9a0e19');\n",
              "          const dataTable =\n",
              "            await google.colab.kernel.invokeFunction('convertToInteractive',\n",
              "                                                     [key], {});\n",
              "          if (!dataTable) return;\n",
              "\n",
              "          const docLinkHtml = 'Like what you see? Visit the ' +\n",
              "            '<a target=\"_blank\" href=https://colab.research.google.com/notebooks/data_table.ipynb>data table notebook</a>'\n",
              "            + ' to learn more about interactive tables.';\n",
              "          element.innerHTML = '';\n",
              "          dataTable['output_type'] = 'display_data';\n",
              "          await google.colab.output.renderOutput(dataTable, element);\n",
              "          const docLink = document.createElement('div');\n",
              "          docLink.innerHTML = docLinkHtml;\n",
              "          element.appendChild(docLink);\n",
              "        }\n",
              "      </script>\n",
              "    </div>\n",
              "  </div>\n",
              "  "
            ]
          },
          "metadata": {},
          "execution_count": 19
        }
      ]
    },
    {
      "cell_type": "markdown",
      "metadata": {
        "id": "ZZzKoSzrgeIO"
      },
      "source": [
        "### DataFrame\n",
        "Data frame is a way to store data in rectangular grids that can easily be overviewed. Each row of these grids corresponds to measurements or values of an instance, while each column is a vector containing data for a specific variable. A data frame's row may contain different types of values: numeric, character, logical, etc.\n",
        "\n",
        "Data frames in Python come with the Pandas libarary, and they are defined as a two-dimensional labeled data structures with columns of potentially different types."
      ]
    },
    {
      "cell_type": "code",
      "source": [
        "# Explore the raw data set\n",
        "raw_data.shape # (1250, 4) -> 1250 rows, 4 columns"
      ],
      "metadata": {
        "colab": {
          "base_uri": "https://localhost:8080/"
        },
        "id": "tHjaUIByZ-qm",
        "outputId": "496e0303-b6c3-42f1-c23e-79e15ecba733"
      },
      "execution_count": null,
      "outputs": [
        {
          "output_type": "execute_result",
          "data": {
            "text/plain": [
              "(1250, 4)"
            ]
          },
          "metadata": {},
          "execution_count": 13
        }
      ]
    },
    {
      "cell_type": "code",
      "source": [
        "raw_data.columns"
      ],
      "metadata": {
        "colab": {
          "base_uri": "https://localhost:8080/"
        },
        "id": "q9dWmuI-aOia",
        "outputId": "9d84c8b4-78a7-4caa-e7e0-8e75a544a4f7"
      },
      "execution_count": null,
      "outputs": [
        {
          "output_type": "execute_result",
          "data": {
            "text/plain": [
              "Index(['Entity', 'Code', 'Year',\n",
              "       'Human Height (University of Tuebingen (2015))'],\n",
              "      dtype='object')"
            ]
          },
          "metadata": {},
          "execution_count": 14
        }
      ]
    },
    {
      "cell_type": "code",
      "source": [
        "raw_data.dtypes # object -> strings, int64 -> integers, float64 -> decimals"
      ],
      "metadata": {
        "colab": {
          "base_uri": "https://localhost:8080/"
        },
        "id": "KYEb02LbaZ_6",
        "outputId": "83925cd0-6b52-4bd2-a9c6-da89c0de9e7e"
      },
      "execution_count": null,
      "outputs": [
        {
          "output_type": "execute_result",
          "data": {
            "text/plain": [
              "Entity                                            object\n",
              "Code                                              object\n",
              "Year                                               int64\n",
              "Human Height (University of Tuebingen (2015))    float64\n",
              "dtype: object"
            ]
          },
          "metadata": {},
          "execution_count": 16
        }
      ]
    },
    {
      "cell_type": "markdown",
      "metadata": {
        "id": "XNm4XTV7gmB6"
      },
      "source": [
        "### 4. Extract US Data\n",
        "- Create a filter on the rows with condition \"Entity = United States\"\n",
        "- Use the filter to select rows related to US.\n",
        "- Create another filter with condition \"Year >= 1900\", and use it to filter the data.\n",
        "- Display the resulting data frame."
      ]
    },
    {
      "cell_type": "code",
      "metadata": {
        "id": "OLgzJpv4g3Vs",
        "colab": {
          "base_uri": "https://localhost:8080/"
        },
        "outputId": "fcc0fa59-18fd-4ee4-d3ad-566fffeaca72"
      },
      "source": [
        "filter1 = (raw_data['Entity'] == \"United States\")\n",
        "print(filter1)"
      ],
      "execution_count": null,
      "outputs": [
        {
          "output_type": "stream",
          "name": "stdout",
          "text": [
            "0       False\n",
            "1       False\n",
            "2       False\n",
            "3       False\n",
            "4       False\n",
            "        ...  \n",
            "1245    False\n",
            "1246    False\n",
            "1247    False\n",
            "1248    False\n",
            "1249    False\n",
            "Name: Entity, Length: 1250, dtype: bool\n"
          ]
        }
      ]
    },
    {
      "cell_type": "code",
      "metadata": {
        "id": "9MBIpZxng5Fn",
        "colab": {
          "base_uri": "https://localhost:8080/",
          "height": 582
        },
        "outputId": "6e85a704-2153-47a7-a732-974a40a288da"
      },
      "source": [
        "filter1 = (raw_data['Entity'] == \"United States\")\n",
        "data = raw_data[filter1]\n",
        "data # data is a much smaller data frame containing the US data"
      ],
      "execution_count": null,
      "outputs": [
        {
          "output_type": "execute_result",
          "data": {
            "text/plain": [
              "             Entity Code  Year  Human Height (University of Tuebingen (2015))\n",
              "1194  United States  USA  1820                                          172.2\n",
              "1195  United States  USA  1830                                          173.5\n",
              "1196  United States  USA  1840                                          172.2\n",
              "1197  United States  USA  1850                                          171.1\n",
              "1198  United States  USA  1860                                          170.6\n",
              "1199  United States  USA  1870                                          171.1\n",
              "1200  United States  USA  1880                                          169.5\n",
              "1201  United States  USA  1890                                          169.1\n",
              "1202  United States  USA  1900                                          170.0\n",
              "1203  United States  USA  1910                                          172.1\n",
              "1204  United States  USA  1920                                          173.1\n",
              "1205  United States  USA  1930                                          173.4\n",
              "1206  United States  USA  1940                                          176.1\n",
              "1207  United States  USA  1950                                          177.1\n",
              "1208  United States  USA  1960                                          177.3\n",
              "1209  United States  USA  1970                                          178.3\n",
              "1210  United States  USA  1980                                          179.0"
            ],
            "text/html": [
              "\n",
              "  <div id=\"df-94b6c27b-4514-45a7-92c5-bb15af65e3d5\">\n",
              "    <div class=\"colab-df-container\">\n",
              "      <div>\n",
              "<style scoped>\n",
              "    .dataframe tbody tr th:only-of-type {\n",
              "        vertical-align: middle;\n",
              "    }\n",
              "\n",
              "    .dataframe tbody tr th {\n",
              "        vertical-align: top;\n",
              "    }\n",
              "\n",
              "    .dataframe thead th {\n",
              "        text-align: right;\n",
              "    }\n",
              "</style>\n",
              "<table border=\"1\" class=\"dataframe\">\n",
              "  <thead>\n",
              "    <tr style=\"text-align: right;\">\n",
              "      <th></th>\n",
              "      <th>Entity</th>\n",
              "      <th>Code</th>\n",
              "      <th>Year</th>\n",
              "      <th>Human Height (University of Tuebingen (2015))</th>\n",
              "    </tr>\n",
              "  </thead>\n",
              "  <tbody>\n",
              "    <tr>\n",
              "      <th>1194</th>\n",
              "      <td>United States</td>\n",
              "      <td>USA</td>\n",
              "      <td>1820</td>\n",
              "      <td>172.2</td>\n",
              "    </tr>\n",
              "    <tr>\n",
              "      <th>1195</th>\n",
              "      <td>United States</td>\n",
              "      <td>USA</td>\n",
              "      <td>1830</td>\n",
              "      <td>173.5</td>\n",
              "    </tr>\n",
              "    <tr>\n",
              "      <th>1196</th>\n",
              "      <td>United States</td>\n",
              "      <td>USA</td>\n",
              "      <td>1840</td>\n",
              "      <td>172.2</td>\n",
              "    </tr>\n",
              "    <tr>\n",
              "      <th>1197</th>\n",
              "      <td>United States</td>\n",
              "      <td>USA</td>\n",
              "      <td>1850</td>\n",
              "      <td>171.1</td>\n",
              "    </tr>\n",
              "    <tr>\n",
              "      <th>1198</th>\n",
              "      <td>United States</td>\n",
              "      <td>USA</td>\n",
              "      <td>1860</td>\n",
              "      <td>170.6</td>\n",
              "    </tr>\n",
              "    <tr>\n",
              "      <th>1199</th>\n",
              "      <td>United States</td>\n",
              "      <td>USA</td>\n",
              "      <td>1870</td>\n",
              "      <td>171.1</td>\n",
              "    </tr>\n",
              "    <tr>\n",
              "      <th>1200</th>\n",
              "      <td>United States</td>\n",
              "      <td>USA</td>\n",
              "      <td>1880</td>\n",
              "      <td>169.5</td>\n",
              "    </tr>\n",
              "    <tr>\n",
              "      <th>1201</th>\n",
              "      <td>United States</td>\n",
              "      <td>USA</td>\n",
              "      <td>1890</td>\n",
              "      <td>169.1</td>\n",
              "    </tr>\n",
              "    <tr>\n",
              "      <th>1202</th>\n",
              "      <td>United States</td>\n",
              "      <td>USA</td>\n",
              "      <td>1900</td>\n",
              "      <td>170.0</td>\n",
              "    </tr>\n",
              "    <tr>\n",
              "      <th>1203</th>\n",
              "      <td>United States</td>\n",
              "      <td>USA</td>\n",
              "      <td>1910</td>\n",
              "      <td>172.1</td>\n",
              "    </tr>\n",
              "    <tr>\n",
              "      <th>1204</th>\n",
              "      <td>United States</td>\n",
              "      <td>USA</td>\n",
              "      <td>1920</td>\n",
              "      <td>173.1</td>\n",
              "    </tr>\n",
              "    <tr>\n",
              "      <th>1205</th>\n",
              "      <td>United States</td>\n",
              "      <td>USA</td>\n",
              "      <td>1930</td>\n",
              "      <td>173.4</td>\n",
              "    </tr>\n",
              "    <tr>\n",
              "      <th>1206</th>\n",
              "      <td>United States</td>\n",
              "      <td>USA</td>\n",
              "      <td>1940</td>\n",
              "      <td>176.1</td>\n",
              "    </tr>\n",
              "    <tr>\n",
              "      <th>1207</th>\n",
              "      <td>United States</td>\n",
              "      <td>USA</td>\n",
              "      <td>1950</td>\n",
              "      <td>177.1</td>\n",
              "    </tr>\n",
              "    <tr>\n",
              "      <th>1208</th>\n",
              "      <td>United States</td>\n",
              "      <td>USA</td>\n",
              "      <td>1960</td>\n",
              "      <td>177.3</td>\n",
              "    </tr>\n",
              "    <tr>\n",
              "      <th>1209</th>\n",
              "      <td>United States</td>\n",
              "      <td>USA</td>\n",
              "      <td>1970</td>\n",
              "      <td>178.3</td>\n",
              "    </tr>\n",
              "    <tr>\n",
              "      <th>1210</th>\n",
              "      <td>United States</td>\n",
              "      <td>USA</td>\n",
              "      <td>1980</td>\n",
              "      <td>179.0</td>\n",
              "    </tr>\n",
              "  </tbody>\n",
              "</table>\n",
              "</div>\n",
              "      <button class=\"colab-df-convert\" onclick=\"convertToInteractive('df-94b6c27b-4514-45a7-92c5-bb15af65e3d5')\"\n",
              "              title=\"Convert this dataframe to an interactive table.\"\n",
              "              style=\"display:none;\">\n",
              "        \n",
              "  <svg xmlns=\"http://www.w3.org/2000/svg\" height=\"24px\"viewBox=\"0 0 24 24\"\n",
              "       width=\"24px\">\n",
              "    <path d=\"M0 0h24v24H0V0z\" fill=\"none\"/>\n",
              "    <path d=\"M18.56 5.44l.94 2.06.94-2.06 2.06-.94-2.06-.94-.94-2.06-.94 2.06-2.06.94zm-11 1L8.5 8.5l.94-2.06 2.06-.94-2.06-.94L8.5 2.5l-.94 2.06-2.06.94zm10 10l.94 2.06.94-2.06 2.06-.94-2.06-.94-.94-2.06-.94 2.06-2.06.94z\"/><path d=\"M17.41 7.96l-1.37-1.37c-.4-.4-.92-.59-1.43-.59-.52 0-1.04.2-1.43.59L10.3 9.45l-7.72 7.72c-.78.78-.78 2.05 0 2.83L4 21.41c.39.39.9.59 1.41.59.51 0 1.02-.2 1.41-.59l7.78-7.78 2.81-2.81c.8-.78.8-2.07 0-2.86zM5.41 20L4 18.59l7.72-7.72 1.47 1.35L5.41 20z\"/>\n",
              "  </svg>\n",
              "      </button>\n",
              "      \n",
              "  <style>\n",
              "    .colab-df-container {\n",
              "      display:flex;\n",
              "      flex-wrap:wrap;\n",
              "      gap: 12px;\n",
              "    }\n",
              "\n",
              "    .colab-df-convert {\n",
              "      background-color: #E8F0FE;\n",
              "      border: none;\n",
              "      border-radius: 50%;\n",
              "      cursor: pointer;\n",
              "      display: none;\n",
              "      fill: #1967D2;\n",
              "      height: 32px;\n",
              "      padding: 0 0 0 0;\n",
              "      width: 32px;\n",
              "    }\n",
              "\n",
              "    .colab-df-convert:hover {\n",
              "      background-color: #E2EBFA;\n",
              "      box-shadow: 0px 1px 2px rgba(60, 64, 67, 0.3), 0px 1px 3px 1px rgba(60, 64, 67, 0.15);\n",
              "      fill: #174EA6;\n",
              "    }\n",
              "\n",
              "    [theme=dark] .colab-df-convert {\n",
              "      background-color: #3B4455;\n",
              "      fill: #D2E3FC;\n",
              "    }\n",
              "\n",
              "    [theme=dark] .colab-df-convert:hover {\n",
              "      background-color: #434B5C;\n",
              "      box-shadow: 0px 1px 3px 1px rgba(0, 0, 0, 0.15);\n",
              "      filter: drop-shadow(0px 1px 2px rgba(0, 0, 0, 0.3));\n",
              "      fill: #FFFFFF;\n",
              "    }\n",
              "  </style>\n",
              "\n",
              "      <script>\n",
              "        const buttonEl =\n",
              "          document.querySelector('#df-94b6c27b-4514-45a7-92c5-bb15af65e3d5 button.colab-df-convert');\n",
              "        buttonEl.style.display =\n",
              "          google.colab.kernel.accessAllowed ? 'block' : 'none';\n",
              "\n",
              "        async function convertToInteractive(key) {\n",
              "          const element = document.querySelector('#df-94b6c27b-4514-45a7-92c5-bb15af65e3d5');\n",
              "          const dataTable =\n",
              "            await google.colab.kernel.invokeFunction('convertToInteractive',\n",
              "                                                     [key], {});\n",
              "          if (!dataTable) return;\n",
              "\n",
              "          const docLinkHtml = 'Like what you see? Visit the ' +\n",
              "            '<a target=\"_blank\" href=https://colab.research.google.com/notebooks/data_table.ipynb>data table notebook</a>'\n",
              "            + ' to learn more about interactive tables.';\n",
              "          element.innerHTML = '';\n",
              "          dataTable['output_type'] = 'display_data';\n",
              "          await google.colab.output.renderOutput(dataTable, element);\n",
              "          const docLink = document.createElement('div');\n",
              "          docLink.innerHTML = docLinkHtml;\n",
              "          element.appendChild(docLink);\n",
              "        }\n",
              "      </script>\n",
              "    </div>\n",
              "  </div>\n",
              "  "
            ]
          },
          "metadata": {},
          "execution_count": 20
        }
      ]
    },
    {
      "cell_type": "code",
      "metadata": {
        "id": "da8hGRR2g7UB",
        "colab": {
          "base_uri": "https://localhost:8080/",
          "height": 206
        },
        "outputId": "18506084-c562-4008-863e-24d9746c1fb4"
      },
      "source": [
        "# You can combine the two steps in one statement\n",
        "data = raw_data[raw_data['Entity'] == \"United States\"]\n",
        "data.head()"
      ],
      "execution_count": null,
      "outputs": [
        {
          "output_type": "execute_result",
          "data": {
            "text/plain": [
              "             Entity Code  Year  Human Height (University of Tuebingen (2015))\n",
              "1194  United States  USA  1820                                          172.2\n",
              "1195  United States  USA  1830                                          173.5\n",
              "1196  United States  USA  1840                                          172.2\n",
              "1197  United States  USA  1850                                          171.1\n",
              "1198  United States  USA  1860                                          170.6"
            ],
            "text/html": [
              "\n",
              "  <div id=\"df-f8f19f84-8958-4738-ae62-f2262c230c8b\">\n",
              "    <div class=\"colab-df-container\">\n",
              "      <div>\n",
              "<style scoped>\n",
              "    .dataframe tbody tr th:only-of-type {\n",
              "        vertical-align: middle;\n",
              "    }\n",
              "\n",
              "    .dataframe tbody tr th {\n",
              "        vertical-align: top;\n",
              "    }\n",
              "\n",
              "    .dataframe thead th {\n",
              "        text-align: right;\n",
              "    }\n",
              "</style>\n",
              "<table border=\"1\" class=\"dataframe\">\n",
              "  <thead>\n",
              "    <tr style=\"text-align: right;\">\n",
              "      <th></th>\n",
              "      <th>Entity</th>\n",
              "      <th>Code</th>\n",
              "      <th>Year</th>\n",
              "      <th>Human Height (University of Tuebingen (2015))</th>\n",
              "    </tr>\n",
              "  </thead>\n",
              "  <tbody>\n",
              "    <tr>\n",
              "      <th>1194</th>\n",
              "      <td>United States</td>\n",
              "      <td>USA</td>\n",
              "      <td>1820</td>\n",
              "      <td>172.2</td>\n",
              "    </tr>\n",
              "    <tr>\n",
              "      <th>1195</th>\n",
              "      <td>United States</td>\n",
              "      <td>USA</td>\n",
              "      <td>1830</td>\n",
              "      <td>173.5</td>\n",
              "    </tr>\n",
              "    <tr>\n",
              "      <th>1196</th>\n",
              "      <td>United States</td>\n",
              "      <td>USA</td>\n",
              "      <td>1840</td>\n",
              "      <td>172.2</td>\n",
              "    </tr>\n",
              "    <tr>\n",
              "      <th>1197</th>\n",
              "      <td>United States</td>\n",
              "      <td>USA</td>\n",
              "      <td>1850</td>\n",
              "      <td>171.1</td>\n",
              "    </tr>\n",
              "    <tr>\n",
              "      <th>1198</th>\n",
              "      <td>United States</td>\n",
              "      <td>USA</td>\n",
              "      <td>1860</td>\n",
              "      <td>170.6</td>\n",
              "    </tr>\n",
              "  </tbody>\n",
              "</table>\n",
              "</div>\n",
              "      <button class=\"colab-df-convert\" onclick=\"convertToInteractive('df-f8f19f84-8958-4738-ae62-f2262c230c8b')\"\n",
              "              title=\"Convert this dataframe to an interactive table.\"\n",
              "              style=\"display:none;\">\n",
              "        \n",
              "  <svg xmlns=\"http://www.w3.org/2000/svg\" height=\"24px\"viewBox=\"0 0 24 24\"\n",
              "       width=\"24px\">\n",
              "    <path d=\"M0 0h24v24H0V0z\" fill=\"none\"/>\n",
              "    <path d=\"M18.56 5.44l.94 2.06.94-2.06 2.06-.94-2.06-.94-.94-2.06-.94 2.06-2.06.94zm-11 1L8.5 8.5l.94-2.06 2.06-.94-2.06-.94L8.5 2.5l-.94 2.06-2.06.94zm10 10l.94 2.06.94-2.06 2.06-.94-2.06-.94-.94-2.06-.94 2.06-2.06.94z\"/><path d=\"M17.41 7.96l-1.37-1.37c-.4-.4-.92-.59-1.43-.59-.52 0-1.04.2-1.43.59L10.3 9.45l-7.72 7.72c-.78.78-.78 2.05 0 2.83L4 21.41c.39.39.9.59 1.41.59.51 0 1.02-.2 1.41-.59l7.78-7.78 2.81-2.81c.8-.78.8-2.07 0-2.86zM5.41 20L4 18.59l7.72-7.72 1.47 1.35L5.41 20z\"/>\n",
              "  </svg>\n",
              "      </button>\n",
              "      \n",
              "  <style>\n",
              "    .colab-df-container {\n",
              "      display:flex;\n",
              "      flex-wrap:wrap;\n",
              "      gap: 12px;\n",
              "    }\n",
              "\n",
              "    .colab-df-convert {\n",
              "      background-color: #E8F0FE;\n",
              "      border: none;\n",
              "      border-radius: 50%;\n",
              "      cursor: pointer;\n",
              "      display: none;\n",
              "      fill: #1967D2;\n",
              "      height: 32px;\n",
              "      padding: 0 0 0 0;\n",
              "      width: 32px;\n",
              "    }\n",
              "\n",
              "    .colab-df-convert:hover {\n",
              "      background-color: #E2EBFA;\n",
              "      box-shadow: 0px 1px 2px rgba(60, 64, 67, 0.3), 0px 1px 3px 1px rgba(60, 64, 67, 0.15);\n",
              "      fill: #174EA6;\n",
              "    }\n",
              "\n",
              "    [theme=dark] .colab-df-convert {\n",
              "      background-color: #3B4455;\n",
              "      fill: #D2E3FC;\n",
              "    }\n",
              "\n",
              "    [theme=dark] .colab-df-convert:hover {\n",
              "      background-color: #434B5C;\n",
              "      box-shadow: 0px 1px 3px 1px rgba(0, 0, 0, 0.15);\n",
              "      filter: drop-shadow(0px 1px 2px rgba(0, 0, 0, 0.3));\n",
              "      fill: #FFFFFF;\n",
              "    }\n",
              "  </style>\n",
              "\n",
              "      <script>\n",
              "        const buttonEl =\n",
              "          document.querySelector('#df-f8f19f84-8958-4738-ae62-f2262c230c8b button.colab-df-convert');\n",
              "        buttonEl.style.display =\n",
              "          google.colab.kernel.accessAllowed ? 'block' : 'none';\n",
              "\n",
              "        async function convertToInteractive(key) {\n",
              "          const element = document.querySelector('#df-f8f19f84-8958-4738-ae62-f2262c230c8b');\n",
              "          const dataTable =\n",
              "            await google.colab.kernel.invokeFunction('convertToInteractive',\n",
              "                                                     [key], {});\n",
              "          if (!dataTable) return;\n",
              "\n",
              "          const docLinkHtml = 'Like what you see? Visit the ' +\n",
              "            '<a target=\"_blank\" href=https://colab.research.google.com/notebooks/data_table.ipynb>data table notebook</a>'\n",
              "            + ' to learn more about interactive tables.';\n",
              "          element.innerHTML = '';\n",
              "          dataTable['output_type'] = 'display_data';\n",
              "          await google.colab.output.renderOutput(dataTable, element);\n",
              "          const docLink = document.createElement('div');\n",
              "          docLink.innerHTML = docLinkHtml;\n",
              "          element.appendChild(docLink);\n",
              "        }\n",
              "      </script>\n",
              "    </div>\n",
              "  </div>\n",
              "  "
            ]
          },
          "metadata": {},
          "execution_count": 23
        }
      ]
    },
    {
      "cell_type": "code",
      "metadata": {
        "id": "-W8UsV2an6H0",
        "colab": {
          "base_uri": "https://localhost:8080/",
          "height": 332
        },
        "outputId": "733d1de1-6900-4707-8c17-5dfec8e1bf98"
      },
      "source": [
        "# Exercise:\n",
        "# Extract USA data since 1900.\n",
        "data = data[data['Year'] >= 1900]\n",
        "data"
      ],
      "execution_count": null,
      "outputs": [
        {
          "output_type": "execute_result",
          "data": {
            "text/plain": [
              "             Entity Code  Year  Human Height (University of Tuebingen (2015))\n",
              "1202  United States  USA  1900                                          170.0\n",
              "1203  United States  USA  1910                                          172.1\n",
              "1204  United States  USA  1920                                          173.1\n",
              "1205  United States  USA  1930                                          173.4\n",
              "1206  United States  USA  1940                                          176.1\n",
              "1207  United States  USA  1950                                          177.1\n",
              "1208  United States  USA  1960                                          177.3\n",
              "1209  United States  USA  1970                                          178.3\n",
              "1210  United States  USA  1980                                          179.0"
            ],
            "text/html": [
              "\n",
              "  <div id=\"df-b7da6246-d6f8-4877-b197-ba97bd63ff5a\">\n",
              "    <div class=\"colab-df-container\">\n",
              "      <div>\n",
              "<style scoped>\n",
              "    .dataframe tbody tr th:only-of-type {\n",
              "        vertical-align: middle;\n",
              "    }\n",
              "\n",
              "    .dataframe tbody tr th {\n",
              "        vertical-align: top;\n",
              "    }\n",
              "\n",
              "    .dataframe thead th {\n",
              "        text-align: right;\n",
              "    }\n",
              "</style>\n",
              "<table border=\"1\" class=\"dataframe\">\n",
              "  <thead>\n",
              "    <tr style=\"text-align: right;\">\n",
              "      <th></th>\n",
              "      <th>Entity</th>\n",
              "      <th>Code</th>\n",
              "      <th>Year</th>\n",
              "      <th>Human Height (University of Tuebingen (2015))</th>\n",
              "    </tr>\n",
              "  </thead>\n",
              "  <tbody>\n",
              "    <tr>\n",
              "      <th>1202</th>\n",
              "      <td>United States</td>\n",
              "      <td>USA</td>\n",
              "      <td>1900</td>\n",
              "      <td>170.0</td>\n",
              "    </tr>\n",
              "    <tr>\n",
              "      <th>1203</th>\n",
              "      <td>United States</td>\n",
              "      <td>USA</td>\n",
              "      <td>1910</td>\n",
              "      <td>172.1</td>\n",
              "    </tr>\n",
              "    <tr>\n",
              "      <th>1204</th>\n",
              "      <td>United States</td>\n",
              "      <td>USA</td>\n",
              "      <td>1920</td>\n",
              "      <td>173.1</td>\n",
              "    </tr>\n",
              "    <tr>\n",
              "      <th>1205</th>\n",
              "      <td>United States</td>\n",
              "      <td>USA</td>\n",
              "      <td>1930</td>\n",
              "      <td>173.4</td>\n",
              "    </tr>\n",
              "    <tr>\n",
              "      <th>1206</th>\n",
              "      <td>United States</td>\n",
              "      <td>USA</td>\n",
              "      <td>1940</td>\n",
              "      <td>176.1</td>\n",
              "    </tr>\n",
              "    <tr>\n",
              "      <th>1207</th>\n",
              "      <td>United States</td>\n",
              "      <td>USA</td>\n",
              "      <td>1950</td>\n",
              "      <td>177.1</td>\n",
              "    </tr>\n",
              "    <tr>\n",
              "      <th>1208</th>\n",
              "      <td>United States</td>\n",
              "      <td>USA</td>\n",
              "      <td>1960</td>\n",
              "      <td>177.3</td>\n",
              "    </tr>\n",
              "    <tr>\n",
              "      <th>1209</th>\n",
              "      <td>United States</td>\n",
              "      <td>USA</td>\n",
              "      <td>1970</td>\n",
              "      <td>178.3</td>\n",
              "    </tr>\n",
              "    <tr>\n",
              "      <th>1210</th>\n",
              "      <td>United States</td>\n",
              "      <td>USA</td>\n",
              "      <td>1980</td>\n",
              "      <td>179.0</td>\n",
              "    </tr>\n",
              "  </tbody>\n",
              "</table>\n",
              "</div>\n",
              "      <button class=\"colab-df-convert\" onclick=\"convertToInteractive('df-b7da6246-d6f8-4877-b197-ba97bd63ff5a')\"\n",
              "              title=\"Convert this dataframe to an interactive table.\"\n",
              "              style=\"display:none;\">\n",
              "        \n",
              "  <svg xmlns=\"http://www.w3.org/2000/svg\" height=\"24px\"viewBox=\"0 0 24 24\"\n",
              "       width=\"24px\">\n",
              "    <path d=\"M0 0h24v24H0V0z\" fill=\"none\"/>\n",
              "    <path d=\"M18.56 5.44l.94 2.06.94-2.06 2.06-.94-2.06-.94-.94-2.06-.94 2.06-2.06.94zm-11 1L8.5 8.5l.94-2.06 2.06-.94-2.06-.94L8.5 2.5l-.94 2.06-2.06.94zm10 10l.94 2.06.94-2.06 2.06-.94-2.06-.94-.94-2.06-.94 2.06-2.06.94z\"/><path d=\"M17.41 7.96l-1.37-1.37c-.4-.4-.92-.59-1.43-.59-.52 0-1.04.2-1.43.59L10.3 9.45l-7.72 7.72c-.78.78-.78 2.05 0 2.83L4 21.41c.39.39.9.59 1.41.59.51 0 1.02-.2 1.41-.59l7.78-7.78 2.81-2.81c.8-.78.8-2.07 0-2.86zM5.41 20L4 18.59l7.72-7.72 1.47 1.35L5.41 20z\"/>\n",
              "  </svg>\n",
              "      </button>\n",
              "      \n",
              "  <style>\n",
              "    .colab-df-container {\n",
              "      display:flex;\n",
              "      flex-wrap:wrap;\n",
              "      gap: 12px;\n",
              "    }\n",
              "\n",
              "    .colab-df-convert {\n",
              "      background-color: #E8F0FE;\n",
              "      border: none;\n",
              "      border-radius: 50%;\n",
              "      cursor: pointer;\n",
              "      display: none;\n",
              "      fill: #1967D2;\n",
              "      height: 32px;\n",
              "      padding: 0 0 0 0;\n",
              "      width: 32px;\n",
              "    }\n",
              "\n",
              "    .colab-df-convert:hover {\n",
              "      background-color: #E2EBFA;\n",
              "      box-shadow: 0px 1px 2px rgba(60, 64, 67, 0.3), 0px 1px 3px 1px rgba(60, 64, 67, 0.15);\n",
              "      fill: #174EA6;\n",
              "    }\n",
              "\n",
              "    [theme=dark] .colab-df-convert {\n",
              "      background-color: #3B4455;\n",
              "      fill: #D2E3FC;\n",
              "    }\n",
              "\n",
              "    [theme=dark] .colab-df-convert:hover {\n",
              "      background-color: #434B5C;\n",
              "      box-shadow: 0px 1px 3px 1px rgba(0, 0, 0, 0.15);\n",
              "      filter: drop-shadow(0px 1px 2px rgba(0, 0, 0, 0.3));\n",
              "      fill: #FFFFFF;\n",
              "    }\n",
              "  </style>\n",
              "\n",
              "      <script>\n",
              "        const buttonEl =\n",
              "          document.querySelector('#df-b7da6246-d6f8-4877-b197-ba97bd63ff5a button.colab-df-convert');\n",
              "        buttonEl.style.display =\n",
              "          google.colab.kernel.accessAllowed ? 'block' : 'none';\n",
              "\n",
              "        async function convertToInteractive(key) {\n",
              "          const element = document.querySelector('#df-b7da6246-d6f8-4877-b197-ba97bd63ff5a');\n",
              "          const dataTable =\n",
              "            await google.colab.kernel.invokeFunction('convertToInteractive',\n",
              "                                                     [key], {});\n",
              "          if (!dataTable) return;\n",
              "\n",
              "          const docLinkHtml = 'Like what you see? Visit the ' +\n",
              "            '<a target=\"_blank\" href=https://colab.research.google.com/notebooks/data_table.ipynb>data table notebook</a>'\n",
              "            + ' to learn more about interactive tables.';\n",
              "          element.innerHTML = '';\n",
              "          dataTable['output_type'] = 'display_data';\n",
              "          await google.colab.output.renderOutput(dataTable, element);\n",
              "          const docLink = document.createElement('div');\n",
              "          docLink.innerHTML = docLinkHtml;\n",
              "          element.appendChild(docLink);\n",
              "        }\n",
              "      </script>\n",
              "    </div>\n",
              "  </div>\n",
              "  "
            ]
          },
          "metadata": {},
          "execution_count": 24
        }
      ]
    },
    {
      "cell_type": "markdown",
      "metadata": {
        "id": "1hany2AAnXGf"
      },
      "source": [
        "### 5. Clean the Dataset\n",
        "1. Reset the index.\n",
        "2. Remove Entity and Code column.\n",
        "3. Give a proper name to height column"
      ]
    },
    {
      "cell_type": "code",
      "metadata": {
        "id": "m62F50fQncBr",
        "colab": {
          "base_uri": "https://localhost:8080/",
          "height": 238
        },
        "outputId": "4ca88d36-bc30-4b91-9db3-4509b2a85588"
      },
      "source": [
        "data = data.set_index([\"Year\"])\n",
        "data.head()"
      ],
      "execution_count": null,
      "outputs": [
        {
          "output_type": "execute_result",
          "data": {
            "text/plain": [
              "             Entity Code  Human Height (University of Tuebingen (2015))\n",
              "Year                                                                   \n",
              "1900  United States  USA                                          170.0\n",
              "1910  United States  USA                                          172.1\n",
              "1920  United States  USA                                          173.1\n",
              "1930  United States  USA                                          173.4\n",
              "1940  United States  USA                                          176.1"
            ],
            "text/html": [
              "\n",
              "  <div id=\"df-fccf739c-d180-491c-a907-a684c150aaac\">\n",
              "    <div class=\"colab-df-container\">\n",
              "      <div>\n",
              "<style scoped>\n",
              "    .dataframe tbody tr th:only-of-type {\n",
              "        vertical-align: middle;\n",
              "    }\n",
              "\n",
              "    .dataframe tbody tr th {\n",
              "        vertical-align: top;\n",
              "    }\n",
              "\n",
              "    .dataframe thead th {\n",
              "        text-align: right;\n",
              "    }\n",
              "</style>\n",
              "<table border=\"1\" class=\"dataframe\">\n",
              "  <thead>\n",
              "    <tr style=\"text-align: right;\">\n",
              "      <th></th>\n",
              "      <th>Entity</th>\n",
              "      <th>Code</th>\n",
              "      <th>Human Height (University of Tuebingen (2015))</th>\n",
              "    </tr>\n",
              "    <tr>\n",
              "      <th>Year</th>\n",
              "      <th></th>\n",
              "      <th></th>\n",
              "      <th></th>\n",
              "    </tr>\n",
              "  </thead>\n",
              "  <tbody>\n",
              "    <tr>\n",
              "      <th>1900</th>\n",
              "      <td>United States</td>\n",
              "      <td>USA</td>\n",
              "      <td>170.0</td>\n",
              "    </tr>\n",
              "    <tr>\n",
              "      <th>1910</th>\n",
              "      <td>United States</td>\n",
              "      <td>USA</td>\n",
              "      <td>172.1</td>\n",
              "    </tr>\n",
              "    <tr>\n",
              "      <th>1920</th>\n",
              "      <td>United States</td>\n",
              "      <td>USA</td>\n",
              "      <td>173.1</td>\n",
              "    </tr>\n",
              "    <tr>\n",
              "      <th>1930</th>\n",
              "      <td>United States</td>\n",
              "      <td>USA</td>\n",
              "      <td>173.4</td>\n",
              "    </tr>\n",
              "    <tr>\n",
              "      <th>1940</th>\n",
              "      <td>United States</td>\n",
              "      <td>USA</td>\n",
              "      <td>176.1</td>\n",
              "    </tr>\n",
              "  </tbody>\n",
              "</table>\n",
              "</div>\n",
              "      <button class=\"colab-df-convert\" onclick=\"convertToInteractive('df-fccf739c-d180-491c-a907-a684c150aaac')\"\n",
              "              title=\"Convert this dataframe to an interactive table.\"\n",
              "              style=\"display:none;\">\n",
              "        \n",
              "  <svg xmlns=\"http://www.w3.org/2000/svg\" height=\"24px\"viewBox=\"0 0 24 24\"\n",
              "       width=\"24px\">\n",
              "    <path d=\"M0 0h24v24H0V0z\" fill=\"none\"/>\n",
              "    <path d=\"M18.56 5.44l.94 2.06.94-2.06 2.06-.94-2.06-.94-.94-2.06-.94 2.06-2.06.94zm-11 1L8.5 8.5l.94-2.06 2.06-.94-2.06-.94L8.5 2.5l-.94 2.06-2.06.94zm10 10l.94 2.06.94-2.06 2.06-.94-2.06-.94-.94-2.06-.94 2.06-2.06.94z\"/><path d=\"M17.41 7.96l-1.37-1.37c-.4-.4-.92-.59-1.43-.59-.52 0-1.04.2-1.43.59L10.3 9.45l-7.72 7.72c-.78.78-.78 2.05 0 2.83L4 21.41c.39.39.9.59 1.41.59.51 0 1.02-.2 1.41-.59l7.78-7.78 2.81-2.81c.8-.78.8-2.07 0-2.86zM5.41 20L4 18.59l7.72-7.72 1.47 1.35L5.41 20z\"/>\n",
              "  </svg>\n",
              "      </button>\n",
              "      \n",
              "  <style>\n",
              "    .colab-df-container {\n",
              "      display:flex;\n",
              "      flex-wrap:wrap;\n",
              "      gap: 12px;\n",
              "    }\n",
              "\n",
              "    .colab-df-convert {\n",
              "      background-color: #E8F0FE;\n",
              "      border: none;\n",
              "      border-radius: 50%;\n",
              "      cursor: pointer;\n",
              "      display: none;\n",
              "      fill: #1967D2;\n",
              "      height: 32px;\n",
              "      padding: 0 0 0 0;\n",
              "      width: 32px;\n",
              "    }\n",
              "\n",
              "    .colab-df-convert:hover {\n",
              "      background-color: #E2EBFA;\n",
              "      box-shadow: 0px 1px 2px rgba(60, 64, 67, 0.3), 0px 1px 3px 1px rgba(60, 64, 67, 0.15);\n",
              "      fill: #174EA6;\n",
              "    }\n",
              "\n",
              "    [theme=dark] .colab-df-convert {\n",
              "      background-color: #3B4455;\n",
              "      fill: #D2E3FC;\n",
              "    }\n",
              "\n",
              "    [theme=dark] .colab-df-convert:hover {\n",
              "      background-color: #434B5C;\n",
              "      box-shadow: 0px 1px 3px 1px rgba(0, 0, 0, 0.15);\n",
              "      filter: drop-shadow(0px 1px 2px rgba(0, 0, 0, 0.3));\n",
              "      fill: #FFFFFF;\n",
              "    }\n",
              "  </style>\n",
              "\n",
              "      <script>\n",
              "        const buttonEl =\n",
              "          document.querySelector('#df-fccf739c-d180-491c-a907-a684c150aaac button.colab-df-convert');\n",
              "        buttonEl.style.display =\n",
              "          google.colab.kernel.accessAllowed ? 'block' : 'none';\n",
              "\n",
              "        async function convertToInteractive(key) {\n",
              "          const element = document.querySelector('#df-fccf739c-d180-491c-a907-a684c150aaac');\n",
              "          const dataTable =\n",
              "            await google.colab.kernel.invokeFunction('convertToInteractive',\n",
              "                                                     [key], {});\n",
              "          if (!dataTable) return;\n",
              "\n",
              "          const docLinkHtml = 'Like what you see? Visit the ' +\n",
              "            '<a target=\"_blank\" href=https://colab.research.google.com/notebooks/data_table.ipynb>data table notebook</a>'\n",
              "            + ' to learn more about interactive tables.';\n",
              "          element.innerHTML = '';\n",
              "          dataTable['output_type'] = 'display_data';\n",
              "          await google.colab.output.renderOutput(dataTable, element);\n",
              "          const docLink = document.createElement('div');\n",
              "          docLink.innerHTML = docLinkHtml;\n",
              "          element.appendChild(docLink);\n",
              "        }\n",
              "      </script>\n",
              "    </div>\n",
              "  </div>\n",
              "  "
            ]
          },
          "metadata": {},
          "execution_count": 25
        }
      ]
    },
    {
      "cell_type": "code",
      "metadata": {
        "id": "Rzq1Xbebndoy",
        "colab": {
          "base_uri": "https://localhost:8080/",
          "height": 238
        },
        "outputId": "765d54f5-e07c-4620-9357-c2ddc6959213"
      },
      "source": [
        "data.drop(['Entity', 'Code'], axis=1, inplace=True) # axis specifies row drop or column drop\n",
        "data.head()"
      ],
      "execution_count": null,
      "outputs": [
        {
          "output_type": "execute_result",
          "data": {
            "text/plain": [
              "      Human Height (University of Tuebingen (2015))\n",
              "Year                                               \n",
              "1900                                          170.0\n",
              "1910                                          172.1\n",
              "1920                                          173.1\n",
              "1930                                          173.4\n",
              "1940                                          176.1"
            ],
            "text/html": [
              "\n",
              "  <div id=\"df-af0b9a59-1b01-493a-81c3-2002df2888bb\">\n",
              "    <div class=\"colab-df-container\">\n",
              "      <div>\n",
              "<style scoped>\n",
              "    .dataframe tbody tr th:only-of-type {\n",
              "        vertical-align: middle;\n",
              "    }\n",
              "\n",
              "    .dataframe tbody tr th {\n",
              "        vertical-align: top;\n",
              "    }\n",
              "\n",
              "    .dataframe thead th {\n",
              "        text-align: right;\n",
              "    }\n",
              "</style>\n",
              "<table border=\"1\" class=\"dataframe\">\n",
              "  <thead>\n",
              "    <tr style=\"text-align: right;\">\n",
              "      <th></th>\n",
              "      <th>Human Height (University of Tuebingen (2015))</th>\n",
              "    </tr>\n",
              "    <tr>\n",
              "      <th>Year</th>\n",
              "      <th></th>\n",
              "    </tr>\n",
              "  </thead>\n",
              "  <tbody>\n",
              "    <tr>\n",
              "      <th>1900</th>\n",
              "      <td>170.0</td>\n",
              "    </tr>\n",
              "    <tr>\n",
              "      <th>1910</th>\n",
              "      <td>172.1</td>\n",
              "    </tr>\n",
              "    <tr>\n",
              "      <th>1920</th>\n",
              "      <td>173.1</td>\n",
              "    </tr>\n",
              "    <tr>\n",
              "      <th>1930</th>\n",
              "      <td>173.4</td>\n",
              "    </tr>\n",
              "    <tr>\n",
              "      <th>1940</th>\n",
              "      <td>176.1</td>\n",
              "    </tr>\n",
              "  </tbody>\n",
              "</table>\n",
              "</div>\n",
              "      <button class=\"colab-df-convert\" onclick=\"convertToInteractive('df-af0b9a59-1b01-493a-81c3-2002df2888bb')\"\n",
              "              title=\"Convert this dataframe to an interactive table.\"\n",
              "              style=\"display:none;\">\n",
              "        \n",
              "  <svg xmlns=\"http://www.w3.org/2000/svg\" height=\"24px\"viewBox=\"0 0 24 24\"\n",
              "       width=\"24px\">\n",
              "    <path d=\"M0 0h24v24H0V0z\" fill=\"none\"/>\n",
              "    <path d=\"M18.56 5.44l.94 2.06.94-2.06 2.06-.94-2.06-.94-.94-2.06-.94 2.06-2.06.94zm-11 1L8.5 8.5l.94-2.06 2.06-.94-2.06-.94L8.5 2.5l-.94 2.06-2.06.94zm10 10l.94 2.06.94-2.06 2.06-.94-2.06-.94-.94-2.06-.94 2.06-2.06.94z\"/><path d=\"M17.41 7.96l-1.37-1.37c-.4-.4-.92-.59-1.43-.59-.52 0-1.04.2-1.43.59L10.3 9.45l-7.72 7.72c-.78.78-.78 2.05 0 2.83L4 21.41c.39.39.9.59 1.41.59.51 0 1.02-.2 1.41-.59l7.78-7.78 2.81-2.81c.8-.78.8-2.07 0-2.86zM5.41 20L4 18.59l7.72-7.72 1.47 1.35L5.41 20z\"/>\n",
              "  </svg>\n",
              "      </button>\n",
              "      \n",
              "  <style>\n",
              "    .colab-df-container {\n",
              "      display:flex;\n",
              "      flex-wrap:wrap;\n",
              "      gap: 12px;\n",
              "    }\n",
              "\n",
              "    .colab-df-convert {\n",
              "      background-color: #E8F0FE;\n",
              "      border: none;\n",
              "      border-radius: 50%;\n",
              "      cursor: pointer;\n",
              "      display: none;\n",
              "      fill: #1967D2;\n",
              "      height: 32px;\n",
              "      padding: 0 0 0 0;\n",
              "      width: 32px;\n",
              "    }\n",
              "\n",
              "    .colab-df-convert:hover {\n",
              "      background-color: #E2EBFA;\n",
              "      box-shadow: 0px 1px 2px rgba(60, 64, 67, 0.3), 0px 1px 3px 1px rgba(60, 64, 67, 0.15);\n",
              "      fill: #174EA6;\n",
              "    }\n",
              "\n",
              "    [theme=dark] .colab-df-convert {\n",
              "      background-color: #3B4455;\n",
              "      fill: #D2E3FC;\n",
              "    }\n",
              "\n",
              "    [theme=dark] .colab-df-convert:hover {\n",
              "      background-color: #434B5C;\n",
              "      box-shadow: 0px 1px 3px 1px rgba(0, 0, 0, 0.15);\n",
              "      filter: drop-shadow(0px 1px 2px rgba(0, 0, 0, 0.3));\n",
              "      fill: #FFFFFF;\n",
              "    }\n",
              "  </style>\n",
              "\n",
              "      <script>\n",
              "        const buttonEl =\n",
              "          document.querySelector('#df-af0b9a59-1b01-493a-81c3-2002df2888bb button.colab-df-convert');\n",
              "        buttonEl.style.display =\n",
              "          google.colab.kernel.accessAllowed ? 'block' : 'none';\n",
              "\n",
              "        async function convertToInteractive(key) {\n",
              "          const element = document.querySelector('#df-af0b9a59-1b01-493a-81c3-2002df2888bb');\n",
              "          const dataTable =\n",
              "            await google.colab.kernel.invokeFunction('convertToInteractive',\n",
              "                                                     [key], {});\n",
              "          if (!dataTable) return;\n",
              "\n",
              "          const docLinkHtml = 'Like what you see? Visit the ' +\n",
              "            '<a target=\"_blank\" href=https://colab.research.google.com/notebooks/data_table.ipynb>data table notebook</a>'\n",
              "            + ' to learn more about interactive tables.';\n",
              "          element.innerHTML = '';\n",
              "          dataTable['output_type'] = 'display_data';\n",
              "          await google.colab.output.renderOutput(dataTable, element);\n",
              "          const docLink = document.createElement('div');\n",
              "          docLink.innerHTML = docLinkHtml;\n",
              "          element.appendChild(docLink);\n",
              "        }\n",
              "      </script>\n",
              "    </div>\n",
              "  </div>\n",
              "  "
            ]
          },
          "metadata": {},
          "execution_count": 26
        }
      ]
    },
    {
      "cell_type": "code",
      "metadata": {
        "id": "cLy9PtMlngqP",
        "colab": {
          "base_uri": "https://localhost:8080/",
          "height": 363
        },
        "outputId": "b6dec2a7-9554-4f42-e06e-65f4fcd61f3a"
      },
      "source": [
        "data = data.rename(columns={'Human Height (University of Tuebingen (2015))': \"Height(cm)\"})\n",
        "# data.tail()\n",
        "data"
      ],
      "execution_count": null,
      "outputs": [
        {
          "output_type": "execute_result",
          "data": {
            "text/plain": [
              "      Height(cm)\n",
              "Year            \n",
              "1900       170.0\n",
              "1910       172.1\n",
              "1920       173.1\n",
              "1930       173.4\n",
              "1940       176.1\n",
              "1950       177.1\n",
              "1960       177.3\n",
              "1970       178.3\n",
              "1980       179.0"
            ],
            "text/html": [
              "\n",
              "  <div id=\"df-ca3704ef-fb44-4d30-8810-e7c8bf0352b8\">\n",
              "    <div class=\"colab-df-container\">\n",
              "      <div>\n",
              "<style scoped>\n",
              "    .dataframe tbody tr th:only-of-type {\n",
              "        vertical-align: middle;\n",
              "    }\n",
              "\n",
              "    .dataframe tbody tr th {\n",
              "        vertical-align: top;\n",
              "    }\n",
              "\n",
              "    .dataframe thead th {\n",
              "        text-align: right;\n",
              "    }\n",
              "</style>\n",
              "<table border=\"1\" class=\"dataframe\">\n",
              "  <thead>\n",
              "    <tr style=\"text-align: right;\">\n",
              "      <th></th>\n",
              "      <th>Height(cm)</th>\n",
              "    </tr>\n",
              "    <tr>\n",
              "      <th>Year</th>\n",
              "      <th></th>\n",
              "    </tr>\n",
              "  </thead>\n",
              "  <tbody>\n",
              "    <tr>\n",
              "      <th>1900</th>\n",
              "      <td>170.0</td>\n",
              "    </tr>\n",
              "    <tr>\n",
              "      <th>1910</th>\n",
              "      <td>172.1</td>\n",
              "    </tr>\n",
              "    <tr>\n",
              "      <th>1920</th>\n",
              "      <td>173.1</td>\n",
              "    </tr>\n",
              "    <tr>\n",
              "      <th>1930</th>\n",
              "      <td>173.4</td>\n",
              "    </tr>\n",
              "    <tr>\n",
              "      <th>1940</th>\n",
              "      <td>176.1</td>\n",
              "    </tr>\n",
              "    <tr>\n",
              "      <th>1950</th>\n",
              "      <td>177.1</td>\n",
              "    </tr>\n",
              "    <tr>\n",
              "      <th>1960</th>\n",
              "      <td>177.3</td>\n",
              "    </tr>\n",
              "    <tr>\n",
              "      <th>1970</th>\n",
              "      <td>178.3</td>\n",
              "    </tr>\n",
              "    <tr>\n",
              "      <th>1980</th>\n",
              "      <td>179.0</td>\n",
              "    </tr>\n",
              "  </tbody>\n",
              "</table>\n",
              "</div>\n",
              "      <button class=\"colab-df-convert\" onclick=\"convertToInteractive('df-ca3704ef-fb44-4d30-8810-e7c8bf0352b8')\"\n",
              "              title=\"Convert this dataframe to an interactive table.\"\n",
              "              style=\"display:none;\">\n",
              "        \n",
              "  <svg xmlns=\"http://www.w3.org/2000/svg\" height=\"24px\"viewBox=\"0 0 24 24\"\n",
              "       width=\"24px\">\n",
              "    <path d=\"M0 0h24v24H0V0z\" fill=\"none\"/>\n",
              "    <path d=\"M18.56 5.44l.94 2.06.94-2.06 2.06-.94-2.06-.94-.94-2.06-.94 2.06-2.06.94zm-11 1L8.5 8.5l.94-2.06 2.06-.94-2.06-.94L8.5 2.5l-.94 2.06-2.06.94zm10 10l.94 2.06.94-2.06 2.06-.94-2.06-.94-.94-2.06-.94 2.06-2.06.94z\"/><path d=\"M17.41 7.96l-1.37-1.37c-.4-.4-.92-.59-1.43-.59-.52 0-1.04.2-1.43.59L10.3 9.45l-7.72 7.72c-.78.78-.78 2.05 0 2.83L4 21.41c.39.39.9.59 1.41.59.51 0 1.02-.2 1.41-.59l7.78-7.78 2.81-2.81c.8-.78.8-2.07 0-2.86zM5.41 20L4 18.59l7.72-7.72 1.47 1.35L5.41 20z\"/>\n",
              "  </svg>\n",
              "      </button>\n",
              "      \n",
              "  <style>\n",
              "    .colab-df-container {\n",
              "      display:flex;\n",
              "      flex-wrap:wrap;\n",
              "      gap: 12px;\n",
              "    }\n",
              "\n",
              "    .colab-df-convert {\n",
              "      background-color: #E8F0FE;\n",
              "      border: none;\n",
              "      border-radius: 50%;\n",
              "      cursor: pointer;\n",
              "      display: none;\n",
              "      fill: #1967D2;\n",
              "      height: 32px;\n",
              "      padding: 0 0 0 0;\n",
              "      width: 32px;\n",
              "    }\n",
              "\n",
              "    .colab-df-convert:hover {\n",
              "      background-color: #E2EBFA;\n",
              "      box-shadow: 0px 1px 2px rgba(60, 64, 67, 0.3), 0px 1px 3px 1px rgba(60, 64, 67, 0.15);\n",
              "      fill: #174EA6;\n",
              "    }\n",
              "\n",
              "    [theme=dark] .colab-df-convert {\n",
              "      background-color: #3B4455;\n",
              "      fill: #D2E3FC;\n",
              "    }\n",
              "\n",
              "    [theme=dark] .colab-df-convert:hover {\n",
              "      background-color: #434B5C;\n",
              "      box-shadow: 0px 1px 3px 1px rgba(0, 0, 0, 0.15);\n",
              "      filter: drop-shadow(0px 1px 2px rgba(0, 0, 0, 0.3));\n",
              "      fill: #FFFFFF;\n",
              "    }\n",
              "  </style>\n",
              "\n",
              "      <script>\n",
              "        const buttonEl =\n",
              "          document.querySelector('#df-ca3704ef-fb44-4d30-8810-e7c8bf0352b8 button.colab-df-convert');\n",
              "        buttonEl.style.display =\n",
              "          google.colab.kernel.accessAllowed ? 'block' : 'none';\n",
              "\n",
              "        async function convertToInteractive(key) {\n",
              "          const element = document.querySelector('#df-ca3704ef-fb44-4d30-8810-e7c8bf0352b8');\n",
              "          const dataTable =\n",
              "            await google.colab.kernel.invokeFunction('convertToInteractive',\n",
              "                                                     [key], {});\n",
              "          if (!dataTable) return;\n",
              "\n",
              "          const docLinkHtml = 'Like what you see? Visit the ' +\n",
              "            '<a target=\"_blank\" href=https://colab.research.google.com/notebooks/data_table.ipynb>data table notebook</a>'\n",
              "            + ' to learn more about interactive tables.';\n",
              "          element.innerHTML = '';\n",
              "          dataTable['output_type'] = 'display_data';\n",
              "          await google.colab.output.renderOutput(dataTable, element);\n",
              "          const docLink = document.createElement('div');\n",
              "          docLink.innerHTML = docLinkHtml;\n",
              "          element.appendChild(docLink);\n",
              "        }\n",
              "      </script>\n",
              "    </div>\n",
              "  </div>\n",
              "  "
            ]
          },
          "metadata": {},
          "execution_count": 27
        }
      ]
    },
    {
      "cell_type": "code",
      "source": [
        "data.columns # \"Year\" is no longer considered as a column"
      ],
      "metadata": {
        "colab": {
          "base_uri": "https://localhost:8080/"
        },
        "id": "Jf2j5Q3_gaku",
        "outputId": "811cb6dc-f461-40f2-82b2-1d6c1494c8e7"
      },
      "execution_count": null,
      "outputs": [
        {
          "output_type": "execute_result",
          "data": {
            "text/plain": [
              "Index(['Height(cm)'], dtype='object')"
            ]
          },
          "metadata": {},
          "execution_count": 29
        }
      ]
    },
    {
      "cell_type": "markdown",
      "metadata": {
        "id": "JyEggVucno6r"
      },
      "source": [
        "### 6. Plot height vs. year\n",
        "- Extract the list of heights.\n",
        "- Extract the list of years.\n",
        "- Use `plt.plot()` to create a scatter plot."
      ]
    },
    {
      "cell_type": "code",
      "metadata": {
        "id": "eJie4oAOnvWo",
        "colab": {
          "base_uri": "https://localhost:8080/",
          "height": 282
        },
        "outputId": "71fc68dc-1276-4d98-8e4b-cbc4a81bbe09"
      },
      "source": [
        "heights = data['Height(cm)']\n",
        "years = data.index\n",
        "plt.plot(years, heights, 'g.')"
      ],
      "execution_count": null,
      "outputs": [
        {
          "output_type": "execute_result",
          "data": {
            "text/plain": [
              "[<matplotlib.lines.Line2D at 0x7f22f60cab50>]"
            ]
          },
          "metadata": {},
          "execution_count": 28
        },
        {
          "output_type": "display_data",
          "data": {
            "text/plain": [
              "<Figure size 432x288 with 1 Axes>"
            ],
            "image/png": "[encoded data removed]"
          },
          "metadata": {
            "needs_background": "light"
          }
        }
      ]
    },
    {
      "cell_type": "markdown",
      "metadata": {
        "id": "W4Lhccufnxsk"
      },
      "source": [
        "**How would you describe the trend?**\n",
        "1. Is there a trend?\n",
        "\n",
        "Answer: Yes\n",
        "2. Is the trend upward or downward?\n",
        "\n",
        "Answer: There is an increasing trend.\n",
        "3. It the trend consistent?\n",
        "\n",
        "Answer:The trend is flat during 1920s and 1950s. The increase is sharp during the 1930s.\n",
        "\n",
        "**Conclusion**: The trend closely follows a straight line."
      ]
    },
    {
      "cell_type": "markdown",
      "metadata": {
        "id": "pi2hHu3goFKy"
      },
      "source": [
        "## 7. Modeling\n",
        "\n",
        "Since we haven't studied any modeling method yet, let's use our intuition to find a function that describes the relation between year and height.\n",
        "- Linear model ($height = m \\cdot year + b$) seems a good fit to the data.\n",
        "- What is a good value for $m$?\n",
        "- What is a good value for $b$?\n",
        "- Plot the line represented by the linear model\n",
        "    - Create a list of x-coordinates using `np.linspace`\n",
        "    - Calculate the corresponding y-coordinates\n",
        "    - Use these two lists to plot the line."
      ]
    },
    {
      "cell_type": "code",
      "metadata": {
        "id": "TxAcEgyFoUFj",
        "colab": {
          "base_uri": "https://localhost:8080/"
        },
        "outputId": "e02165c2-4a7f-4daa-de95-d214c58bfe59"
      },
      "source": [
        "# Calculate the average increase per year between 1900 and 1980\n",
        "\n",
        "m1 = (data.loc[1980, 'Height(cm)'] - data.loc[1900, 'Height(cm)']) / (1980 - 1900)\n",
        "print(\"Slope:\", m1)"
      ],
      "execution_count": null,
      "outputs": [
        {
          "output_type": "stream",
          "name": "stdout",
          "text": [
            "Slope: 0.1125\n"
          ]
        }
      ]
    },
    {
      "cell_type": "code",
      "metadata": {
        "id": "m73_5loQohPn",
        "colab": {
          "base_uri": "https://localhost:8080/"
        },
        "outputId": "f43f02f1-7200-4605-9447-6d487964f3c3"
      },
      "source": [
        "# Let the slope be the average rate of increase.\n",
        "# If the model is height = m * year + b, \n",
        "# find the value of b so that point (1900, 170.0) lies on the line.\n",
        "\n",
        "b1 = 170 - m1 * 1900\n",
        "print(b1)"
      ],
      "execution_count": null,
      "outputs": [
        {
          "output_type": "stream",
          "name": "stdout",
          "text": [
            "-43.75\n"
          ]
        }
      ]
    },
    {
      "cell_type": "markdown",
      "source": [
        "Based on our discussion, the model is:\n",
        "\n",
        "Height = 0.1125 * Year - 43.75."
      ],
      "metadata": {
        "id": "rvIQF7W9fvsC"
      }
    },
    {
      "cell_type": "code",
      "metadata": {
        "id": "qGV3a7lzo3JE",
        "colab": {
          "base_uri": "https://localhost:8080/",
          "height": 282
        },
        "outputId": "dfab007d-25ea-420d-a063-61dd0872be0c"
      },
      "source": [
        "# Plot the model line.\n",
        "x_coordinates = [1890, 1990]\n",
        "y_coordinates = []\n",
        "for year in x_coordinates:\n",
        "    y_coordinates.append(m1 * year + b1)\n",
        "\n",
        "plt.plot(x_coordinates, y_coordinates, \"r-\") # - means a straight line connects all points\n",
        "plt.plot(years, heights, 'g.')"
      ],
      "execution_count": null,
      "outputs": [
        {
          "output_type": "execute_result",
          "data": {
            "text/plain": [
              "[<matplotlib.lines.Line2D at 0x7f22f5b09790>]"
            ]
          },
          "metadata": {},
          "execution_count": 33
        },
        {
          "output_type": "display_data",
          "data": {
            "text/plain": [
              "<Figure size 432x288 with 1 Axes>"
            ],
            "image/png": "[encoded data removed]"
          },
          "metadata": {
            "needs_background": "light"
          }
        }
      ]
    },
    {
      "cell_type": "markdown",
      "metadata": {
        "id": "cMVSz5VfpRg7"
      },
      "source": [
        "**Can you find another line that fits the model better?**"
      ]
    },
    {
      "cell_type": "code",
      "metadata": {
        "id": "i6ik6p7_pW0c"
      },
      "source": [
        "m2 = 0.1125\n",
        "b2 = -43\n",
        "# Plot the model line with the data points\n",
        "\n",
        "\n"
      ],
      "execution_count": null,
      "outputs": []
    },
    {
      "cell_type": "code",
      "source": [
        "# What are the model's prediction for 1930?\n",
        "\n"
      ],
      "metadata": {
        "id": "OBMmGxtZjB6w"
      },
      "execution_count": null,
      "outputs": []
    },
    {
      "cell_type": "code",
      "source": [
        "# Display the error made on 1900, 1910, 1920, ..., 1980\n",
        "for year in data.index:\n",
        "    pass"
      ],
      "metadata": {
        "id": "l6MOOzHEj8hT"
      },
      "execution_count": null,
      "outputs": []
    },
    {
      "cell_type": "markdown",
      "source": [
        "Let's use tools from the Sci-Kit Learn library to find a line that fits the data set."
      ],
      "metadata": {
        "id": "sJHNuYTrdxEl"
      }
    },
    {
      "cell_type": "code",
      "source": [
        "from sklearn.linear_models import LinearRegression\n",
        "model = LinearRegression()\n",
        "model.fit(data.index, data['Height(cm)'])"
      ],
      "metadata": {
        "id": "YTWuyErJd8x9"
      },
      "execution_count": null,
      "outputs": []
    },
    {
      "cell_type": "code",
      "source": [
        "# Let's read the official documentation of the LinearRegression class\n",
        "# Find the slope and the y-intercept of this line.\n",
        "\n"
      ],
      "metadata": {
        "id": "-XegXOceeIfv"
      },
      "execution_count": null,
      "outputs": []
    },
    {
      "cell_type": "code",
      "source": [
        "# Visualize the line together with data points.\n",
        "\n"
      ],
      "metadata": {
        "id": "MICryaJ5eRI0"
      },
      "execution_count": null,
      "outputs": []
    },
    {
      "cell_type": "markdown",
      "source": [
        "Question: Which line is a better fit of the data set? What measure should we use?"
      ],
      "metadata": {
        "id": "RQl8GU-aeVnX"
      }
    },
    {
      "cell_type": "markdown",
      "source": [
        "## 8. Model Evaluation\n",
        "\n",
        "A straight-forward idea of model evaluation is to sum up all errors made by the model. For example:\n",
        "\n",
        "- Let $x^{(i)}$ and $y^{(i)}$ to represent the x and y coordiante of the $i$th record\n",
        "- Let $n$ denote the total number of records.\n",
        "- Let $y = mx + b$ be the model.\n",
        "\n",
        "Then:\n",
        "- The model's prediction on Record i is $mx^{(i)} + b$\n",
        "- The actual target value on Record i is $y^{(i)}$\n",
        "- The error made on this record is $mx^{(i)} + b - y^{(i)}$.\n",
        "\n",
        "We would like to use the sum of all these error as an evaluation of the model's performance. However, we don't want positive errors to cancel with negative errors. There are two common solutions:\n",
        "\n",
        "*The Mean-Absolute-Error (MAE)*: To sum up the absolute values of all errors.\n",
        "\n",
        "$$\n",
        "MAE = \\frac{|mx^{(0)} + b - y^{(0)}| + |mx^{(1)} + b - y^{(1)}| + ... + |mx^{(n-1)} + b - y^{(n-1)}|}{n} = \\frac{\\sum_{i=0}^{n-1}|mx^{(i)} + b - y^{(i)}|}{n}\n",
        "$$\n",
        "\n",
        "*The Mean-Squared-Error (MSE)*: To sum up the square of all errors\n",
        "\n",
        "$$\n",
        "MSE = \\frac{(mx^{(0)} + b - y^{(0)})^2 + (mx^{(1)} + b - y^{(1)})^2 + ... + (mx^{(n-1)} + b - y^{(n-1)})^2}{n} = \\frac{\\sum_{i=0}^{n-1}(mx^{(i)} + b - y^{(i)})^2}{n}\n",
        "$$"
      ],
      "metadata": {
        "id": "tw1ZGeHkIOar"
      }
    },
    {
      "cell_type": "code",
      "source": [],
      "metadata": {
        "id": "_h0L-R0_IN-Q"
      },
      "execution_count": null,
      "outputs": []
    },
    {
      "cell_type": "markdown",
      "metadata": {
        "id": "9AB-4-Nwo9is"
      },
      "source": [
        "\n",
        "- Objective: find a linear model whose predictions are *close* to the actual values.\n",
        "- Metric on closeness: **mean square error (MSE):**\n",
        "$$MSE = \\frac{1}{\\textit{number of data}}\\sum_{\\text{(x, y) in dataset}}(mx + b - y)^2$$\n",
        "\n",
        "Now that we have multiple model candidates, which one gives the smallest MSE?"
      ]
    },
    {
      "cell_type": "code",
      "metadata": {
        "id": "s2wVync3pD7G"
      },
      "source": [
        "# Example: Calculate the error for 1930\n",
        "\n",
        "# Red line: height = m2 * year + b2\n",
        "# Blue line: height = m1 * year + b1\n",
        "\n",
        "# What is the red model's squared error on 1930?\n",
        "(m2 * 1930 + b2 - data.loc[1930, \"Height(cm)\"]) ** 2"
      ],
      "execution_count": null,
      "outputs": []
    },
    {
      "cell_type": "code",
      "metadata": {
        "id": "RMqGDiuNpcZc"
      },
      "source": [
        "# Calculate errors for each year\n",
        "\n",
        "total_error = 0 # we use snake casing to name variables and functions\n",
        "\n",
        "for year in data.index:\n",
        "\n",
        "    error = (m2 * year + b2 - data.loc[year, \"Height(cm)\"]) ** 2\n",
        "    # print(year, error)\n",
        "    total_error += error\n",
        "\n",
        "print(\"MSE for the red line:\", total_error/len(data)) # len() returns the number of rows when applied to a data frame\n"
      ],
      "execution_count": null,
      "outputs": []
    },
    {
      "cell_type": "code",
      "source": [
        "# How about the MSE for the blue line?\n",
        "# height = m1 * year + b1\n",
        "\n",
        "total_error = 0\n",
        "\n",
        "for year in data.index:\n",
        "    error = (m1 * year + b1 - data.loc[year, \"Height(cm)\"]) ** 2\n",
        "    total_error += error\n",
        "\n",
        "print(\"MSE for the blue line:\", total_error/len(data))"
      ],
      "metadata": {
        "id": "YN1sExCHN5-1"
      },
      "execution_count": null,
      "outputs": []
    },
    {
      "cell_type": "markdown",
      "metadata": {
        "id": "sc0mEvmEpg16"
      },
      "source": [
        "## 9: Use the Model\n",
        "- At what rate is US men's height growing?\n",
        "\n",
        "Answer: The slope of our model represents the rate of change on height. So US men's height is grow by 0.1125 cm per year.\n",
        "\n",
        "- What is your prediction on the average height in 1890?, 2000? 2050?\n",
        "\n",
        "Answer: we can apply our model to these years:\n",
        "    - Prediction on 1890: 0.1125 * 1890 - 43\n",
        "    - Prediction on 2000: 0.1125 * 2000 - 43\n",
        "    - Prediction on 2050: 0.1125 * 2505 - 43\n",
        "    \n",
        "- Check with the raw dataset and see if your 1890 prediction is close."
      ]
    },
    {
      "cell_type": "code",
      "metadata": {
        "id": "3zAqiKt_plut"
      },
      "source": [],
      "execution_count": null,
      "outputs": []
    },
    {
      "cell_type": "code",
      "metadata": {
        "id": "G4EcFjuLptma"
      },
      "source": [],
      "execution_count": null,
      "outputs": []
    },
    {
      "cell_type": "markdown",
      "source": [
        "The model suggests a steady growth of height during 1900 and 1980. However, it is unlikely to keep this rate forever. So its prediction far into the future can be unreliable."
      ],
      "metadata": {
        "id": "b6zBK8U4Q12m"
      }
    },
    {
      "cell_type": "code",
      "source": [],
      "metadata": {
        "id": "2r5r-2slSH2s"
      },
      "execution_count": null,
      "outputs": []
    }
  ]
}