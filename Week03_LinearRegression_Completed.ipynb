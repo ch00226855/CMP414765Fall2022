{
  "nbformat": 4,
  "nbformat_minor": 0,
  "metadata": {
    "colab": {
      "provenance": [],
      "include_colab_link": true
    },
    "kernelspec": {
      "name": "python3",
      "display_name": "Python 3"
    }
  },
  "cells": [
    {
      "cell_type": "markdown",
      "metadata": {
        "id": "view-in-github",
        "colab_type": "text"
      },
      "source": [
        "<a href=\"https://colab.research.google.com/github/ch00226855/CMP414765Fall2022/blob/main/Week03_LinearRegression_Completed.ipynb\" target=\"_parent\"><img src=\"https://colab.research.google.com/assets/colab-badge.svg\" alt=\"Open In Colab\"/></a>"
      ]
    },
    {
      "cell_type": "markdown",
      "metadata": {
        "id": "u7HIsHhxuk-V"
      },
      "source": [
        "# Week 3\n",
        "# Simple Linear Regression and the Normal Equation\n",
        "\n",
        "Last week, we used the `LinearRegression` tool from `sklearn` to find a mathematical expression to describe the relationship between two variables. This week, we are going to study how this method works.\n",
        "\n",
        "**Reading**: Textbook, Chapter 4"
      ]
    },
    {
      "cell_type": "markdown",
      "metadata": {
        "id": "aQ2Gz9YPupfu"
      },
      "source": [
        "## I. Simple Linear regression: Sales Prediction\n",
        "\n",
        "To put things into context, let's look at a dataset that contains the sales revenue and the advertising budgets of a company in 200 different markets.\n",
        "\n",
        "- The budgets are expressed in thousand dollors\n",
        "- The sales are expressed in thousand units"
      ]
    },
    {
      "cell_type": "code",
      "metadata": {
        "id": "OlGlaCOhupiD"
      },
      "source": [
        "import numpy as np\n",
        "import pandas as pd\n",
        "import matplotlib.pyplot as plt\n",
        "%matplotlib inline"
      ],
      "execution_count": 1,
      "outputs": []
    },
    {
      "cell_type": "code",
      "metadata": {
        "id": "WQ6pwyVTupkY",
        "colab": {
          "base_uri": "https://localhost:8080/",
          "height": 206
        },
        "outputId": "f943e232-4eba-43e4-c17f-0744bc1c42e7"
      },
      "source": [
        "url = \"https://www.statlearning.com/s/Advertising.csv\"\n",
        "advertising = pd.read_csv(url, index_col=0)\n",
        "advertising.head()"
      ],
      "execution_count": 2,
      "outputs": [
        {
          "output_type": "execute_result",
          "data": {
            "text/plain": [
              "      TV  radio  newspaper  sales\n",
              "1  230.1   37.8       69.2   22.1\n",
              "2   44.5   39.3       45.1   10.4\n",
              "3   17.2   45.9       69.3    9.3\n",
              "4  151.5   41.3       58.5   18.5\n",
              "5  180.8   10.8       58.4   12.9"
            ],
            "text/html": [
              "\n",
              "  <div id=\"df-e725bb00-a666-4045-8bf7-3b80a050f2a8\">\n",
              "    <div class=\"colab-df-container\">\n",
              "      <div>\n",
              "<style scoped>\n",
              "    .dataframe tbody tr th:only-of-type {\n",
              "        vertical-align: middle;\n",
              "    }\n",
              "\n",
              "    .dataframe tbody tr th {\n",
              "        vertical-align: top;\n",
              "    }\n",
              "\n",
              "    .dataframe thead th {\n",
              "        text-align: right;\n",
              "    }\n",
              "</style>\n",
              "<table border=\"1\" class=\"dataframe\">\n",
              "  <thead>\n",
              "    <tr style=\"text-align: right;\">\n",
              "      <th></th>\n",
              "      <th>TV</th>\n",
              "      <th>radio</th>\n",
              "      <th>newspaper</th>\n",
              "      <th>sales</th>\n",
              "    </tr>\n",
              "  </thead>\n",
              "  <tbody>\n",
              "    <tr>\n",
              "      <th>1</th>\n",
              "      <td>230.1</td>\n",
              "      <td>37.8</td>\n",
              "      <td>69.2</td>\n",
              "      <td>22.1</td>\n",
              "    </tr>\n",
              "    <tr>\n",
              "      <th>2</th>\n",
              "      <td>44.5</td>\n",
              "      <td>39.3</td>\n",
              "      <td>45.1</td>\n",
              "      <td>10.4</td>\n",
              "    </tr>\n",
              "    <tr>\n",
              "      <th>3</th>\n",
              "      <td>17.2</td>\n",
              "      <td>45.9</td>\n",
              "      <td>69.3</td>\n",
              "      <td>9.3</td>\n",
              "    </tr>\n",
              "    <tr>\n",
              "      <th>4</th>\n",
              "      <td>151.5</td>\n",
              "      <td>41.3</td>\n",
              "      <td>58.5</td>\n",
              "      <td>18.5</td>\n",
              "    </tr>\n",
              "    <tr>\n",
              "      <th>5</th>\n",
              "      <td>180.8</td>\n",
              "      <td>10.8</td>\n",
              "      <td>58.4</td>\n",
              "      <td>12.9</td>\n",
              "    </tr>\n",
              "  </tbody>\n",
              "</table>\n",
              "</div>\n",
              "      <button class=\"colab-df-convert\" onclick=\"convertToInteractive('df-e725bb00-a666-4045-8bf7-3b80a050f2a8')\"\n",
              "              title=\"Convert this dataframe to an interactive table.\"\n",
              "              style=\"display:none;\">\n",
              "        \n",
              "  <svg xmlns=\"http://www.w3.org/2000/svg\" height=\"24px\"viewBox=\"0 0 24 24\"\n",
              "       width=\"24px\">\n",
              "    <path d=\"M0 0h24v24H0V0z\" fill=\"none\"/>\n",
              "    <path d=\"M18.56 5.44l.94 2.06.94-2.06 2.06-.94-2.06-.94-.94-2.06-.94 2.06-2.06.94zm-11 1L8.5 8.5l.94-2.06 2.06-.94-2.06-.94L8.5 2.5l-.94 2.06-2.06.94zm10 10l.94 2.06.94-2.06 2.06-.94-2.06-.94-.94-2.06-.94 2.06-2.06.94z\"/><path d=\"M17.41 7.96l-1.37-1.37c-.4-.4-.92-.59-1.43-.59-.52 0-1.04.2-1.43.59L10.3 9.45l-7.72 7.72c-.78.78-.78 2.05 0 2.83L4 21.41c.39.39.9.59 1.41.59.51 0 1.02-.2 1.41-.59l7.78-7.78 2.81-2.81c.8-.78.8-2.07 0-2.86zM5.41 20L4 18.59l7.72-7.72 1.47 1.35L5.41 20z\"/>\n",
              "  </svg>\n",
              "      </button>\n",
              "      \n",
              "  <style>\n",
              "    .colab-df-container {\n",
              "      display:flex;\n",
              "      flex-wrap:wrap;\n",
              "      gap: 12px;\n",
              "    }\n",
              "\n",
              "    .colab-df-convert {\n",
              "      background-color: #E8F0FE;\n",
              "      border: none;\n",
              "      border-radius: 50%;\n",
              "      cursor: pointer;\n",
              "      display: none;\n",
              "      fill: #1967D2;\n",
              "      height: 32px;\n",
              "      padding: 0 0 0 0;\n",
              "      width: 32px;\n",
              "    }\n",
              "\n",
              "    .colab-df-convert:hover {\n",
              "      background-color: #E2EBFA;\n",
              "      box-shadow: 0px 1px 2px rgba(60, 64, 67, 0.3), 0px 1px 3px 1px rgba(60, 64, 67, 0.15);\n",
              "      fill: #174EA6;\n",
              "    }\n",
              "\n",
              "    [theme=dark] .colab-df-convert {\n",
              "      background-color: #3B4455;\n",
              "      fill: #D2E3FC;\n",
              "    }\n",
              "\n",
              "    [theme=dark] .colab-df-convert:hover {\n",
              "      background-color: #434B5C;\n",
              "      box-shadow: 0px 1px 3px 1px rgba(0, 0, 0, 0.15);\n",
              "      filter: drop-shadow(0px 1px 2px rgba(0, 0, 0, 0.3));\n",
              "      fill: #FFFFFF;\n",
              "    }\n",
              "  </style>\n",
              "\n",
              "      <script>\n",
              "        const buttonEl =\n",
              "          document.querySelector('#df-e725bb00-a666-4045-8bf7-3b80a050f2a8 button.colab-df-convert');\n",
              "        buttonEl.style.display =\n",
              "          google.colab.kernel.accessAllowed ? 'block' : 'none';\n",
              "\n",
              "        async function convertToInteractive(key) {\n",
              "          const element = document.querySelector('#df-e725bb00-a666-4045-8bf7-3b80a050f2a8');\n",
              "          const dataTable =\n",
              "            await google.colab.kernel.invokeFunction('convertToInteractive',\n",
              "                                                     [key], {});\n",
              "          if (!dataTable) return;\n",
              "\n",
              "          const docLinkHtml = 'Like what you see? Visit the ' +\n",
              "            '<a target=\"_blank\" href=https://colab.research.google.com/notebooks/data_table.ipynb>data table notebook</a>'\n",
              "            + ' to learn more about interactive tables.';\n",
              "          element.innerHTML = '';\n",
              "          dataTable['output_type'] = 'display_data';\n",
              "          await google.colab.output.renderOutput(dataTable, element);\n",
              "          const docLink = document.createElement('div');\n",
              "          docLink.innerHTML = docLinkHtml;\n",
              "          element.appendChild(docLink);\n",
              "        }\n",
              "      </script>\n",
              "    </div>\n",
              "  </div>\n",
              "  "
            ]
          },
          "metadata": {},
          "execution_count": 2
        }
      ]
    },
    {
      "cell_type": "code",
      "metadata": {
        "id": "S-euVXtvupmr",
        "colab": {
          "base_uri": "https://localhost:8080/"
        },
        "outputId": "ff8d74ae-c63e-48a7-cab5-84f5f4c57166"
      },
      "source": [
        "advertising.info()"
      ],
      "execution_count": 3,
      "outputs": [
        {
          "output_type": "stream",
          "name": "stdout",
          "text": [
            "<class 'pandas.core.frame.DataFrame'>\n",
            "Int64Index: 200 entries, 1 to 200\n",
            "Data columns (total 4 columns):\n",
            " #   Column     Non-Null Count  Dtype  \n",
            "---  ------     --------------  -----  \n",
            " 0   TV         200 non-null    float64\n",
            " 1   radio      200 non-null    float64\n",
            " 2   newspaper  200 non-null    float64\n",
            " 3   sales      200 non-null    float64\n",
            "dtypes: float64(4)\n",
            "memory usage: 7.8 KB\n"
          ]
        }
      ]
    },
    {
      "cell_type": "code",
      "metadata": {
        "id": "4eh00tLDuppH",
        "colab": {
          "base_uri": "https://localhost:8080/",
          "height": 300
        },
        "outputId": "f2e5ab1b-a355-4f4e-e29a-43ca5ea826f1"
      },
      "source": [
        "advertising.describe()"
      ],
      "execution_count": 4,
      "outputs": [
        {
          "output_type": "execute_result",
          "data": {
            "text/plain": [
              "               TV       radio   newspaper       sales\n",
              "count  200.000000  200.000000  200.000000  200.000000\n",
              "mean   147.042500   23.264000   30.554000   14.022500\n",
              "std     85.854236   14.846809   21.778621    5.217457\n",
              "min      0.700000    0.000000    0.300000    1.600000\n",
              "25%     74.375000    9.975000   12.750000   10.375000\n",
              "50%    149.750000   22.900000   25.750000   12.900000\n",
              "75%    218.825000   36.525000   45.100000   17.400000\n",
              "max    296.400000   49.600000  114.000000   27.000000"
            ],
            "text/html": [
              "\n",
              "  <div id=\"df-3f0082aa-d02e-446f-abdd-4ee7df0671f0\">\n",
              "    <div class=\"colab-df-container\">\n",
              "      <div>\n",
              "<style scoped>\n",
              "    .dataframe tbody tr th:only-of-type {\n",
              "        vertical-align: middle;\n",
              "    }\n",
              "\n",
              "    .dataframe tbody tr th {\n",
              "        vertical-align: top;\n",
              "    }\n",
              "\n",
              "    .dataframe thead th {\n",
              "        text-align: right;\n",
              "    }\n",
              "</style>\n",
              "<table border=\"1\" class=\"dataframe\">\n",
              "  <thead>\n",
              "    <tr style=\"text-align: right;\">\n",
              "      <th></th>\n",
              "      <th>TV</th>\n",
              "      <th>radio</th>\n",
              "      <th>newspaper</th>\n",
              "      <th>sales</th>\n",
              "    </tr>\n",
              "  </thead>\n",
              "  <tbody>\n",
              "    <tr>\n",
              "      <th>count</th>\n",
              "      <td>200.000000</td>\n",
              "      <td>200.000000</td>\n",
              "      <td>200.000000</td>\n",
              "      <td>200.000000</td>\n",
              "    </tr>\n",
              "    <tr>\n",
              "      <th>mean</th>\n",
              "      <td>147.042500</td>\n",
              "      <td>23.264000</td>\n",
              "      <td>30.554000</td>\n",
              "      <td>14.022500</td>\n",
              "    </tr>\n",
              "    <tr>\n",
              "      <th>std</th>\n",
              "      <td>85.854236</td>\n",
              "      <td>14.846809</td>\n",
              "      <td>21.778621</td>\n",
              "      <td>5.217457</td>\n",
              "    </tr>\n",
              "    <tr>\n",
              "      <th>min</th>\n",
              "      <td>0.700000</td>\n",
              "      <td>0.000000</td>\n",
              "      <td>0.300000</td>\n",
              "      <td>1.600000</td>\n",
              "    </tr>\n",
              "    <tr>\n",
              "      <th>25%</th>\n",
              "      <td>74.375000</td>\n",
              "      <td>9.975000</td>\n",
              "      <td>12.750000</td>\n",
              "      <td>10.375000</td>\n",
              "    </tr>\n",
              "    <tr>\n",
              "      <th>50%</th>\n",
              "      <td>149.750000</td>\n",
              "      <td>22.900000</td>\n",
              "      <td>25.750000</td>\n",
              "      <td>12.900000</td>\n",
              "    </tr>\n",
              "    <tr>\n",
              "      <th>75%</th>\n",
              "      <td>218.825000</td>\n",
              "      <td>36.525000</td>\n",
              "      <td>45.100000</td>\n",
              "      <td>17.400000</td>\n",
              "    </tr>\n",
              "    <tr>\n",
              "      <th>max</th>\n",
              "      <td>296.400000</td>\n",
              "      <td>49.600000</td>\n",
              "      <td>114.000000</td>\n",
              "      <td>27.000000</td>\n",
              "    </tr>\n",
              "  </tbody>\n",
              "</table>\n",
              "</div>\n",
              "      <button class=\"colab-df-convert\" onclick=\"convertToInteractive('df-3f0082aa-d02e-446f-abdd-4ee7df0671f0')\"\n",
              "              title=\"Convert this dataframe to an interactive table.\"\n",
              "              style=\"display:none;\">\n",
              "        \n",
              "  <svg xmlns=\"http://www.w3.org/2000/svg\" height=\"24px\"viewBox=\"0 0 24 24\"\n",
              "       width=\"24px\">\n",
              "    <path d=\"M0 0h24v24H0V0z\" fill=\"none\"/>\n",
              "    <path d=\"M18.56 5.44l.94 2.06.94-2.06 2.06-.94-2.06-.94-.94-2.06-.94 2.06-2.06.94zm-11 1L8.5 8.5l.94-2.06 2.06-.94-2.06-.94L8.5 2.5l-.94 2.06-2.06.94zm10 10l.94 2.06.94-2.06 2.06-.94-2.06-.94-.94-2.06-.94 2.06-2.06.94z\"/><path d=\"M17.41 7.96l-1.37-1.37c-.4-.4-.92-.59-1.43-.59-.52 0-1.04.2-1.43.59L10.3 9.45l-7.72 7.72c-.78.78-.78 2.05 0 2.83L4 21.41c.39.39.9.59 1.41.59.51 0 1.02-.2 1.41-.59l7.78-7.78 2.81-2.81c.8-.78.8-2.07 0-2.86zM5.41 20L4 18.59l7.72-7.72 1.47 1.35L5.41 20z\"/>\n",
              "  </svg>\n",
              "      </button>\n",
              "      \n",
              "  <style>\n",
              "    .colab-df-container {\n",
              "      display:flex;\n",
              "      flex-wrap:wrap;\n",
              "      gap: 12px;\n",
              "    }\n",
              "\n",
              "    .colab-df-convert {\n",
              "      background-color: #E8F0FE;\n",
              "      border: none;\n",
              "      border-radius: 50%;\n",
              "      cursor: pointer;\n",
              "      display: none;\n",
              "      fill: #1967D2;\n",
              "      height: 32px;\n",
              "      padding: 0 0 0 0;\n",
              "      width: 32px;\n",
              "    }\n",
              "\n",
              "    .colab-df-convert:hover {\n",
              "      background-color: #E2EBFA;\n",
              "      box-shadow: 0px 1px 2px rgba(60, 64, 67, 0.3), 0px 1px 3px 1px rgba(60, 64, 67, 0.15);\n",
              "      fill: #174EA6;\n",
              "    }\n",
              "\n",
              "    [theme=dark] .colab-df-convert {\n",
              "      background-color: #3B4455;\n",
              "      fill: #D2E3FC;\n",
              "    }\n",
              "\n",
              "    [theme=dark] .colab-df-convert:hover {\n",
              "      background-color: #434B5C;\n",
              "      box-shadow: 0px 1px 3px 1px rgba(0, 0, 0, 0.15);\n",
              "      filter: drop-shadow(0px 1px 2px rgba(0, 0, 0, 0.3));\n",
              "      fill: #FFFFFF;\n",
              "    }\n",
              "  </style>\n",
              "\n",
              "      <script>\n",
              "        const buttonEl =\n",
              "          document.querySelector('#df-3f0082aa-d02e-446f-abdd-4ee7df0671f0 button.colab-df-convert');\n",
              "        buttonEl.style.display =\n",
              "          google.colab.kernel.accessAllowed ? 'block' : 'none';\n",
              "\n",
              "        async function convertToInteractive(key) {\n",
              "          const element = document.querySelector('#df-3f0082aa-d02e-446f-abdd-4ee7df0671f0');\n",
              "          const dataTable =\n",
              "            await google.colab.kernel.invokeFunction('convertToInteractive',\n",
              "                                                     [key], {});\n",
              "          if (!dataTable) return;\n",
              "\n",
              "          const docLinkHtml = 'Like what you see? Visit the ' +\n",
              "            '<a target=\"_blank\" href=https://colab.research.google.com/notebooks/data_table.ipynb>data table notebook</a>'\n",
              "            + ' to learn more about interactive tables.';\n",
              "          element.innerHTML = '';\n",
              "          dataTable['output_type'] = 'display_data';\n",
              "          await google.colab.output.renderOutput(dataTable, element);\n",
              "          const docLink = document.createElement('div');\n",
              "          docLink.innerHTML = docLinkHtml;\n",
              "          element.appendChild(docLink);\n",
              "        }\n",
              "      </script>\n",
              "    </div>\n",
              "  </div>\n",
              "  "
            ]
          },
          "metadata": {},
          "execution_count": 4
        }
      ]
    },
    {
      "cell_type": "code",
      "metadata": {
        "id": "34vliqiQuprc",
        "colab": {
          "base_uri": "https://localhost:8080/",
          "height": 608
        },
        "outputId": "20e41d82-1e56-4a45-ccb8-fb843f2c757b"
      },
      "source": [
        "fig = advertising.hist(figsize=(10, 10))"
      ],
      "execution_count": null,
      "outputs": [
        {
          "output_type": "display_data",
          "data": {
            "text/plain": [
              "<Figure size 720x720 with 4 Axes>"
            ],
            "image/png": "[encoded data removed]"
          },
          "metadata": {
            "needs_background": "light"
          }
        }
      ]
    },
    {
      "cell_type": "code",
      "source": [
        "# Exercise: What if there is an outlier in the data set?\n",
        "# The histograms will look very strange.\n",
        "temp = advertising.copy()\n",
        "temp.loc[201, :] = [3000, 500, 1000, -100]\n",
        "temp.hist(figsize=(10, 10))"
      ],
      "metadata": {
        "colab": {
          "base_uri": "https://localhost:8080/",
          "height": 695
        },
        "id": "t1WmegvXkT47",
        "outputId": "37eabd6c-9312-4ead-fdcc-407bae318135"
      },
      "execution_count": null,
      "outputs": [
        {
          "output_type": "execute_result",
          "data": {
            "text/plain": [
              "array([[<matplotlib.axes._subplots.AxesSubplot object at 0x7f8c530cbcd0>,\n",
              "        <matplotlib.axes._subplots.AxesSubplot object at 0x7f8c53108c10>],\n",
              "       [<matplotlib.axes._subplots.AxesSubplot object at 0x7f8c530c3250>,\n",
              "        <matplotlib.axes._subplots.AxesSubplot object at 0x7f8c53078850>]],\n",
              "      dtype=object)"
            ]
          },
          "metadata": {},
          "execution_count": 10
        },
        {
          "output_type": "display_data",
          "data": {
            "text/plain": [
              "<Figure size 720x720 with 4 Axes>"
            ],
            "image/png": "[encoded data removed]"
          },
          "metadata": {
            "needs_background": "light"
          }
        }
      ]
    },
    {
      "cell_type": "code",
      "metadata": {
        "id": "yfmol9Hxupt9",
        "colab": {
          "base_uri": "https://localhost:8080/",
          "height": 295
        },
        "outputId": "1e50032e-022c-46d0-ea8b-f0648073e04e"
      },
      "source": [
        "# plot TV vs. sales\n",
        "plt.plot(advertising['TV'], advertising['sales'], 'g.')\n",
        "plt.title(\"TV vs. sales\")\n",
        "plt.xlabel(\"TV budget\")\n",
        "plt.ylabel(\"Sales Revenue\")\n",
        "plt.savefig(\"TVvsSales.png\")\n",
        "plt.show() # this is needed in other Python environments"
      ],
      "execution_count": 5,
      "outputs": [
        {
          "output_type": "display_data",
          "data": {
            "text/plain": [
              "<Figure size 432x288 with 1 Axes>"
            ],
            "image/png": "[encoded data removed]"
          },
          "metadata": {
            "needs_background": "light"
          }
        }
      ]
    },
    {
      "cell_type": "code",
      "metadata": {
        "id": "IdmR2IQmupwR",
        "colab": {
          "base_uri": "https://localhost:8080/",
          "height": 282
        },
        "outputId": "85125656-1959-464d-e185-689b5ce70f5f"
      },
      "source": [
        "# Exercise:\n",
        "# plot radio vs. sales\n",
        "\n",
        "plt.plot(advertising['radio'], advertising['sales'], 'g.')\n"
      ],
      "execution_count": null,
      "outputs": [
        {
          "output_type": "execute_result",
          "data": {
            "text/plain": [
              "[<matplotlib.lines.Line2D at 0x7f8c529087d0>]"
            ]
          },
          "metadata": {},
          "execution_count": 16
        },
        {
          "output_type": "display_data",
          "data": {
            "text/plain": [
              "<Figure size 432x288 with 1 Axes>"
            ],
            "image/png": "[encoded data removed]"
          },
          "metadata": {
            "needs_background": "light"
          }
        }
      ]
    },
    {
      "cell_type": "markdown",
      "source": [
        "What can we say with these scatter plots?\n",
        "- There is a strong positive correlation between TV and sales\n",
        "- There is a positive correlation between radio and sales\n",
        "- I do not observe a strong correlation between newspaper and sales. "
      ],
      "metadata": {
        "id": "4G2NGphWPcru"
      }
    },
    {
      "cell_type": "code",
      "source": [
        "# The outcome from the describe() method suggests there are outliers.\n",
        "\n",
        "# Use a filter to extract the record with 0.7 TV value\n",
        "advertising[advertising[\"TV\"] == 0.7] # the condition in [] creates a list of boolean indices\n"
      ],
      "metadata": {
        "id": "qUt35vi_QN29",
        "outputId": "fb4aec72-ce85-405f-c17d-69d98c625f3e",
        "colab": {
          "base_uri": "https://localhost:8080/",
          "height": 81
        }
      },
      "execution_count": 7,
      "outputs": [
        {
          "output_type": "execute_result",
          "data": {
            "text/plain": [
              "      TV  radio  newspaper  sales\n",
              "131  0.7   39.6        8.7    1.6"
            ],
            "text/html": [
              "\n",
              "  <div id=\"df-5410f21f-4ea0-473d-a693-5015bd8f3820\">\n",
              "    <div class=\"colab-df-container\">\n",
              "      <div>\n",
              "<style scoped>\n",
              "    .dataframe tbody tr th:only-of-type {\n",
              "        vertical-align: middle;\n",
              "    }\n",
              "\n",
              "    .dataframe tbody tr th {\n",
              "        vertical-align: top;\n",
              "    }\n",
              "\n",
              "    .dataframe thead th {\n",
              "        text-align: right;\n",
              "    }\n",
              "</style>\n",
              "<table border=\"1\" class=\"dataframe\">\n",
              "  <thead>\n",
              "    <tr style=\"text-align: right;\">\n",
              "      <th></th>\n",
              "      <th>TV</th>\n",
              "      <th>radio</th>\n",
              "      <th>newspaper</th>\n",
              "      <th>sales</th>\n",
              "    </tr>\n",
              "  </thead>\n",
              "  <tbody>\n",
              "    <tr>\n",
              "      <th>131</th>\n",
              "      <td>0.7</td>\n",
              "      <td>39.6</td>\n",
              "      <td>8.7</td>\n",
              "      <td>1.6</td>\n",
              "    </tr>\n",
              "  </tbody>\n",
              "</table>\n",
              "</div>\n",
              "      <button class=\"colab-df-convert\" onclick=\"convertToInteractive('df-5410f21f-4ea0-473d-a693-5015bd8f3820')\"\n",
              "              title=\"Convert this dataframe to an interactive table.\"\n",
              "              style=\"display:none;\">\n",
              "        \n",
              "  <svg xmlns=\"http://www.w3.org/2000/svg\" height=\"24px\"viewBox=\"0 0 24 24\"\n",
              "       width=\"24px\">\n",
              "    <path d=\"M0 0h24v24H0V0z\" fill=\"none\"/>\n",
              "    <path d=\"M18.56 5.44l.94 2.06.94-2.06 2.06-.94-2.06-.94-.94-2.06-.94 2.06-2.06.94zm-11 1L8.5 8.5l.94-2.06 2.06-.94-2.06-.94L8.5 2.5l-.94 2.06-2.06.94zm10 10l.94 2.06.94-2.06 2.06-.94-2.06-.94-.94-2.06-.94 2.06-2.06.94z\"/><path d=\"M17.41 7.96l-1.37-1.37c-.4-.4-.92-.59-1.43-.59-.52 0-1.04.2-1.43.59L10.3 9.45l-7.72 7.72c-.78.78-.78 2.05 0 2.83L4 21.41c.39.39.9.59 1.41.59.51 0 1.02-.2 1.41-.59l7.78-7.78 2.81-2.81c.8-.78.8-2.07 0-2.86zM5.41 20L4 18.59l7.72-7.72 1.47 1.35L5.41 20z\"/>\n",
              "  </svg>\n",
              "      </button>\n",
              "      \n",
              "  <style>\n",
              "    .colab-df-container {\n",
              "      display:flex;\n",
              "      flex-wrap:wrap;\n",
              "      gap: 12px;\n",
              "    }\n",
              "\n",
              "    .colab-df-convert {\n",
              "      background-color: #E8F0FE;\n",
              "      border: none;\n",
              "      border-radius: 50%;\n",
              "      cursor: pointer;\n",
              "      display: none;\n",
              "      fill: #1967D2;\n",
              "      height: 32px;\n",
              "      padding: 0 0 0 0;\n",
              "      width: 32px;\n",
              "    }\n",
              "\n",
              "    .colab-df-convert:hover {\n",
              "      background-color: #E2EBFA;\n",
              "      box-shadow: 0px 1px 2px rgba(60, 64, 67, 0.3), 0px 1px 3px 1px rgba(60, 64, 67, 0.15);\n",
              "      fill: #174EA6;\n",
              "    }\n",
              "\n",
              "    [theme=dark] .colab-df-convert {\n",
              "      background-color: #3B4455;\n",
              "      fill: #D2E3FC;\n",
              "    }\n",
              "\n",
              "    [theme=dark] .colab-df-convert:hover {\n",
              "      background-color: #434B5C;\n",
              "      box-shadow: 0px 1px 3px 1px rgba(0, 0, 0, 0.15);\n",
              "      filter: drop-shadow(0px 1px 2px rgba(0, 0, 0, 0.3));\n",
              "      fill: #FFFFFF;\n",
              "    }\n",
              "  </style>\n",
              "\n",
              "      <script>\n",
              "        const buttonEl =\n",
              "          document.querySelector('#df-5410f21f-4ea0-473d-a693-5015bd8f3820 button.colab-df-convert');\n",
              "        buttonEl.style.display =\n",
              "          google.colab.kernel.accessAllowed ? 'block' : 'none';\n",
              "\n",
              "        async function convertToInteractive(key) {\n",
              "          const element = document.querySelector('#df-5410f21f-4ea0-473d-a693-5015bd8f3820');\n",
              "          const dataTable =\n",
              "            await google.colab.kernel.invokeFunction('convertToInteractive',\n",
              "                                                     [key], {});\n",
              "          if (!dataTable) return;\n",
              "\n",
              "          const docLinkHtml = 'Like what you see? Visit the ' +\n",
              "            '<a target=\"_blank\" href=https://colab.research.google.com/notebooks/data_table.ipynb>data table notebook</a>'\n",
              "            + ' to learn more about interactive tables.';\n",
              "          element.innerHTML = '';\n",
              "          dataTable['output_type'] = 'display_data';\n",
              "          await google.colab.output.renderOutput(dataTable, element);\n",
              "          const docLink = document.createElement('div');\n",
              "          docLink.innerHTML = docLinkHtml;\n",
              "          element.appendChild(docLink);\n",
              "        }\n",
              "      </script>\n",
              "    </div>\n",
              "  </div>\n",
              "  "
            ]
          },
          "metadata": {},
          "execution_count": 7
        }
      ]
    },
    {
      "cell_type": "code",
      "source": [
        "# Sort the records in the ascending order of TV\n",
        "advertising.sort_values(by=\"TV\", ascending=False, inplace=True)\n",
        "advertising = advertising.sort_values(by=\"TV\", ascending=False)"
      ],
      "metadata": {
        "id": "N-fr6egAR2y8"
      },
      "execution_count": 8,
      "outputs": []
    },
    {
      "cell_type": "code",
      "source": [
        "advertising.head()"
      ],
      "metadata": {
        "id": "njI2HXbkTo_J",
        "outputId": "4fc360e3-030d-480f-aa74-8483795124be",
        "colab": {
          "base_uri": "https://localhost:8080/",
          "height": 206
        }
      },
      "execution_count": 9,
      "outputs": [
        {
          "output_type": "execute_result",
          "data": {
            "text/plain": [
              "        TV  radio  newspaper  sales\n",
              "102  296.4   36.3      100.9   23.8\n",
              "43   293.6   27.7        1.8   20.7\n",
              "31   292.9   28.3       43.2   21.4\n",
              "36   290.7    4.1        8.5   12.8\n",
              "99   289.7   42.3       51.2   25.4"
            ],
            "text/html": [
              "\n",
              "  <div id=\"df-a60243a3-701b-436e-aee3-8a5b2bd14f6f\">\n",
              "    <div class=\"colab-df-container\">\n",
              "      <div>\n",
              "<style scoped>\n",
              "    .dataframe tbody tr th:only-of-type {\n",
              "        vertical-align: middle;\n",
              "    }\n",
              "\n",
              "    .dataframe tbody tr th {\n",
              "        vertical-align: top;\n",
              "    }\n",
              "\n",
              "    .dataframe thead th {\n",
              "        text-align: right;\n",
              "    }\n",
              "</style>\n",
              "<table border=\"1\" class=\"dataframe\">\n",
              "  <thead>\n",
              "    <tr style=\"text-align: right;\">\n",
              "      <th></th>\n",
              "      <th>TV</th>\n",
              "      <th>radio</th>\n",
              "      <th>newspaper</th>\n",
              "      <th>sales</th>\n",
              "    </tr>\n",
              "  </thead>\n",
              "  <tbody>\n",
              "    <tr>\n",
              "      <th>102</th>\n",
              "      <td>296.4</td>\n",
              "      <td>36.3</td>\n",
              "      <td>100.9</td>\n",
              "      <td>23.8</td>\n",
              "    </tr>\n",
              "    <tr>\n",
              "      <th>43</th>\n",
              "      <td>293.6</td>\n",
              "      <td>27.7</td>\n",
              "      <td>1.8</td>\n",
              "      <td>20.7</td>\n",
              "    </tr>\n",
              "    <tr>\n",
              "      <th>31</th>\n",
              "      <td>292.9</td>\n",
              "      <td>28.3</td>\n",
              "      <td>43.2</td>\n",
              "      <td>21.4</td>\n",
              "    </tr>\n",
              "    <tr>\n",
              "      <th>36</th>\n",
              "      <td>290.7</td>\n",
              "      <td>4.1</td>\n",
              "      <td>8.5</td>\n",
              "      <td>12.8</td>\n",
              "    </tr>\n",
              "    <tr>\n",
              "      <th>99</th>\n",
              "      <td>289.7</td>\n",
              "      <td>42.3</td>\n",
              "      <td>51.2</td>\n",
              "      <td>25.4</td>\n",
              "    </tr>\n",
              "  </tbody>\n",
              "</table>\n",
              "</div>\n",
              "      <button class=\"colab-df-convert\" onclick=\"convertToInteractive('df-a60243a3-701b-436e-aee3-8a5b2bd14f6f')\"\n",
              "              title=\"Convert this dataframe to an interactive table.\"\n",
              "              style=\"display:none;\">\n",
              "        \n",
              "  <svg xmlns=\"http://www.w3.org/2000/svg\" height=\"24px\"viewBox=\"0 0 24 24\"\n",
              "       width=\"24px\">\n",
              "    <path d=\"M0 0h24v24H0V0z\" fill=\"none\"/>\n",
              "    <path d=\"M18.56 5.44l.94 2.06.94-2.06 2.06-.94-2.06-.94-.94-2.06-.94 2.06-2.06.94zm-11 1L8.5 8.5l.94-2.06 2.06-.94-2.06-.94L8.5 2.5l-.94 2.06-2.06.94zm10 10l.94 2.06.94-2.06 2.06-.94-2.06-.94-.94-2.06-.94 2.06-2.06.94z\"/><path d=\"M17.41 7.96l-1.37-1.37c-.4-.4-.92-.59-1.43-.59-.52 0-1.04.2-1.43.59L10.3 9.45l-7.72 7.72c-.78.78-.78 2.05 0 2.83L4 21.41c.39.39.9.59 1.41.59.51 0 1.02-.2 1.41-.59l7.78-7.78 2.81-2.81c.8-.78.8-2.07 0-2.86zM5.41 20L4 18.59l7.72-7.72 1.47 1.35L5.41 20z\"/>\n",
              "  </svg>\n",
              "      </button>\n",
              "      \n",
              "  <style>\n",
              "    .colab-df-container {\n",
              "      display:flex;\n",
              "      flex-wrap:wrap;\n",
              "      gap: 12px;\n",
              "    }\n",
              "\n",
              "    .colab-df-convert {\n",
              "      background-color: #E8F0FE;\n",
              "      border: none;\n",
              "      border-radius: 50%;\n",
              "      cursor: pointer;\n",
              "      display: none;\n",
              "      fill: #1967D2;\n",
              "      height: 32px;\n",
              "      padding: 0 0 0 0;\n",
              "      width: 32px;\n",
              "    }\n",
              "\n",
              "    .colab-df-convert:hover {\n",
              "      background-color: #E2EBFA;\n",
              "      box-shadow: 0px 1px 2px rgba(60, 64, 67, 0.3), 0px 1px 3px 1px rgba(60, 64, 67, 0.15);\n",
              "      fill: #174EA6;\n",
              "    }\n",
              "\n",
              "    [theme=dark] .colab-df-convert {\n",
              "      background-color: #3B4455;\n",
              "      fill: #D2E3FC;\n",
              "    }\n",
              "\n",
              "    [theme=dark] .colab-df-convert:hover {\n",
              "      background-color: #434B5C;\n",
              "      box-shadow: 0px 1px 3px 1px rgba(0, 0, 0, 0.15);\n",
              "      filter: drop-shadow(0px 1px 2px rgba(0, 0, 0, 0.3));\n",
              "      fill: #FFFFFF;\n",
              "    }\n",
              "  </style>\n",
              "\n",
              "      <script>\n",
              "        const buttonEl =\n",
              "          document.querySelector('#df-a60243a3-701b-436e-aee3-8a5b2bd14f6f button.colab-df-convert');\n",
              "        buttonEl.style.display =\n",
              "          google.colab.kernel.accessAllowed ? 'block' : 'none';\n",
              "\n",
              "        async function convertToInteractive(key) {\n",
              "          const element = document.querySelector('#df-a60243a3-701b-436e-aee3-8a5b2bd14f6f');\n",
              "          const dataTable =\n",
              "            await google.colab.kernel.invokeFunction('convertToInteractive',\n",
              "                                                     [key], {});\n",
              "          if (!dataTable) return;\n",
              "\n",
              "          const docLinkHtml = 'Like what you see? Visit the ' +\n",
              "            '<a target=\"_blank\" href=https://colab.research.google.com/notebooks/data_table.ipynb>data table notebook</a>'\n",
              "            + ' to learn more about interactive tables.';\n",
              "          element.innerHTML = '';\n",
              "          dataTable['output_type'] = 'display_data';\n",
              "          await google.colab.output.renderOutput(dataTable, element);\n",
              "          const docLink = document.createElement('div');\n",
              "          docLink.innerHTML = docLinkHtml;\n",
              "          element.appendChild(docLink);\n",
              "        }\n",
              "      </script>\n",
              "    </div>\n",
              "  </div>\n",
              "  "
            ]
          },
          "metadata": {},
          "execution_count": 9
        }
      ]
    },
    {
      "cell_type": "code",
      "source": [],
      "metadata": {
        "id": "8n1K_7BaUjDD"
      },
      "execution_count": null,
      "outputs": []
    },
    {
      "cell_type": "markdown",
      "metadata": {
        "id": "APBfXCE_up3Z"
      },
      "source": [
        "### Correlation Coefficient: Numerical Measure of Correlations\n",
        "The **correlation coefficient** is a numerical measurement of **linear correlation** between two variables.\n",
        "- The value of correlation coefficient always lies in [-1, 1].\n",
        "- If there is a strong positive correlation, then the coefficient is close to 1.\n",
        "- If there is a strong negative correlation, then the coefficient is close to -1.\n",
        "- If there is a very weak correlation, then the coefficient is close to 0.\n",
        "- However, a near-zero coeffient may be caused by non-linear correlations.\n",
        "![](https://upload.wikimedia.org/wikipedia/commons/d/d4/Correlation_examples2.svg)"
      ]
    },
    {
      "cell_type": "code",
      "metadata": {
        "id": "8jpDO9UFup5w",
        "colab": {
          "base_uri": "https://localhost:8080/",
          "height": 175
        },
        "outputId": "7b52ebea-b61a-4340-d1d7-13edc6ee0760"
      },
      "source": [
        "# Calculate pair-wise correlation coefficients\n",
        "advertising.corr()"
      ],
      "execution_count": null,
      "outputs": [
        {
          "output_type": "execute_result",
          "data": {
            "text/plain": [
              "                 TV     radio  newspaper     sales\n",
              "TV         1.000000  0.054809   0.056648  0.782224\n",
              "radio      0.054809  1.000000   0.354104  0.576223\n",
              "newspaper  0.056648  0.354104   1.000000  0.228299\n",
              "sales      0.782224  0.576223   0.228299  1.000000"
            ],
            "text/html": [
              "\n",
              "  <div id=\"df-08fba0be-3a57-4e1e-be95-2a80597511ff\">\n",
              "    <div class=\"colab-df-container\">\n",
              "      <div>\n",
              "<style scoped>\n",
              "    .dataframe tbody tr th:only-of-type {\n",
              "        vertical-align: middle;\n",
              "    }\n",
              "\n",
              "    .dataframe tbody tr th {\n",
              "        vertical-align: top;\n",
              "    }\n",
              "\n",
              "    .dataframe thead th {\n",
              "        text-align: right;\n",
              "    }\n",
              "</style>\n",
              "<table border=\"1\" class=\"dataframe\">\n",
              "  <thead>\n",
              "    <tr style=\"text-align: right;\">\n",
              "      <th></th>\n",
              "      <th>TV</th>\n",
              "      <th>radio</th>\n",
              "      <th>newspaper</th>\n",
              "      <th>sales</th>\n",
              "    </tr>\n",
              "  </thead>\n",
              "  <tbody>\n",
              "    <tr>\n",
              "      <th>TV</th>\n",
              "      <td>1.000000</td>\n",
              "      <td>0.054809</td>\n",
              "      <td>0.056648</td>\n",
              "      <td>0.782224</td>\n",
              "    </tr>\n",
              "    <tr>\n",
              "      <th>radio</th>\n",
              "      <td>0.054809</td>\n",
              "      <td>1.000000</td>\n",
              "      <td>0.354104</td>\n",
              "      <td>0.576223</td>\n",
              "    </tr>\n",
              "    <tr>\n",
              "      <th>newspaper</th>\n",
              "      <td>0.056648</td>\n",
              "      <td>0.354104</td>\n",
              "      <td>1.000000</td>\n",
              "      <td>0.228299</td>\n",
              "    </tr>\n",
              "    <tr>\n",
              "      <th>sales</th>\n",
              "      <td>0.782224</td>\n",
              "      <td>0.576223</td>\n",
              "      <td>0.228299</td>\n",
              "      <td>1.000000</td>\n",
              "    </tr>\n",
              "  </tbody>\n",
              "</table>\n",
              "</div>\n",
              "      <button class=\"colab-df-convert\" onclick=\"convertToInteractive('df-08fba0be-3a57-4e1e-be95-2a80597511ff')\"\n",
              "              title=\"Convert this dataframe to an interactive table.\"\n",
              "              style=\"display:none;\">\n",
              "        \n",
              "  <svg xmlns=\"http://www.w3.org/2000/svg\" height=\"24px\"viewBox=\"0 0 24 24\"\n",
              "       width=\"24px\">\n",
              "    <path d=\"M0 0h24v24H0V0z\" fill=\"none\"/>\n",
              "    <path d=\"M18.56 5.44l.94 2.06.94-2.06 2.06-.94-2.06-.94-.94-2.06-.94 2.06-2.06.94zm-11 1L8.5 8.5l.94-2.06 2.06-.94-2.06-.94L8.5 2.5l-.94 2.06-2.06.94zm10 10l.94 2.06.94-2.06 2.06-.94-2.06-.94-.94-2.06-.94 2.06-2.06.94z\"/><path d=\"M17.41 7.96l-1.37-1.37c-.4-.4-.92-.59-1.43-.59-.52 0-1.04.2-1.43.59L10.3 9.45l-7.72 7.72c-.78.78-.78 2.05 0 2.83L4 21.41c.39.39.9.59 1.41.59.51 0 1.02-.2 1.41-.59l7.78-7.78 2.81-2.81c.8-.78.8-2.07 0-2.86zM5.41 20L4 18.59l7.72-7.72 1.47 1.35L5.41 20z\"/>\n",
              "  </svg>\n",
              "      </button>\n",
              "      \n",
              "  <style>\n",
              "    .colab-df-container {\n",
              "      display:flex;\n",
              "      flex-wrap:wrap;\n",
              "      gap: 12px;\n",
              "    }\n",
              "\n",
              "    .colab-df-convert {\n",
              "      background-color: #E8F0FE;\n",
              "      border: none;\n",
              "      border-radius: 50%;\n",
              "      cursor: pointer;\n",
              "      display: none;\n",
              "      fill: #1967D2;\n",
              "      height: 32px;\n",
              "      padding: 0 0 0 0;\n",
              "      width: 32px;\n",
              "    }\n",
              "\n",
              "    .colab-df-convert:hover {\n",
              "      background-color: #E2EBFA;\n",
              "      box-shadow: 0px 1px 2px rgba(60, 64, 67, 0.3), 0px 1px 3px 1px rgba(60, 64, 67, 0.15);\n",
              "      fill: #174EA6;\n",
              "    }\n",
              "\n",
              "    [theme=dark] .colab-df-convert {\n",
              "      background-color: #3B4455;\n",
              "      fill: #D2E3FC;\n",
              "    }\n",
              "\n",
              "    [theme=dark] .colab-df-convert:hover {\n",
              "      background-color: #434B5C;\n",
              "      box-shadow: 0px 1px 3px 1px rgba(0, 0, 0, 0.15);\n",
              "      filter: drop-shadow(0px 1px 2px rgba(0, 0, 0, 0.3));\n",
              "      fill: #FFFFFF;\n",
              "    }\n",
              "  </style>\n",
              "\n",
              "      <script>\n",
              "        const buttonEl =\n",
              "          document.querySelector('#df-08fba0be-3a57-4e1e-be95-2a80597511ff button.colab-df-convert');\n",
              "        buttonEl.style.display =\n",
              "          google.colab.kernel.accessAllowed ? 'block' : 'none';\n",
              "\n",
              "        async function convertToInteractive(key) {\n",
              "          const element = document.querySelector('#df-08fba0be-3a57-4e1e-be95-2a80597511ff');\n",
              "          const dataTable =\n",
              "            await google.colab.kernel.invokeFunction('convertToInteractive',\n",
              "                                                     [key], {});\n",
              "          if (!dataTable) return;\n",
              "\n",
              "          const docLinkHtml = 'Like what you see? Visit the ' +\n",
              "            '<a target=\"_blank\" href=https://colab.research.google.com/notebooks/data_table.ipynb>data table notebook</a>'\n",
              "            + ' to learn more about interactive tables.';\n",
              "          element.innerHTML = '';\n",
              "          dataTable['output_type'] = 'display_data';\n",
              "          await google.colab.output.renderOutput(dataTable, element);\n",
              "          const docLink = document.createElement('div');\n",
              "          docLink.innerHTML = docLinkHtml;\n",
              "          element.appendChild(docLink);\n",
              "        }\n",
              "      </script>\n",
              "    </div>\n",
              "  </div>\n",
              "  "
            ]
          },
          "metadata": {},
          "execution_count": 17
        }
      ]
    },
    {
      "cell_type": "markdown",
      "metadata": {
        "id": "IRA9q_J0up8P"
      },
      "source": [
        "For simplicity, we will only use `TV` as a predictor of `sales`."
      ]
    },
    {
      "cell_type": "code",
      "metadata": {
        "id": "HmDGoPkTup-j",
        "outputId": "56c700ce-7a23-4020-b3ee-a445c48dd46f",
        "colab": {
          "base_uri": "https://localhost:8080/",
          "height": 206
        }
      },
      "source": [
        "data = advertising.loc[:, ['TV', 'sales']] \n",
        "# The loc expression require both row indices and column names\n",
        "data.head()"
      ],
      "execution_count": 10,
      "outputs": [
        {
          "output_type": "execute_result",
          "data": {
            "text/plain": [
              "        TV  sales\n",
              "102  296.4   23.8\n",
              "43   293.6   20.7\n",
              "31   292.9   21.4\n",
              "36   290.7   12.8\n",
              "99   289.7   25.4"
            ],
            "text/html": [
              "\n",
              "  <div id=\"df-c4134518-8c0d-430a-9972-a91e7694f2f4\">\n",
              "    <div class=\"colab-df-container\">\n",
              "      <div>\n",
              "<style scoped>\n",
              "    .dataframe tbody tr th:only-of-type {\n",
              "        vertical-align: middle;\n",
              "    }\n",
              "\n",
              "    .dataframe tbody tr th {\n",
              "        vertical-align: top;\n",
              "    }\n",
              "\n",
              "    .dataframe thead th {\n",
              "        text-align: right;\n",
              "    }\n",
              "</style>\n",
              "<table border=\"1\" class=\"dataframe\">\n",
              "  <thead>\n",
              "    <tr style=\"text-align: right;\">\n",
              "      <th></th>\n",
              "      <th>TV</th>\n",
              "      <th>sales</th>\n",
              "    </tr>\n",
              "  </thead>\n",
              "  <tbody>\n",
              "    <tr>\n",
              "      <th>102</th>\n",
              "      <td>296.4</td>\n",
              "      <td>23.8</td>\n",
              "    </tr>\n",
              "    <tr>\n",
              "      <th>43</th>\n",
              "      <td>293.6</td>\n",
              "      <td>20.7</td>\n",
              "    </tr>\n",
              "    <tr>\n",
              "      <th>31</th>\n",
              "      <td>292.9</td>\n",
              "      <td>21.4</td>\n",
              "    </tr>\n",
              "    <tr>\n",
              "      <th>36</th>\n",
              "      <td>290.7</td>\n",
              "      <td>12.8</td>\n",
              "    </tr>\n",
              "    <tr>\n",
              "      <th>99</th>\n",
              "      <td>289.7</td>\n",
              "      <td>25.4</td>\n",
              "    </tr>\n",
              "  </tbody>\n",
              "</table>\n",
              "</div>\n",
              "      <button class=\"colab-df-convert\" onclick=\"convertToInteractive('df-c4134518-8c0d-430a-9972-a91e7694f2f4')\"\n",
              "              title=\"Convert this dataframe to an interactive table.\"\n",
              "              style=\"display:none;\">\n",
              "        \n",
              "  <svg xmlns=\"http://www.w3.org/2000/svg\" height=\"24px\"viewBox=\"0 0 24 24\"\n",
              "       width=\"24px\">\n",
              "    <path d=\"M0 0h24v24H0V0z\" fill=\"none\"/>\n",
              "    <path d=\"M18.56 5.44l.94 2.06.94-2.06 2.06-.94-2.06-.94-.94-2.06-.94 2.06-2.06.94zm-11 1L8.5 8.5l.94-2.06 2.06-.94-2.06-.94L8.5 2.5l-.94 2.06-2.06.94zm10 10l.94 2.06.94-2.06 2.06-.94-2.06-.94-.94-2.06-.94 2.06-2.06.94z\"/><path d=\"M17.41 7.96l-1.37-1.37c-.4-.4-.92-.59-1.43-.59-.52 0-1.04.2-1.43.59L10.3 9.45l-7.72 7.72c-.78.78-.78 2.05 0 2.83L4 21.41c.39.39.9.59 1.41.59.51 0 1.02-.2 1.41-.59l7.78-7.78 2.81-2.81c.8-.78.8-2.07 0-2.86zM5.41 20L4 18.59l7.72-7.72 1.47 1.35L5.41 20z\"/>\n",
              "  </svg>\n",
              "      </button>\n",
              "      \n",
              "  <style>\n",
              "    .colab-df-container {\n",
              "      display:flex;\n",
              "      flex-wrap:wrap;\n",
              "      gap: 12px;\n",
              "    }\n",
              "\n",
              "    .colab-df-convert {\n",
              "      background-color: #E8F0FE;\n",
              "      border: none;\n",
              "      border-radius: 50%;\n",
              "      cursor: pointer;\n",
              "      display: none;\n",
              "      fill: #1967D2;\n",
              "      height: 32px;\n",
              "      padding: 0 0 0 0;\n",
              "      width: 32px;\n",
              "    }\n",
              "\n",
              "    .colab-df-convert:hover {\n",
              "      background-color: #E2EBFA;\n",
              "      box-shadow: 0px 1px 2px rgba(60, 64, 67, 0.3), 0px 1px 3px 1px rgba(60, 64, 67, 0.15);\n",
              "      fill: #174EA6;\n",
              "    }\n",
              "\n",
              "    [theme=dark] .colab-df-convert {\n",
              "      background-color: #3B4455;\n",
              "      fill: #D2E3FC;\n",
              "    }\n",
              "\n",
              "    [theme=dark] .colab-df-convert:hover {\n",
              "      background-color: #434B5C;\n",
              "      box-shadow: 0px 1px 3px 1px rgba(0, 0, 0, 0.15);\n",
              "      filter: drop-shadow(0px 1px 2px rgba(0, 0, 0, 0.3));\n",
              "      fill: #FFFFFF;\n",
              "    }\n",
              "  </style>\n",
              "\n",
              "      <script>\n",
              "        const buttonEl =\n",
              "          document.querySelector('#df-c4134518-8c0d-430a-9972-a91e7694f2f4 button.colab-df-convert');\n",
              "        buttonEl.style.display =\n",
              "          google.colab.kernel.accessAllowed ? 'block' : 'none';\n",
              "\n",
              "        async function convertToInteractive(key) {\n",
              "          const element = document.querySelector('#df-c4134518-8c0d-430a-9972-a91e7694f2f4');\n",
              "          const dataTable =\n",
              "            await google.colab.kernel.invokeFunction('convertToInteractive',\n",
              "                                                     [key], {});\n",
              "          if (!dataTable) return;\n",
              "\n",
              "          const docLinkHtml = 'Like what you see? Visit the ' +\n",
              "            '<a target=\"_blank\" href=https://colab.research.google.com/notebooks/data_table.ipynb>data table notebook</a>'\n",
              "            + ' to learn more about interactive tables.';\n",
              "          element.innerHTML = '';\n",
              "          dataTable['output_type'] = 'display_data';\n",
              "          await google.colab.output.renderOutput(dataTable, element);\n",
              "          const docLink = document.createElement('div');\n",
              "          docLink.innerHTML = docLinkHtml;\n",
              "          element.appendChild(docLink);\n",
              "        }\n",
              "      </script>\n",
              "    </div>\n",
              "  </div>\n",
              "  "
            ]
          },
          "metadata": {},
          "execution_count": 10
        }
      ]
    },
    {
      "cell_type": "code",
      "source": [
        "# Use the loc expression to find the sale value for row 100\n",
        "advertising.loc[100, 'sales']\n",
        "\n",
        "# Use the loc expression to find the sales value for row 50 to 60\n",
        "advertising = advertising.reset_index(drop=True)\n",
        "advertising.loc[[50, 52, 69], 'sales']"
      ],
      "metadata": {
        "id": "A2jQdC8OWlgc",
        "outputId": "95de666c-407e-4264-a7c5-fc53d764c9c3",
        "colab": {
          "base_uri": "https://localhost:8080/"
        }
      },
      "execution_count": 11,
      "outputs": [
        {
          "output_type": "execute_result",
          "data": {
            "text/plain": [
              "50    12.2\n",
              "52    19.4\n",
              "69    18.3\n",
              "Name: sales, dtype: float64"
            ]
          },
          "metadata": {},
          "execution_count": 11
        }
      ]
    },
    {
      "cell_type": "markdown",
      "metadata": {
        "id": "tx1p0xS8xn96"
      },
      "source": [
        "## Simple Linear Regression: Model Representation\n",
        "\n",
        "In order to describe the model mathematically, we need to introduce a few notations:\n",
        "- The input feature `TV` is represented as variable $X$.\n",
        "- The output/response feature `sales` is represented as variable $Y$.\n",
        "- Each instance of data is represented as $(x^{(i)}, y^{(i)})$, where $i$ is the row index, $x^{(i)}$ is the value corresponding to $X$, and $y^{(i)}$ is the value corresponding to $Y$. For example, $(x^{(0)}, y^{(0)}) = (296.4, 23.8)$.\n",
        "- Let $N$ represent the total number of data. In this case, N = 200.\n",
        "\n",
        "The **simple linear regression** model assumes that the relationship between $X$ and $Y$ is\n",
        "$$Y \\approx f(X) = \\beta_0 + \\beta_1 X.$$\n",
        "\n",
        "- $\\beta_0$ and $\\beta_1$ are called **model parameters**. For simple linear regression, the relationship is characterized as a straight line with slope $\\beta_1$ and y-intercept $\\beta_0$.\n"
      ]
    },
    {
      "cell_type": "code",
      "metadata": {
        "id": "7OG0xPdQxowG",
        "outputId": "adc7a2cb-bb9c-4933-fa89-d2e64eecc056",
        "colab": {
          "base_uri": "https://localhost:8080/"
        }
      },
      "source": [
        "# Train a linear regression model using sklearn\n",
        "from sklearn.linear_model import LinearRegression\n",
        "model_lr = LinearRegression()\n",
        "model_lr.fit(data[['TV']], data[['sales']])"
      ],
      "execution_count": 12,
      "outputs": [
        {
          "output_type": "execute_result",
          "data": {
            "text/plain": [
              "LinearRegression()"
            ]
          },
          "metadata": {},
          "execution_count": 12
        }
      ]
    },
    {
      "cell_type": "code",
      "metadata": {
        "id": "p5ug-sihyEH2",
        "outputId": "f27d0b78-aa01-4540-ee33-91866cf3acd9",
        "colab": {
          "base_uri": "https://localhost:8080/"
        }
      },
      "source": [
        "# The coef_ and intercept_ attributes contain parameter values\n",
        "print(model_lr.coef_) # beta_1\n",
        "print(model_lr.intercept_) # beta_0"
      ],
      "execution_count": 13,
      "outputs": [
        {
          "output_type": "stream",
          "name": "stdout",
          "text": [
            "[[0.04753664]]\n",
            "[7.03259355]\n"
          ]
        }
      ]
    },
    {
      "cell_type": "code",
      "metadata": {
        "id": "7TgQXsAnyHT5",
        "outputId": "3085b343-bc16-47b5-e407-8f58e36d72b0",
        "colab": {
          "base_uri": "https://localhost:8080/",
          "height": 282
        }
      },
      "source": [
        "# Plot the data points and the optimal regression line.\n",
        "m = model_lr.coef_[0, 0]   # slope\n",
        "b = model_lr.intercept_[0] # y-intercept\n",
        "\n",
        "plt.plot(data['TV'], data['sales'], 'b.')\n",
        "x_coordinates = np.array([0,300])\n",
        "y_coordinates = x_coordinates * m + b\n",
        "plt.plot(x_coordinates, y_coordinates, 'g-')"
      ],
      "execution_count": 14,
      "outputs": [
        {
          "output_type": "execute_result",
          "data": {
            "text/plain": [
              "[<matplotlib.lines.Line2D at 0x7f7fb55cafd0>]"
            ]
          },
          "metadata": {},
          "execution_count": 14
        },
        {
          "output_type": "display_data",
          "data": {
            "text/plain": [
              "<Figure size 432x288 with 1 Axes>"
            ],
            "image/png": "[encoded data removed]"
          },
          "metadata": {
            "needs_background": "light"
          }
        }
      ]
    },
    {
      "cell_type": "markdown",
      "metadata": {
        "id": "PDvJFvT-yME3"
      },
      "source": [
        "## Train A Simple Linear Regression Model\n",
        "\n",
        "- For a given set of model parameters, we need a **cost function** (in some occasions also called **loss function**) that measures how well a given line fits the data.\n",
        "- We also need a **training algorithm** that finds values of parameters so that the line fits the data well (usually \"fitting the data well\" means \"minimizing the cost\").\n",
        "\n",
        "For linear regression:\n",
        "- Cost function: \n",
        "    - Mean squared error (MSE)\n",
        "    - Mean absolute error (MAE)\n",
        "    - Other variants\n",
        "- Training algorithm: \n",
        "    - Normal equation\n",
        "    - Gradient descent"
      ]
    },
    {
      "cell_type": "markdown",
      "metadata": {
        "id": "aWHfwa8xzCh1"
      },
      "source": [
        "## Simple Linear Regression: Cost Function\n",
        "A common choice of cost function is the **mean squared error (MSE) function**. It is defined as\n",
        "$$\\begin{align}\n",
        "MSE(\\beta_0, \\beta_1) =& \n",
        "\\frac{1}{N}\\sum_{i=1}^N (y^{(i)} - f(x^{(i)}))^2 \\\\\n",
        "=& \\frac{1}{N}\\sum_{i=1}^N\\big(y^{(i)} - \\beta_0 - \\beta_1x^{(i)}\\big)^2.\n",
        "\\end{align}$$"
      ]
    },
    {
      "cell_type": "markdown",
      "metadata": {
        "id": "GW1mYje6zIm6"
      },
      "source": [
        "To better understand the MSE function, let's calculate the value $MSE(7.03, 0.04)$."
      ]
    },
    {
      "cell_type": "code",
      "metadata": {
        "id": "mO4pOxm4zZ-g",
        "outputId": "10a20c72-db4c-46ce-fbef-d6cb8e7084b0",
        "colab": {
          "base_uri": "https://localhost:8080/"
        }
      },
      "source": [
        "# Example:\n",
        "# Calculate the squared error of the model on the first record.\n",
        "\n",
        "beta0 = 7.03\n",
        "beta1 = 0.04\n",
        "\n",
        "x1 = data.loc[1, 'TV'] # 230.1\n",
        "y1 = data.loc[1, 'sales'] #22.1\n",
        "print(\"x1, y1:\", x1, y1)\n",
        "\n",
        "# Calculate f(x1) = beta0 + beta1 * x1\n",
        "f_x1 = beta0 + beta1 * x1\n",
        "\n",
        "# Calculate the squared error (y1 - f(x1)) ** 2\n",
        "squared_error = (y1 - f_x1) ** 2\n",
        "\n",
        "# squared_error = (y1 - beta0 - beta1 * x1) ** 2\n",
        "\n",
        "print(\"Squared error from Record 1:\", squared_error)"
      ],
      "execution_count": 16,
      "outputs": [
        {
          "output_type": "stream",
          "name": "stdout",
          "text": [
            "x1, y1: 230.1 22.1\n",
            "Squared error from Record 1: 34.409955999999994\n"
          ]
        }
      ]
    },
    {
      "cell_type": "code",
      "metadata": {
        "id": "z1sV3w--0A6i",
        "outputId": "67271a46-e333-4aaa-e0d4-fc716411def0",
        "colab": {
          "base_uri": "https://localhost:8080/"
        }
      },
      "source": [
        "# Example:\n",
        "# Calculate the squared error of the model on an arbitrary record.\n",
        "\n",
        "beta0 = 7.03\n",
        "beta1 = 0.04\n",
        "\n",
        "i = 100  # index of the record\n",
        "xi = data.loc[i, 'TV']\n",
        "yi = data.loc[i, 'sales']\n",
        "print(\"xi, yi:\", xi, yi)\n",
        "\n",
        "# Calculate f(xi)\n",
        "f_xi = beta0 + beta1 * xi\n",
        "\n",
        "# Calculate the squared error (yi - f(xi)) ** 2\n",
        "squared_error = (yi - f_xi) ** 2\n",
        "\n",
        "print(\"Squared error for Record %d:\" % i, squared_error)"
      ],
      "execution_count": 17,
      "outputs": [
        {
          "output_type": "stream",
          "name": "stdout",
          "text": [
            "xi, yi: 135.2 17.2\n",
            "Squared error for Record 100: 22.676644000000003\n"
          ]
        }
      ]
    },
    {
      "cell_type": "code",
      "metadata": {
        "id": "zWD4Yuf20Vnn"
      },
      "source": [
        "# Write a function that produces the squared error given beta0, beta1, data, and i\n",
        "def get_squared_error(beta0, beta1, data, i):\n",
        "\n",
        "    xi = data.loc[i, 'TV']\n",
        "    yi = data.loc[i, 'sales']\n",
        "    # print(\"xi, yi:\", xi, yi)\n",
        "\n",
        "    # Calculate f(xi)\n",
        "    f_xi = beta0 + beta1 * xi\n",
        "\n",
        "    # Calculate the squared error (yi - f(xi)) ** 2\n",
        "    squared_error = (yi - f_xi) ** 2\n",
        "\n",
        "    return squared_error"
      ],
      "execution_count": 18,
      "outputs": []
    },
    {
      "cell_type": "code",
      "source": [
        "get_squared_error(7.03, 0.04, data, 100)"
      ],
      "metadata": {
        "id": "DgBwQOIPkyTF",
        "outputId": "d911e0fa-41b5-4d2b-f463-a13ca495062d",
        "colab": {
          "base_uri": "https://localhost:8080/"
        }
      },
      "execution_count": 19,
      "outputs": [
        {
          "output_type": "execute_result",
          "data": {
            "text/plain": [
              "22.676644000000003"
            ]
          },
          "metadata": {},
          "execution_count": 19
        }
      ]
    },
    {
      "cell_type": "code",
      "metadata": {
        "id": "DO0O9zPd0gto",
        "outputId": "8f5910c5-7d1f-4f8b-cad7-9f56e6fbe666",
        "colab": {
          "base_uri": "https://localhost:8080/"
        }
      },
      "source": [
        "# Create a list that contains value of (y_1 - f(x_1))^2 for i=1,...,200.\n",
        "list_errors = []\n",
        "for ind in data.index:\n",
        "    # call function `get_sqaured_error` with ind\n",
        "    squared_error = get_squared_error(7.03, 0.04, data, ind)\n",
        "    # append squared error to `list_errors`\n",
        "    list_errors.append(squared_error)\n",
        "    \n",
        "print(list_errors)"
      ],
      "execution_count": 20,
      "outputs": [
        {
          "output_type": "stream",
          "name": "stdout",
          "text": [
            "[24.147396000000015, 3.709475999999994, 7.043716, 34.31616400000001, 45.995524, 58.76755599999995, 6.604899999999993, 11.573604000000007, 50.779875999999966, 37.38099600000001, 4.65696399999999, 11.819843999999993, 79.10323600000004, 39.664803999999975, 7.963683999999995, 59.19763599999999, 0.06451600000000068, 24.383844000000025, 30.758115999999994, 7.086243999999994, 45.131524, 6.522915999999992, 0.17472399999999938, 26.357956000000005, 3.678723999999997, 10.458755999999989, 74.684164, 26.030404000000004, 0.538756, 11.792356000000007, 43.21747599999998, 18.679683999999995, 0.8136040000000019, 17.156163999999997, 5.635875999999994, 16.208675999999997, 20.3401, 8.491395999999998, 34.409955999999994, 12.180099999999989, 0.4382440000000034, 28.622499999999977, 1.7371239999999943, 7.086244000000004, 19.27210000000002, 19.589476000000015, 17.859076000000023, 18.0625, 78.46416399999994, 14.273284000000016, 12.744900000000001, 4.990755999999992, 13.410243999999993, 43.53360399999999, 47.80339600000002, 2.114116000000002, 3.1755240000000002, 37.57689999999999, 2.056356000000003, 69.52224400000001, 8.655364, 0.2361959999999989, 5.7888360000000025, 9.622404000000001, 54.31690000000002, 14.485636000000007, 2.160900000000007, 13.118884000000012, 19.55408400000002, 10.929636000000006, 75.93379599999997, 2.7755560000000012, 10.458756000000012, 57.06291599999998, 19.554084000000007, 0.19536400000000015, 6.895876000000007, 0.11155599999999975, 0.023715999999999973, 1.1193639999999958, 39.363075999999964, 1.153475999999996, 47.14195599999999, 1.8550440000000004, 1.7160999999999966, 8.940100000000012, 0.0017639999999999845, 0.7499560000000025, 0.2209000000000006, 26.193923999999985, 4.571044000000007, 4.2683560000000105, 34.786404, 1.1109160000000005, 0.792100000000001, 19.624899999999997, 11.142243999999982, 7.806436000000002, 29.2681, 8.538084000000014, 18.335524, 2.815683999999997, 5.080515999999998, 7.941123999999998, 5.484964000000002, 5.336099999999994, 0.636804, 0.15840399999999974, 44.275715999999996, 0.5212839999999993, 22.676644000000003, 1.4448040000000042, 0.3624040000000004, 32.78707599999999, 1.4544359999999987, 14.760964000000005, 10.536515999999992, 0.07290000000000073, 5.52249999999999, 1.8550439999999955, 0.03312400000000014, 0.4488999999999999, 0.1253160000000007, 20.629763999999998, 0.9564839999999996, 27.857283999999986, 0.03027599999999982, 0.6625960000000001, 8.19104399999999, 0.11971600000000006, 1.512900000000001, 1.7371240000000037, 0.2724840000000002, 1.8441640000000015, 1.2056040000000017, 20.376195999999993, 3.786916000000006, 0.00032400000000002457, 5.466243999999996, 0.00672399999999983, 8.076964000000004, 2.0678439999999965, 19.731363999999985, 0.4705959999999999, 2.9377960000000014, 3.678723999999997, 0.022500000000000107, 1.5825640000000023, 6.584355999999994, 21.92112399999999, 0.8723559999999987, 0.417316000000001, 2.256004000000002, 0.2401000000000002, 14.699555999999998, 7.606563999999995, 3.600000000000273e-05, 1.1534759999999997, 0.031683999999999664, 0.08179599999999976, 6.100900000000003, 0.3340840000000014, 1.1449000000000007, 0.396900000000001, 6.959044, 1.6435239999999955, 2.5280999999999993, 1.8117159999999954, 0.7224999999999994, 4.796100000000005, 0.9177640000000004, 5.522499999999998, 5.262436000000002, 1.4640999999999977, 0.7638759999999994, 1.512900000000001, 0.4872040000000006, 2.090915999999999, 0.21715599999999935, 0.6889000000000016, 1.4835239999999978, 0.04579600000000018, 1.454436000000001, 0.6115240000000001, 1.1620840000000006, 0.06451599999999978, 2.5027240000000024, 3.3051239999999984, 0.9880359999999978, 3.833764000000001, 5.080516000000002, 0.039204000000000155, 0.031683999999999976, 6.6254760000000035, 2.7755560000000012, 0.5505640000000013, 3.319684, 3.7869160000000024, 15.952035999999998, 29.789764]\n"
          ]
        }
      ]
    },
    {
      "cell_type": "code",
      "metadata": {
        "id": "z-CuWXTJ0ymr",
        "outputId": "eee07b19-4eb5-4552-a33d-3e61d2bd6f63",
        "colab": {
          "base_uri": "https://localhost:8080/"
        }
      },
      "source": [
        "# Create list_errors using list comprehension\n",
        "\n",
        "list_errors = [get_squared_error(7.03, 0.04, data, ind) for ind in data.index]\n",
        "print(list_errors)"
      ],
      "execution_count": 21,
      "outputs": [
        {
          "output_type": "stream",
          "name": "stdout",
          "text": [
            "[24.147396000000015, 3.709475999999994, 7.043716, 34.31616400000001, 45.995524, 58.76755599999995, 6.604899999999993, 11.573604000000007, 50.779875999999966, 37.38099600000001, 4.65696399999999, 11.819843999999993, 79.10323600000004, 39.664803999999975, 7.963683999999995, 59.19763599999999, 0.06451600000000068, 24.383844000000025, 30.758115999999994, 7.086243999999994, 45.131524, 6.522915999999992, 0.17472399999999938, 26.357956000000005, 3.678723999999997, 10.458755999999989, 74.684164, 26.030404000000004, 0.538756, 11.792356000000007, 43.21747599999998, 18.679683999999995, 0.8136040000000019, 17.156163999999997, 5.635875999999994, 16.208675999999997, 20.3401, 8.491395999999998, 34.409955999999994, 12.180099999999989, 0.4382440000000034, 28.622499999999977, 1.7371239999999943, 7.086244000000004, 19.27210000000002, 19.589476000000015, 17.859076000000023, 18.0625, 78.46416399999994, 14.273284000000016, 12.744900000000001, 4.990755999999992, 13.410243999999993, 43.53360399999999, 47.80339600000002, 2.114116000000002, 3.1755240000000002, 37.57689999999999, 2.056356000000003, 69.52224400000001, 8.655364, 0.2361959999999989, 5.7888360000000025, 9.622404000000001, 54.31690000000002, 14.485636000000007, 2.160900000000007, 13.118884000000012, 19.55408400000002, 10.929636000000006, 75.93379599999997, 2.7755560000000012, 10.458756000000012, 57.06291599999998, 19.554084000000007, 0.19536400000000015, 6.895876000000007, 0.11155599999999975, 0.023715999999999973, 1.1193639999999958, 39.363075999999964, 1.153475999999996, 47.14195599999999, 1.8550440000000004, 1.7160999999999966, 8.940100000000012, 0.0017639999999999845, 0.7499560000000025, 0.2209000000000006, 26.193923999999985, 4.571044000000007, 4.2683560000000105, 34.786404, 1.1109160000000005, 0.792100000000001, 19.624899999999997, 11.142243999999982, 7.806436000000002, 29.2681, 8.538084000000014, 18.335524, 2.815683999999997, 5.080515999999998, 7.941123999999998, 5.484964000000002, 5.336099999999994, 0.636804, 0.15840399999999974, 44.275715999999996, 0.5212839999999993, 22.676644000000003, 1.4448040000000042, 0.3624040000000004, 32.78707599999999, 1.4544359999999987, 14.760964000000005, 10.536515999999992, 0.07290000000000073, 5.52249999999999, 1.8550439999999955, 0.03312400000000014, 0.4488999999999999, 0.1253160000000007, 20.629763999999998, 0.9564839999999996, 27.857283999999986, 0.03027599999999982, 0.6625960000000001, 8.19104399999999, 0.11971600000000006, 1.512900000000001, 1.7371240000000037, 0.2724840000000002, 1.8441640000000015, 1.2056040000000017, 20.376195999999993, 3.786916000000006, 0.00032400000000002457, 5.466243999999996, 0.00672399999999983, 8.076964000000004, 2.0678439999999965, 19.731363999999985, 0.4705959999999999, 2.9377960000000014, 3.678723999999997, 0.022500000000000107, 1.5825640000000023, 6.584355999999994, 21.92112399999999, 0.8723559999999987, 0.417316000000001, 2.256004000000002, 0.2401000000000002, 14.699555999999998, 7.606563999999995, 3.600000000000273e-05, 1.1534759999999997, 0.031683999999999664, 0.08179599999999976, 6.100900000000003, 0.3340840000000014, 1.1449000000000007, 0.396900000000001, 6.959044, 1.6435239999999955, 2.5280999999999993, 1.8117159999999954, 0.7224999999999994, 4.796100000000005, 0.9177640000000004, 5.522499999999998, 5.262436000000002, 1.4640999999999977, 0.7638759999999994, 1.512900000000001, 0.4872040000000006, 2.090915999999999, 0.21715599999999935, 0.6889000000000016, 1.4835239999999978, 0.04579600000000018, 1.454436000000001, 0.6115240000000001, 1.1620840000000006, 0.06451599999999978, 2.5027240000000024, 3.3051239999999984, 0.9880359999999978, 3.833764000000001, 5.080516000000002, 0.039204000000000155, 0.031683999999999976, 6.6254760000000035, 2.7755560000000012, 0.5505640000000013, 3.319684, 3.7869160000000024, 15.952035999999998, 29.789764]\n"
          ]
        }
      ]
    },
    {
      "cell_type": "code",
      "metadata": {
        "id": "jIvs1hdq05Et",
        "outputId": "3b564fb9-d181-4a0e-d558-52c6f16cf3ac",
        "colab": {
          "base_uri": "https://localhost:8080/"
        }
      },
      "source": [
        "# Calculate the MSE\n",
        "\n",
        "MSE = sum(list_errors) / len(list_errors)\n",
        "\n",
        "print(\"MSE:\", MSE)"
      ],
      "execution_count": 22,
      "outputs": [
        {
          "output_type": "stream",
          "name": "stdout",
          "text": [
            "MSE: 12.163113120000013\n"
          ]
        }
      ]
    },
    {
      "cell_type": "code",
      "metadata": {
        "id": "fjnGTY_809MO"
      },
      "source": [
        "# Write a function MSE(beta0, beta1, data) that returns the value of MSE with given beta0 and beta1.\n",
        "def get_MSE(beta0, beta1, data):\n",
        "\n",
        "    list_errors = [get_squared_error(beta0, beta1, data, ind) for ind in data.index]\n",
        "\n",
        "    MSE = sum(list_errors) / len(list_errors)\n",
        "\n",
        "    return MSE"
      ],
      "execution_count": 23,
      "outputs": []
    },
    {
      "cell_type": "markdown",
      "metadata": {
        "id": "SGWuXzWK1AAK"
      },
      "source": [
        "Now, use function `get_MSE` to obtain the MSE for the following two sets of parameter values\n",
        "- Case 1: $\\beta_0 = 7.03, \\beta_1 = 0.04$\n",
        "- Case 2: $\\beta_0 = 5, \\beta_1 = 1$\n",
        "\n",
        "Which one fits the data better?"
      ]
    },
    {
      "cell_type": "code",
      "metadata": {
        "id": "-cSOk1Dw1aYm",
        "outputId": "4a3519e8-9880-42bb-f1dc-17bd1539854f",
        "colab": {
          "base_uri": "https://localhost:8080/"
        }
      },
      "source": [
        "get_MSE(7.03, 0.04, data)"
      ],
      "execution_count": 25,
      "outputs": [
        {
          "output_type": "execute_result",
          "data": {
            "text/plain": [
              "12.163113120000013"
            ]
          },
          "metadata": {},
          "execution_count": 25
        }
      ]
    },
    {
      "cell_type": "code",
      "source": [
        "get_MSE(5, 1, data)"
      ],
      "metadata": {
        "id": "7RuArF3JLbf2",
        "outputId": "ee4067ad-d8e1-4331-9f35-e8169c418eab",
        "colab": {
          "base_uri": "https://localhost:8080/"
        }
      },
      "execution_count": 26,
      "outputs": [
        {
          "output_type": "execute_result",
          "data": {
            "text/plain": [
              "25713.424799999993"
            ]
          },
          "metadata": {},
          "execution_count": 26
        }
      ]
    },
    {
      "cell_type": "code",
      "source": [
        "# Also compare to the values calculated by the LinearRegression class\n",
        "get_MSE(7.03259355, 0.04753664, data)"
      ],
      "metadata": {
        "id": "7_uLviRGw4bK",
        "outputId": "60b5b689-0a3d-477f-c0b7-728c17e11fe8",
        "colab": {
          "base_uri": "https://localhost:8080/"
        }
      },
      "execution_count": 27,
      "outputs": [
        {
          "output_type": "execute_result",
          "data": {
            "text/plain": [
              "10.512652915656753"
            ]
          },
          "metadata": {},
          "execution_count": 27
        }
      ]
    },
    {
      "cell_type": "markdown",
      "metadata": {
        "id": "C9nwZT2h1gWZ"
      },
      "source": [
        "Now that we have obtained the cost function, our next goal is to find the parameter values that minimizes the cost value."
      ]
    },
    {
      "cell_type": "code",
      "source": [
        "data.head()"
      ],
      "metadata": {
        "id": "vtElCKLqqj2D",
        "outputId": "4985dd5d-d7df-4740-8b9f-cc565e2dc65c",
        "colab": {
          "base_uri": "https://localhost:8080/",
          "height": 206
        }
      },
      "execution_count": 29,
      "outputs": [
        {
          "output_type": "execute_result",
          "data": {
            "text/plain": [
              "        TV  sales\n",
              "102  296.4   23.8\n",
              "43   293.6   20.7\n",
              "31   292.9   21.4\n",
              "36   290.7   12.8\n",
              "99   289.7   25.4"
            ],
            "text/html": [
              "\n",
              "  <div id=\"df-ac41aad5-001d-4e6b-a91e-0b969c0d9ee6\">\n",
              "    <div class=\"colab-df-container\">\n",
              "      <div>\n",
              "<style scoped>\n",
              "    .dataframe tbody tr th:only-of-type {\n",
              "        vertical-align: middle;\n",
              "    }\n",
              "\n",
              "    .dataframe tbody tr th {\n",
              "        vertical-align: top;\n",
              "    }\n",
              "\n",
              "    .dataframe thead th {\n",
              "        text-align: right;\n",
              "    }\n",
              "</style>\n",
              "<table border=\"1\" class=\"dataframe\">\n",
              "  <thead>\n",
              "    <tr style=\"text-align: right;\">\n",
              "      <th></th>\n",
              "      <th>TV</th>\n",
              "      <th>sales</th>\n",
              "    </tr>\n",
              "  </thead>\n",
              "  <tbody>\n",
              "    <tr>\n",
              "      <th>102</th>\n",
              "      <td>296.4</td>\n",
              "      <td>23.8</td>\n",
              "    </tr>\n",
              "    <tr>\n",
              "      <th>43</th>\n",
              "      <td>293.6</td>\n",
              "      <td>20.7</td>\n",
              "    </tr>\n",
              "    <tr>\n",
              "      <th>31</th>\n",
              "      <td>292.9</td>\n",
              "      <td>21.4</td>\n",
              "    </tr>\n",
              "    <tr>\n",
              "      <th>36</th>\n",
              "      <td>290.7</td>\n",
              "      <td>12.8</td>\n",
              "    </tr>\n",
              "    <tr>\n",
              "      <th>99</th>\n",
              "      <td>289.7</td>\n",
              "      <td>25.4</td>\n",
              "    </tr>\n",
              "  </tbody>\n",
              "</table>\n",
              "</div>\n",
              "      <button class=\"colab-df-convert\" onclick=\"convertToInteractive('df-ac41aad5-001d-4e6b-a91e-0b969c0d9ee6')\"\n",
              "              title=\"Convert this dataframe to an interactive table.\"\n",
              "              style=\"display:none;\">\n",
              "        \n",
              "  <svg xmlns=\"http://www.w3.org/2000/svg\" height=\"24px\"viewBox=\"0 0 24 24\"\n",
              "       width=\"24px\">\n",
              "    <path d=\"M0 0h24v24H0V0z\" fill=\"none\"/>\n",
              "    <path d=\"M18.56 5.44l.94 2.06.94-2.06 2.06-.94-2.06-.94-.94-2.06-.94 2.06-2.06.94zm-11 1L8.5 8.5l.94-2.06 2.06-.94-2.06-.94L8.5 2.5l-.94 2.06-2.06.94zm10 10l.94 2.06.94-2.06 2.06-.94-2.06-.94-.94-2.06-.94 2.06-2.06.94z\"/><path d=\"M17.41 7.96l-1.37-1.37c-.4-.4-.92-.59-1.43-.59-.52 0-1.04.2-1.43.59L10.3 9.45l-7.72 7.72c-.78.78-.78 2.05 0 2.83L4 21.41c.39.39.9.59 1.41.59.51 0 1.02-.2 1.41-.59l7.78-7.78 2.81-2.81c.8-.78.8-2.07 0-2.86zM5.41 20L4 18.59l7.72-7.72 1.47 1.35L5.41 20z\"/>\n",
              "  </svg>\n",
              "      </button>\n",
              "      \n",
              "  <style>\n",
              "    .colab-df-container {\n",
              "      display:flex;\n",
              "      flex-wrap:wrap;\n",
              "      gap: 12px;\n",
              "    }\n",
              "\n",
              "    .colab-df-convert {\n",
              "      background-color: #E8F0FE;\n",
              "      border: none;\n",
              "      border-radius: 50%;\n",
              "      cursor: pointer;\n",
              "      display: none;\n",
              "      fill: #1967D2;\n",
              "      height: 32px;\n",
              "      padding: 0 0 0 0;\n",
              "      width: 32px;\n",
              "    }\n",
              "\n",
              "    .colab-df-convert:hover {\n",
              "      background-color: #E2EBFA;\n",
              "      box-shadow: 0px 1px 2px rgba(60, 64, 67, 0.3), 0px 1px 3px 1px rgba(60, 64, 67, 0.15);\n",
              "      fill: #174EA6;\n",
              "    }\n",
              "\n",
              "    [theme=dark] .colab-df-convert {\n",
              "      background-color: #3B4455;\n",
              "      fill: #D2E3FC;\n",
              "    }\n",
              "\n",
              "    [theme=dark] .colab-df-convert:hover {\n",
              "      background-color: #434B5C;\n",
              "      box-shadow: 0px 1px 3px 1px rgba(0, 0, 0, 0.15);\n",
              "      filter: drop-shadow(0px 1px 2px rgba(0, 0, 0, 0.3));\n",
              "      fill: #FFFFFF;\n",
              "    }\n",
              "  </style>\n",
              "\n",
              "      <script>\n",
              "        const buttonEl =\n",
              "          document.querySelector('#df-ac41aad5-001d-4e6b-a91e-0b969c0d9ee6 button.colab-df-convert');\n",
              "        buttonEl.style.display =\n",
              "          google.colab.kernel.accessAllowed ? 'block' : 'none';\n",
              "\n",
              "        async function convertToInteractive(key) {\n",
              "          const element = document.querySelector('#df-ac41aad5-001d-4e6b-a91e-0b969c0d9ee6');\n",
              "          const dataTable =\n",
              "            await google.colab.kernel.invokeFunction('convertToInteractive',\n",
              "                                                     [key], {});\n",
              "          if (!dataTable) return;\n",
              "\n",
              "          const docLinkHtml = 'Like what you see? Visit the ' +\n",
              "            '<a target=\"_blank\" href=https://colab.research.google.com/notebooks/data_table.ipynb>data table notebook</a>'\n",
              "            + ' to learn more about interactive tables.';\n",
              "          element.innerHTML = '';\n",
              "          dataTable['output_type'] = 'display_data';\n",
              "          await google.colab.output.renderOutput(dataTable, element);\n",
              "          const docLink = document.createElement('div');\n",
              "          docLink.innerHTML = docLinkHtml;\n",
              "          element.appendChild(docLink);\n",
              "        }\n",
              "      </script>\n",
              "    </div>\n",
              "  </div>\n",
              "  "
            ]
          },
          "metadata": {},
          "execution_count": 29
        }
      ]
    },
    {
      "cell_type": "markdown",
      "source": [
        "In fact, we can use `mean_squared_error` function from `sklearn.metrics` to calculate the MSE."
      ],
      "metadata": {
        "id": "VHxRhj0xLyem"
      }
    },
    {
      "cell_type": "code",
      "source": [
        "from sklearn.metrics import mean_squared_error\n",
        "beta0 = 5\n",
        "beta1 = 1\n",
        "y_pred = beta0 + beta1 * data['TV']\n",
        "# y_pred is a list of 200 predictions\n",
        "# y_pred\n",
        "mean_squared_error(data['sales'], y_pred)\n"
      ],
      "metadata": {
        "id": "zTVkBMyKMISM",
        "outputId": "be6c6cd4-aa36-4d71-f7c7-6916f83488e6",
        "colab": {
          "base_uri": "https://localhost:8080/"
        }
      },
      "execution_count": 31,
      "outputs": [
        {
          "output_type": "execute_result",
          "data": {
            "text/plain": [
              "25713.4248"
            ]
          },
          "metadata": {},
          "execution_count": 31
        }
      ]
    },
    {
      "cell_type": "markdown",
      "metadata": {
        "id": "CJakGFWK1vIq"
      },
      "source": [
        "# Simple Linear Regression: Training Algorithm\n",
        "To find the value of $\\beta_0, \\beta_1$ that minimizes the MSE cost function, there is a formula called the **normal equation** that gives the result directly:\n",
        "\n",
        "$$\\begin{pmatrix} \\beta_0 \\\\ \\beta_1 \\end{pmatrix} = (\\textbf{X}^T\\cdot\\textbf{X})^{-1}\\cdot\\textbf{X}^T\\cdot\\textbf{y}.$$\n",
        "\n",
        "- $\\textbf{X}$ is the matrix formed as \n",
        "$$\\textbf{X} = \\begin{pmatrix} \n",
        "1 & x^{(1)} \\\\\n",
        "1 & x^{(2)} \\\\\n",
        "\\vdots & \\vdots \\\\\n",
        "1 & x^{(N)} \\\\\n",
        "\\end{pmatrix}.$$\n",
        "- $\\textbf{X}^T$ represents the **matrix transpose** of $\\textbf{X}$.\n",
        "- $\\cdot$ represents **matrix multiplication**.\n",
        "- $^{-1}$ represents **matrix inverse**.\n",
        "- $\\textbf{y}$ is the vector of target values\n",
        "$$\\textbf{y} = \\begin{pmatrix} \n",
        "y^{(1)} \\\\\n",
        "y^{(2)} \\\\\n",
        "\\vdots \\\\\n",
        "y^{(N)} \\\\\n",
        "\\end{pmatrix}.$$"
      ]
    },
    {
      "cell_type": "markdown",
      "metadata": {
        "id": "M9LHCexK1wlQ"
      },
      "source": [
        "Let's apply the normal equation and find the best parameter values."
      ]
    },
    {
      "cell_type": "code",
      "source": [
        "# A numpy array is a numpy data types to support matrix computations.\n",
        "ary = np.array([[1, 2],\n",
        "                [3, 4]])\n",
        "print(ary)\n",
        "\n",
        "ary2 = np.array([[5, 6], [7, 8]])\n",
        "print(ary2)\n",
        "\n",
        "print(ary * ary2) # This is component-wise multiplication\n",
        "print(ary.dot(ary2)) # This computes the matrix multiplication"
      ],
      "metadata": {
        "id": "hGoTlaHX2uFa",
        "outputId": "63bdac7d-4ac0-4f7f-ce71-ba84e5706838",
        "colab": {
          "base_uri": "https://localhost:8080/"
        }
      },
      "execution_count": 35,
      "outputs": [
        {
          "output_type": "stream",
          "name": "stdout",
          "text": [
            "[[1 2]\n",
            " [3 4]]\n",
            "[[5 6]\n",
            " [7 8]]\n",
            "[[ 5 12]\n",
            " [21 32]]\n",
            "[[19 22]\n",
            " [43 50]]\n"
          ]
        }
      ]
    },
    {
      "cell_type": "code",
      "metadata": {
        "id": "AWJkxe-31_D1",
        "outputId": "68574610-1c0f-4063-9656-0d1e85eeb912",
        "colab": {
          "base_uri": "https://localhost:8080/"
        }
      },
      "source": [
        "# Construct X and y as numpy arrays\n",
        "\n",
        "# np.ones() creates a matrix filled with ones.\n",
        "# print(np.ones([len(data), 1])) # This generates a 200 * 1 matrix\n",
        "# data[['TV']].values # .values converts a data frame to a numpy array\n",
        "             # Having two layers of [] will create a 2D array\n",
        "# Use np.hstack to combine these two columns\n",
        "\n",
        "X = np.hstack([np.ones([len(data), 1]), data[['TV']].values])\n",
        "# print(X)\n",
        "y = data[['sales']].values\n",
        "# print(y)\n",
        "\n",
        "# X.T # matrix transpose\n",
        "# A.dot(B) # matrix multiplication\n",
        "# np.linalg.inv(X) # matrix inverse\n",
        "\n",
        "beta = np.linalg.inv(X.T.dot(X)).dot(X.T).dot(y)\n",
        "print(beta)"
      ],
      "execution_count": 49,
      "outputs": [
        {
          "output_type": "stream",
          "name": "stdout",
          "text": [
            "[[7.03259355]\n",
            " [0.04753664]]\n"
          ]
        }
      ]
    },
    {
      "cell_type": "code",
      "metadata": {
        "id": "qViLTn0d2B1f",
        "outputId": "11f10a47-110a-4415-994e-192d5020d604",
        "colab": {
          "base_uri": "https://localhost:8080/"
        }
      },
      "source": [
        "get_MSE(7.0325955, 0.04753664, data)"
      ],
      "execution_count": 50,
      "outputs": [
        {
          "output_type": "execute_result",
          "data": {
            "text/plain": [
              "10.51265291566031"
            ]
          },
          "metadata": {},
          "execution_count": 50
        }
      ]
    },
    {
      "cell_type": "code",
      "metadata": {
        "id": "Pt2Y5UAO2Ddq",
        "outputId": "5805b062-81c0-4383-b0fb-4e1a95a97ad1",
        "colab": {
          "base_uri": "https://localhost:8080/",
          "height": 282
        }
      },
      "source": [
        "# Plot the data points and the optimal regression line.\n",
        "plt.plot(data['TV'], data['sales'], 'b.')\n",
        "x_coordinates = np.array([0,300])\n",
        "y_coordinates = x_coordinates * 0.047 + 7.03\n",
        "plt.plot(x_coordinates, y_coordinates, 'g-')"
      ],
      "execution_count": 51,
      "outputs": [
        {
          "output_type": "execute_result",
          "data": {
            "text/plain": [
              "[<matplotlib.lines.Line2D at 0x7f7fb4632e90>]"
            ]
          },
          "metadata": {},
          "execution_count": 51
        },
        {
          "output_type": "display_data",
          "data": {
            "text/plain": [
              "<Figure size 432x288 with 1 Axes>"
            ],
            "image/png": "[encoded data removed]"
          },
          "metadata": {
            "needs_background": "light"
          }
        }
      ]
    },
    {
      "cell_type": "code",
      "metadata": {
        "id": "vQaE6kul2Gy7"
      },
      "source": [],
      "execution_count": null,
      "outputs": []
    }
  ]
}