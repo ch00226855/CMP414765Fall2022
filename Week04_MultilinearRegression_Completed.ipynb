{
  "nbformat": 4,
  "nbformat_minor": 0,
  "metadata": {
    "colab": {
      "provenance": [],
      "collapsed_sections": [],
      "include_colab_link": true
    },
    "kernelspec": {
      "name": "python3",
      "display_name": "Python 3"
    }
  },
  "cells": [
    {
      "cell_type": "markdown",
      "metadata": {
        "id": "view-in-github",
        "colab_type": "text"
      },
      "source": [
        "<a href=\"https://colab.research.google.com/github/ch00226855/CMP414765Fall2022/blob/main/Week04_MultilinearRegression_Completed.ipynb\" target=\"_parent\"><img src=\"https://colab.research.google.com/assets/colab-badge.svg\" alt=\"Open In Colab\"/></a>"
      ]
    },
    {
      "cell_type": "markdown",
      "metadata": {
        "id": "VXhaotNQxr2w"
      },
      "source": [
        "# Week 4\n",
        "# Multilinear Regression\n",
        "\n",
        "Last time we looked at a simple linear regression model $sales = \\beta_0 + \\beta_1\\cdot\\textit{TV advertising budget}$. More generally, a linear model makes a prediction by computing a weighted sum of their input features (plus a constant).\n",
        "\n",
        "**Reading: Chapter 4**"
      ]
    },
    {
      "cell_type": "markdown",
      "metadata": {
        "id": "81lHyTpwx0zu"
      },
      "source": [
        "## Multilinear Regression: Model Assumptions\n",
        "**Model**:\n",
        "\n",
        "$\\hat{y} = \\theta_0 + \\theta_1x_1 + \\theta_2x_2 +\\cdots + \\theta_nx_n$\n",
        "1. $\\hat{y}$ is the predicted value.\n",
        "2. $n$ is the number of features.\n",
        "3. $x_i$ is the i-th feature value.\n",
        "4. $\\theta_i$ is the i-th model parameter (associated with $x_i$)."
      ]
    },
    {
      "cell_type": "code",
      "metadata": {
        "id": "azLxHqqUx02U"
      },
      "source": [
        "import numpy as np\n",
        "import pandas as pd\n",
        "import matplotlib.pyplot as plt\n",
        "# Set print format on floating point numbers\n",
        "np.set_printoptions(formatter={'float': lambda x: \"{0:0.5f}\".format(x)})\n",
        "%matplotlib inline"
      ],
      "execution_count": 24,
      "outputs": []
    },
    {
      "cell_type": "code",
      "metadata": {
        "id": "cb5RGmIdx04v",
        "colab": {
          "base_uri": "https://localhost:8080/",
          "height": 206
        },
        "outputId": "05ae840e-644a-4db5-935f-3d68534b13f2"
      },
      "source": [
        "# Toy example\n",
        "# columns = ['Homework', 'Midterm', 'Final']\n",
        "data = pd.DataFrame({\n",
        "    \"Homework\": [95, 70, 80, 100, 70],\n",
        "    \"Midterm\": [90, 60, 80, 80, 85],\n",
        "    \"Final\": [93, 66, 85, 60, 90]\n",
        "}, index=[\"Alice\", \"Bob\", \"Clare\", \"David\", \"Eve\"])\n",
        "\n",
        "data"
      ],
      "execution_count": null,
      "outputs": [
        {
          "output_type": "execute_result",
          "data": {
            "text/plain": [
              "       Homework  Midterm  Final\n",
              "Alice        95       90     93\n",
              "Bob          70       60     66\n",
              "Clare        80       80     85\n",
              "David       100       80     60\n",
              "Eve          70       85     90"
            ],
            "text/html": [
              "\n",
              "  <div id=\"df-6af07bc4-d086-45d6-90a9-81bc9089bc80\">\n",
              "    <div class=\"colab-df-container\">\n",
              "      <div>\n",
              "<style scoped>\n",
              "    .dataframe tbody tr th:only-of-type {\n",
              "        vertical-align: middle;\n",
              "    }\n",
              "\n",
              "    .dataframe tbody tr th {\n",
              "        vertical-align: top;\n",
              "    }\n",
              "\n",
              "    .dataframe thead th {\n",
              "        text-align: right;\n",
              "    }\n",
              "</style>\n",
              "<table border=\"1\" class=\"dataframe\">\n",
              "  <thead>\n",
              "    <tr style=\"text-align: right;\">\n",
              "      <th></th>\n",
              "      <th>Homework</th>\n",
              "      <th>Midterm</th>\n",
              "      <th>Final</th>\n",
              "    </tr>\n",
              "  </thead>\n",
              "  <tbody>\n",
              "    <tr>\n",
              "      <th>Alice</th>\n",
              "      <td>95</td>\n",
              "      <td>90</td>\n",
              "      <td>93</td>\n",
              "    </tr>\n",
              "    <tr>\n",
              "      <th>Bob</th>\n",
              "      <td>70</td>\n",
              "      <td>60</td>\n",
              "      <td>66</td>\n",
              "    </tr>\n",
              "    <tr>\n",
              "      <th>Clare</th>\n",
              "      <td>80</td>\n",
              "      <td>80</td>\n",
              "      <td>85</td>\n",
              "    </tr>\n",
              "    <tr>\n",
              "      <th>David</th>\n",
              "      <td>100</td>\n",
              "      <td>80</td>\n",
              "      <td>60</td>\n",
              "    </tr>\n",
              "    <tr>\n",
              "      <th>Eve</th>\n",
              "      <td>70</td>\n",
              "      <td>85</td>\n",
              "      <td>90</td>\n",
              "    </tr>\n",
              "  </tbody>\n",
              "</table>\n",
              "</div>\n",
              "      <button class=\"colab-df-convert\" onclick=\"convertToInteractive('df-6af07bc4-d086-45d6-90a9-81bc9089bc80')\"\n",
              "              title=\"Convert this dataframe to an interactive table.\"\n",
              "              style=\"display:none;\">\n",
              "        \n",
              "  <svg xmlns=\"http://www.w3.org/2000/svg\" height=\"24px\"viewBox=\"0 0 24 24\"\n",
              "       width=\"24px\">\n",
              "    <path d=\"M0 0h24v24H0V0z\" fill=\"none\"/>\n",
              "    <path d=\"M18.56 5.44l.94 2.06.94-2.06 2.06-.94-2.06-.94-.94-2.06-.94 2.06-2.06.94zm-11 1L8.5 8.5l.94-2.06 2.06-.94-2.06-.94L8.5 2.5l-.94 2.06-2.06.94zm10 10l.94 2.06.94-2.06 2.06-.94-2.06-.94-.94-2.06-.94 2.06-2.06.94z\"/><path d=\"M17.41 7.96l-1.37-1.37c-.4-.4-.92-.59-1.43-.59-.52 0-1.04.2-1.43.59L10.3 9.45l-7.72 7.72c-.78.78-.78 2.05 0 2.83L4 21.41c.39.39.9.59 1.41.59.51 0 1.02-.2 1.41-.59l7.78-7.78 2.81-2.81c.8-.78.8-2.07 0-2.86zM5.41 20L4 18.59l7.72-7.72 1.47 1.35L5.41 20z\"/>\n",
              "  </svg>\n",
              "      </button>\n",
              "      \n",
              "  <style>\n",
              "    .colab-df-container {\n",
              "      display:flex;\n",
              "      flex-wrap:wrap;\n",
              "      gap: 12px;\n",
              "    }\n",
              "\n",
              "    .colab-df-convert {\n",
              "      background-color: #E8F0FE;\n",
              "      border: none;\n",
              "      border-radius: 50%;\n",
              "      cursor: pointer;\n",
              "      display: none;\n",
              "      fill: #1967D2;\n",
              "      height: 32px;\n",
              "      padding: 0 0 0 0;\n",
              "      width: 32px;\n",
              "    }\n",
              "\n",
              "    .colab-df-convert:hover {\n",
              "      background-color: #E2EBFA;\n",
              "      box-shadow: 0px 1px 2px rgba(60, 64, 67, 0.3), 0px 1px 3px 1px rgba(60, 64, 67, 0.15);\n",
              "      fill: #174EA6;\n",
              "    }\n",
              "\n",
              "    [theme=dark] .colab-df-convert {\n",
              "      background-color: #3B4455;\n",
              "      fill: #D2E3FC;\n",
              "    }\n",
              "\n",
              "    [theme=dark] .colab-df-convert:hover {\n",
              "      background-color: #434B5C;\n",
              "      box-shadow: 0px 1px 3px 1px rgba(0, 0, 0, 0.15);\n",
              "      filter: drop-shadow(0px 1px 2px rgba(0, 0, 0, 0.3));\n",
              "      fill: #FFFFFF;\n",
              "    }\n",
              "  </style>\n",
              "\n",
              "      <script>\n",
              "        const buttonEl =\n",
              "          document.querySelector('#df-6af07bc4-d086-45d6-90a9-81bc9089bc80 button.colab-df-convert');\n",
              "        buttonEl.style.display =\n",
              "          google.colab.kernel.accessAllowed ? 'block' : 'none';\n",
              "\n",
              "        async function convertToInteractive(key) {\n",
              "          const element = document.querySelector('#df-6af07bc4-d086-45d6-90a9-81bc9089bc80');\n",
              "          const dataTable =\n",
              "            await google.colab.kernel.invokeFunction('convertToInteractive',\n",
              "                                                     [key], {});\n",
              "          if (!dataTable) return;\n",
              "\n",
              "          const docLinkHtml = 'Like what you see? Visit the ' +\n",
              "            '<a target=\"_blank\" href=https://colab.research.google.com/notebooks/data_table.ipynb>data table notebook</a>'\n",
              "            + ' to learn more about interactive tables.';\n",
              "          element.innerHTML = '';\n",
              "          dataTable['output_type'] = 'display_data';\n",
              "          await google.colab.output.renderOutput(dataTable, element);\n",
              "          const docLink = document.createElement('div');\n",
              "          docLink.innerHTML = docLinkHtml;\n",
              "          element.appendChild(docLink);\n",
              "        }\n",
              "      </script>\n",
              "    </div>\n",
              "  </div>\n",
              "  "
            ]
          },
          "metadata": {},
          "execution_count": 5
        }
      ]
    },
    {
      "cell_type": "markdown",
      "metadata": {
        "id": "uKguV_HWx09V"
      },
      "source": [
        "In this case:\n",
        "- $x_1$ is the homework feature\n",
        "- $x_2$ is the midterm feature\n",
        "- $y$ is the final score\n",
        "- model is: $final = \\theta_0 + \\theta_1 * homework + \\theta_2 * midterm$\n",
        "- We need to come up with values for $\\theta_0, \\theta_1, \\theta_2$ to complete the model.\n",
        "\n",
        "**Objective**: Suppose that another student Fred has Homework score 85 and Midterm score 80. What is prediction of his final exam score?"
      ]
    },
    {
      "cell_type": "markdown",
      "metadata": {
        "id": "txFgiEHAx0_q"
      },
      "source": [
        "## Multilinear Regression: Vectorized form\n",
        "\n",
        "The multilinear model can also be written as:\n",
        "\n",
        "**$\\hat{y} = \\theta\\cdot\\textbf{x}$**.\n",
        "1. $\\theta = (\\theta_0, \\theta_1, ..., \\theta_n)$ is the paramter vector.\n",
        "2. $\\textbf{x} = (1, x_1, ..., x_n)$ is the feature vector.\n",
        "3. The symbol $\\cdot$ represents the inner-product of two vectors. For example, $(1, 2, 3)\\cdot (4, 5, 6) = 1\\times 4 + 2\\times 5 + 3\\times 6 = 32$.\n",
        "\n",
        "**Why is the expression $\\theta\\cdot\\textbf{x}$ equivalent to $\\theta_0 + \\theta_1x_1 + \\theta_2x_2 +\\cdots + \\theta_nx_n$?**"
      ]
    },
    {
      "cell_type": "code",
      "metadata": {
        "id": "B8Acxyvfx1CF",
        "colab": {
          "base_uri": "https://localhost:8080/"
        },
        "outputId": "75a8f2cf-4417-45e2-a7a3-b975a24c48f9"
      },
      "source": [
        "# Let's apply the linear regression tool in sci-kit learn on the toy example\n",
        "from sklearn.linear_model import LinearRegression\n",
        "model = LinearRegression()\n",
        "model.fit(data[[\"Homework\", \"Midterm\"]], data['Final']) "
      ],
      "execution_count": null,
      "outputs": [
        {
          "output_type": "execute_result",
          "data": {
            "text/plain": [
              "LinearRegression()"
            ]
          },
          "metadata": {},
          "execution_count": 6
        }
      ]
    },
    {
      "cell_type": "code",
      "source": [
        "# What is the prediction of Fred's final score?\n",
        "\n",
        "# Create a dataframe with Fred's records\n",
        "fred = pd.DataFrame([[85, 80]], columns=[\"Homework\", \"Midterm\"], index=['Fred'])\n",
        "fred\n",
        "model.predict(fred)"
      ],
      "metadata": {
        "id": "gDjZUNlDU3Na",
        "colab": {
          "base_uri": "https://localhost:8080/"
        },
        "outputId": "94c90087-14d3-454f-bda8-558416e4ee6f"
      },
      "execution_count": null,
      "outputs": [
        {
          "output_type": "execute_result",
          "data": {
            "text/plain": [
              "array([78.67442])"
            ]
          },
          "metadata": {},
          "execution_count": 9
        }
      ]
    },
    {
      "cell_type": "code",
      "source": [
        "# Model's prediction is 78. This looks safe. But how much variation the prediction has?\n",
        "# We can use model's error on the training data seems pretty good,\n",
        "# but how well does it do on new data?\n",
        "\n",
        "data['Prediction'] = model.predict(data[['Homework', 'Midterm']])\n",
        "data"
      ],
      "metadata": {
        "id": "YyYsA6EhWWK6",
        "colab": {
          "base_uri": "https://localhost:8080/",
          "height": 206
        },
        "outputId": "b4958391-27e4-4ff9-baa7-844ecfec0c7a"
      },
      "execution_count": null,
      "outputs": [
        {
          "output_type": "execute_result",
          "data": {
            "text/plain": [
              "       Homework  Midterm  Final  Prediction\n",
              "Alice        95       90     93   84.581395\n",
              "Bob          70       60     66   63.279070\n",
              "Clare        80       80     85   82.255814\n",
              "David       100       80     60   67.930233\n",
              "Eve          70       85     90   95.953488"
            ],
            "text/html": [
              "\n",
              "  <div id=\"df-51d26b24-8828-4f05-8647-7d3b9aec8fa6\">\n",
              "    <div class=\"colab-df-container\">\n",
              "      <div>\n",
              "<style scoped>\n",
              "    .dataframe tbody tr th:only-of-type {\n",
              "        vertical-align: middle;\n",
              "    }\n",
              "\n",
              "    .dataframe tbody tr th {\n",
              "        vertical-align: top;\n",
              "    }\n",
              "\n",
              "    .dataframe thead th {\n",
              "        text-align: right;\n",
              "    }\n",
              "</style>\n",
              "<table border=\"1\" class=\"dataframe\">\n",
              "  <thead>\n",
              "    <tr style=\"text-align: right;\">\n",
              "      <th></th>\n",
              "      <th>Homework</th>\n",
              "      <th>Midterm</th>\n",
              "      <th>Final</th>\n",
              "      <th>Prediction</th>\n",
              "    </tr>\n",
              "  </thead>\n",
              "  <tbody>\n",
              "    <tr>\n",
              "      <th>Alice</th>\n",
              "      <td>95</td>\n",
              "      <td>90</td>\n",
              "      <td>93</td>\n",
              "      <td>84.581395</td>\n",
              "    </tr>\n",
              "    <tr>\n",
              "      <th>Bob</th>\n",
              "      <td>70</td>\n",
              "      <td>60</td>\n",
              "      <td>66</td>\n",
              "      <td>63.279070</td>\n",
              "    </tr>\n",
              "    <tr>\n",
              "      <th>Clare</th>\n",
              "      <td>80</td>\n",
              "      <td>80</td>\n",
              "      <td>85</td>\n",
              "      <td>82.255814</td>\n",
              "    </tr>\n",
              "    <tr>\n",
              "      <th>David</th>\n",
              "      <td>100</td>\n",
              "      <td>80</td>\n",
              "      <td>60</td>\n",
              "      <td>67.930233</td>\n",
              "    </tr>\n",
              "    <tr>\n",
              "      <th>Eve</th>\n",
              "      <td>70</td>\n",
              "      <td>85</td>\n",
              "      <td>90</td>\n",
              "      <td>95.953488</td>\n",
              "    </tr>\n",
              "  </tbody>\n",
              "</table>\n",
              "</div>\n",
              "      <button class=\"colab-df-convert\" onclick=\"convertToInteractive('df-51d26b24-8828-4f05-8647-7d3b9aec8fa6')\"\n",
              "              title=\"Convert this dataframe to an interactive table.\"\n",
              "              style=\"display:none;\">\n",
              "        \n",
              "  <svg xmlns=\"http://www.w3.org/2000/svg\" height=\"24px\"viewBox=\"0 0 24 24\"\n",
              "       width=\"24px\">\n",
              "    <path d=\"M0 0h24v24H0V0z\" fill=\"none\"/>\n",
              "    <path d=\"M18.56 5.44l.94 2.06.94-2.06 2.06-.94-2.06-.94-.94-2.06-.94 2.06-2.06.94zm-11 1L8.5 8.5l.94-2.06 2.06-.94-2.06-.94L8.5 2.5l-.94 2.06-2.06.94zm10 10l.94 2.06.94-2.06 2.06-.94-2.06-.94-.94-2.06-.94 2.06-2.06.94z\"/><path d=\"M17.41 7.96l-1.37-1.37c-.4-.4-.92-.59-1.43-.59-.52 0-1.04.2-1.43.59L10.3 9.45l-7.72 7.72c-.78.78-.78 2.05 0 2.83L4 21.41c.39.39.9.59 1.41.59.51 0 1.02-.2 1.41-.59l7.78-7.78 2.81-2.81c.8-.78.8-2.07 0-2.86zM5.41 20L4 18.59l7.72-7.72 1.47 1.35L5.41 20z\"/>\n",
              "  </svg>\n",
              "      </button>\n",
              "      \n",
              "  <style>\n",
              "    .colab-df-container {\n",
              "      display:flex;\n",
              "      flex-wrap:wrap;\n",
              "      gap: 12px;\n",
              "    }\n",
              "\n",
              "    .colab-df-convert {\n",
              "      background-color: #E8F0FE;\n",
              "      border: none;\n",
              "      border-radius: 50%;\n",
              "      cursor: pointer;\n",
              "      display: none;\n",
              "      fill: #1967D2;\n",
              "      height: 32px;\n",
              "      padding: 0 0 0 0;\n",
              "      width: 32px;\n",
              "    }\n",
              "\n",
              "    .colab-df-convert:hover {\n",
              "      background-color: #E2EBFA;\n",
              "      box-shadow: 0px 1px 2px rgba(60, 64, 67, 0.3), 0px 1px 3px 1px rgba(60, 64, 67, 0.15);\n",
              "      fill: #174EA6;\n",
              "    }\n",
              "\n",
              "    [theme=dark] .colab-df-convert {\n",
              "      background-color: #3B4455;\n",
              "      fill: #D2E3FC;\n",
              "    }\n",
              "\n",
              "    [theme=dark] .colab-df-convert:hover {\n",
              "      background-color: #434B5C;\n",
              "      box-shadow: 0px 1px 3px 1px rgba(0, 0, 0, 0.15);\n",
              "      filter: drop-shadow(0px 1px 2px rgba(0, 0, 0, 0.3));\n",
              "      fill: #FFFFFF;\n",
              "    }\n",
              "  </style>\n",
              "\n",
              "      <script>\n",
              "        const buttonEl =\n",
              "          document.querySelector('#df-51d26b24-8828-4f05-8647-7d3b9aec8fa6 button.colab-df-convert');\n",
              "        buttonEl.style.display =\n",
              "          google.colab.kernel.accessAllowed ? 'block' : 'none';\n",
              "\n",
              "        async function convertToInteractive(key) {\n",
              "          const element = document.querySelector('#df-51d26b24-8828-4f05-8647-7d3b9aec8fa6');\n",
              "          const dataTable =\n",
              "            await google.colab.kernel.invokeFunction('convertToInteractive',\n",
              "                                                     [key], {});\n",
              "          if (!dataTable) return;\n",
              "\n",
              "          const docLinkHtml = 'Like what you see? Visit the ' +\n",
              "            '<a target=\"_blank\" href=https://colab.research.google.com/notebooks/data_table.ipynb>data table notebook</a>'\n",
              "            + ' to learn more about interactive tables.';\n",
              "          element.innerHTML = '';\n",
              "          dataTable['output_type'] = 'display_data';\n",
              "          await google.colab.output.renderOutput(dataTable, element);\n",
              "          const docLink = document.createElement('div');\n",
              "          docLink.innerHTML = docLinkHtml;\n",
              "          element.appendChild(docLink);\n",
              "        }\n",
              "      </script>\n",
              "    </div>\n",
              "  </div>\n",
              "  "
            ]
          },
          "metadata": {},
          "execution_count": 10
        }
      ]
    },
    {
      "cell_type": "code",
      "metadata": {
        "id": "MoD9GMG1x1Em",
        "colab": {
          "base_uri": "https://localhost:8080/"
        },
        "outputId": "9096d1c2-2d95-4f21-8d8e-9bb791890a42"
      },
      "source": [
        "# Retrieve the estimated parameter values.\n",
        "print(\"theta1, theta2:\", model.coef_)\n",
        "print(\"theta0:\", model.intercept_)"
      ],
      "execution_count": null,
      "outputs": [
        {
          "output_type": "stream",
          "name": "stdout",
          "text": [
            "theta1, theta2: [-0.71628 1.30698]\n",
            "theta0: 34.999999999999964\n"
          ]
        }
      ]
    },
    {
      "cell_type": "markdown",
      "source": [
        "Now, let's create a linear model that describes the relationship between `sales` and all three ways of advertising."
      ],
      "metadata": {
        "id": "XAYjx93CYPeN"
      }
    },
    {
      "cell_type": "code",
      "source": [
        "url = \"https://www.statlearning.com/s/Advertising.csv\"\n",
        "advertising = pd.read_csv(url, index_col=0)\n",
        "advertising.head()"
      ],
      "metadata": {
        "id": "yaLpN0AeYeMS",
        "colab": {
          "base_uri": "https://localhost:8080/",
          "height": 206
        },
        "outputId": "137bcba1-5995-47b7-8c36-d0aeb2f47e40"
      },
      "execution_count": 2,
      "outputs": [
        {
          "output_type": "execute_result",
          "data": {
            "text/plain": [
              "      TV  radio  newspaper  sales\n",
              "1  230.1   37.8       69.2   22.1\n",
              "2   44.5   39.3       45.1   10.4\n",
              "3   17.2   45.9       69.3    9.3\n",
              "4  151.5   41.3       58.5   18.5\n",
              "5  180.8   10.8       58.4   12.9"
            ],
            "text/html": [
              "\n",
              "  <div id=\"df-b6882677-7fe1-4b15-b7ca-66064eac5900\">\n",
              "    <div class=\"colab-df-container\">\n",
              "      <div>\n",
              "<style scoped>\n",
              "    .dataframe tbody tr th:only-of-type {\n",
              "        vertical-align: middle;\n",
              "    }\n",
              "\n",
              "    .dataframe tbody tr th {\n",
              "        vertical-align: top;\n",
              "    }\n",
              "\n",
              "    .dataframe thead th {\n",
              "        text-align: right;\n",
              "    }\n",
              "</style>\n",
              "<table border=\"1\" class=\"dataframe\">\n",
              "  <thead>\n",
              "    <tr style=\"text-align: right;\">\n",
              "      <th></th>\n",
              "      <th>TV</th>\n",
              "      <th>radio</th>\n",
              "      <th>newspaper</th>\n",
              "      <th>sales</th>\n",
              "    </tr>\n",
              "  </thead>\n",
              "  <tbody>\n",
              "    <tr>\n",
              "      <th>1</th>\n",
              "      <td>230.1</td>\n",
              "      <td>37.8</td>\n",
              "      <td>69.2</td>\n",
              "      <td>22.1</td>\n",
              "    </tr>\n",
              "    <tr>\n",
              "      <th>2</th>\n",
              "      <td>44.5</td>\n",
              "      <td>39.3</td>\n",
              "      <td>45.1</td>\n",
              "      <td>10.4</td>\n",
              "    </tr>\n",
              "    <tr>\n",
              "      <th>3</th>\n",
              "      <td>17.2</td>\n",
              "      <td>45.9</td>\n",
              "      <td>69.3</td>\n",
              "      <td>9.3</td>\n",
              "    </tr>\n",
              "    <tr>\n",
              "      <th>4</th>\n",
              "      <td>151.5</td>\n",
              "      <td>41.3</td>\n",
              "      <td>58.5</td>\n",
              "      <td>18.5</td>\n",
              "    </tr>\n",
              "    <tr>\n",
              "      <th>5</th>\n",
              "      <td>180.8</td>\n",
              "      <td>10.8</td>\n",
              "      <td>58.4</td>\n",
              "      <td>12.9</td>\n",
              "    </tr>\n",
              "  </tbody>\n",
              "</table>\n",
              "</div>\n",
              "      <button class=\"colab-df-convert\" onclick=\"convertToInteractive('df-b6882677-7fe1-4b15-b7ca-66064eac5900')\"\n",
              "              title=\"Convert this dataframe to an interactive table.\"\n",
              "              style=\"display:none;\">\n",
              "        \n",
              "  <svg xmlns=\"http://www.w3.org/2000/svg\" height=\"24px\"viewBox=\"0 0 24 24\"\n",
              "       width=\"24px\">\n",
              "    <path d=\"M0 0h24v24H0V0z\" fill=\"none\"/>\n",
              "    <path d=\"M18.56 5.44l.94 2.06.94-2.06 2.06-.94-2.06-.94-.94-2.06-.94 2.06-2.06.94zm-11 1L8.5 8.5l.94-2.06 2.06-.94-2.06-.94L8.5 2.5l-.94 2.06-2.06.94zm10 10l.94 2.06.94-2.06 2.06-.94-2.06-.94-.94-2.06-.94 2.06-2.06.94z\"/><path d=\"M17.41 7.96l-1.37-1.37c-.4-.4-.92-.59-1.43-.59-.52 0-1.04.2-1.43.59L10.3 9.45l-7.72 7.72c-.78.78-.78 2.05 0 2.83L4 21.41c.39.39.9.59 1.41.59.51 0 1.02-.2 1.41-.59l7.78-7.78 2.81-2.81c.8-.78.8-2.07 0-2.86zM5.41 20L4 18.59l7.72-7.72 1.47 1.35L5.41 20z\"/>\n",
              "  </svg>\n",
              "      </button>\n",
              "      \n",
              "  <style>\n",
              "    .colab-df-container {\n",
              "      display:flex;\n",
              "      flex-wrap:wrap;\n",
              "      gap: 12px;\n",
              "    }\n",
              "\n",
              "    .colab-df-convert {\n",
              "      background-color: #E8F0FE;\n",
              "      border: none;\n",
              "      border-radius: 50%;\n",
              "      cursor: pointer;\n",
              "      display: none;\n",
              "      fill: #1967D2;\n",
              "      height: 32px;\n",
              "      padding: 0 0 0 0;\n",
              "      width: 32px;\n",
              "    }\n",
              "\n",
              "    .colab-df-convert:hover {\n",
              "      background-color: #E2EBFA;\n",
              "      box-shadow: 0px 1px 2px rgba(60, 64, 67, 0.3), 0px 1px 3px 1px rgba(60, 64, 67, 0.15);\n",
              "      fill: #174EA6;\n",
              "    }\n",
              "\n",
              "    [theme=dark] .colab-df-convert {\n",
              "      background-color: #3B4455;\n",
              "      fill: #D2E3FC;\n",
              "    }\n",
              "\n",
              "    [theme=dark] .colab-df-convert:hover {\n",
              "      background-color: #434B5C;\n",
              "      box-shadow: 0px 1px 3px 1px rgba(0, 0, 0, 0.15);\n",
              "      filter: drop-shadow(0px 1px 2px rgba(0, 0, 0, 0.3));\n",
              "      fill: #FFFFFF;\n",
              "    }\n",
              "  </style>\n",
              "\n",
              "      <script>\n",
              "        const buttonEl =\n",
              "          document.querySelector('#df-b6882677-7fe1-4b15-b7ca-66064eac5900 button.colab-df-convert');\n",
              "        buttonEl.style.display =\n",
              "          google.colab.kernel.accessAllowed ? 'block' : 'none';\n",
              "\n",
              "        async function convertToInteractive(key) {\n",
              "          const element = document.querySelector('#df-b6882677-7fe1-4b15-b7ca-66064eac5900');\n",
              "          const dataTable =\n",
              "            await google.colab.kernel.invokeFunction('convertToInteractive',\n",
              "                                                     [key], {});\n",
              "          if (!dataTable) return;\n",
              "\n",
              "          const docLinkHtml = 'Like what you see? Visit the ' +\n",
              "            '<a target=\"_blank\" href=https://colab.research.google.com/notebooks/data_table.ipynb>data table notebook</a>'\n",
              "            + ' to learn more about interactive tables.';\n",
              "          element.innerHTML = '';\n",
              "          dataTable['output_type'] = 'display_data';\n",
              "          await google.colab.output.renderOutput(dataTable, element);\n",
              "          const docLink = document.createElement('div');\n",
              "          docLink.innerHTML = docLinkHtml;\n",
              "          element.appendChild(docLink);\n",
              "        }\n",
              "      </script>\n",
              "    </div>\n",
              "  </div>\n",
              "  "
            ]
          },
          "metadata": {},
          "execution_count": 2
        }
      ]
    },
    {
      "cell_type": "markdown",
      "source": [
        "Proposed model: $sales = \\theta_0 + \\theta_1\\cdot TV + \\theta_2\\cdot radio + \\theta_3\\cdot newspaper$."
      ],
      "metadata": {
        "id": "DLp0zCnOY9wn"
      }
    },
    {
      "cell_type": "markdown",
      "source": [
        "In order to effectively evalution the model's performance on new data, we need to split the data set into a **training set** and a **test set**. The model will be training with the training set only, and therefore the test set can be considered as new data to the model."
      ],
      "metadata": {
        "id": "YeQewBGYisak"
      }
    },
    {
      "cell_type": "code",
      "source": [
        "from sklearn.model_selection import train_test_split\n",
        "training_set, test_set = train_test_split(advertising, test_size=0.1) # a good test size is 10% - 30%\n",
        "print(training_set.shape)\n",
        "print(test_set.shape)"
      ],
      "metadata": {
        "id": "l0u0JR6wZrwS",
        "colab": {
          "base_uri": "https://localhost:8080/"
        },
        "outputId": "96cddc69-d4d2-468f-9812-19972b027ccc"
      },
      "execution_count": 3,
      "outputs": [
        {
          "output_type": "stream",
          "name": "stdout",
          "text": [
            "(180, 4)\n",
            "(20, 4)\n"
          ]
        }
      ]
    },
    {
      "cell_type": "code",
      "source": [
        "# train_test_split can split more than one data set\n",
        "input = advertising[['TV', 'radio', 'newspaper']]\n",
        "# input.head()\n",
        "output = advertising[['sales']]\n",
        "# output.head()\n",
        "input_train, input_test, output_train, output_test = train_test_split(input, output, test_size=0.2)"
      ],
      "metadata": {
        "id": "N64-Qfn8xWyp"
      },
      "execution_count": null,
      "outputs": []
    },
    {
      "cell_type": "code",
      "source": [
        "# Ex: Build a linear regression model named \"model2\" on the training set.\n",
        "from sklearn.linear_model import LinearRegression\n",
        "model2 = LinearRegression()\n",
        "model2.fit(training_set[['TV', 'radio', 'newspaper']], training_set['sales'])"
      ],
      "metadata": {
        "id": "LQjZLVzNYg4Q",
        "colab": {
          "base_uri": "https://localhost:8080/"
        },
        "outputId": "f180e67f-f5d0-4b5b-bb0f-13d350601ddd"
      },
      "execution_count": 5,
      "outputs": [
        {
          "output_type": "execute_result",
          "data": {
            "text/plain": [
              "LinearRegression()"
            ]
          },
          "metadata": {},
          "execution_count": 5
        }
      ]
    },
    {
      "cell_type": "code",
      "source": [
        "# Ex: Calculate the MSE of model2 on the test set\n",
        "from sklearn.metrics import mean_squared_error\n",
        "# Find the coefficients of the model\n",
        "theta1, theta2, theta3 = model2.coef_\n",
        "theta0 = model2.intercept_\n",
        "print(theta0, theta1, theta2, theta3)\n",
        "\n",
        "# Find the model's prediction on each test record\n",
        "test_set['Prediction'] = theta1 * test_set['TV'] + theta2 * test_set['radio'] \\\n",
        "            + theta3 * test_set['newspaper'] + theta0\n",
        "\n",
        "test_set.head()\n",
        "\n",
        "# Calculate the MSE\n",
        "MSE = mean_squared_error(test_set['sales'], test_set['Prediction'])\n",
        "print(\"Mean squared error:\", MSE)\n",
        "\n",
        "# Compare this MSE with the MSE from last time."
      ],
      "metadata": {
        "id": "fhAe5dXQaNtT",
        "colab": {
          "base_uri": "https://localhost:8080/"
        },
        "outputId": "8e244249-3cc3-4ea8-e8f6-f0ae5a168023"
      },
      "execution_count": null,
      "outputs": [
        {
          "output_type": "stream",
          "name": "stdout",
          "text": [
            "2.8827673654186476 0.04548141950479593 0.19095644575466353 -0.0016758258656118241\n",
            "Mean squared error: 2.083102834404366\n"
          ]
        }
      ]
    },
    {
      "cell_type": "code",
      "source": [
        "# Alternatively, we can use the model's predict() method to obtain the predictions\n",
        "from sklearn.metrics import mean_squared_error\n",
        "test_set['Prediction'] = model2.predict(test_set[['TV', 'radio', 'newspaper']])\n",
        "# test_set.head()\n",
        "\n",
        "MSE = mean_squared_error(test_set['sales'], test_set['Prediction'])\n",
        "print(\"Mean squared error:\", MSE)"
      ],
      "metadata": {
        "colab": {
          "base_uri": "https://localhost:8080/"
        },
        "id": "q2h2FrEs2eK0",
        "outputId": "2f4da91c-d9d3-475e-c10a-1b8eb18981da"
      },
      "execution_count": 9,
      "outputs": [
        {
          "output_type": "stream",
          "name": "stdout",
          "text": [
            "Mean squared error: 3.024297025958479\n"
          ]
        }
      ]
    },
    {
      "cell_type": "markdown",
      "metadata": {
        "id": "JwJG44-7x1HE"
      },
      "source": [
        "## Multilinear Regression: Cost Function\n",
        "In order to calculate the best value for each parameter, we need a **cost function** that evaluates the errors made by a give set of parameter values. Here we use the **mean squared error (MSE)** function as the cost function:\n",
        "\n",
        "$J(\\textbf{X}, \\theta) = \\frac{1}{m}\\sum_{i=1}^{m}\\big(\\theta\\cdot\\textbf{x}^{(i)} - y^{(i)}\\big)^2$\n",
        "\n",
        "Here $(\\textbf{x}^{(i)}, y^{(i)})$ represents the i-th training example"
      ]
    },
    {
      "cell_type": "code",
      "metadata": {
        "id": "Uh-Zy_vEx1JZ",
        "colab": {
          "base_uri": "https://localhost:8080/"
        },
        "outputId": "73c8e756-10be-4094-94bb-9766d5771a0b"
      },
      "source": [
        "# Ex: Calculate the MSE cost of the toy example for the parameter values given by sci-kit learn.\n",
        "\n",
        "# theta1, theta2 = model.coef_\n",
        "# theta0 = model.intercept_\n",
        "# print(theta0, theta1, theta2)\n",
        "\n",
        "predictions = model.predict(data[['Homework', 'Midterm']])\n",
        "# print(predictions)\n",
        "MSE = mean_squared_error(data['Final'], predictions)\n",
        "print(MSE)"
      ],
      "execution_count": null,
      "outputs": [
        {
          "output_type": "stream",
          "name": "stdout",
          "text": [
            "36.82790697674417\n"
          ]
        }
      ]
    },
    {
      "cell_type": "markdown",
      "metadata": {
        "id": "ZG2rW2SNx1Lw"
      },
      "source": [
        "## Multilinear Regression: Training Algorithm 1\n",
        "The value of $\\theta$ that minimizes the cost function is given by the following **normal equation**:\n",
        "\n",
        "$\\hat{\\theta} = \\big(\\textbf{X}^T\\cdot\\textbf{X}\\big)^{-1}\\cdot\\textbf{X}^T\\cdot\\textbf{y}$.\n",
        "\n",
        "1. $\\textbf{X}$ is an $m\\times (n+1)$ matrix whose i-th row is $\\textbf{x}^{(i)}$.\n",
        "$$\\textbf{X} = \\begin{pmatrix}\n",
        "1 & x^{(1)}_1 & x^{(1)}_2 & \\cdots & x^{(1)}_n \\\\\n",
        "1 & x^{(2)}_1 & x^{(2)}_2 & \\cdots & x^{(2)}_n \\\\\n",
        "\\vdots & \\vdots &\\vdots & \\ddots & \\vdots \\\\\n",
        "1 & x^{(m)}_1 & x^{(m)}_2 & \\cdots & x^{(m)}_n \\\\\n",
        "\\end{pmatrix}$$\n",
        "2. $$\\textbf{y} = \\begin{pmatrix}y^{(1)} \\\\ \\vdots \\\\ y^{(m)}\\end{pmatrix}$$.\n",
        "3. The cost function $J(\\theta)$ also has a matrix expression\n",
        "$$J(\\theta) = \\frac{1}{m}(\\textbf{X}\\cdot\\theta - \\textbf{y})^T\\cdot (\\textbf{X}\\cdot\\theta - \\textbf{y})$$"
      ]
    },
    {
      "cell_type": "code",
      "metadata": {
        "id": "M0r86Sigx1OO",
        "colab": {
          "base_uri": "https://localhost:8080/"
        },
        "outputId": "f4f2244f-f8a2-415a-d3b4-5b3b2e8ce52b"
      },
      "source": [
        "# Ex: Construct matrix X using DataFrame.values, np.hstack(), np.ones()\n",
        "# training_set.head()\n",
        "X1 = np.ones([len(training_set), 1])\n",
        "# print(X1)\n",
        "X2 = training_set[['TV', 'radio', 'newspaper']].values\n",
        "# print(X2)\n",
        "X = np.hstack([X1, X2])\n",
        "print(X.shape)"
      ],
      "execution_count": 18,
      "outputs": [
        {
          "output_type": "stream",
          "name": "stdout",
          "text": [
            "(180, 4)\n"
          ]
        }
      ]
    },
    {
      "cell_type": "code",
      "metadata": {
        "id": "bIZZCIicx1Q7",
        "colab": {
          "base_uri": "https://localhost:8080/"
        },
        "outputId": "71d83002-c0c5-4379-9c08-9c18fc6470f1"
      },
      "source": [
        "# Ex: Construct vector y\n",
        "y = training_set[['sales']].values\n",
        "print(y.shape)"
      ],
      "execution_count": 21,
      "outputs": [
        {
          "output_type": "stream",
          "name": "stdout",
          "text": [
            "(180, 1)\n"
          ]
        }
      ]
    },
    {
      "cell_type": "code",
      "metadata": {
        "id": "197CDh19x1Th",
        "colab": {
          "base_uri": "https://localhost:8080/"
        },
        "outputId": "bcc3379f-efc3-4262-9302-5e1862b7581b"
      },
      "source": [
        "# Apply the normal equation to find theta\n",
        "theta = np.linalg.inv(X.T.dot(X)).dot(X.T).dot(y)\n",
        "print(theta)"
      ],
      "execution_count": 25,
      "outputs": [
        {
          "output_type": "stream",
          "name": "stdout",
          "text": [
            "[[2.92813]\n",
            " [0.04565]\n",
            " [0.18680]\n",
            " [0.00021]]\n"
          ]
        }
      ]
    },
    {
      "cell_type": "code",
      "source": [
        "# The results should be the same as the sklearn model\n",
        "print(model2.coef_)\n",
        "print(model2.intercept_)"
      ],
      "metadata": {
        "id": "SnpLfMkulFm5",
        "colab": {
          "base_uri": "https://localhost:8080/"
        },
        "outputId": "6ac75453-45e1-45e3-83dc-95e55156d9f6"
      },
      "execution_count": 26,
      "outputs": [
        {
          "output_type": "stream",
          "name": "stdout",
          "text": [
            "[0.04565 0.18680 0.00021]\n",
            "2.928128641243637\n"
          ]
        }
      ]
    },
    {
      "cell_type": "markdown",
      "metadata": {
        "id": "_ezXjZlvx1WG"
      },
      "source": [
        "## Multilinear Regression: Training Algorithm 2\n",
        "The normal equation is not applicable when $\\textbf{X}^T\\cdot\\textbf{X}$ is not invertible. It happens if:\n",
        "- Several features are linearly dependent (for example, feature3 = feature1 + feature2)\n",
        "- The number of features is greater than the number of training data (for example, DNA data)\n",
        "\n",
        "When the matrix $\\textbf{X}$ is too large, the normal equation may take too long to finish since it requires a matrix multiplication.\n",
        "\n",
        "In these cases, we can use the **gradient descent** method to minimize the cost function instead.\n",
        "\n",
        "Gradient descent with one variable ideally looks like this:\n",
        "<img src=\"https://cdn-images-1.medium.com/max/1600/0*fU8XFt-NCMZGAWND.\" width=\"600\">\n",
        "\n",
        "Gradient descent with two variables ideally looks like this:\n",
        "<img src=\"https://blog.paperspace.com/content/images/2019/09/F1-02.large.jpg\" width=\"600\">\n",
        "\n",
        "Gradient descent is an iterative algorithm for finding the **local minimum** of a differentiable function.\n",
        "- Choose an initial value of $\\hat{\\theta}$ and a **learning rate** $r$.\n",
        "- For each iteration $k$, do:\n",
        "  - Calculate the partial derivative of the cost function:\n",
        "$$\n",
        "\\frac{\\partial J(\\hat{\\theta})}{\\partial \\theta} = \\frac{2}{m}\\cdot\\textbf{X}^T\\cdot(\\textbf{X}\\cdot\\theta - \\textbf{y}).\n",
        "$$\n",
        "  - Update the parameter vector:\n",
        "  $$\\hat{\\theta} \\leftarrow \\hat{\\theta} - r\\cdot\\frac{\\partial J(\\hat{\\theta})}{\\partial \\theta}.$$\n",
        "\n",
        "- **Verify the formula of partial derivative assuming there is one input feature.**\n",
        "\n",
        "- End iteration if certain stop criteria is reached, such as:\n",
        "    - Value of $\\hat{\\theta}$ becomes stable.\n",
        "    - Certain iteration amount is reached."
      ]
    },
    {
      "cell_type": "code",
      "metadata": {
        "id": "clRpPwu-x1Yp"
      },
      "source": [
        "# Choose an initial value for each parameter.\n",
        "theta = np.array([[3.00],\n",
        "                  [0.05],\n",
        "                  [0.20],\n",
        "                  [0.00]])"
      ],
      "execution_count": 27,
      "outputs": []
    },
    {
      "cell_type": "code",
      "source": [
        "# Construct matrix X and y\n",
        "N = training_set.shape[0]\n",
        "\n",
        "col1 = np.ones([N, 1])\n",
        "col234 = training_set[['TV', 'radio', 'newspaper']].values\n",
        "X = np.hstack([col1, col234])\n",
        "\n",
        "y = training_set[['sales']].values"
      ],
      "metadata": {
        "id": "fVKaYafgkrCa"
      },
      "execution_count": 29,
      "outputs": []
    },
    {
      "cell_type": "code",
      "source": [
        "def MSE_cost(theta, X, y):\n",
        "    m = X.shape[0]\n",
        "    M = X.dot(theta) - y\n",
        "    return 1/m * M.T.dot(M)\n",
        "\n",
        "print(\"Initial cost:\", MSE_cost(theta, X, y))"
      ],
      "metadata": {
        "id": "irpo2zsSsO-W",
        "colab": {
          "base_uri": "https://localhost:8080/"
        },
        "outputId": "33a5858c-d577-42be-cbbd-93aa921e9618"
      },
      "execution_count": 30,
      "outputs": [
        {
          "output_type": "stream",
          "name": "stdout",
          "text": [
            "Initial cost: [[2.98673]]\n"
          ]
        }
      ]
    },
    {
      "cell_type": "code",
      "metadata": {
        "id": "-yP5gFqHx1bM",
        "colab": {
          "base_uri": "https://localhost:8080/"
        },
        "outputId": "5aa06437-b179-4a5b-c088-b853db542bd9"
      },
      "source": [
        "# Perform gradient descent once.\n",
        "# Choose a learning rate r\n",
        "r = 1e-5 # r = 0.00001\n",
        "\n",
        "# 1. Calculate the gradient\n",
        "m = len(training_set)\n",
        "gradient = 2/m * X.T.dot(X.dot(theta) - y)\n",
        "print(\"Gradient: \\n\", gradient)\n",
        "\n",
        "# 2. Update the parameters\n",
        "theta = theta - r * gradient\n",
        "print(\"Theta: \\n\", theta)\n",
        "\n",
        "\n",
        "# 3. (optional) Show the MSE cost with new parameter values\n",
        "MSE_cost(theta, X, y)"
      ],
      "execution_count": 32,
      "outputs": [
        {
          "output_type": "stream",
          "name": "stdout",
          "text": [
            "Gradient: \n",
            " [[0.42573]\n",
            " [53.49284]\n",
            " [14.71903]\n",
            " [14.37366]]\n",
            "Theta: \n",
            " [[2.99997]\n",
            " [0.04438]\n",
            " [0.19907]\n",
            " [-0.00108]]\n"
          ]
        },
        {
          "output_type": "execute_result",
          "data": {
            "text/plain": [
              "array([[2.81521]])"
            ]
          },
          "metadata": {},
          "execution_count": 32
        }
      ]
    },
    {
      "cell_type": "code",
      "metadata": {
        "id": "NPqDCTznx1dq",
        "colab": {
          "base_uri": "https://localhost:8080/"
        },
        "outputId": "0aa96d56-b9e7-4124-9d7f-2de4154640bd"
      },
      "source": [
        "# Perform gradient descent multiple times\n",
        "r = 1e-5\n",
        "\n",
        "theta = np.array([[3.00],\n",
        "                  [0.05],\n",
        "                  [0.20],\n",
        "                  [0.00]])\n",
        "\n",
        "# theta = np.array([[6.00],\n",
        "#                   [-0.10],\n",
        "#                   [-0.40],\n",
        "#                   [0.00]])\n",
        "\n",
        "MSEs = [] # store the intermediate MSEs\n",
        "num_iterations = 2000\n",
        "\n",
        "for i in range(num_iterations):\n",
        "\n",
        "    gradient = (2/m) * X.T.dot(X.dot(theta) - y)\n",
        "    theta = theta - r * gradient\n",
        "\n",
        "    if i % 100 == 0:\n",
        "        print(\"Iteration:\", i)\n",
        "        print(\"Gradient:\\n\", gradient)\n",
        "        print(\"New theta:\\n\", theta)\n",
        "        MSE = MSE_cost(theta, X, y)\n",
        "        print(\"New cost:\", MSE)\n",
        "        MSEs.append(MSE[0][0])\n"
      ],
      "execution_count": 67,
      "outputs": [
        {
          "output_type": "stream",
          "name": "stdout",
          "text": [
            "Iteration: 0\n",
            "Gradient:\n",
            " [[2.03500]\n",
            " [367.24250]\n",
            " [52.60827]\n",
            " [65.24728]]\n",
            "New theta:\n",
            " [[2.99998]\n",
            " [0.04633]\n",
            " [0.19947]\n",
            " [-0.00065]]\n",
            "New cost: [[2.98673]]\n",
            "Iteration: 100\n",
            "Gradient:\n",
            " [[0.06468]\n",
            " [-0.45249]\n",
            " [3.62023]\n",
            " [0.10477]]\n",
            "New theta:\n",
            " [[2.99987]\n",
            " [0.04499]\n",
            " [0.19376]\n",
            " [-0.00312]]\n",
            "New cost: [[2.77433]]\n",
            "Iteration: 200\n",
            "Gradient:\n",
            " [[0.04237]\n",
            " [-0.13611]\n",
            " [2.07014]\n",
            " [-0.70012]]\n",
            "New theta:\n",
            " [[2.99982]\n",
            " [0.04524]\n",
            " [0.19103]\n",
            " [-0.00267]]\n",
            "New cost: [[2.76641]]\n",
            "Iteration: 300\n",
            "Gradient:\n",
            " [[0.03381]\n",
            " [-0.05782]\n",
            " [1.33539]\n",
            " [-0.63758]]\n",
            "New theta:\n",
            " [[2.99978]\n",
            " [0.04533]\n",
            " [0.18937]\n",
            " [-0.00197]]\n",
            "New cost: [[2.76312]]\n",
            "Iteration: 400\n",
            "Gradient:\n",
            " [[0.02931]\n",
            " [-0.03242]\n",
            " [0.89849]\n",
            " [-0.46936]]\n",
            "New theta:\n",
            " [[2.99975]\n",
            " [0.04537]\n",
            " [0.18827]\n",
            " [-0.00142]]\n",
            "New cost: [[2.76159]]\n",
            "Iteration: 500\n",
            "Gradient:\n",
            " [[0.02651]\n",
            " [-0.02077]\n",
            " [0.61255]\n",
            " [-0.32844]]\n",
            "New theta:\n",
            " [[2.99972]\n",
            " [0.04540]\n",
            " [0.18753]\n",
            " [-0.00103]]\n",
            "New cost: [[2.76087]]\n",
            "Iteration: 600\n",
            "Gradient:\n",
            " [[0.02464]\n",
            " [-0.01396]\n",
            " [0.41925]\n",
            " [-0.22659]]\n",
            "New theta:\n",
            " [[2.99970]\n",
            " [0.04542]\n",
            " [0.18702]\n",
            " [-0.00075]]\n",
            "New cost: [[2.76053]]\n",
            "Iteration: 700\n",
            "Gradient:\n",
            " [[0.02337]\n",
            " [-0.00953]\n",
            " [0.28727]\n",
            " [-0.15569]]\n",
            "New theta:\n",
            " [[2.99967]\n",
            " [0.04543]\n",
            " [0.18667]\n",
            " [-0.00056]]\n",
            "New cost: [[2.76037]]\n",
            "Iteration: 800\n",
            "Gradient:\n",
            " [[0.02250]\n",
            " [-0.00654]\n",
            " [0.19688]\n",
            " [-0.10685]]\n",
            "New theta:\n",
            " [[2.99965]\n",
            " [0.04544]\n",
            " [0.18643]\n",
            " [-0.00044]]\n",
            "New cost: [[2.76030]]\n",
            "Iteration: 900\n",
            "Gradient:\n",
            " [[0.02190]\n",
            " [-0.00450]\n",
            " [0.13492]\n",
            " [-0.07331]]\n",
            "New theta:\n",
            " [[2.99963]\n",
            " [0.04544]\n",
            " [0.18627]\n",
            " [-0.00035]]\n",
            "New cost: [[2.76026]]\n",
            "Iteration: 1000\n",
            "Gradient:\n",
            " [[0.02148]\n",
            " [-0.00310]\n",
            " [0.09244]\n",
            " [-0.05031]]\n",
            "New theta:\n",
            " [[2.99961]\n",
            " [0.04544]\n",
            " [0.18616]\n",
            " [-0.00029]]\n",
            "New cost: [[2.76024]]\n",
            "Iteration: 1100\n",
            "Gradient:\n",
            " [[0.02120]\n",
            " [-0.00215]\n",
            " [0.06331]\n",
            " [-0.03453]]\n",
            "New theta:\n",
            " [[2.99959]\n",
            " [0.04545]\n",
            " [0.18608]\n",
            " [-0.00024]]\n",
            "New cost: [[2.76024]]\n",
            "Iteration: 1200\n",
            "Gradient:\n",
            " [[0.02100]\n",
            " [-0.00149]\n",
            " [0.04333]\n",
            " [-0.02371]]\n",
            "New theta:\n",
            " [[2.99957]\n",
            " [0.04545]\n",
            " [0.18603]\n",
            " [-0.00021]]\n",
            "New cost: [[2.76023]]\n",
            "Iteration: 1300\n",
            "Gradient:\n",
            " [[0.02087]\n",
            " [-0.00104]\n",
            " [0.02964]\n",
            " [-0.01629]]\n",
            "New theta:\n",
            " [[2.99954]\n",
            " [0.04545]\n",
            " [0.18599]\n",
            " [-0.00020]]\n",
            "New cost: [[2.76023]]\n",
            "Iteration: 1400\n",
            "Gradient:\n",
            " [[0.02077]\n",
            " [-0.00073]\n",
            " [0.02024]\n",
            " [-0.01120]]\n",
            "New theta:\n",
            " [[2.99952]\n",
            " [0.04545]\n",
            " [0.18597]\n",
            " [-0.00018]]\n",
            "New cost: [[2.76023]]\n",
            "Iteration: 1500\n",
            "Gradient:\n",
            " [[0.02070]\n",
            " [-0.00052]\n",
            " [0.01380]\n",
            " [-0.00772]]\n",
            "New theta:\n",
            " [[2.99950]\n",
            " [0.04545]\n",
            " [0.18595]\n",
            " [-0.00017]]\n",
            "New cost: [[2.76023]]\n",
            "Iteration: 1600\n",
            "Gradient:\n",
            " [[0.02065]\n",
            " [-0.00037]\n",
            " [0.00938]\n",
            " [-0.00532]]\n",
            "New theta:\n",
            " [[2.99948]\n",
            " [0.04545]\n",
            " [0.18594]\n",
            " [-0.00017]]\n",
            "New cost: [[2.76023]]\n",
            "Iteration: 1700\n",
            "Gradient:\n",
            " [[0.02062]\n",
            " [-0.00028]\n",
            " [0.00635]\n",
            " [-0.00368]]\n",
            "New theta:\n",
            " [[2.99946]\n",
            " [0.04545]\n",
            " [0.18593]\n",
            " [-0.00016]]\n",
            "New cost: [[2.76023]]\n",
            "Iteration: 1800\n",
            "Gradient:\n",
            " [[0.02059]\n",
            " [-0.00021]\n",
            " [0.00428]\n",
            " [-0.00256]]\n",
            "New theta:\n",
            " [[2.99944]\n",
            " [0.04545]\n",
            " [0.18593]\n",
            " [-0.00016]]\n",
            "New cost: [[2.76023]]\n",
            "Iteration: 1900\n",
            "Gradient:\n",
            " [[0.02057]\n",
            " [-0.00016]\n",
            " [0.00285]\n",
            " [-0.00179]]\n",
            "New theta:\n",
            " [[2.99942]\n",
            " [0.04545]\n",
            " [0.18592]\n",
            " [-0.00016]]\n",
            "New cost: [[2.76023]]\n"
          ]
        }
      ]
    },
    {
      "cell_type": "code",
      "metadata": {
        "id": "0sfCU6C33reK",
        "colab": {
          "base_uri": "https://localhost:8080/",
          "height": 282
        },
        "outputId": "9a9471e6-129d-4142-d78b-428d3c6462b1"
      },
      "source": [
        "# Plot the learning curve.\n",
        "\n",
        "plt.plot(range(len(MSEs)-2), MSEs[2:], 'b.--')"
      ],
      "execution_count": 68,
      "outputs": [
        {
          "output_type": "execute_result",
          "data": {
            "text/plain": [
              "[<matplotlib.lines.Line2D at 0x7f0cabdbf110>]"
            ]
          },
          "metadata": {},
          "execution_count": 68
        },
        {
          "output_type": "display_data",
          "data": {
            "text/plain": [
              "<Figure size 432x288 with 1 Axes>"
            ],
            "image/png": "[encoded data removed]"
          },
          "metadata": {
            "needs_background": "light"
          }
        }
      ]
    },
    {
      "cell_type": "markdown",
      "metadata": {
        "id": "eXOFqVwlx1gQ"
      },
      "source": [
        "**Discussion**\n",
        "1. Change $r$ to 0.000001 and 0.01. Observe the MSE curve.\n",
        "2. Do the initial parameter values matter?\n",
        "3. How to determine when to stop the iteration?"
      ]
    },
    {
      "cell_type": "code",
      "metadata": {
        "id": "gEnnJd4Qx1ii",
        "colab": {
          "base_uri": "https://localhost:8080/"
        },
        "outputId": "d2111601-8f79-49c3-ee8e-71a1975afadf"
      },
      "source": [
        "# As a comparison, let's calculate the MSE on the training set with optimal parameter values\n",
        "best_theta = np.hstack([model2.intercept_, model2.coef_, ])\n",
        "print(best_theta)\n",
        "\n",
        "predictions = model2.predict(training_set[['TV', 'radio', 'newspaper']])\n",
        "best_MSE = mean_squared_error(training_set['sales'], predictions)\n",
        "print(best_MSE)"
      ],
      "execution_count": 46,
      "outputs": [
        {
          "output_type": "stream",
          "name": "stdout",
          "text": [
            "[2.92813 0.04565 0.18680 0.00021]\n",
            "2.759492922378075\n"
          ]
        }
      ]
    },
    {
      "cell_type": "code",
      "metadata": {
        "id": "dVWfuoUHx1lB"
      },
      "source": [],
      "execution_count": null,
      "outputs": []
    },
    {
      "cell_type": "code",
      "metadata": {
        "id": "SVfSS1dgx1np"
      },
      "source": [],
      "execution_count": null,
      "outputs": []
    }
  ]
}