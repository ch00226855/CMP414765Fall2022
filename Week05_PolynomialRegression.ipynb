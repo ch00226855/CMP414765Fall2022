{
  "nbformat": 4,
  "nbformat_minor": 0,
  "metadata": {
    "colab": {
      "provenance": [],
      "include_colab_link": true
    },
    "kernelspec": {
      "name": "python3",
      "display_name": "Python 3"
    },
    "language_info": {
      "name": "python"
    }
  },
  "cells": [
    {
      "cell_type": "markdown",
      "metadata": {
        "id": "view-in-github",
        "colab_type": "text"
      },
      "source": [
        "<a href=\"https://colab.research.google.com/github/ch00226855/CMP414765Fall2022/blob/main/Week05_PolynomialRegression.ipynb\" target=\"_parent\"><img src=\"https://colab.research.google.com/assets/colab-badge.svg\" alt=\"Open In Colab\"/></a>"
      ]
    },
    {
      "cell_type": "markdown",
      "source": [
        "# Week 5\n",
        "# <font color=\"green\">Polynomial Regression</font>\n",
        "**Polynomial regression** extends the linear model by adding extra predictors, obtained by raising each of the original predictors to a power."
      ],
      "metadata": {
        "id": "cmVZEOrf7ZUo"
      }
    },
    {
      "cell_type": "markdown",
      "source": [
        "### <font color=\"green\">Polynomial Regression with One Feature</font>\n",
        "- Model Assumption: \n",
        "$$\\hat{Y} =  \\theta_0 + \\theta_1X + \\theta_2X^2 + \\cdots + \\theta_d X^d$$\n",
        "- Least Squares Cost Function:\n",
        "$$MSE(\\theta) = \\frac{1}{N}\\sum_{i=1}^N(\\theta_0 + \\theta_1x^{(i)} + \\cdots + \\theta_d(x^{(i)})^d - y^{(i)})^2 = \\frac{1}{N}(\\textbf{X}\\theta - \\textbf{y})^T(\\textbf{X}\\theta - \\textbf{y})$$\n",
        "\n",
        "    \\begin{equation}\n",
        "    \\textbf{X} = \\begin{pmatrix}\n",
        "    1 & x^{(1)} & (x^{(1)})^2 & \\cdots & (x^{(1)})^d \\\\\n",
        "    1 & x^{(2)} & (x^{(2)})^2 & \\cdots & (x^{(2)})^d \\\\\n",
        "    \\vdots & \\vdots & \\vdots & \\ddots & \\vdots \\\\\n",
        "    1 & x^{(N)} & (x^{(N)})^2 & \\cdots & (x^{(N)})^d \\\\\n",
        "    \\end{pmatrix}, \n",
        "    \\textbf{y}=\\begin{pmatrix}\n",
        "    y^{(1)}\\\\\n",
        "    y^{(2)}\\\\\n",
        "    \\vdots\\\\\n",
        "    y^{(N)}\n",
        "    \\end{pmatrix}\n",
        "    \\end{equation}\n",
        "    \n",
        "- Normal equation still applies:\n",
        "$$\n",
        "\\theta = (\\textbf{X}^T\\textbf{X})^{-1}\\textbf{X}^T\\textbf{y}\n",
        "$$\n",
        "- Simply put, polynomial regression is multilinear regression on $(X, X^2, ..., X^d)$.\n",
        "- It is rarely necessary to consider $d>4$, since higher order terms make the polynomial overly flexible and tends to explode near the bounary."
      ],
      "metadata": {
        "id": "O6ajCi_g7f0_"
      }
    },
    {
      "cell_type": "code",
      "source": [
        "import pandas as pd\n",
        "import matplotlib.pyplot as plt\n",
        "%matplotlib inline"
      ],
      "metadata": {
        "id": "ZYdnscQa78jM"
      },
      "execution_count": null,
      "outputs": []
    },
    {
      "cell_type": "markdown",
      "source": [
        "As an exercise, let's build a polynomial model for Sales vs. TV budgets based on the advertising data."
      ],
      "metadata": {
        "id": "xpaydODDomDS"
      }
    },
    {
      "cell_type": "code",
      "source": [
        "url = \"https://www.statlearning.com/s/Advertising.csv\"\n",
        "advertising = pd.read_csv(url, usecols = ['TV', 'sales'])\n",
        "advertising.head()"
      ],
      "metadata": {
        "id": "m61DkKepoxyn"
      },
      "execution_count": null,
      "outputs": []
    },
    {
      "cell_type": "code",
      "source": [
        "# plot TV vs. sales\n",
        "plt.plot(advertising['TV'], advertising['sales'], 'g.')\n",
        "plt.title(\"TV vs. sales\")\n",
        "plt.xlabel(\"TV budget\")\n",
        "plt.ylabel(\"Sales Revenue\")"
      ],
      "metadata": {
        "id": "VNsh-8Muo6IQ"
      },
      "execution_count": null,
      "outputs": []
    },
    {
      "cell_type": "code",
      "source": [
        "# Ex. Split the data into training_set (80%) and test_set (20%)\n",
        "\n"
      ],
      "metadata": {
        "id": "GYv_GEXcqru-"
      },
      "execution_count": null,
      "outputs": []
    },
    {
      "cell_type": "code",
      "source": [
        "# Let's build a polynomial model of degree 2.\n",
        "\n",
        "# Create matrix X\n",
        "\n",
        "# Create matrix y\n",
        "\n",
        "# Apply the normal equation\n",
        "\n"
      ],
      "metadata": {
        "id": "I9z5mkHopnYf"
      },
      "execution_count": null,
      "outputs": []
    },
    {
      "cell_type": "code",
      "source": [
        "# Build a polynomial model using the LinearRegression class\n",
        "from sklearn.preprocessing import PolynomialFeatures\n",
        "poly_features = PolynomialFeatures(degree=2, include_bias=False)\n",
        "tv_poly = poly_features.fit_transform(training_set[['TV']])"
      ],
      "metadata": {
        "id": "hGhsuiJLp45N"
      },
      "execution_count": null,
      "outputs": []
    },
    {
      "cell_type": "code",
      "source": [
        "from sklearn.linear_model import LinearRegression\n",
        "model_pr = LinearRegression()\n",
        "model_pr.fit(tv_poly, training_set['sales'])"
      ],
      "metadata": {
        "id": "i5qeYhtKqYpi"
      },
      "execution_count": null,
      "outputs": []
    },
    {
      "cell_type": "code",
      "source": [
        "# Ex: Calculate the test MSE.\n",
        "\n"
      ],
      "metadata": {
        "id": "It1FFpMqqlYa"
      },
      "execution_count": null,
      "outputs": []
    },
    {
      "cell_type": "markdown",
      "source": [
        "### <font color=\"green\">Overfitting vs. Underfitting</font>\n",
        "<img src=\"https://media.geeksforgeeks.org/wp-content/cdn-uploads/20190523171229/overfitting_1.png\" width=\"600\">\n",
        "<img src=\"https://media.geeksforgeeks.org/wp-content/cdn-uploads/20190523171258/overfitting_2.png\" width=\"600\">\n",
        "\n",
        "How to detect model overfitting?\n",
        "- Training error vs. test error\n",
        "- Cross Validation\n",
        "- Model visualization"
      ],
      "metadata": {
        "id": "ZxPRwRXY7f52"
      }
    },
    {
      "cell_type": "markdown",
      "source": [
        "### <font color=\"green\">Preventing Model Overfitting</font>\n",
        "- Get more training data\n",
        "- Feature selection\n",
        "- Regularization\n",
        "- Early stopping\n",
        "\n",
        "<img src=\"https://hackernoon.com/hn-images/1*vuZxFMi5fODz2OEcpG-S1g.png\" width=\"600\">"
      ],
      "metadata": {
        "id": "iP6JIC187f8f"
      }
    }
  ]
}