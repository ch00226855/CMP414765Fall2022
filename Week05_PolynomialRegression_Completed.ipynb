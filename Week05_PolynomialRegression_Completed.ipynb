{
  "nbformat": 4,
  "nbformat_minor": 0,
  "metadata": {
    "colab": {
      "provenance": [],
      "include_colab_link": true
    },
    "kernelspec": {
      "name": "python3",
      "display_name": "Python 3"
    },
    "language_info": {
      "name": "python"
    }
  },
  "cells": [
    {
      "cell_type": "markdown",
      "metadata": {
        "id": "view-in-github",
        "colab_type": "text"
      },
      "source": [
        "<a href=\"https://colab.research.google.com/github/ch00226855/CMP414765Fall2022/blob/main/Week05_PolynomialRegression_Completed.ipynb\" target=\"_parent\"><img src=\"https://colab.research.google.com/assets/colab-badge.svg\" alt=\"Open In Colab\"/></a>"
      ]
    },
    {
      "cell_type": "markdown",
      "source": [
        "# Week 5\n",
        "# <font color=\"green\">Polynomial Regression</font>\n",
        "**Polynomial regression** extends the linear model by adding extra predictors, obtained by raising each of the original predictors to a power."
      ],
      "metadata": {
        "id": "cmVZEOrf7ZUo"
      }
    },
    {
      "cell_type": "markdown",
      "source": [
        "### <font color=\"green\">Polynomial Regression with One Feature</font>\n",
        "- Model Assumption: \n",
        "$$\\hat{Y} =  \\theta_0 + \\theta_1X + \\theta_2X^2 + \\cdots + \\theta_d X^d$$\n",
        "- Least Squares Cost Function:\n",
        "$$MSE(\\theta) = \\frac{1}{N}\\sum_{i=1}^N(\\theta_0 + \\theta_1x^{(i)} + \\cdots + \\theta_d(x^{(i)})^d - y^{(i)})^2 = \\frac{1}{N}(\\textbf{X}\\theta - \\textbf{y})^T(\\textbf{X}\\theta - \\textbf{y})$$\n",
        "\n",
        "    \\begin{equation}\n",
        "    \\textbf{X} = \\begin{pmatrix}\n",
        "    1 & x^{(1)} & (x^{(1)})^2 & \\cdots & (x^{(1)})^d \\\\\n",
        "    1 & x^{(2)} & (x^{(2)})^2 & \\cdots & (x^{(2)})^d \\\\\n",
        "    \\vdots & \\vdots & \\vdots & \\ddots & \\vdots \\\\\n",
        "    1 & x^{(N)} & (x^{(N)})^2 & \\cdots & (x^{(N)})^d \\\\\n",
        "    \\end{pmatrix}, \n",
        "    \\textbf{y}=\\begin{pmatrix}\n",
        "    y^{(1)}\\\\\n",
        "    y^{(2)}\\\\\n",
        "    \\vdots\\\\\n",
        "    y^{(N)}\n",
        "    \\end{pmatrix}\n",
        "    \\end{equation}\n",
        "    \n",
        "- Normal equation still applies:\n",
        "$$\n",
        "\\theta = (\\textbf{X}^T\\textbf{X})^{-1}\\textbf{X}^T\\textbf{y}\n",
        "$$\n",
        "- Simply put, polynomial regression is multilinear regression on $(X, X^2, ..., X^d)$.\n",
        "- It is rarely necessary to consider $d>4$, since higher order terms make the polynomial overly flexible and tends to explode near the bounary."
      ],
      "metadata": {
        "id": "O6ajCi_g7f0_"
      }
    },
    {
      "cell_type": "code",
      "source": [
        "import numpy as np\n",
        "import pandas as pd\n",
        "import matplotlib.pyplot as plt\n",
        "np.set_printoptions(formatter={'float': lambda x: \"{0:0.4f}\".format(x)})\n",
        "%matplotlib inline"
      ],
      "metadata": {
        "id": "ZYdnscQa78jM"
      },
      "execution_count": 17,
      "outputs": []
    },
    {
      "cell_type": "markdown",
      "source": [
        "As an exercise, let's build a polynomial model for Sales vs. TV budgets based on the advertising data."
      ],
      "metadata": {
        "id": "xpaydODDomDS"
      }
    },
    {
      "cell_type": "code",
      "source": [
        "url = \"https://www.statlearning.com/s/Advertising.csv\"\n",
        "advertising = pd.read_csv(url, usecols = ['TV', 'sales'])\n",
        "advertising.head()"
      ],
      "metadata": {
        "id": "m61DkKepoxyn",
        "colab": {
          "base_uri": "https://localhost:8080/",
          "height": 206
        },
        "outputId": "4487e4d1-ee55-435b-91bf-90663b116403"
      },
      "execution_count": 2,
      "outputs": [
        {
          "output_type": "execute_result",
          "data": {
            "text/plain": [
              "      TV  sales\n",
              "0  230.1   22.1\n",
              "1   44.5   10.4\n",
              "2   17.2    9.3\n",
              "3  151.5   18.5\n",
              "4  180.8   12.9"
            ],
            "text/html": [
              "\n",
              "  <div id=\"df-1b6308c3-5382-4cba-abc3-42baf12256e0\">\n",
              "    <div class=\"colab-df-container\">\n",
              "      <div>\n",
              "<style scoped>\n",
              "    .dataframe tbody tr th:only-of-type {\n",
              "        vertical-align: middle;\n",
              "    }\n",
              "\n",
              "    .dataframe tbody tr th {\n",
              "        vertical-align: top;\n",
              "    }\n",
              "\n",
              "    .dataframe thead th {\n",
              "        text-align: right;\n",
              "    }\n",
              "</style>\n",
              "<table border=\"1\" class=\"dataframe\">\n",
              "  <thead>\n",
              "    <tr style=\"text-align: right;\">\n",
              "      <th></th>\n",
              "      <th>TV</th>\n",
              "      <th>sales</th>\n",
              "    </tr>\n",
              "  </thead>\n",
              "  <tbody>\n",
              "    <tr>\n",
              "      <th>0</th>\n",
              "      <td>230.1</td>\n",
              "      <td>22.1</td>\n",
              "    </tr>\n",
              "    <tr>\n",
              "      <th>1</th>\n",
              "      <td>44.5</td>\n",
              "      <td>10.4</td>\n",
              "    </tr>\n",
              "    <tr>\n",
              "      <th>2</th>\n",
              "      <td>17.2</td>\n",
              "      <td>9.3</td>\n",
              "    </tr>\n",
              "    <tr>\n",
              "      <th>3</th>\n",
              "      <td>151.5</td>\n",
              "      <td>18.5</td>\n",
              "    </tr>\n",
              "    <tr>\n",
              "      <th>4</th>\n",
              "      <td>180.8</td>\n",
              "      <td>12.9</td>\n",
              "    </tr>\n",
              "  </tbody>\n",
              "</table>\n",
              "</div>\n",
              "      <button class=\"colab-df-convert\" onclick=\"convertToInteractive('df-1b6308c3-5382-4cba-abc3-42baf12256e0')\"\n",
              "              title=\"Convert this dataframe to an interactive table.\"\n",
              "              style=\"display:none;\">\n",
              "        \n",
              "  <svg xmlns=\"http://www.w3.org/2000/svg\" height=\"24px\"viewBox=\"0 0 24 24\"\n",
              "       width=\"24px\">\n",
              "    <path d=\"M0 0h24v24H0V0z\" fill=\"none\"/>\n",
              "    <path d=\"M18.56 5.44l.94 2.06.94-2.06 2.06-.94-2.06-.94-.94-2.06-.94 2.06-2.06.94zm-11 1L8.5 8.5l.94-2.06 2.06-.94-2.06-.94L8.5 2.5l-.94 2.06-2.06.94zm10 10l.94 2.06.94-2.06 2.06-.94-2.06-.94-.94-2.06-.94 2.06-2.06.94z\"/><path d=\"M17.41 7.96l-1.37-1.37c-.4-.4-.92-.59-1.43-.59-.52 0-1.04.2-1.43.59L10.3 9.45l-7.72 7.72c-.78.78-.78 2.05 0 2.83L4 21.41c.39.39.9.59 1.41.59.51 0 1.02-.2 1.41-.59l7.78-7.78 2.81-2.81c.8-.78.8-2.07 0-2.86zM5.41 20L4 18.59l7.72-7.72 1.47 1.35L5.41 20z\"/>\n",
              "  </svg>\n",
              "      </button>\n",
              "      \n",
              "  <style>\n",
              "    .colab-df-container {\n",
              "      display:flex;\n",
              "      flex-wrap:wrap;\n",
              "      gap: 12px;\n",
              "    }\n",
              "\n",
              "    .colab-df-convert {\n",
              "      background-color: #E8F0FE;\n",
              "      border: none;\n",
              "      border-radius: 50%;\n",
              "      cursor: pointer;\n",
              "      display: none;\n",
              "      fill: #1967D2;\n",
              "      height: 32px;\n",
              "      padding: 0 0 0 0;\n",
              "      width: 32px;\n",
              "    }\n",
              "\n",
              "    .colab-df-convert:hover {\n",
              "      background-color: #E2EBFA;\n",
              "      box-shadow: 0px 1px 2px rgba(60, 64, 67, 0.3), 0px 1px 3px 1px rgba(60, 64, 67, 0.15);\n",
              "      fill: #174EA6;\n",
              "    }\n",
              "\n",
              "    [theme=dark] .colab-df-convert {\n",
              "      background-color: #3B4455;\n",
              "      fill: #D2E3FC;\n",
              "    }\n",
              "\n",
              "    [theme=dark] .colab-df-convert:hover {\n",
              "      background-color: #434B5C;\n",
              "      box-shadow: 0px 1px 3px 1px rgba(0, 0, 0, 0.15);\n",
              "      filter: drop-shadow(0px 1px 2px rgba(0, 0, 0, 0.3));\n",
              "      fill: #FFFFFF;\n",
              "    }\n",
              "  </style>\n",
              "\n",
              "      <script>\n",
              "        const buttonEl =\n",
              "          document.querySelector('#df-1b6308c3-5382-4cba-abc3-42baf12256e0 button.colab-df-convert');\n",
              "        buttonEl.style.display =\n",
              "          google.colab.kernel.accessAllowed ? 'block' : 'none';\n",
              "\n",
              "        async function convertToInteractive(key) {\n",
              "          const element = document.querySelector('#df-1b6308c3-5382-4cba-abc3-42baf12256e0');\n",
              "          const dataTable =\n",
              "            await google.colab.kernel.invokeFunction('convertToInteractive',\n",
              "                                                     [key], {});\n",
              "          if (!dataTable) return;\n",
              "\n",
              "          const docLinkHtml = 'Like what you see? Visit the ' +\n",
              "            '<a target=\"_blank\" href=https://colab.research.google.com/notebooks/data_table.ipynb>data table notebook</a>'\n",
              "            + ' to learn more about interactive tables.';\n",
              "          element.innerHTML = '';\n",
              "          dataTable['output_type'] = 'display_data';\n",
              "          await google.colab.output.renderOutput(dataTable, element);\n",
              "          const docLink = document.createElement('div');\n",
              "          docLink.innerHTML = docLinkHtml;\n",
              "          element.appendChild(docLink);\n",
              "        }\n",
              "      </script>\n",
              "    </div>\n",
              "  </div>\n",
              "  "
            ]
          },
          "metadata": {},
          "execution_count": 2
        }
      ]
    },
    {
      "cell_type": "code",
      "source": [
        "# plot TV vs. sales\n",
        "plt.plot(advertising['TV'], advertising['sales'], 'g.')\n",
        "plt.title(\"TV vs. sales\")\n",
        "plt.xlabel(\"TV budget\")\n",
        "plt.ylabel(\"Sales Revenue\")"
      ],
      "metadata": {
        "id": "VNsh-8Muo6IQ",
        "colab": {
          "base_uri": "https://localhost:8080/",
          "height": 312
        },
        "outputId": "71d9e053-ea63-4265-f4c5-a75b298f0db7"
      },
      "execution_count": 3,
      "outputs": [
        {
          "output_type": "execute_result",
          "data": {
            "text/plain": [
              "Text(0, 0.5, 'Sales Revenue')"
            ]
          },
          "metadata": {},
          "execution_count": 3
        },
        {
          "output_type": "display_data",
          "data": {
            "text/plain": [
              "<Figure size 432x288 with 1 Axes>"
            ],
            "image/png": "[encoded data removed]"
          },
          "metadata": {
            "needs_background": "light"
          }
        }
      ]
    },
    {
      "cell_type": "code",
      "source": [
        "# Ex. Split the data into training_set (80%) and test_set (20%)\n",
        "from sklearn.model_selection import train_test_split\n",
        "training_set, test_set = train_test_split(advertising, test_size=0.2)\n",
        "print(training_set.shape)\n",
        "print(test_set.shape)\n",
        "training_set.head()"
      ],
      "metadata": {
        "id": "GYv_GEXcqru-",
        "colab": {
          "base_uri": "https://localhost:8080/",
          "height": 241
        },
        "outputId": "ef7b419c-6f85-4442-a051-4123f0a51b9c"
      },
      "execution_count": 4,
      "outputs": [
        {
          "output_type": "stream",
          "name": "stdout",
          "text": [
            "(160, 2)\n",
            "(40, 2)\n"
          ]
        },
        {
          "output_type": "execute_result",
          "data": {
            "text/plain": [
              "        TV  sales\n",
              "67   139.3   13.4\n",
              "150  280.7   16.1\n",
              "108   13.1    5.3\n",
              "12    23.8    9.2\n",
              "30   292.9   21.4"
            ],
            "text/html": [
              "\n",
              "  <div id=\"df-be29313d-5517-4acf-abe1-15d7ee175e65\">\n",
              "    <div class=\"colab-df-container\">\n",
              "      <div>\n",
              "<style scoped>\n",
              "    .dataframe tbody tr th:only-of-type {\n",
              "        vertical-align: middle;\n",
              "    }\n",
              "\n",
              "    .dataframe tbody tr th {\n",
              "        vertical-align: top;\n",
              "    }\n",
              "\n",
              "    .dataframe thead th {\n",
              "        text-align: right;\n",
              "    }\n",
              "</style>\n",
              "<table border=\"1\" class=\"dataframe\">\n",
              "  <thead>\n",
              "    <tr style=\"text-align: right;\">\n",
              "      <th></th>\n",
              "      <th>TV</th>\n",
              "      <th>sales</th>\n",
              "    </tr>\n",
              "  </thead>\n",
              "  <tbody>\n",
              "    <tr>\n",
              "      <th>67</th>\n",
              "      <td>139.3</td>\n",
              "      <td>13.4</td>\n",
              "    </tr>\n",
              "    <tr>\n",
              "      <th>150</th>\n",
              "      <td>280.7</td>\n",
              "      <td>16.1</td>\n",
              "    </tr>\n",
              "    <tr>\n",
              "      <th>108</th>\n",
              "      <td>13.1</td>\n",
              "      <td>5.3</td>\n",
              "    </tr>\n",
              "    <tr>\n",
              "      <th>12</th>\n",
              "      <td>23.8</td>\n",
              "      <td>9.2</td>\n",
              "    </tr>\n",
              "    <tr>\n",
              "      <th>30</th>\n",
              "      <td>292.9</td>\n",
              "      <td>21.4</td>\n",
              "    </tr>\n",
              "  </tbody>\n",
              "</table>\n",
              "</div>\n",
              "      <button class=\"colab-df-convert\" onclick=\"convertToInteractive('df-be29313d-5517-4acf-abe1-15d7ee175e65')\"\n",
              "              title=\"Convert this dataframe to an interactive table.\"\n",
              "              style=\"display:none;\">\n",
              "        \n",
              "  <svg xmlns=\"http://www.w3.org/2000/svg\" height=\"24px\"viewBox=\"0 0 24 24\"\n",
              "       width=\"24px\">\n",
              "    <path d=\"M0 0h24v24H0V0z\" fill=\"none\"/>\n",
              "    <path d=\"M18.56 5.44l.94 2.06.94-2.06 2.06-.94-2.06-.94-.94-2.06-.94 2.06-2.06.94zm-11 1L8.5 8.5l.94-2.06 2.06-.94-2.06-.94L8.5 2.5l-.94 2.06-2.06.94zm10 10l.94 2.06.94-2.06 2.06-.94-2.06-.94-.94-2.06-.94 2.06-2.06.94z\"/><path d=\"M17.41 7.96l-1.37-1.37c-.4-.4-.92-.59-1.43-.59-.52 0-1.04.2-1.43.59L10.3 9.45l-7.72 7.72c-.78.78-.78 2.05 0 2.83L4 21.41c.39.39.9.59 1.41.59.51 0 1.02-.2 1.41-.59l7.78-7.78 2.81-2.81c.8-.78.8-2.07 0-2.86zM5.41 20L4 18.59l7.72-7.72 1.47 1.35L5.41 20z\"/>\n",
              "  </svg>\n",
              "      </button>\n",
              "      \n",
              "  <style>\n",
              "    .colab-df-container {\n",
              "      display:flex;\n",
              "      flex-wrap:wrap;\n",
              "      gap: 12px;\n",
              "    }\n",
              "\n",
              "    .colab-df-convert {\n",
              "      background-color: #E8F0FE;\n",
              "      border: none;\n",
              "      border-radius: 50%;\n",
              "      cursor: pointer;\n",
              "      display: none;\n",
              "      fill: #1967D2;\n",
              "      height: 32px;\n",
              "      padding: 0 0 0 0;\n",
              "      width: 32px;\n",
              "    }\n",
              "\n",
              "    .colab-df-convert:hover {\n",
              "      background-color: #E2EBFA;\n",
              "      box-shadow: 0px 1px 2px rgba(60, 64, 67, 0.3), 0px 1px 3px 1px rgba(60, 64, 67, 0.15);\n",
              "      fill: #174EA6;\n",
              "    }\n",
              "\n",
              "    [theme=dark] .colab-df-convert {\n",
              "      background-color: #3B4455;\n",
              "      fill: #D2E3FC;\n",
              "    }\n",
              "\n",
              "    [theme=dark] .colab-df-convert:hover {\n",
              "      background-color: #434B5C;\n",
              "      box-shadow: 0px 1px 3px 1px rgba(0, 0, 0, 0.15);\n",
              "      filter: drop-shadow(0px 1px 2px rgba(0, 0, 0, 0.3));\n",
              "      fill: #FFFFFF;\n",
              "    }\n",
              "  </style>\n",
              "\n",
              "      <script>\n",
              "        const buttonEl =\n",
              "          document.querySelector('#df-be29313d-5517-4acf-abe1-15d7ee175e65 button.colab-df-convert');\n",
              "        buttonEl.style.display =\n",
              "          google.colab.kernel.accessAllowed ? 'block' : 'none';\n",
              "\n",
              "        async function convertToInteractive(key) {\n",
              "          const element = document.querySelector('#df-be29313d-5517-4acf-abe1-15d7ee175e65');\n",
              "          const dataTable =\n",
              "            await google.colab.kernel.invokeFunction('convertToInteractive',\n",
              "                                                     [key], {});\n",
              "          if (!dataTable) return;\n",
              "\n",
              "          const docLinkHtml = 'Like what you see? Visit the ' +\n",
              "            '<a target=\"_blank\" href=https://colab.research.google.com/notebooks/data_table.ipynb>data table notebook</a>'\n",
              "            + ' to learn more about interactive tables.';\n",
              "          element.innerHTML = '';\n",
              "          dataTable['output_type'] = 'display_data';\n",
              "          await google.colab.output.renderOutput(dataTable, element);\n",
              "          const docLink = document.createElement('div');\n",
              "          docLink.innerHTML = docLinkHtml;\n",
              "          element.appendChild(docLink);\n",
              "        }\n",
              "      </script>\n",
              "    </div>\n",
              "  </div>\n",
              "  "
            ]
          },
          "metadata": {},
          "execution_count": 4
        }
      ]
    },
    {
      "cell_type": "code",
      "source": [
        "# Let's build a polynomial model of degree 2.\n",
        "\n",
        "# Create matrix X: np.ones(), DataFrame.values, np.hstack()\n",
        "N = len(training_set)\n",
        "col1 = np.ones([N, 1])\n",
        "# print(col1)\n",
        "col2 = training_set[['TV']].values\n",
        "# col2 = np.array(training_set[['TV']])\n",
        "# print(col2)\n",
        "col3 = col2 ** 2\n",
        "# col3 = (training_set[['TV']] ** 2).values\n",
        "# print(col3)\n",
        "X = np.hstack([col1, col2, col3])\n",
        "# print(X)\n",
        "\n",
        "# Create matrix y\n",
        "y = training_set[['sales']].values\n",
        "# print(y)\n",
        "\n",
        "# Apply the normal equation\n",
        "theta = np.linalg.inv(X.T.dot(X)).dot(X.T).dot(y)\n",
        "print(theta)"
      ],
      "metadata": {
        "id": "I9z5mkHopnYf",
        "colab": {
          "base_uri": "https://localhost:8080/"
        },
        "outputId": "38e26d17-bc73-46b8-a3a5-67a27f720079"
      },
      "execution_count": 18,
      "outputs": [
        {
          "output_type": "stream",
          "name": "stdout",
          "text": [
            "[[6.0567]\n",
            " [0.0676]\n",
            " [-0.0001]]\n"
          ]
        }
      ]
    },
    {
      "cell_type": "code",
      "source": [
        "# Build a polynomial model using the LinearRegression class\n",
        "from sklearn.preprocessing import PolynomialFeatures\n",
        "poly_features = PolynomialFeatures(degree=2, include_bias=False)\n",
        "tv_poly = poly_features.fit_transform(training_set[['TV']])\n",
        "print(tv_poly) # tv_poly is the transformed training data"
      ],
      "metadata": {
        "id": "hGhsuiJLp45N",
        "colab": {
          "base_uri": "https://localhost:8080/"
        },
        "outputId": "9e53239b-55d8-4102-9b85-886651d51887"
      },
      "execution_count": 23,
      "outputs": [
        {
          "output_type": "stream",
          "name": "stdout",
          "text": [
            "[[139.3000 19404.4900]\n",
            " [280.7000 78792.4900]\n",
            " [13.1000 171.6100]\n",
            " [23.8000 566.4400]\n",
            " [292.9000 85790.4100]\n",
            " [217.7000 47393.2900]\n",
            " [206.8000 42766.2400]\n",
            " [131.1000 17187.2100]\n",
            " [8.7000 75.6900]\n",
            " [149.8000 22440.0400]\n",
            " [204.1000 41656.8100]\n",
            " [94.2000 8873.6400]\n",
            " [163.3000 26666.8900]\n",
            " [170.2000 28968.0400]\n",
            " [5.4000 29.1600]\n",
            " [131.7000 17344.8900]\n",
            " [0.7000 0.4900]\n",
            " [120.5000 14520.2500]\n",
            " [261.3000 68277.6900]\n",
            " [66.1000 4369.2100]\n",
            " [239.8000 57504.0400]\n",
            " [11.7000 136.8900]\n",
            " [59.6000 3552.1600]\n",
            " [16.9000 285.6100]\n",
            " [109.8000 12056.0400]\n",
            " [38.0000 1444.0000]\n",
            " [193.2000 37326.2400]\n",
            " [218.4000 47698.5600]\n",
            " [116.0000 13456.0000]\n",
            " [76.3000 5821.6900]\n",
            " [89.7000 8046.0900]\n",
            " [287.6000 82713.7600]\n",
            " [69.2000 4788.6400]\n",
            " [177.0000 31329.0000]\n",
            " [199.8000 39920.0400]\n",
            " [43.0000 1849.0000]\n",
            " [191.1000 36519.2100]\n",
            " [149.7000 22410.0900]\n",
            " [253.8000 64414.4400]\n",
            " [281.4000 79185.9600]\n",
            " [210.7000 44394.4900]\n",
            " [273.7000 74911.6900]\n",
            " [262.7000 69011.2900]\n",
            " [147.3000 21697.2900]\n",
            " [210.8000 44436.6400]\n",
            " [265.6000 70543.3600]\n",
            " [134.3000 18036.4900]\n",
            " [76.4000 5836.9600]\n",
            " [205.0000 42025.0000]\n",
            " [234.5000 54990.2500]\n",
            " [93.9000 8817.2100]\n",
            " [43.1000 1857.6100]\n",
            " [109.8000 12056.0400]\n",
            " [8.4000 70.5600]\n",
            " [76.4000 5836.9600]\n",
            " [195.4000 38181.1600]\n",
            " [168.4000 28358.5600]\n",
            " [19.4000 376.3600]\n",
            " [112.9000 12746.4100]\n",
            " [222.4000 49461.7600]\n",
            " [28.6000 817.9600]\n",
            " [228.3000 52120.8900]\n",
            " [18.8000 353.4400]\n",
            " [266.9000 71235.6100]\n",
            " [230.1000 52946.0100]\n",
            " [219.8000 48312.0400]\n",
            " [66.9000 4475.6100]\n",
            " [80.2000 6432.0400]\n",
            " [31.5000 992.2500]\n",
            " [286.0000 81796.0000]\n",
            " [75.1000 5640.0100]\n",
            " [25.6000 655.3600]\n",
            " [26.8000 718.2400]\n",
            " [213.5000 45582.2500]\n",
            " [44.7000 1998.0900]\n",
            " [214.7000 46096.0900]\n",
            " [102.7000 10547.2900]\n",
            " [7.8000 60.8400]\n",
            " [224.0000 50176.0000]\n",
            " [27.5000 756.2500]\n",
            " [262.9000 69116.4100]\n",
            " [213.4000 45539.5600]\n",
            " [57.5000 3306.2500]\n",
            " [180.8000 32688.6400]\n",
            " [136.2000 18550.4400]\n",
            " [206.9000 42807.6100]\n",
            " [50.0000 2500.0000]\n",
            " [220.3000 48532.0900]\n",
            " [293.6000 86200.9600]\n",
            " [135.2000 18279.0400]\n",
            " [74.7000 5580.0900]\n",
            " [187.9000 35306.4100]\n",
            " [123.1000 15153.6100]\n",
            " [17.2000 295.8400]\n",
            " [172.5000 29756.2500]\n",
            " [4.1000 16.8100]\n",
            " [284.3000 80826.4900]\n",
            " [120.2000 14448.0400]\n",
            " [197.6000 39045.7600]\n",
            " [232.1000 53870.4100]\n",
            " [187.8000 35268.8400]\n",
            " [151.5000 22952.2500]\n",
            " [129.4000 16744.3600]\n",
            " [248.4000 61702.5600]\n",
            " [164.5000 27060.2500]\n",
            " [165.6000 27423.3600]\n",
            " [70.6000 4984.3600]\n",
            " [7.3000 53.2900]\n",
            " [240.1000 57648.0100]\n",
            " [199.1000 39640.8100]\n",
            " [125.7000 15800.4900]\n",
            " [238.2000 56739.2400]\n",
            " [36.9000 1361.6100]\n",
            " [19.6000 384.1600]\n",
            " [39.5000 1560.2500]\n",
            " [56.2000 3158.4400]\n",
            " [283.6000 80428.9600]\n",
            " [141.3000 19965.6900]\n",
            " [239.3000 57264.4900]\n",
            " [248.8000 61901.4400]\n",
            " [17.9000 320.4100]\n",
            " [75.5000 5700.2500]\n",
            " [139.2000 19376.6400]\n",
            " [198.9000 39561.2100]\n",
            " [229.5000 52670.2500]\n",
            " [188.4000 35494.5600]\n",
            " [197.6000 39045.7600]\n",
            " [215.4000 46397.1600]\n",
            " [182.6000 33342.7600]\n",
            " [38.2000 1459.2400]\n",
            " [25.1000 630.0100]\n",
            " [265.2000 70331.0400]\n",
            " [184.9000 34188.0100]\n",
            " [280.2000 78512.0400]\n",
            " [166.8000 27822.2400]\n",
            " [241.7000 58418.8900]\n",
            " [75.3000 5670.0900]\n",
            " [67.8000 4596.8400]\n",
            " [202.5000 41006.2500]\n",
            " [95.7000 9158.4900]\n",
            " [90.4000 8172.1600]\n",
            " [276.9000 76673.6100]\n",
            " [25.0000 625.0000]\n",
            " [13.2000 174.2400]\n",
            " [110.7000 12254.4900]\n",
            " [97.5000 9506.2500]\n",
            " [73.4000 5387.5600]\n",
            " [53.5000 2862.2500]\n",
            " [137.9000 19016.4100]\n",
            " [17.2000 295.8400]\n",
            " [8.6000 73.9600]\n",
            " [18.7000 349.6900]\n",
            " [142.9000 20420.4100]\n",
            " [96.2000 9254.4400]\n",
            " [222.4000 49461.7600]\n",
            " [216.4000 46828.9600]\n",
            " [218.5000 47742.2500]\n",
            " [227.2000 51619.8400]\n",
            " [156.6000 24523.5600]\n",
            " [296.4000 87852.9600]]\n"
          ]
        }
      ]
    },
    {
      "cell_type": "code",
      "source": [
        "# Train the polynomial model by training a linear model on the transformed data\n",
        "from sklearn.linear_model import LinearRegression\n",
        "model_pr = LinearRegression()\n",
        "model_pr.fit(tv_poly, training_set['sales']) "
      ],
      "metadata": {
        "id": "i5qeYhtKqYpi",
        "colab": {
          "base_uri": "https://localhost:8080/"
        },
        "outputId": "8d78a5d4-30a2-49ac-b792-743834292289"
      },
      "execution_count": 24,
      "outputs": [
        {
          "output_type": "execute_result",
          "data": {
            "text/plain": [
              "LinearRegression()"
            ]
          },
          "metadata": {},
          "execution_count": 24
        }
      ]
    },
    {
      "cell_type": "code",
      "source": [
        "print(model_pr.intercept_, model_pr.coef_)"
      ],
      "metadata": {
        "colab": {
          "base_uri": "https://localhost:8080/"
        },
        "id": "mQAl8JvAq14d",
        "outputId": "1a7e6d2b-0a89-408d-91dd-08cfb0ccf178"
      },
      "execution_count": 26,
      "outputs": [
        {
          "output_type": "stream",
          "name": "stdout",
          "text": [
            "6.05670809711658 [0.0676 -0.0001]\n"
          ]
        }
      ]
    },
    {
      "cell_type": "code",
      "source": [
        "# Let's plot the polynomial curve with the data set.\n",
        "# Y = theta0 + theta1 * X + theta2 * X ** 2\n",
        "theta0 = model_pr.intercept_\n",
        "theta1, theta2 = model_pr.coef_\n",
        "print(theta0, theta1, theta2)\n",
        "\n",
        "# x_coordinates = [0, 50, 100, 150, 200, 250, 300]\n",
        "# We can use np.linspace to sample a large number of values from an interval\n",
        "x_coordinates = np.linspace(0, 300, 101)\n",
        "print(x_coordinates)\n",
        "y_coordinates = []\n",
        "for x in x_coordinates:\n",
        "  y = theta0 + theta1 * x + theta2 * x ** 2\n",
        "  y_coordinates.append(y)\n",
        "\n",
        "\n",
        "plt.plot(x_coordinates, y_coordinates, \"r-\")\n",
        "plt.plot(training_set['TV'], training_set['sales'], 'b.')"
      ],
      "metadata": {
        "colab": {
          "base_uri": "https://localhost:8080/",
          "height": 525
        },
        "id": "6qwAF2u3rOfJ",
        "outputId": "a0c7b30f-aa8e-448b-ae22-6d56105e39a5"
      },
      "execution_count": 33,
      "outputs": [
        {
          "output_type": "stream",
          "name": "stdout",
          "text": [
            "6.05670809711658 0.06755393436668307 -6.752319239919022e-05\n",
            "[0.0000 3.0000 6.0000 9.0000 12.0000 15.0000 18.0000 21.0000 24.0000\n",
            " 27.0000 30.0000 33.0000 36.0000 39.0000 42.0000 45.0000 48.0000 51.0000\n",
            " 54.0000 57.0000 60.0000 63.0000 66.0000 69.0000 72.0000 75.0000 78.0000\n",
            " 81.0000 84.0000 87.0000 90.0000 93.0000 96.0000 99.0000 102.0000 105.0000\n",
            " 108.0000 111.0000 114.0000 117.0000 120.0000 123.0000 126.0000 129.0000\n",
            " 132.0000 135.0000 138.0000 141.0000 144.0000 147.0000 150.0000 153.0000\n",
            " 156.0000 159.0000 162.0000 165.0000 168.0000 171.0000 174.0000 177.0000\n",
            " 180.0000 183.0000 186.0000 189.0000 192.0000 195.0000 198.0000 201.0000\n",
            " 204.0000 207.0000 210.0000 213.0000 216.0000 219.0000 222.0000 225.0000\n",
            " 228.0000 231.0000 234.0000 237.0000 240.0000 243.0000 246.0000 249.0000\n",
            " 252.0000 255.0000 258.0000 261.0000 264.0000 267.0000 270.0000 273.0000\n",
            " 276.0000 279.0000 282.0000 285.0000 288.0000 291.0000 294.0000 297.0000\n",
            " 300.0000]\n"
          ]
        },
        {
          "output_type": "execute_result",
          "data": {
            "text/plain": [
              "[<matplotlib.lines.Line2D at 0x7f1f863d38d0>]"
            ]
          },
          "metadata": {},
          "execution_count": 33
        },
        {
          "output_type": "display_data",
          "data": {
            "text/plain": [
              "<Figure size 432x288 with 1 Axes>"
            ],
            "image/png": "[encoded data removed]"
          },
          "metadata": {
            "needs_background": "light"
          }
        }
      ]
    },
    {
      "cell_type": "code",
      "source": [
        "# Ex: Calculate the test MSE.\n",
        "from sklearn.metrics import mean_squared_error\n",
        "test_poly = poly_features.fit_transform(test_set[['TV']])\n",
        "predictions = model_pr.predict(test_poly)\n",
        "MSE = mean_squared_error(test_set['sales'], predictions)\n",
        "print(MSE)"
      ],
      "metadata": {
        "id": "It1FFpMqqlYa",
        "colab": {
          "base_uri": "https://localhost:8080/"
        },
        "outputId": "c71fb22f-347e-45bd-fa6a-3196c11b2680"
      },
      "execution_count": 38,
      "outputs": [
        {
          "output_type": "stream",
          "name": "stdout",
          "text": [
            "13.114101247862035\n"
          ]
        }
      ]
    },
    {
      "cell_type": "markdown",
      "source": [
        "### <font color=\"green\">Overfitting vs. Underfitting</font>\n",
        "<img src=\"https://media.geeksforgeeks.org/wp-content/cdn-uploads/20190523171229/overfitting_1.png\" width=\"600\">\n",
        "<img src=\"https://media.geeksforgeeks.org/wp-content/cdn-uploads/20190523171258/overfitting_2.png\" width=\"600\">\n",
        "\n",
        "How to detect model overfitting?\n",
        "- Training error vs. test error\n",
        "- Cross Validation\n",
        "- Model visualization"
      ],
      "metadata": {
        "id": "ZxPRwRXY7f52"
      }
    },
    {
      "cell_type": "markdown",
      "source": [
        "### <font color=\"green\">Preventing Model Overfitting</font>\n",
        "- Get more training data\n",
        "- Feature selection\n",
        "- Regularization\n",
        "- Early stopping\n",
        "\n",
        "<img src=\"https://hackernoon.com/hn-images/1*vuZxFMi5fODz2OEcpG-S1g.png\" width=\"600\">"
      ],
      "metadata": {
        "id": "iP6JIC187f8f"
      }
    }
  ]
}