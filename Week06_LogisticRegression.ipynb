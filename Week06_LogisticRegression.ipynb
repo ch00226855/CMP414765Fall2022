{
  "nbformat": 4,
  "nbformat_minor": 0,
  "metadata": {
    "colab": {
      "provenance": [],
      "collapsed_sections": [
        "Dj4tltViritD",
        "LiXlzeYmsR6u",
        "mLwO2VqftUAT",
        "VmokZv2DDFCD",
        "BTSROe7Mt5te",
        "GdQxqkj-uReO",
        "x2RuK1ZfuUGO",
        "tbg7vKt8vRk-"
      ],
      "include_colab_link": true
    },
    "kernelspec": {
      "name": "python3",
      "display_name": "Python 3"
    }
  },
  "cells": [
    {
      "cell_type": "markdown",
      "metadata": {
        "id": "view-in-github",
        "colab_type": "text"
      },
      "source": [
        "<a href=\"https://colab.research.google.com/github/ch00226855/CMP414765Fall2022/blob/main/Week06_LogisticRegression.ipynb\" target=\"_parent\"><img src=\"https://colab.research.google.com/assets/colab-badge.svg\" alt=\"Open In Colab\"/></a>"
      ]
    },
    {
      "cell_type": "markdown",
      "metadata": {
        "id": "UxoN-gYypjZk"
      },
      "source": [
        "# Week 6\n",
        "# Logistic Regression\n",
        "\n",
        "We have studied how to use linear regression and polynomial regression to *predict a target numeric value*. There is another learning task, **classification**, aiming at predicting group membership rather than numeric values. Email spam filter is a good example: it is trained with many example emails with their class (spam or non-spam), and it must learn how to classify new emails.\n",
        "\n",
        "Linear regression is **not** a good choice for classification tasks. We will introduce the **logistic regression** model and use the iris dataset to illustrate how the model works.\n",
        "\n",
        "**Readings4**: Textbook Chapter 4"
      ]
    },
    {
      "cell_type": "code",
      "metadata": {
        "id": "taAvtt3jppKN"
      },
      "source": [
        "import numpy as np\n",
        "import pandas as pd\n",
        "import matplotlib\n",
        "import matplotlib.pyplot as plt\n",
        "%matplotlib inline"
      ],
      "execution_count": 1,
      "outputs": []
    },
    {
      "cell_type": "markdown",
      "metadata": {
        "id": "xp3Dp0J5ppMc"
      },
      "source": [
        "## Logistic Regression: Intuition\n",
        "- Picture the data as points on the plane.\n",
        "- A classifier's job is to determine the decision regions for each class.\n",
        "- If a point is far from the decision boundary, then the classifier should be fairly confident about its prediction.\n",
        "- If a point is near the decision boundary, then the classifier may be less confident about its prediction.\n",
        "- The **logistic regression** model aims to provide a **probablity distribution** for each point. A good classifier will produce a **probability distribution with low variance** on most inputs.\n",
        "- **Probability distribution with high variance**: rolling a die - there is no way to predict the likely outcome\n",
        "- **Probability distribution with low variance**: hitting the Powerball jackpot - probably not going to happen\n",
        "\n",
        "<img src=\"https://miro.medium.com/proxy/1*fBjniQPOKigqxYSKEumXoA.png\" width=\"400\">\n",
        "<img src=\"https://www.researchgate.net/profile/Tyler-Grear-2/publication/346931728/figure/fig3/AS:967322328113154@1607639023428/An-application-of-SVM-to-non-linearly-separable-distributions-of-two-classes-a-A-2D.ppm\" width=\"400\">"
      ]
    },
    {
      "cell_type": "code",
      "metadata": {
        "id": "Gcy8l17zETEg"
      },
      "source": [
        "# Examples of low-variance probability distributions:\n",
        "[0.99, 0.001, 0.009] # low variance: the outcome most likely will be 0.\n",
        "[0.1, 0.8, 0.1] # low variance: the outcome most likely will be 1.\n",
        "\n",
        "# Examples of high-variance probability distributions:\n",
        "[0.333, 0.333, 0.334] # high variance\n",
        "[0.5, 0.5] # high variance"
      ],
      "execution_count": null,
      "outputs": []
    },
    {
      "cell_type": "code",
      "source": [
        "# The core idea of the method is the usage of the logistic function:\n",
        "# 1 / (1 + e ** (-x))\n",
        "x_coordinates = np.linspace(-10, 10, 100)\n",
        "# print(x_coordinates)\n",
        "# y_coordinates = []\n",
        "# for x in x_coordinates\n",
        "#   # do calculation\n",
        "#   # append to the y list\n",
        "# Alternatively, we can use list comprehension to create y coordinates\n",
        "y_coordinates = [1 / (1 + np.exp(-x)) for x in x_coordinates]\n",
        "# print(y_coordinates)\n",
        "plt.plot(x_coordinates, y_coordinates, 'g-')"
      ],
      "metadata": {
        "colab": {
          "base_uri": "https://localhost:8080/",
          "height": 282
        },
        "id": "2ISLJcUM2_1R",
        "outputId": "77d7a329-3ff5-4e7a-fb29-5ac29867c04b"
      },
      "execution_count": 6,
      "outputs": [
        {
          "output_type": "execute_result",
          "data": {
            "text/plain": [
              "[<matplotlib.lines.Line2D at 0x7f60b857d1d0>]"
            ]
          },
          "metadata": {},
          "execution_count": 6
        },
        {
          "output_type": "display_data",
          "data": {
            "text/plain": [
              "<Figure size 432x288 with 1 Axes>"
            ],
            "image/png": "[encoded data removed]"
          },
          "metadata": {
            "needs_background": "light"
          }
        }
      ]
    },
    {
      "cell_type": "markdown",
      "metadata": {
        "id": "HP_rRpctppO6"
      },
      "source": [
        "## Basic Case: Binary Classifier\n",
        "- Suppose there are only two classes for the output feature: **Class 0** (the negative class) and **Class 1** (the positive class).\n",
        "- A **binary classifer** tries to estimate the probability $p$ that a point belongs to Class 1.\n",
        "- The probability that a point belongs to Class 0 is $1 - p$.\n",
        "- Given the probability, the binary classifier will compare it with a chosen **threshold** (for example, 0.5), and then predict the class as\n",
        "    - prediction = 1 if $\\hat{p}$ $\\ge$ threshold\n",
        "    - prediction = 0 if $\\hat{p}$ < threshold\n",
        "- The **boundary** of decision regions is given by the curve formed by points whose probability equals to the threshold value."
      ]
    },
    {
      "cell_type": "markdown",
      "metadata": {
        "id": "n6kkVoPxppRZ"
      },
      "source": [
        "## Example: The Iris Dataset\n",
        "\n",
        "**Iris dataset** is a famous dataset that contains the sepal and petal length and width of 150 iris flowers of three different species: Iris-Setosa, Iris-Versicolor, and Iris-Virginica. [wiki page](https://en.wikipedia.org/wiki/Iris_flower_data_set)\n",
        "\n",
        "- Import dataset using <code>sklearn.dataset.load_iris()</code>\n",
        "- Explore the dataset: data description, feature names, data types, data histograms, scatter plots.\n",
        "- Split the dataset into train_set and test_set\n",
        "- Apply <code>sklearn.linear_model.LogisticRegression</code> to build a binary classifier on **Iris-Virginica**.\n",
        "- Evaluate the performance of the model: Accuracy, cross-validation, precision vs. recall, confusion matrix...\n",
        "- Visualize the model (show decision boundary)\n",
        "\n",
        "<img src=\"https://miro.medium.com/max/1000/1*Hh53mOF4Xy4eORjLilKOwA.png\" width=\"600\">\n"
      ]
    },
    {
      "cell_type": "code",
      "metadata": {
        "id": "661QKVElppTu",
        "colab": {
          "base_uri": "https://localhost:8080/"
        },
        "outputId": "3b80eac9-fa71-49e3-f31d-d9f905aed7c0"
      },
      "source": [
        "# Load the dataset\n",
        "from sklearn import datasets\n",
        "iris = datasets.load_iris()\n",
        "\n",
        "iris.keys()"
      ],
      "execution_count": 7,
      "outputs": [
        {
          "output_type": "execute_result",
          "data": {
            "text/plain": [
              "dict_keys(['data', 'target', 'frame', 'target_names', 'DESCR', 'feature_names', 'filename', 'data_module'])"
            ]
          },
          "metadata": {},
          "execution_count": 7
        }
      ]
    },
    {
      "cell_type": "code",
      "metadata": {
        "id": "cR_7VatWppWA",
        "colab": {
          "base_uri": "https://localhost:8080/"
        },
        "outputId": "fa5d7140-8bea-44d0-8960-10c7d235a07d"
      },
      "source": [
        "# Description of the dataset\n",
        "print(iris['DESCR'])"
      ],
      "execution_count": 8,
      "outputs": [
        {
          "output_type": "stream",
          "name": "stdout",
          "text": [
            ".. _iris_dataset:\n",
            "\n",
            "Iris plants dataset\n",
            "--------------------\n",
            "\n",
            "**Data Set Characteristics:**\n",
            "\n",
            "    :Number of Instances: 150 (50 in each of three classes)\n",
            "    :Number of Attributes: 4 numeric, predictive attributes and the class\n",
            "    :Attribute Information:\n",
            "        - sepal length in cm\n",
            "        - sepal width in cm\n",
            "        - petal length in cm\n",
            "        - petal width in cm\n",
            "        - class:\n",
            "                - Iris-Setosa\n",
            "                - Iris-Versicolour\n",
            "                - Iris-Virginica\n",
            "                \n",
            "    :Summary Statistics:\n",
            "\n",
            "    ============== ==== ==== ======= ===== ====================\n",
            "                    Min  Max   Mean    SD   Class Correlation\n",
            "    ============== ==== ==== ======= ===== ====================\n",
            "    sepal length:   4.3  7.9   5.84   0.83    0.7826\n",
            "    sepal width:    2.0  4.4   3.05   0.43   -0.4194\n",
            "    petal length:   1.0  6.9   3.76   1.76    0.9490  (high!)\n",
            "    petal width:    0.1  2.5   1.20   0.76    0.9565  (high!)\n",
            "    ============== ==== ==== ======= ===== ====================\n",
            "\n",
            "    :Missing Attribute Values: None\n",
            "    :Class Distribution: 33.3% for each of 3 classes.\n",
            "    :Creator: R.A. Fisher\n",
            "    :Donor: Michael Marshall (MARSHALL%PLU@io.arc.nasa.gov)\n",
            "    :Date: July, 1988\n",
            "\n",
            "The famous Iris database, first used by Sir R.A. Fisher. The dataset is taken\n",
            "from Fisher's paper. Note that it's the same as in R, but not as in the UCI\n",
            "Machine Learning Repository, which has two wrong data points.\n",
            "\n",
            "This is perhaps the best known database to be found in the\n",
            "pattern recognition literature.  Fisher's paper is a classic in the field and\n",
            "is referenced frequently to this day.  (See Duda & Hart, for example.)  The\n",
            "data set contains 3 classes of 50 instances each, where each class refers to a\n",
            "type of iris plant.  One class is linearly separable from the other 2; the\n",
            "latter are NOT linearly separable from each other.\n",
            "\n",
            ".. topic:: References\n",
            "\n",
            "   - Fisher, R.A. \"The use of multiple measurements in taxonomic problems\"\n",
            "     Annual Eugenics, 7, Part II, 179-188 (1936); also in \"Contributions to\n",
            "     Mathematical Statistics\" (John Wiley, NY, 1950).\n",
            "   - Duda, R.O., & Hart, P.E. (1973) Pattern Classification and Scene Analysis.\n",
            "     (Q327.D83) John Wiley & Sons.  ISBN 0-471-22361-1.  See page 218.\n",
            "   - Dasarathy, B.V. (1980) \"Nosing Around the Neighborhood: A New System\n",
            "     Structure and Classification Rule for Recognition in Partially Exposed\n",
            "     Environments\".  IEEE Transactions on Pattern Analysis and Machine\n",
            "     Intelligence, Vol. PAMI-2, No. 1, 67-71.\n",
            "   - Gates, G.W. (1972) \"The Reduced Nearest Neighbor Rule\".  IEEE Transactions\n",
            "     on Information Theory, May 1972, 431-433.\n",
            "   - See also: 1988 MLC Proceedings, 54-64.  Cheeseman et al\"s AUTOCLASS II\n",
            "     conceptual clustering system finds 3 classes in the data.\n",
            "   - Many, many more ...\n"
          ]
        }
      ]
    },
    {
      "cell_type": "code",
      "metadata": {
        "id": "d9I8J0yKppYd",
        "colab": {
          "base_uri": "https://localhost:8080/"
        },
        "outputId": "0b0c93ac-1835-493e-d593-920e4bef3c8c"
      },
      "source": [
        "print(iris['feature_names'])"
      ],
      "execution_count": 9,
      "outputs": [
        {
          "output_type": "stream",
          "name": "stdout",
          "text": [
            "['sepal length (cm)', 'sepal width (cm)', 'petal length (cm)', 'petal width (cm)']\n"
          ]
        }
      ]
    },
    {
      "cell_type": "code",
      "source": [
        "# The measurements are included in the 'data' item\n",
        "# iris['data']"
      ],
      "metadata": {
        "id": "z_mx00VR7Uey"
      },
      "execution_count": 11,
      "outputs": []
    },
    {
      "cell_type": "code",
      "metadata": {
        "id": "gv0UuvJQppbE",
        "colab": {
          "base_uri": "https://localhost:8080/",
          "height": 206
        },
        "outputId": "ea1677d1-495b-44f0-fbb7-28822f357091"
      },
      "source": [
        "# Convert the data into a data frame\n",
        "iris_df = pd.DataFrame(data=iris['data'], columns=iris['feature_names'])\n",
        "iris_df.head()"
      ],
      "execution_count": 12,
      "outputs": [
        {
          "output_type": "execute_result",
          "data": {
            "text/plain": [
              "   sepal length (cm)  sepal width (cm)  petal length (cm)  petal width (cm)\n",
              "0                5.1               3.5                1.4               0.2\n",
              "1                4.9               3.0                1.4               0.2\n",
              "2                4.7               3.2                1.3               0.2\n",
              "3                4.6               3.1                1.5               0.2\n",
              "4                5.0               3.6                1.4               0.2"
            ],
            "text/html": [
              "\n",
              "  <div id=\"df-9cdc1691-2f65-4d29-bd8d-6350f0b1b06e\">\n",
              "    <div class=\"colab-df-container\">\n",
              "      <div>\n",
              "<style scoped>\n",
              "    .dataframe tbody tr th:only-of-type {\n",
              "        vertical-align: middle;\n",
              "    }\n",
              "\n",
              "    .dataframe tbody tr th {\n",
              "        vertical-align: top;\n",
              "    }\n",
              "\n",
              "    .dataframe thead th {\n",
              "        text-align: right;\n",
              "    }\n",
              "</style>\n",
              "<table border=\"1\" class=\"dataframe\">\n",
              "  <thead>\n",
              "    <tr style=\"text-align: right;\">\n",
              "      <th></th>\n",
              "      <th>sepal length (cm)</th>\n",
              "      <th>sepal width (cm)</th>\n",
              "      <th>petal length (cm)</th>\n",
              "      <th>petal width (cm)</th>\n",
              "    </tr>\n",
              "  </thead>\n",
              "  <tbody>\n",
              "    <tr>\n",
              "      <th>0</th>\n",
              "      <td>5.1</td>\n",
              "      <td>3.5</td>\n",
              "      <td>1.4</td>\n",
              "      <td>0.2</td>\n",
              "    </tr>\n",
              "    <tr>\n",
              "      <th>1</th>\n",
              "      <td>4.9</td>\n",
              "      <td>3.0</td>\n",
              "      <td>1.4</td>\n",
              "      <td>0.2</td>\n",
              "    </tr>\n",
              "    <tr>\n",
              "      <th>2</th>\n",
              "      <td>4.7</td>\n",
              "      <td>3.2</td>\n",
              "      <td>1.3</td>\n",
              "      <td>0.2</td>\n",
              "    </tr>\n",
              "    <tr>\n",
              "      <th>3</th>\n",
              "      <td>4.6</td>\n",
              "      <td>3.1</td>\n",
              "      <td>1.5</td>\n",
              "      <td>0.2</td>\n",
              "    </tr>\n",
              "    <tr>\n",
              "      <th>4</th>\n",
              "      <td>5.0</td>\n",
              "      <td>3.6</td>\n",
              "      <td>1.4</td>\n",
              "      <td>0.2</td>\n",
              "    </tr>\n",
              "  </tbody>\n",
              "</table>\n",
              "</div>\n",
              "      <button class=\"colab-df-convert\" onclick=\"convertToInteractive('df-9cdc1691-2f65-4d29-bd8d-6350f0b1b06e')\"\n",
              "              title=\"Convert this dataframe to an interactive table.\"\n",
              "              style=\"display:none;\">\n",
              "        \n",
              "  <svg xmlns=\"http://www.w3.org/2000/svg\" height=\"24px\"viewBox=\"0 0 24 24\"\n",
              "       width=\"24px\">\n",
              "    <path d=\"M0 0h24v24H0V0z\" fill=\"none\"/>\n",
              "    <path d=\"M18.56 5.44l.94 2.06.94-2.06 2.06-.94-2.06-.94-.94-2.06-.94 2.06-2.06.94zm-11 1L8.5 8.5l.94-2.06 2.06-.94-2.06-.94L8.5 2.5l-.94 2.06-2.06.94zm10 10l.94 2.06.94-2.06 2.06-.94-2.06-.94-.94-2.06-.94 2.06-2.06.94z\"/><path d=\"M17.41 7.96l-1.37-1.37c-.4-.4-.92-.59-1.43-.59-.52 0-1.04.2-1.43.59L10.3 9.45l-7.72 7.72c-.78.78-.78 2.05 0 2.83L4 21.41c.39.39.9.59 1.41.59.51 0 1.02-.2 1.41-.59l7.78-7.78 2.81-2.81c.8-.78.8-2.07 0-2.86zM5.41 20L4 18.59l7.72-7.72 1.47 1.35L5.41 20z\"/>\n",
              "  </svg>\n",
              "      </button>\n",
              "      \n",
              "  <style>\n",
              "    .colab-df-container {\n",
              "      display:flex;\n",
              "      flex-wrap:wrap;\n",
              "      gap: 12px;\n",
              "    }\n",
              "\n",
              "    .colab-df-convert {\n",
              "      background-color: #E8F0FE;\n",
              "      border: none;\n",
              "      border-radius: 50%;\n",
              "      cursor: pointer;\n",
              "      display: none;\n",
              "      fill: #1967D2;\n",
              "      height: 32px;\n",
              "      padding: 0 0 0 0;\n",
              "      width: 32px;\n",
              "    }\n",
              "\n",
              "    .colab-df-convert:hover {\n",
              "      background-color: #E2EBFA;\n",
              "      box-shadow: 0px 1px 2px rgba(60, 64, 67, 0.3), 0px 1px 3px 1px rgba(60, 64, 67, 0.15);\n",
              "      fill: #174EA6;\n",
              "    }\n",
              "\n",
              "    [theme=dark] .colab-df-convert {\n",
              "      background-color: #3B4455;\n",
              "      fill: #D2E3FC;\n",
              "    }\n",
              "\n",
              "    [theme=dark] .colab-df-convert:hover {\n",
              "      background-color: #434B5C;\n",
              "      box-shadow: 0px 1px 3px 1px rgba(0, 0, 0, 0.15);\n",
              "      filter: drop-shadow(0px 1px 2px rgba(0, 0, 0, 0.3));\n",
              "      fill: #FFFFFF;\n",
              "    }\n",
              "  </style>\n",
              "\n",
              "      <script>\n",
              "        const buttonEl =\n",
              "          document.querySelector('#df-9cdc1691-2f65-4d29-bd8d-6350f0b1b06e button.colab-df-convert');\n",
              "        buttonEl.style.display =\n",
              "          google.colab.kernel.accessAllowed ? 'block' : 'none';\n",
              "\n",
              "        async function convertToInteractive(key) {\n",
              "          const element = document.querySelector('#df-9cdc1691-2f65-4d29-bd8d-6350f0b1b06e');\n",
              "          const dataTable =\n",
              "            await google.colab.kernel.invokeFunction('convertToInteractive',\n",
              "                                                     [key], {});\n",
              "          if (!dataTable) return;\n",
              "\n",
              "          const docLinkHtml = 'Like what you see? Visit the ' +\n",
              "            '<a target=\"_blank\" href=https://colab.research.google.com/notebooks/data_table.ipynb>data table notebook</a>'\n",
              "            + ' to learn more about interactive tables.';\n",
              "          element.innerHTML = '';\n",
              "          dataTable['output_type'] = 'display_data';\n",
              "          await google.colab.output.renderOutput(dataTable, element);\n",
              "          const docLink = document.createElement('div');\n",
              "          docLink.innerHTML = docLinkHtml;\n",
              "          element.appendChild(docLink);\n",
              "        }\n",
              "      </script>\n",
              "    </div>\n",
              "  </div>\n",
              "  "
            ]
          },
          "metadata": {},
          "execution_count": 12
        }
      ]
    },
    {
      "cell_type": "code",
      "source": [
        "# iris['target']"
      ],
      "metadata": {
        "id": "nm544ivX797m"
      },
      "execution_count": 14,
      "outputs": []
    },
    {
      "cell_type": "code",
      "metadata": {
        "id": "O3sutAZbppdx",
        "colab": {
          "base_uri": "https://localhost:8080/",
          "height": 206
        },
        "outputId": "2534bfec-052e-45fd-8d62-a8dc374a1339"
      },
      "source": [
        "# Add the target class\n",
        "iris_df['target'] = iris['target']\n",
        "iris_df.head()"
      ],
      "execution_count": 15,
      "outputs": [
        {
          "output_type": "execute_result",
          "data": {
            "text/plain": [
              "   sepal length (cm)  sepal width (cm)  petal length (cm)  petal width (cm)  \\\n",
              "0                5.1               3.5                1.4               0.2   \n",
              "1                4.9               3.0                1.4               0.2   \n",
              "2                4.7               3.2                1.3               0.2   \n",
              "3                4.6               3.1                1.5               0.2   \n",
              "4                5.0               3.6                1.4               0.2   \n",
              "\n",
              "   target  \n",
              "0       0  \n",
              "1       0  \n",
              "2       0  \n",
              "3       0  \n",
              "4       0  "
            ],
            "text/html": [
              "\n",
              "  <div id=\"df-db9cdaee-8b47-4249-81d4-fede8c095feb\">\n",
              "    <div class=\"colab-df-container\">\n",
              "      <div>\n",
              "<style scoped>\n",
              "    .dataframe tbody tr th:only-of-type {\n",
              "        vertical-align: middle;\n",
              "    }\n",
              "\n",
              "    .dataframe tbody tr th {\n",
              "        vertical-align: top;\n",
              "    }\n",
              "\n",
              "    .dataframe thead th {\n",
              "        text-align: right;\n",
              "    }\n",
              "</style>\n",
              "<table border=\"1\" class=\"dataframe\">\n",
              "  <thead>\n",
              "    <tr style=\"text-align: right;\">\n",
              "      <th></th>\n",
              "      <th>sepal length (cm)</th>\n",
              "      <th>sepal width (cm)</th>\n",
              "      <th>petal length (cm)</th>\n",
              "      <th>petal width (cm)</th>\n",
              "      <th>target</th>\n",
              "    </tr>\n",
              "  </thead>\n",
              "  <tbody>\n",
              "    <tr>\n",
              "      <th>0</th>\n",
              "      <td>5.1</td>\n",
              "      <td>3.5</td>\n",
              "      <td>1.4</td>\n",
              "      <td>0.2</td>\n",
              "      <td>0</td>\n",
              "    </tr>\n",
              "    <tr>\n",
              "      <th>1</th>\n",
              "      <td>4.9</td>\n",
              "      <td>3.0</td>\n",
              "      <td>1.4</td>\n",
              "      <td>0.2</td>\n",
              "      <td>0</td>\n",
              "    </tr>\n",
              "    <tr>\n",
              "      <th>2</th>\n",
              "      <td>4.7</td>\n",
              "      <td>3.2</td>\n",
              "      <td>1.3</td>\n",
              "      <td>0.2</td>\n",
              "      <td>0</td>\n",
              "    </tr>\n",
              "    <tr>\n",
              "      <th>3</th>\n",
              "      <td>4.6</td>\n",
              "      <td>3.1</td>\n",
              "      <td>1.5</td>\n",
              "      <td>0.2</td>\n",
              "      <td>0</td>\n",
              "    </tr>\n",
              "    <tr>\n",
              "      <th>4</th>\n",
              "      <td>5.0</td>\n",
              "      <td>3.6</td>\n",
              "      <td>1.4</td>\n",
              "      <td>0.2</td>\n",
              "      <td>0</td>\n",
              "    </tr>\n",
              "  </tbody>\n",
              "</table>\n",
              "</div>\n",
              "      <button class=\"colab-df-convert\" onclick=\"convertToInteractive('df-db9cdaee-8b47-4249-81d4-fede8c095feb')\"\n",
              "              title=\"Convert this dataframe to an interactive table.\"\n",
              "              style=\"display:none;\">\n",
              "        \n",
              "  <svg xmlns=\"http://www.w3.org/2000/svg\" height=\"24px\"viewBox=\"0 0 24 24\"\n",
              "       width=\"24px\">\n",
              "    <path d=\"M0 0h24v24H0V0z\" fill=\"none\"/>\n",
              "    <path d=\"M18.56 5.44l.94 2.06.94-2.06 2.06-.94-2.06-.94-.94-2.06-.94 2.06-2.06.94zm-11 1L8.5 8.5l.94-2.06 2.06-.94-2.06-.94L8.5 2.5l-.94 2.06-2.06.94zm10 10l.94 2.06.94-2.06 2.06-.94-2.06-.94-.94-2.06-.94 2.06-2.06.94z\"/><path d=\"M17.41 7.96l-1.37-1.37c-.4-.4-.92-.59-1.43-.59-.52 0-1.04.2-1.43.59L10.3 9.45l-7.72 7.72c-.78.78-.78 2.05 0 2.83L4 21.41c.39.39.9.59 1.41.59.51 0 1.02-.2 1.41-.59l7.78-7.78 2.81-2.81c.8-.78.8-2.07 0-2.86zM5.41 20L4 18.59l7.72-7.72 1.47 1.35L5.41 20z\"/>\n",
              "  </svg>\n",
              "      </button>\n",
              "      \n",
              "  <style>\n",
              "    .colab-df-container {\n",
              "      display:flex;\n",
              "      flex-wrap:wrap;\n",
              "      gap: 12px;\n",
              "    }\n",
              "\n",
              "    .colab-df-convert {\n",
              "      background-color: #E8F0FE;\n",
              "      border: none;\n",
              "      border-radius: 50%;\n",
              "      cursor: pointer;\n",
              "      display: none;\n",
              "      fill: #1967D2;\n",
              "      height: 32px;\n",
              "      padding: 0 0 0 0;\n",
              "      width: 32px;\n",
              "    }\n",
              "\n",
              "    .colab-df-convert:hover {\n",
              "      background-color: #E2EBFA;\n",
              "      box-shadow: 0px 1px 2px rgba(60, 64, 67, 0.3), 0px 1px 3px 1px rgba(60, 64, 67, 0.15);\n",
              "      fill: #174EA6;\n",
              "    }\n",
              "\n",
              "    [theme=dark] .colab-df-convert {\n",
              "      background-color: #3B4455;\n",
              "      fill: #D2E3FC;\n",
              "    }\n",
              "\n",
              "    [theme=dark] .colab-df-convert:hover {\n",
              "      background-color: #434B5C;\n",
              "      box-shadow: 0px 1px 3px 1px rgba(0, 0, 0, 0.15);\n",
              "      filter: drop-shadow(0px 1px 2px rgba(0, 0, 0, 0.3));\n",
              "      fill: #FFFFFF;\n",
              "    }\n",
              "  </style>\n",
              "\n",
              "      <script>\n",
              "        const buttonEl =\n",
              "          document.querySelector('#df-db9cdaee-8b47-4249-81d4-fede8c095feb button.colab-df-convert');\n",
              "        buttonEl.style.display =\n",
              "          google.colab.kernel.accessAllowed ? 'block' : 'none';\n",
              "\n",
              "        async function convertToInteractive(key) {\n",
              "          const element = document.querySelector('#df-db9cdaee-8b47-4249-81d4-fede8c095feb');\n",
              "          const dataTable =\n",
              "            await google.colab.kernel.invokeFunction('convertToInteractive',\n",
              "                                                     [key], {});\n",
              "          if (!dataTable) return;\n",
              "\n",
              "          const docLinkHtml = 'Like what you see? Visit the ' +\n",
              "            '<a target=\"_blank\" href=https://colab.research.google.com/notebooks/data_table.ipynb>data table notebook</a>'\n",
              "            + ' to learn more about interactive tables.';\n",
              "          element.innerHTML = '';\n",
              "          dataTable['output_type'] = 'display_data';\n",
              "          await google.colab.output.renderOutput(dataTable, element);\n",
              "          const docLink = document.createElement('div');\n",
              "          docLink.innerHTML = docLinkHtml;\n",
              "          element.appendChild(docLink);\n",
              "        }\n",
              "      </script>\n",
              "    </div>\n",
              "  </div>\n",
              "  "
            ]
          },
          "metadata": {},
          "execution_count": 15
        }
      ]
    },
    {
      "cell_type": "code",
      "metadata": {
        "id": "GAuak-RkppgZ",
        "colab": {
          "base_uri": "https://localhost:8080/"
        },
        "outputId": "d42a7b45-53ce-49ab-8400-fb4517874ece"
      },
      "source": [
        "# Explore the dataset\n",
        "# How many examples are there for each type of Iris?\n",
        "\n",
        "iris_df['target'].value_counts()"
      ],
      "execution_count": 16,
      "outputs": [
        {
          "output_type": "execute_result",
          "data": {
            "text/plain": [
              "0    50\n",
              "1    50\n",
              "2    50\n",
              "Name: target, dtype: int64"
            ]
          },
          "metadata": {},
          "execution_count": 16
        }
      ]
    },
    {
      "cell_type": "code",
      "metadata": {
        "id": "I-OBcIvIJwVY",
        "colab": {
          "base_uri": "https://localhost:8080/"
        },
        "outputId": "cc4215c7-78ba-4497-d905-2825cac40a3d"
      },
      "source": [
        "# Flower names are contained in the original iris object\n",
        "iris['target_names']"
      ],
      "execution_count": 17,
      "outputs": [
        {
          "output_type": "execute_result",
          "data": {
            "text/plain": [
              "array(['setosa', 'versicolor', 'virginica'], dtype='<U10')"
            ]
          },
          "metadata": {},
          "execution_count": 17
        }
      ]
    },
    {
      "cell_type": "code",
      "metadata": {
        "id": "x29VUGKNppim",
        "colab": {
          "base_uri": "https://localhost:8080/"
        },
        "outputId": "7bc2786e-cf05-41b6-a2f8-cd0cc5e5f116"
      },
      "source": [
        "# Create a function that maps 0-2 to the actual type of iris\n",
        "def get_target_name(x):\n",
        "    return iris['target_names'][x]\n",
        "\n",
        "x = iris_df.loc[1, 'target']\n",
        "name = get_target_name(x)\n",
        "print(x, name)"
      ],
      "execution_count": 21,
      "outputs": [
        {
          "output_type": "stream",
          "name": "stdout",
          "text": [
            "1 versicolor\n"
          ]
        }
      ]
    },
    {
      "cell_type": "code",
      "metadata": {
        "id": "l8ccjhHEpplM",
        "colab": {
          "base_uri": "https://localhost:8080/",
          "height": 206
        },
        "outputId": "ddfa17c5-69e6-4ae7-f4b8-45e2976f4235"
      },
      "source": [
        "# Apply get_target_name() to all target values\n",
        "iris_df['target_name'] = iris_df['target'].apply(get_target_name)\n",
        "iris_df.head()"
      ],
      "execution_count": 22,
      "outputs": [
        {
          "output_type": "execute_result",
          "data": {
            "text/plain": [
              "   sepal length (cm)  sepal width (cm)  petal length (cm)  petal width (cm)  \\\n",
              "0                5.1               3.5                1.4               0.2   \n",
              "1                4.9               3.0                1.4               0.2   \n",
              "2                4.7               3.2                1.3               0.2   \n",
              "3                4.6               3.1                1.5               0.2   \n",
              "4                5.0               3.6                1.4               0.2   \n",
              "\n",
              "   target target_name  \n",
              "0       0      setosa  \n",
              "1       0      setosa  \n",
              "2       0      setosa  \n",
              "3       0      setosa  \n",
              "4       0      setosa  "
            ],
            "text/html": [
              "\n",
              "  <div id=\"df-48104887-32a0-4d78-92d4-2cd7eabd3840\">\n",
              "    <div class=\"colab-df-container\">\n",
              "      <div>\n",
              "<style scoped>\n",
              "    .dataframe tbody tr th:only-of-type {\n",
              "        vertical-align: middle;\n",
              "    }\n",
              "\n",
              "    .dataframe tbody tr th {\n",
              "        vertical-align: top;\n",
              "    }\n",
              "\n",
              "    .dataframe thead th {\n",
              "        text-align: right;\n",
              "    }\n",
              "</style>\n",
              "<table border=\"1\" class=\"dataframe\">\n",
              "  <thead>\n",
              "    <tr style=\"text-align: right;\">\n",
              "      <th></th>\n",
              "      <th>sepal length (cm)</th>\n",
              "      <th>sepal width (cm)</th>\n",
              "      <th>petal length (cm)</th>\n",
              "      <th>petal width (cm)</th>\n",
              "      <th>target</th>\n",
              "      <th>target_name</th>\n",
              "    </tr>\n",
              "  </thead>\n",
              "  <tbody>\n",
              "    <tr>\n",
              "      <th>0</th>\n",
              "      <td>5.1</td>\n",
              "      <td>3.5</td>\n",
              "      <td>1.4</td>\n",
              "      <td>0.2</td>\n",
              "      <td>0</td>\n",
              "      <td>setosa</td>\n",
              "    </tr>\n",
              "    <tr>\n",
              "      <th>1</th>\n",
              "      <td>4.9</td>\n",
              "      <td>3.0</td>\n",
              "      <td>1.4</td>\n",
              "      <td>0.2</td>\n",
              "      <td>0</td>\n",
              "      <td>setosa</td>\n",
              "    </tr>\n",
              "    <tr>\n",
              "      <th>2</th>\n",
              "      <td>4.7</td>\n",
              "      <td>3.2</td>\n",
              "      <td>1.3</td>\n",
              "      <td>0.2</td>\n",
              "      <td>0</td>\n",
              "      <td>setosa</td>\n",
              "    </tr>\n",
              "    <tr>\n",
              "      <th>3</th>\n",
              "      <td>4.6</td>\n",
              "      <td>3.1</td>\n",
              "      <td>1.5</td>\n",
              "      <td>0.2</td>\n",
              "      <td>0</td>\n",
              "      <td>setosa</td>\n",
              "    </tr>\n",
              "    <tr>\n",
              "      <th>4</th>\n",
              "      <td>5.0</td>\n",
              "      <td>3.6</td>\n",
              "      <td>1.4</td>\n",
              "      <td>0.2</td>\n",
              "      <td>0</td>\n",
              "      <td>setosa</td>\n",
              "    </tr>\n",
              "  </tbody>\n",
              "</table>\n",
              "</div>\n",
              "      <button class=\"colab-df-convert\" onclick=\"convertToInteractive('df-48104887-32a0-4d78-92d4-2cd7eabd3840')\"\n",
              "              title=\"Convert this dataframe to an interactive table.\"\n",
              "              style=\"display:none;\">\n",
              "        \n",
              "  <svg xmlns=\"http://www.w3.org/2000/svg\" height=\"24px\"viewBox=\"0 0 24 24\"\n",
              "       width=\"24px\">\n",
              "    <path d=\"M0 0h24v24H0V0z\" fill=\"none\"/>\n",
              "    <path d=\"M18.56 5.44l.94 2.06.94-2.06 2.06-.94-2.06-.94-.94-2.06-.94 2.06-2.06.94zm-11 1L8.5 8.5l.94-2.06 2.06-.94-2.06-.94L8.5 2.5l-.94 2.06-2.06.94zm10 10l.94 2.06.94-2.06 2.06-.94-2.06-.94-.94-2.06-.94 2.06-2.06.94z\"/><path d=\"M17.41 7.96l-1.37-1.37c-.4-.4-.92-.59-1.43-.59-.52 0-1.04.2-1.43.59L10.3 9.45l-7.72 7.72c-.78.78-.78 2.05 0 2.83L4 21.41c.39.39.9.59 1.41.59.51 0 1.02-.2 1.41-.59l7.78-7.78 2.81-2.81c.8-.78.8-2.07 0-2.86zM5.41 20L4 18.59l7.72-7.72 1.47 1.35L5.41 20z\"/>\n",
              "  </svg>\n",
              "      </button>\n",
              "      \n",
              "  <style>\n",
              "    .colab-df-container {\n",
              "      display:flex;\n",
              "      flex-wrap:wrap;\n",
              "      gap: 12px;\n",
              "    }\n",
              "\n",
              "    .colab-df-convert {\n",
              "      background-color: #E8F0FE;\n",
              "      border: none;\n",
              "      border-radius: 50%;\n",
              "      cursor: pointer;\n",
              "      display: none;\n",
              "      fill: #1967D2;\n",
              "      height: 32px;\n",
              "      padding: 0 0 0 0;\n",
              "      width: 32px;\n",
              "    }\n",
              "\n",
              "    .colab-df-convert:hover {\n",
              "      background-color: #E2EBFA;\n",
              "      box-shadow: 0px 1px 2px rgba(60, 64, 67, 0.3), 0px 1px 3px 1px rgba(60, 64, 67, 0.15);\n",
              "      fill: #174EA6;\n",
              "    }\n",
              "\n",
              "    [theme=dark] .colab-df-convert {\n",
              "      background-color: #3B4455;\n",
              "      fill: #D2E3FC;\n",
              "    }\n",
              "\n",
              "    [theme=dark] .colab-df-convert:hover {\n",
              "      background-color: #434B5C;\n",
              "      box-shadow: 0px 1px 3px 1px rgba(0, 0, 0, 0.15);\n",
              "      filter: drop-shadow(0px 1px 2px rgba(0, 0, 0, 0.3));\n",
              "      fill: #FFFFFF;\n",
              "    }\n",
              "  </style>\n",
              "\n",
              "      <script>\n",
              "        const buttonEl =\n",
              "          document.querySelector('#df-48104887-32a0-4d78-92d4-2cd7eabd3840 button.colab-df-convert');\n",
              "        buttonEl.style.display =\n",
              "          google.colab.kernel.accessAllowed ? 'block' : 'none';\n",
              "\n",
              "        async function convertToInteractive(key) {\n",
              "          const element = document.querySelector('#df-48104887-32a0-4d78-92d4-2cd7eabd3840');\n",
              "          const dataTable =\n",
              "            await google.colab.kernel.invokeFunction('convertToInteractive',\n",
              "                                                     [key], {});\n",
              "          if (!dataTable) return;\n",
              "\n",
              "          const docLinkHtml = 'Like what you see? Visit the ' +\n",
              "            '<a target=\"_blank\" href=https://colab.research.google.com/notebooks/data_table.ipynb>data table notebook</a>'\n",
              "            + ' to learn more about interactive tables.';\n",
              "          element.innerHTML = '';\n",
              "          dataTable['output_type'] = 'display_data';\n",
              "          await google.colab.output.renderOutput(dataTable, element);\n",
              "          const docLink = document.createElement('div');\n",
              "          docLink.innerHTML = docLinkHtml;\n",
              "          element.appendChild(docLink);\n",
              "        }\n",
              "      </script>\n",
              "    </div>\n",
              "  </div>\n",
              "  "
            ]
          },
          "metadata": {},
          "execution_count": 22
        }
      ]
    },
    {
      "cell_type": "code",
      "metadata": {
        "id": "9Rh5H4fGppn2",
        "colab": {
          "base_uri": "https://localhost:8080/",
          "height": 300
        },
        "outputId": "7d1f6f07-206e-4388-a796-c7ab50b18b6b"
      },
      "source": [
        "# Draw scatter plots.\n",
        "plt.scatter(iris_df.loc[:, 'sepal length (cm)'], iris_df.loc[:, 'sepal width (cm)'],\n",
        "            c=iris_df['target'])\n",
        "\n",
        "plt.colorbar()\n",
        "plt.xlabel(\"sepal length\")\n",
        "plt.ylabel(\"sepal width\")"
      ],
      "execution_count": 26,
      "outputs": [
        {
          "output_type": "execute_result",
          "data": {
            "text/plain": [
              "Text(0, 0.5, 'sepal width')"
            ]
          },
          "metadata": {},
          "execution_count": 26
        },
        {
          "output_type": "display_data",
          "data": {
            "text/plain": [
              "<Figure size 432x288 with 2 Axes>"
            ],
            "image/png": "[encoded data removed]"
          },
          "metadata": {
            "needs_background": "light"
          }
        }
      ]
    },
    {
      "cell_type": "code",
      "metadata": {
        "id": "JwE-j7aPppqX",
        "colab": {
          "base_uri": "https://localhost:8080/",
          "height": 601
        },
        "outputId": "5476b205-c83c-46ff-819b-d08c205b40dc"
      },
      "source": [
        "# Draw all scatter plots\n",
        "from pandas.plotting import scatter_matrix\n",
        "scatter_matrix(iris_df.iloc[:, :4], figsize=(10, 10), marker='o',\n",
        "               c=iris_df['target'])\n",
        "plt.show()"
      ],
      "execution_count": 29,
      "outputs": [
        {
          "output_type": "display_data",
          "data": {
            "text/plain": [
              "<Figure size 720x720 with 16 Axes>"
            ],
            "image/png": "[encoded data removed]"
          },
          "metadata": {
            "needs_background": "light"
          }
        }
      ]
    },
    {
      "cell_type": "markdown",
      "metadata": {
        "id": "6DbLrOEYpps9"
      },
      "source": [
        "## Build A Binary Classifier for Iris-Virginica"
      ]
    },
    {
      "cell_type": "code",
      "metadata": {
        "id": "cO4Wcfjappvi"
      },
      "source": [
        "# Define a function is_virginica(target) that returns 1 if target is Virginica\n",
        "# and 0 otherwise\n",
        "def is_virginica(target):\n",
        "\n",
        "    return int(target == 2)"
      ],
      "execution_count": 32,
      "outputs": []
    },
    {
      "cell_type": "code",
      "metadata": {
        "id": "edJ6tRU5ppyX",
        "colab": {
          "base_uri": "https://localhost:8080/",
          "height": 268
        },
        "outputId": "f66cff8d-2c47-4acf-b788-efd394d0617b"
      },
      "source": [
        "# Apply function is_virginica() to the data frame, creating a new \n",
        "# column \"Is_Virginica\"\n",
        "\n",
        "iris_df[\"Is_Virginica\"] = iris_df['target'].apply(is_virginica)\n",
        "\n",
        "# OR\n",
        "# Define the function using the lambda expression\n",
        "# iris_df[\"Is_Virginica\"] = iris_df['target'].apply(lambda x: int(x == 2))\n",
        "\n",
        "iris_df.head()"
      ],
      "execution_count": 33,
      "outputs": [
        {
          "output_type": "execute_result",
          "data": {
            "text/plain": [
              "   sepal length (cm)  sepal width (cm)  petal length (cm)  petal width (cm)  \\\n",
              "0                5.1               3.5                1.4               0.2   \n",
              "1                4.9               3.0                1.4               0.2   \n",
              "2                4.7               3.2                1.3               0.2   \n",
              "3                4.6               3.1                1.5               0.2   \n",
              "4                5.0               3.6                1.4               0.2   \n",
              "\n",
              "   target target_name  Is_Virginica  \n",
              "0       0      setosa             0  \n",
              "1       0      setosa             0  \n",
              "2       0      setosa             0  \n",
              "3       0      setosa             0  \n",
              "4       0      setosa             0  "
            ],
            "text/html": [
              "\n",
              "  <div id=\"df-58c7d27f-4559-497a-8ef2-498d81729a7b\">\n",
              "    <div class=\"colab-df-container\">\n",
              "      <div>\n",
              "<style scoped>\n",
              "    .dataframe tbody tr th:only-of-type {\n",
              "        vertical-align: middle;\n",
              "    }\n",
              "\n",
              "    .dataframe tbody tr th {\n",
              "        vertical-align: top;\n",
              "    }\n",
              "\n",
              "    .dataframe thead th {\n",
              "        text-align: right;\n",
              "    }\n",
              "</style>\n",
              "<table border=\"1\" class=\"dataframe\">\n",
              "  <thead>\n",
              "    <tr style=\"text-align: right;\">\n",
              "      <th></th>\n",
              "      <th>sepal length (cm)</th>\n",
              "      <th>sepal width (cm)</th>\n",
              "      <th>petal length (cm)</th>\n",
              "      <th>petal width (cm)</th>\n",
              "      <th>target</th>\n",
              "      <th>target_name</th>\n",
              "      <th>Is_Virginica</th>\n",
              "    </tr>\n",
              "  </thead>\n",
              "  <tbody>\n",
              "    <tr>\n",
              "      <th>0</th>\n",
              "      <td>5.1</td>\n",
              "      <td>3.5</td>\n",
              "      <td>1.4</td>\n",
              "      <td>0.2</td>\n",
              "      <td>0</td>\n",
              "      <td>setosa</td>\n",
              "      <td>0</td>\n",
              "    </tr>\n",
              "    <tr>\n",
              "      <th>1</th>\n",
              "      <td>4.9</td>\n",
              "      <td>3.0</td>\n",
              "      <td>1.4</td>\n",
              "      <td>0.2</td>\n",
              "      <td>0</td>\n",
              "      <td>setosa</td>\n",
              "      <td>0</td>\n",
              "    </tr>\n",
              "    <tr>\n",
              "      <th>2</th>\n",
              "      <td>4.7</td>\n",
              "      <td>3.2</td>\n",
              "      <td>1.3</td>\n",
              "      <td>0.2</td>\n",
              "      <td>0</td>\n",
              "      <td>setosa</td>\n",
              "      <td>0</td>\n",
              "    </tr>\n",
              "    <tr>\n",
              "      <th>3</th>\n",
              "      <td>4.6</td>\n",
              "      <td>3.1</td>\n",
              "      <td>1.5</td>\n",
              "      <td>0.2</td>\n",
              "      <td>0</td>\n",
              "      <td>setosa</td>\n",
              "      <td>0</td>\n",
              "    </tr>\n",
              "    <tr>\n",
              "      <th>4</th>\n",
              "      <td>5.0</td>\n",
              "      <td>3.6</td>\n",
              "      <td>1.4</td>\n",
              "      <td>0.2</td>\n",
              "      <td>0</td>\n",
              "      <td>setosa</td>\n",
              "      <td>0</td>\n",
              "    </tr>\n",
              "  </tbody>\n",
              "</table>\n",
              "</div>\n",
              "      <button class=\"colab-df-convert\" onclick=\"convertToInteractive('df-58c7d27f-4559-497a-8ef2-498d81729a7b')\"\n",
              "              title=\"Convert this dataframe to an interactive table.\"\n",
              "              style=\"display:none;\">\n",
              "        \n",
              "  <svg xmlns=\"http://www.w3.org/2000/svg\" height=\"24px\"viewBox=\"0 0 24 24\"\n",
              "       width=\"24px\">\n",
              "    <path d=\"M0 0h24v24H0V0z\" fill=\"none\"/>\n",
              "    <path d=\"M18.56 5.44l.94 2.06.94-2.06 2.06-.94-2.06-.94-.94-2.06-.94 2.06-2.06.94zm-11 1L8.5 8.5l.94-2.06 2.06-.94-2.06-.94L8.5 2.5l-.94 2.06-2.06.94zm10 10l.94 2.06.94-2.06 2.06-.94-2.06-.94-.94-2.06-.94 2.06-2.06.94z\"/><path d=\"M17.41 7.96l-1.37-1.37c-.4-.4-.92-.59-1.43-.59-.52 0-1.04.2-1.43.59L10.3 9.45l-7.72 7.72c-.78.78-.78 2.05 0 2.83L4 21.41c.39.39.9.59 1.41.59.51 0 1.02-.2 1.41-.59l7.78-7.78 2.81-2.81c.8-.78.8-2.07 0-2.86zM5.41 20L4 18.59l7.72-7.72 1.47 1.35L5.41 20z\"/>\n",
              "  </svg>\n",
              "      </button>\n",
              "      \n",
              "  <style>\n",
              "    .colab-df-container {\n",
              "      display:flex;\n",
              "      flex-wrap:wrap;\n",
              "      gap: 12px;\n",
              "    }\n",
              "\n",
              "    .colab-df-convert {\n",
              "      background-color: #E8F0FE;\n",
              "      border: none;\n",
              "      border-radius: 50%;\n",
              "      cursor: pointer;\n",
              "      display: none;\n",
              "      fill: #1967D2;\n",
              "      height: 32px;\n",
              "      padding: 0 0 0 0;\n",
              "      width: 32px;\n",
              "    }\n",
              "\n",
              "    .colab-df-convert:hover {\n",
              "      background-color: #E2EBFA;\n",
              "      box-shadow: 0px 1px 2px rgba(60, 64, 67, 0.3), 0px 1px 3px 1px rgba(60, 64, 67, 0.15);\n",
              "      fill: #174EA6;\n",
              "    }\n",
              "\n",
              "    [theme=dark] .colab-df-convert {\n",
              "      background-color: #3B4455;\n",
              "      fill: #D2E3FC;\n",
              "    }\n",
              "\n",
              "    [theme=dark] .colab-df-convert:hover {\n",
              "      background-color: #434B5C;\n",
              "      box-shadow: 0px 1px 3px 1px rgba(0, 0, 0, 0.15);\n",
              "      filter: drop-shadow(0px 1px 2px rgba(0, 0, 0, 0.3));\n",
              "      fill: #FFFFFF;\n",
              "    }\n",
              "  </style>\n",
              "\n",
              "      <script>\n",
              "        const buttonEl =\n",
              "          document.querySelector('#df-58c7d27f-4559-497a-8ef2-498d81729a7b button.colab-df-convert');\n",
              "        buttonEl.style.display =\n",
              "          google.colab.kernel.accessAllowed ? 'block' : 'none';\n",
              "\n",
              "        async function convertToInteractive(key) {\n",
              "          const element = document.querySelector('#df-58c7d27f-4559-497a-8ef2-498d81729a7b');\n",
              "          const dataTable =\n",
              "            await google.colab.kernel.invokeFunction('convertToInteractive',\n",
              "                                                     [key], {});\n",
              "          if (!dataTable) return;\n",
              "\n",
              "          const docLinkHtml = 'Like what you see? Visit the ' +\n",
              "            '<a target=\"_blank\" href=https://colab.research.google.com/notebooks/data_table.ipynb>data table notebook</a>'\n",
              "            + ' to learn more about interactive tables.';\n",
              "          element.innerHTML = '';\n",
              "          dataTable['output_type'] = 'display_data';\n",
              "          await google.colab.output.renderOutput(dataTable, element);\n",
              "          const docLink = document.createElement('div');\n",
              "          docLink.innerHTML = docLinkHtml;\n",
              "          element.appendChild(docLink);\n",
              "        }\n",
              "      </script>\n",
              "    </div>\n",
              "  </div>\n",
              "  "
            ]
          },
          "metadata": {},
          "execution_count": 33
        }
      ]
    },
    {
      "cell_type": "code",
      "source": [
        "# Find the number of 0s and 1s in the new column\n",
        "iris_df['Is_Virginica'].value_counts()"
      ],
      "metadata": {
        "colab": {
          "base_uri": "https://localhost:8080/"
        },
        "id": "76vtZN5UBPPx",
        "outputId": "99b94f45-6b71-4844-8f8c-3571c1987e5c"
      },
      "execution_count": 34,
      "outputs": [
        {
          "output_type": "execute_result",
          "data": {
            "text/plain": [
              "0    100\n",
              "1     50\n",
              "Name: Is_Virginica, dtype: int64"
            ]
          },
          "metadata": {},
          "execution_count": 34
        }
      ]
    },
    {
      "cell_type": "code",
      "metadata": {
        "id": "JJYPukLVpp01"
      },
      "source": [
        "# Train-test split\n",
        "# Split the data frame into 85% training data and 15% test data\n",
        "from sklearn.model_selection import train_test_split\n",
        "df_train, df_test = train_test_split(iris_df, test_size=0.15)"
      ],
      "execution_count": 35,
      "outputs": []
    },
    {
      "cell_type": "code",
      "metadata": {
        "id": "L6jq2Luspp8a",
        "colab": {
          "base_uri": "https://localhost:8080/"
        },
        "outputId": "6e81197e-4065-4351-cad9-f5c0beabc815"
      },
      "source": [
        "# Build the logistic regression model\n",
        "from sklearn.linear_model import LogisticRegression\n",
        "model = LogisticRegression()\n",
        "model.fit(df_train[['sepal length (cm)', \n",
        "                    'sepal width (cm)', \n",
        "                    'petal length (cm)', \n",
        "                    'petal width (cm)']], df_train['Is_Virginica'])\n",
        "# model.fit(df_train.iloc[:, :4], df_train['Is_Virginica'])"
      ],
      "execution_count": 42,
      "outputs": [
        {
          "output_type": "execute_result",
          "data": {
            "text/plain": [
              "LogisticRegression()"
            ]
          },
          "metadata": {},
          "execution_count": 42
        }
      ]
    },
    {
      "cell_type": "code",
      "source": [
        "# Apply the model on the test set.\n",
        "test_predictions = model.predict(df_test[['sepal length (cm)', \n",
        "                                          'sepal width (cm)', \n",
        "                                          'petal length (cm)', \n",
        "                                          'petal width (cm)']])\n",
        "print(test_predictions)"
      ],
      "metadata": {
        "colab": {
          "base_uri": "https://localhost:8080/"
        },
        "id": "zUC-EgsqCnxI",
        "outputId": "10246657-2a9a-43dd-a67e-073277741954"
      },
      "execution_count": 37,
      "outputs": [
        {
          "output_type": "stream",
          "name": "stdout",
          "text": [
            "[0 0 0 0 0 0 0 0 0 0 1 1 1 0 0 0 1 1 0 1 1 1 0]\n"
          ]
        }
      ]
    },
    {
      "cell_type": "code",
      "source": [
        "# display the actual labels\n",
        "df_test['Is_Virginica'].values"
      ],
      "metadata": {
        "colab": {
          "base_uri": "https://localhost:8080/"
        },
        "id": "9oJKC6K_DBz_",
        "outputId": "291f82e9-2bb8-4919-a3d6-26dcfa566821"
      },
      "execution_count": 40,
      "outputs": [
        {
          "output_type": "execute_result",
          "data": {
            "text/plain": [
              "array([0, 0, 0, 0, 0, 0, 0, 0, 0, 0, 1, 1, 1, 0, 0, 0, 1, 0, 0, 1, 1, 1,\n",
              "       0])"
            ]
          },
          "metadata": {},
          "execution_count": 40
        }
      ]
    },
    {
      "cell_type": "code",
      "metadata": {
        "id": "e7zf8FQZU71M"
      },
      "source": [
        "# Since using .loc[] expression requires the full names of the columns, sometimes it\n",
        "# is easier to use their underlying integer indices in .iloc[] expression\n",
        "\n",
        "# For example, the expression \n",
        "# df_train.loc[:, ['sepal length (cm)', 'sepal width (cm)', 'petal length (cm)', 'petal width (cm)']\n",
        "# is equivalent to\n",
        "# df_train.iloc[:, :4]"
      ],
      "execution_count": null,
      "outputs": []
    },
    {
      "cell_type": "markdown",
      "metadata": {
        "id": "Dj4tltViritD"
      },
      "source": [
        "## Model Evaluation\n",
        "- Classification accuracy\n",
        "- Cross Validation\n",
        "- Examine four categories using the confusion matrix:\n",
        "    - True Positive\n",
        "    - True Negative\n",
        "    - False Positive\n",
        "    - False Negative\n",
        "- Precision, recall, and F1 score"
      ]
    },
    {
      "cell_type": "code",
      "metadata": {
        "id": "1KT2AMrNrnfP"
      },
      "source": [
        "# 1. Find the prediction accuracy on test set\n",
        "from sklearn.metrics import accuracy_score\n",
        "\n",
        "input_cols = ['sepal length (cm)',\n",
        "            'sepal width (cm)',\n",
        "            'petal length (cm)',\n",
        "            'petal width (cm)']\n",
        "\n",
        "# df_test.head()\n",
        "# get model's prediction on the test records\n",
        "test_predictions = model.predict(df_test.loc[:, input_cols])\n",
        "\n",
        "# model.predict(df_test.iloc[:, :4])\n",
        "\n",
        "accuracy_score(df_test['Is_Virginica'], test_predictions)"
      ],
      "execution_count": null,
      "outputs": []
    },
    {
      "cell_type": "code",
      "metadata": {
        "id": "0RUHEkBKYIxX"
      },
      "source": [
        "# Let's calculate the accuracy score without sklearn\n",
        "# Convert both Is_Virginica and predictions into numpy arrays\n",
        "array1 = np.array(df_test['Is_Virginica'])\n",
        "array2 = np.array(test_predictions)\n",
        "print(array1)\n",
        "print(array2)\n",
        "\n",
        "# Count the number of pairs that have identical values\n",
        "count = 0\n",
        "for i in range(len(array1)):\n",
        "    actual = array1[i]\n",
        "    pred = array2[i]\n",
        "    if actual == pred:\n",
        "        count = count + 1\n",
        "print(count)\n",
        "accuracy = count / len(array1)\n",
        "print(accuracy)"
      ],
      "execution_count": null,
      "outputs": []
    },
    {
      "cell_type": "markdown",
      "metadata": {
        "id": "bGPP3YglZr3E"
      },
      "source": [
        "The accuracy score can be mislead. Consider the following scenario:\n",
        "- Suppose that the model returns 0 for any input.\n",
        "- Suppose that 99% of the test set are non-Virginica.\n",
        "- The accuracy score for this model on this particular test set will be: 0.99\n",
        "\n",
        "In order to make sure the model is indeed a good one, we need to examine its performance further."
      ]
    },
    {
      "cell_type": "code",
      "metadata": {
        "id": "lU1HcHmrsDja"
      },
      "source": [
        "# 2. confusion matrix\n",
        "from sklearn.metrics import confusion_matrix\n",
        "\n",
        "confusion_matrix(df_test['Is_Virginica'], test_predictions)\n",
        "\n"
      ],
      "execution_count": null,
      "outputs": []
    },
    {
      "cell_type": "markdown",
      "metadata": {
        "id": "Qnlazoo8sKi3"
      },
      "source": [
        "<img src=\"https://hackernoon.com/hn-images/1*YV7zy1NGN1-HGQxY56nc_Q.png\" width=\"600\">"
      ]
    },
    {
      "cell_type": "markdown",
      "metadata": {
        "id": "LiXlzeYmsR6u"
      },
      "source": [
        "### 3. cross validation\n",
        "**Cross validation** is an efficient method that uses limited data to obtain multiple evaluations of the model.\n",
        "\n",
        "<img src=\"https://www.googleapis.com/download/storage/v1/b/kaggle-forum-message-attachments/o/inbox%2F4788946%2F82b5a41b6693a313b246f02d79e972d5%2FK%20FOLD.png?generation=1608195745131795&alt=media\" width=\"600\">"
      ]
    },
    {
      "cell_type": "code",
      "metadata": {
        "id": "lGIB1iprtGt3"
      },
      "source": [
        "# Perform 3-fold cross validation\n",
        "from sklearn.model_selection import cross_val_score\n",
        "input_cols = iris_df.columns[:4]\n",
        "print(cross_val_score(model, df_train[input_cols], df_train['Is_Virginica'],\n",
        "                      cv=5)) # accuracy is returned by default"
      ],
      "execution_count": null,
      "outputs": []
    },
    {
      "cell_type": "code",
      "source": [
        "# Display precision score\n",
        "print(cross_val_score(model, df_train[input_cols], df_train['Is_Virginica'],\n",
        "                      scoring=\"precision\", cv=3))"
      ],
      "metadata": {
        "id": "dFOdWwAVQsAs"
      },
      "execution_count": null,
      "outputs": []
    },
    {
      "cell_type": "code",
      "source": [
        "# Display recall score\n",
        "print(cross_val_score(model, df_train[input_cols], df_train['Is_Virginica'],\n",
        "                      scoring=\"recall\", cv=3))"
      ],
      "metadata": {
        "id": "hJGMAoszQv-2"
      },
      "execution_count": null,
      "outputs": []
    },
    {
      "cell_type": "markdown",
      "metadata": {
        "id": "mLwO2VqftUAT"
      },
      "source": [
        "### 4. Precision, Recall, and F-1 Score\n",
        "**Precision** and **recall** are two important metrics that evaluates different aspects of the model. **F-1 score** is a combination of the precision and recall.\n",
        "\n",
        "<img src=\"https://upload.wikimedia.org/wikipedia/commons/thumb/2/26/Precisionrecall.svg/525px-Precisionrecall.svg.png\" width=\"400\">"
      ]
    },
    {
      "cell_type": "code",
      "metadata": {
        "id": "_3eFXvEstjiN"
      },
      "source": [
        "# precision - recall - f1 score\n",
        "from sklearn.metrics import precision_score, recall_score, f1_score\n",
        "precision = precision_score(df_test['Is_Virginica'], test_predictions) # How much Virigincia iris are correctly identified?\n",
        "recall = recall_score(df_test['Is_Virginica'], test_predictions) # How much Virginica predictions are correct?\n",
        "f1 = f1_score(df_test['Is_Virginica'], test_predictions)\n",
        "print(precision, recall, f1)"
      ],
      "execution_count": null,
      "outputs": []
    },
    {
      "cell_type": "code",
      "metadata": {
        "id": "FnkRYQ8CdoXT"
      },
      "source": [
        "# Calculate the scores ourselves.\n",
        "\n",
        "# First, we need the number of true positives, false positives, and false negatives.\n",
        "\n",
        "num_true_positives = 0\n",
        "for i in range(len(array1)):\n",
        "    label = array1[i]\n",
        "    pred = array2[i]\n",
        "    if label == 1 and pred == 1 :\n",
        "        num_true_positives = num_true_positives + 1\n",
        "print(num_true_positives)\n",
        "\n",
        "num_false_positives = 0\n",
        "for i in range(len(array1)):\n",
        "    label = array1[i]\n",
        "    pred = array2[i]\n",
        "    if label == 0 and pred == 1:\n",
        "        num_false_positives = num_false_positives + 1\n",
        "print(num_false_positives)\n",
        "\n",
        "precision = num_true_positives / (num_true_positives + num_false_positives)\n",
        "print(precision)"
      ],
      "execution_count": null,
      "outputs": []
    },
    {
      "cell_type": "code",
      "metadata": {
        "id": "CBJIaBZ-ALAF"
      },
      "source": [
        "# Exercise: Calculate the recall score on your own.\n",
        "\n",
        "# Use a for loop to find the number of true positives\n",
        "num_true_positives = ???\n",
        "\n",
        "# Use a for loop to find the number of false negatives\n",
        "num_false_negatives = ???\n",
        "\n",
        "# Calculate recall: num_true_positives / (num_true_positives + num_false_negatives)\n",
        "recall = num_true_positives / (num_true_positives + num_false_negatives)\n"
      ],
      "execution_count": null,
      "outputs": []
    },
    {
      "cell_type": "markdown",
      "metadata": {
        "id": "HTGxG6GpCOGa"
      },
      "source": [
        "Consider the following scenario:\n",
        "- Suppose that the model returns 0 for any input.\n",
        "- Suppose that there are 99 non_Virginica and 1 Virginica in the test set.\n",
        "- num_true_positive: 0\n",
        "- num_false_positive: 0\n",
        "- num_false_negative: 1\n",
        "- precision: 0 / (0 + 0) --> undefined\n",
        "- recall: 0 / (0 + 1) --> 0"
      ]
    },
    {
      "cell_type": "markdown",
      "metadata": {
        "id": "VmokZv2DDFCD"
      },
      "source": [
        "### F-1 Score: A Combination of Precision and Recall\n",
        "\n",
        "Since we expect the model to achieve high precision score and high recall score, we want to combine them into one score.\n",
        "\n",
        "- $F-1 score = \\frac{2}{\\frac{1}{precision} + \\frac{1}{recall}}$"
      ]
    },
    {
      "cell_type": "code",
      "metadata": {
        "id": "Zt1s58WQDg66"
      },
      "source": [
        "f1 = 2 / (1 / 0.875 + 1 / 1.0)\n",
        "print(f1)"
      ],
      "execution_count": null,
      "outputs": []
    },
    {
      "cell_type": "code",
      "metadata": {
        "id": "2ERrWzpyEDjq"
      },
      "source": [
        "# high precision: 0.9\n",
        "# low recall: 0.1\n",
        "f1 = 2 / (1 / 0.9 + 1 / 0.1)\n",
        "print(f1)"
      ],
      "execution_count": null,
      "outputs": []
    },
    {
      "cell_type": "code",
      "metadata": {
        "id": "OOxbFbGiELkT"
      },
      "source": [
        "# low precision: 0.1\n",
        "# high recall: 0.9\n",
        "f1 = 2 / (1 / 0.1 + 1 / 0.9)\n",
        "print(f1)"
      ],
      "execution_count": null,
      "outputs": []
    },
    {
      "cell_type": "markdown",
      "metadata": {
        "id": "BTSROe7Mt5te"
      },
      "source": [
        "## Logistic Regression: Model Assumption\n",
        "**Binary classifier model**: Logistic regression model assumes that the decision boundary is represented as a linear function:\n",
        "\n",
        "$\\log\\frac{\\hat{p}}{1 - \\hat{p}} = \\theta_0 + \\theta_1x_1 + \\theta_2x_2 +\\cdots + \\theta_nx_n,$\n",
        "- n: number of input features.\n",
        "- $x_1, ..., x_n$: input features\n",
        "- $\\hat{p}$: the estimated probability of data belonging to the class\n",
        "- $\\theta_0,...,\\theta_n$: parameters of the model\n",
        "\n",
        "**Alternative format**:\n",
        "\n",
        "$\\hat{p} = \\sigma(\\textbf{x}\\cdot\\theta^T).$\n",
        "\n",
        "- $\\textbf{x} = (1, x_1, ..., x_n)$.\n",
        "- $\\theta = (\\theta_0, \\theta_1, ..., \\theta_n)$.\n",
        "- $\\sigma(t) = \\frac{1}{1+e^{-t}}$: logistic function"
      ]
    },
    {
      "cell_type": "code",
      "metadata": {
        "id": "anlBy0OauLaV"
      },
      "source": [
        "# Plot the graph of logistic function\n",
        "\n",
        "# 1. Pick a list of x coordinates (`np.linspace`)\n",
        "x = np.linspace(-10, 10, 100)\n",
        "# 2. For each x, find the value of the function\n",
        "values = 1 / (1 + np.exp(-x)) # Since x is a numpy array, we can apply\n",
        "                                # np.exp directly\n",
        "# 3. plot the list of x coordinates and y coordinates using\n",
        "plt.plot(x, values, )\n"
      ],
      "execution_count": null,
      "outputs": []
    },
    {
      "cell_type": "markdown",
      "metadata": {
        "id": "GdQxqkj-uReO"
      },
      "source": [
        "## Logistic Regression: Decision Rule\n",
        "\n",
        "**Decision rule**: Pick a threshold (for example, 0.5), and then\n",
        "\n",
        "- prediction = 1 if $\\hat{p}$ $\\ge$ threshold\n",
        "- prediction = 0 if $\\hat{p}$ < threshold\n",
        "\n",
        "**Trade-off with threshold**:\n",
        "- If threshold is chosen closer to 1, then the positive predictions are __more likely__ to be correct (fewer **false positives**). However, the negative predictions are __less likely__ to be correct.\n",
        "- If threshold is chosen closer to 0, then the negative predictions are __more likely__ to be correct (fewer **false negatives**). However, the positive predictions are __less likely__ to be correct."
      ]
    },
    {
      "cell_type": "markdown",
      "metadata": {
        "id": "x2RuK1ZfuUGO"
      },
      "source": [
        "## Logistic Regression: Cost Function and Training Algorithm\n",
        "For classification tasks, it is no longer appropriate to use MSE as the cost function.\n",
        "\n",
        "**Cost (loss) function** for logistic regression:\n",
        "\n",
        "\\begin{equation}\n",
        "c(\\theta) = \\left\\{\n",
        "\\begin{array}{cc}\n",
        "-\\log(\\hat{p}) & \\textit{if  }y=1,\\\\\n",
        "-\\log(1-\\hat{p}) & \\textit{if  }y=0.\n",
        "\\end{array}\n",
        "\\right.\n",
        "\\end{equation}\n",
        "\n",
        "The cost function $c(\\theta)$:\n",
        "\n",
        "- small if $y=1$ (data example belongs to the class) and $\\hat{p}$ is close to 1.\n",
        "- small if $y=0$ (data example does not belong to the class) and $\\hat{p}$ is close to 0.\n",
        "- is a convex function no matter what $y$ is.\n",
        "\n",
        "**Uniformed expression for the cost function**:\n",
        "\n",
        "$J(\\theta)=-\\frac{1}{m}\\sum_{i=1}^{m}\\big[y^{(i)}\\log(\\hat{p}^{(i)}) + (1-y^{(i)})\\log(1-\\hat{p}^{(i)})\\big]$\n",
        "\n",
        "- $c(\\theta) = J(\\theta)$ for $y=0$ and $y=1$.\n",
        "- There is no equivalent of the Normal Equation.\n",
        "- $J(\\theta)$ is a convex function, so the *gradient descent algorithm* will guarantee to find its global minimum.\n",
        "- $\\frac{\\partial J}{\\partial \\theta_j}=\\frac{1}{m}\\sum_{i=1}^{m}\\big(\\sigma(\\textbf{x}^{(i)}\\cdot\\theta^T) - y^{(i)}\\big)x_j^{(i)}$."
      ]
    },
    {
      "cell_type": "markdown",
      "metadata": {
        "id": "tbg7vKt8vRk-"
      },
      "source": [
        "## Logistic Regression: Model Visualization\n",
        "- Create a grid of points from a list of x coordinates and y coordinates.\n",
        "- Use the model to obtain prediction probability on each point from the grid\n",
        "- Find points with marginal probabilities.\n",
        "- Plot the grid."
      ]
    },
    {
      "cell_type": "code",
      "metadata": {
        "id": "4mUb3gXVvzaj"
      },
      "source": [
        "# Train a new logistic regression model on petal length and petal width only\n",
        "model2 = LogisticRegression(solver='lbfgs')\n",
        "model2.fit(df_train.iloc[:, 2:4], df_train['Is_Virginica'])"
      ],
      "execution_count": null,
      "outputs": []
    },
    {
      "cell_type": "code",
      "metadata": {
        "id": "578Aekyrv1Jp"
      },
      "source": [
        "# 1. Create a grid of points\n",
        "x0, x1 = np.meshgrid(np.linspace(0, 7, 100),\n",
        "                     np.linspace(0, 2.7, 100))\n",
        "print(x0.shape, x1.shape)"
      ],
      "execution_count": null,
      "outputs": []
    },
    {
      "cell_type": "code",
      "metadata": {
        "id": "UMkv4u-Lv2_y"
      },
      "source": [
        "# Illustration of a meshgrid\n",
        "x_coordinates = [1, 2, 3, 4]\n",
        "y_coordinates = [10, 20, 30, 40]\n",
        "xx, yy = np.meshgrid(x_coordinates, y_coordinates)\n",
        "# print(xx)\n",
        "# print(yy)\n",
        "plt.plot(xx, yy, 'b.')"
      ],
      "execution_count": null,
      "outputs": []
    },
    {
      "cell_type": "code",
      "metadata": {
        "id": "gIopn3Sgv-Ec"
      },
      "source": [
        "# 2. Obtain prediction probabilities\n",
        "X_new = np.hstack([x0.reshape([-1, 1]), x1.reshape([-1, 1])])\n",
        "y_new_prob = model2.predict_proba(X_new)"
      ],
      "execution_count": null,
      "outputs": []
    },
    {
      "cell_type": "code",
      "metadata": {
        "id": "5f9UF-20wDDS"
      },
      "source": [
        "# 3. Find boundary points.\n",
        "# Which points give 0.5 probability?\n",
        "indices = np.where((y_new_prob[:, 1] > 0.49) & (y_new_prob[:, 1] < 0.51))\n",
        "X_boundary = X_new[indices]"
      ],
      "execution_count": null,
      "outputs": []
    },
    {
      "cell_type": "code",
      "metadata": {
        "id": "_3GzSTg_wENt"
      },
      "source": [
        "# 4. Plot the boundary\n",
        "plt.plot(X_boundary[:, 0], X_boundary[:, 1])\n",
        "index_virginica = (iris_df['Is_Virginica'] == 1)\n",
        "index_not_virginica = (iris_df['Is_Virginica'] == 0)\n",
        "plt.scatter(iris_df.loc[index_virginica, 'petal length (cm)'],\n",
        "            iris_df.loc[index_virginica, 'petal width (cm)'],\n",
        "            c='yellow',\n",
        "            label='Virginica')\n",
        "plt.scatter(iris_df.loc[index_not_virginica, 'petal length (cm)'],\n",
        "            iris_df.loc[index_not_virginica, 'petal width (cm)'],\n",
        "            c='purple',\n",
        "            label='Not Virginica')\n",
        "plt.legend()"
      ],
      "execution_count": null,
      "outputs": []
    },
    {
      "cell_type": "code",
      "metadata": {
        "id": "GowAikpPwGUN"
      },
      "source": [
        "# 5. Plot probabilities\n",
        "plt.scatter(X_new[:, 0], X_new[:, 1], c=y_new_prob[:, 0])\n",
        "plt.colorbar()\n",
        "plt.scatter(iris_df.loc[index_virginica, 'petal length (cm)'],\n",
        "            iris_df.loc[index_virginica, 'petal width (cm)'],\n",
        "            c='yellow',\n",
        "            label='Virginica')\n",
        "plt.scatter(iris_df.loc[index_not_virginica, 'petal length (cm)'],\n",
        "            iris_df.loc[index_not_virginica, 'petal width (cm)'],\n",
        "            c='purple',\n",
        "            label='Not Virginica')\n",
        "plt.legend()"
      ],
      "execution_count": null,
      "outputs": []
    },
    {
      "cell_type": "markdown",
      "source": [
        "# Build a Multi-Class Classifier with Logistic Regression\n",
        "\n",
        "Now consider a classifier for more than 2 classes. Instead of outputting $p$ and $1-p$, this classifier will need to output $p_1, p_2, ..., p_n$, where $p_i$ is the probability of Class $i$. The output must satisfy:\n",
        "1. Each $p_i$ takes value in $[0, 1]$.\n",
        "2. The sum of all values must be 1.\n",
        "3. If the true class of an object is k, then we want $p_k\\approx 1$ and $p_i\\approx 0$ for all $i\\neq k$.\n",
        "\n",
        "Requirement 1 and 2 is guaranteed if we use the following **softmax** transformation:\n",
        "$$\n",
        "(t_1, t_2, ..., t_n) ⟶ (\\frac{e^{t_1}}{e^{t_1} + e^{t_2} +\\cdots + e^{t_n}}, \\frac{e^{t_2}}{e^{t_1} + e^{t_2} +\\cdots + e^{t_n}}, ..., \\frac{e^{t_n}}{e^{t_1} + e^{t_2} +\\cdots + e^{t_n}})\n",
        "$$"
      ],
      "metadata": {
        "id": "zlpThSQtwHyD"
      }
    },
    {
      "cell_type": "code",
      "source": [
        "t1 = 3.2 \n",
        "t2 = 1.2\n",
        "t3 = -1_000_000\n",
        "\n",
        "e_t1 = np.exp(t1)\n",
        "e_t2 = np.exp(t2)\n",
        "e_t3 = np.exp(t3)\n",
        "\n",
        "print(e_t1, e_t2, e_t3)\n",
        "\n",
        "p1 = e_t1 / (e_t1 + e_t2 + e_t3)\n",
        "p2 = e_t2 / (e_t1 + e_t2 + e_t3)\n",
        "p3 = e_t3 / (e_t1 + e_t2 + e_t3)\n",
        "\n",
        "print(p1, p2, p3)\n",
        "\n",
        "print(\"Sum:\", np.sum([p1, p2, p3]))\n"
      ],
      "metadata": {
        "id": "s42kzRJaUZf9"
      },
      "execution_count": null,
      "outputs": []
    },
    {
      "cell_type": "code",
      "source": [
        "# Use the Iris dataset as an example\n",
        "import pandas as pd\n",
        "from sklearn import datasets\n",
        "iris = datasets.load_iris()\n",
        "iris_df = pd.DataFrame(data=iris['data'], columns=iris['feature_names'])\n",
        "iris_df['target'] = iris['target']\n",
        "iris_df.head()"
      ],
      "metadata": {
        "id": "C0wJ-BXgB3Oz"
      },
      "execution_count": null,
      "outputs": []
    },
    {
      "cell_type": "code",
      "source": [
        "# Let's switch class label 0 and 1\n",
        "def label_switch(x):\n",
        "    if x == 0:\n",
        "        return 1\n",
        "    if x == 1:\n",
        "        return 0\n",
        "    else:\n",
        "        return x\n",
        "\n",
        "iris_df['target'] = iris_df['target'].apply(label_switch)\n",
        "iris_df.head()"
      ],
      "metadata": {
        "id": "Xg2XoIwTcYjR"
      },
      "execution_count": null,
      "outputs": []
    },
    {
      "cell_type": "code",
      "source": [
        "# Split the data into traing set, validation set, and test set.\n",
        "from sklearn.model_selection import train_test_split\n",
        "training_val_set, test_set = train_test_split(iris_df, test_size=0.2)\n",
        "training_set, val_set = train_test_split(training_val_set, test_size=0.25)\n",
        "# print(training_val_set.shape)\n",
        "print(training_set.shape)\n",
        "print(val_set.shape)\n",
        "print(test_set.shape)"
      ],
      "metadata": {
        "id": "J7Anno2YWlZZ"
      },
      "execution_count": null,
      "outputs": []
    },
    {
      "cell_type": "code",
      "source": [
        "from sklearn.linear_model import LogisticRegression\n",
        "input_cols = iris_df.columns[:4]\n",
        "model = LogisticRegression(solver=\"newton-cg\")\n",
        "model.fit(training_set[input_cols], training_set['target'])"
      ],
      "metadata": {
        "id": "7omVHxPbB5XP"
      },
      "execution_count": null,
      "outputs": []
    },
    {
      "cell_type": "code",
      "source": [
        "from sklearn.metrics import accuracy_score\n",
        "predictions = model.predict(test_set[input_cols])\n",
        "accuracy = accuracy_score(test_set['target'], predictions)\n",
        "print(accuracy)"
      ],
      "metadata": {
        "id": "dGaMSM9lB7JW"
      },
      "execution_count": null,
      "outputs": []
    },
    {
      "cell_type": "code",
      "source": [
        "from sklearn.metrics import confusion_matrix\n",
        "\n",
        "confusion_matrix(test_set['target'], predictions)"
      ],
      "metadata": {
        "id": "23oPssuXB9TP"
      },
      "execution_count": null,
      "outputs": []
    }
  ]
}