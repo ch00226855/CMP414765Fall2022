{
  "nbformat": 4,
  "nbformat_minor": 0,
  "metadata": {
    "colab": {
      "name": "Week10_NeuralNetworks",
      "provenance": [],
      "authorship_tag": "ABX9TyMiwtF5tldTKHQB/QNc7bVh",
      "include_colab_link": true
    },
    "kernelspec": {
      "name": "python3",
      "display_name": "Python 3"
    },
    "language_info": {
      "name": "python"
    },
    "accelerator": "GPU",
    "gpuClass": "standard"
  },
  "cells": [
    {
      "cell_type": "markdown",
      "metadata": {
        "id": "view-in-github",
        "colab_type": "text"
      },
      "source": [
        "<a href=\"https://colab.research.google.com/github/ch00226855/CMP414765Fall2022/blob/main/Week10_NeuralNetworks.ipynb\" target=\"_parent\"><img src=\"https://colab.research.google.com/assets/colab-badge.svg\" alt=\"Open In Colab\"/></a>"
      ]
    },
    {
      "cell_type": "markdown",
      "metadata": {
        "id": "twdwz57JtAz9"
      },
      "source": [
        "# Week 10\n",
        "# An Introduction to Neural Networks\n",
        "\n",
        "**Training large neural networks requires a lot of calculation.** Please turn on GPU computing from \"Edit\" -> \"Notebook Setting\" -> \"Hardware Acceleration\" before running the code below."
      ]
    },
    {
      "cell_type": "markdown",
      "metadata": {
        "id": "WYcVCgQFtGeL"
      },
      "source": [
        "# Build a Classifier for Hand-Written Digits\n",
        "\n",
        "Adapted from [TensorFlow tutorial](https://www.tensorflow.org/tutorials/quickstart/beginner)\n",
        "\n",
        "1. Build a neural network that classifies images.\n",
        "2. Train this neural network.\n",
        "3. Evaluate the accuracy of the model.\n",
        "\n",
        "*Readings: Chapter 10 Introduction to Artificial Neural Networks with Keras*"
      ]
    },
    {
      "cell_type": "code",
      "metadata": {
        "id": "b4Oo-6KAtGgu",
        "outputId": "0098e92a-6dcb-4b11-f400-90744626f3d7",
        "colab": {
          "base_uri": "https://localhost:8080/"
        }
      },
      "source": [
        "# import tensorflow\n",
        "import numpy as np\n",
        "import matplotlib.pyplot as plt\n",
        "import tensorflow as tf\n",
        "print(\"TensorFlow version:\", tf.__version__)\n",
        "\n",
        "# Make numpy values easier to read.\n",
        "np.set_printoptions(precision=3, suppress=True)"
      ],
      "execution_count": 1,
      "outputs": [
        {
          "output_type": "stream",
          "name": "stdout",
          "text": [
            "TensorFlow version: 2.9.2\n"
          ]
        }
      ]
    },
    {
      "cell_type": "code",
      "metadata": {
        "id": "vrEKfS4ttGjS",
        "outputId": "e8a5cf44-8fa8-44bc-c451-2222ac9c9f68",
        "colab": {
          "base_uri": "https://localhost:8080/"
        }
      },
      "source": [
        "# Load and prepare the MNIST dataset.\n",
        "mnist = tf.keras.datasets.mnist\n",
        "(x_train, y_train), (x_test, y_test) = mnist.load_data()\n",
        "\n",
        "# Convert the data from integers to floating-point numbers\n",
        "x_train, x_test = x_train / 255.0, x_test / 255.0\n",
        "\n",
        "print(x_train.shape, x_test.shape, y_train.shape, y_test.shape)"
      ],
      "execution_count": 4,
      "outputs": [
        {
          "output_type": "stream",
          "name": "stdout",
          "text": [
            "(60000, 28, 28) (10000, 28, 28) (60000,) (10000,)\n"
          ]
        }
      ]
    },
    {
      "cell_type": "code",
      "metadata": {
        "id": "8yk_3tRYtGl5",
        "outputId": "d17b0357-bac1-47cc-fc74-1aebac7a2846",
        "colab": {
          "base_uri": "https://localhost:8080/",
          "height": 300
        }
      },
      "source": [
        "# extract the first image in x_train\n",
        "idx = 123\n",
        "img = x_train[idx, :, :] # : means that we include all indices\n",
        "print(\"Shape of the image:\", img.shape)\n",
        "plt.imshow(img, cmap=\"Greys\")"
      ],
      "execution_count": 10,
      "outputs": [
        {
          "output_type": "stream",
          "name": "stdout",
          "text": [
            "Shape of the image: (28, 28)\n"
          ]
        },
        {
          "output_type": "execute_result",
          "data": {
            "text/plain": [
              "<matplotlib.image.AxesImage at 0x7f7e402f8950>"
            ]
          },
          "metadata": {},
          "execution_count": 10
        },
        {
          "output_type": "display_data",
          "data": {
            "text/plain": [
              "<Figure size 432x288 with 1 Axes>"
            ],
            "image/png": "[encoded data removed]"
          },
          "metadata": {
            "needs_background": "light"
          }
        }
      ]
    },
    {
      "cell_type": "code",
      "metadata": {
        "id": "RTFUQ89HtGou",
        "outputId": "c931d448-3b8b-45d8-aa11-e81d8e602147",
        "colab": {
          "base_uri": "https://localhost:8080/"
        }
      },
      "source": [
        "print(\"Shape of y_train:\", y_train.shape)\n",
        "y_train[idx]"
      ],
      "execution_count": 8,
      "outputs": [
        {
          "output_type": "stream",
          "name": "stdout",
          "text": [
            "Shape of y_train: (60000,)\n"
          ]
        },
        {
          "output_type": "execute_result",
          "data": {
            "text/plain": [
              "5"
            ]
          },
          "metadata": {},
          "execution_count": 8
        }
      ]
    },
    {
      "cell_type": "markdown",
      "source": [
        "Now let's build a neural network model."
      ],
      "metadata": {
        "id": "XjUqHoxSPN0F"
      }
    },
    {
      "cell_type": "code",
      "metadata": {
        "id": "jP0iuV3etGq5"
      },
      "source": [
        "# Build a neural network model by stacking layers.\n",
        "model = tf.keras.models.Sequential([\n",
        "    tf.keras.layers.Flatten(input_shape=(28, 28)), # convert a 28*28 matrix into a 784 1D array\n",
        "    tf.keras.layers.Dense(128, activation='relu'),\n",
        "    tf.keras.layers.Dense(128, activation='relu'),\n",
        "    tf.keras.layers.Dense(10, activation=\"softmax\")                                   \n",
        "])"
      ],
      "execution_count": 9,
      "outputs": []
    },
    {
      "cell_type": "markdown",
      "source": [
        "- The first line creates a `Sequential` model. This is the simplest kind of Keras\n",
        "model, for neural networks that are just composed of a single stack of layers, connected sequentially. This is called the sequential API.\n",
        "-Next, we build the first layer and add it to the model. It is a Flatten layer whose\n",
        "role is simply to convert each input image into a 1D array\n",
        "- Next we add a Dense hidden layer with 128 neurons. It will use the ReLU activation function.\n",
        "- Next we add a second Dense hidden layer with 128 neurons, also using the ReLU\n",
        "activation function.\n",
        "- Finally, we add a Dense output layer with 10 neurons (one per class), using `softmax` activation function.\n"
      ],
      "metadata": {
        "id": "lacqSluQvG24"
      }
    },
    {
      "cell_type": "code",
      "metadata": {
        "id": "fy0vfyIztGtr",
        "outputId": "f11b7639-e2ae-4c35-f844-59217115c441",
        "colab": {
          "base_uri": "https://localhost:8080/"
        }
      },
      "source": [
        "# For each example the model returns a vector of \"logits\", one for each class.\n",
        "index = 1234\n",
        "probs = model(x_train[index:index+2]) # The input to this model should be an array of images. It should be a 3D array.\n",
        "print(probs)"
      ],
      "execution_count": 33,
      "outputs": [
        {
          "output_type": "stream",
          "name": "stdout",
          "text": [
            "tf.Tensor(\n",
            "[[0.08  0.116 0.087 0.066 0.153 0.134 0.107 0.071 0.051 0.135]\n",
            " [0.106 0.09  0.08  0.066 0.132 0.139 0.093 0.078 0.062 0.155]], shape=(2, 10), dtype=float32)\n"
          ]
        }
      ]
    },
    {
      "cell_type": "code",
      "source": [
        "# We should make sure that the input is a 3D array.\n",
        "# x_train[index].shape              # Shape: (28, 28) X\n",
        "# x_train[index:index+1].shape      # Shape: (1, 28, 28) V\n",
        "# temp = np.array([x_train[index]]) # Shape: (1, 28, 28) V"
      ],
      "metadata": {
        "id": "6tet6E6fBN_a"
      },
      "execution_count": 34,
      "outputs": []
    },
    {
      "cell_type": "code",
      "source": [
        "# probs represents a probability distribution\n",
        "print(np.sum(probs))"
      ],
      "metadata": {
        "id": "ggpPSzBzAhCZ",
        "outputId": "e9dfcb40-bbc1-4b55-8b2f-80fdd3068137",
        "colab": {
          "base_uri": "https://localhost:8080/"
        }
      },
      "execution_count": 35,
      "outputs": [
        {
          "output_type": "stream",
          "name": "stdout",
          "text": [
            "2.0\n"
          ]
        }
      ]
    },
    {
      "cell_type": "code",
      "metadata": {
        "id": "1qYP96XQtGyw",
        "outputId": "3f6943a6-0d67-4331-b8d7-2fe47f4a0b22",
        "colab": {
          "base_uri": "https://localhost:8080/"
        }
      },
      "source": [
        "# The model makes prediction based on the largest probability\n",
        "class_prediction = np.argmax(probs)\n",
        "print(class_prediction)"
      ],
      "execution_count": 17,
      "outputs": [
        {
          "output_type": "stream",
          "name": "stdout",
          "text": [
            "4\n"
          ]
        }
      ]
    },
    {
      "cell_type": "code",
      "metadata": {
        "id": "dVm7q3LxtG1P",
        "outputId": "6e169cd5-ddd7-41d8-8d99-d0b81bad284f",
        "colab": {
          "base_uri": "https://localhost:8080/",
          "height": 283
        }
      },
      "source": [
        "# Visualize this image\n",
        "plt.imshow(x_train[index].reshape([28, 28]), cmap=plt.cm.binary)"
      ],
      "execution_count": 18,
      "outputs": [
        {
          "output_type": "execute_result",
          "data": {
            "text/plain": [
              "<matplotlib.image.AxesImage at 0x7f7de66ca550>"
            ]
          },
          "metadata": {},
          "execution_count": 18
        },
        {
          "output_type": "display_data",
          "data": {
            "text/plain": [
              "<Figure size 432x288 with 1 Axes>"
            ],
            "image/png": "[encoded data removed]"
          },
          "metadata": {
            "needs_background": "light"
          }
        }
      ]
    },
    {
      "cell_type": "markdown",
      "metadata": {
        "id": "ggOzNsa1uwja"
      },
      "source": [
        "The prediction accuracy is low, since no training has been performed yet. Let's introduce a function that measures the prediction error."
      ]
    },
    {
      "cell_type": "code",
      "metadata": {
        "id": "vjzqbX0UtG32",
        "outputId": "484e09f9-21ed-49cc-ea7f-38c4cb4986a1",
        "colab": {
          "base_uri": "https://localhost:8080/"
        }
      },
      "source": [
        "# Let's introduce a function that measures the prediction error.\n",
        "loss_fn = tf.keras.losses.SparseCategoricalCrossentropy()\n",
        "loss_fn(y_train[index:(index+2)], probs).numpy()"
      ],
      "execution_count": 36,
      "outputs": [
        {
          "output_type": "execute_result",
          "data": {
            "text/plain": [
              "2.2931986"
            ]
          },
          "metadata": {},
          "execution_count": 36
        }
      ]
    },
    {
      "cell_type": "code",
      "source": [
        "# The cross-entropy loss is 0 if the output distribution is the same as the ground truth label\n",
        "correct_label = y_train[index]\n",
        "correct_probability_distribution = np.array([0, 0, 0, 1.0, 0, 0, 0, 0, 0, 0])\n",
        "loss_fn(correct_label, correct_probability_distribution).numpy()\n",
        "\n",
        "very_wrong_distribution = np.array([0.5, 0.3, 0.2, 0, 0, 0, 0, 0, 0, 0])\n",
        "loss_fn(correct_label, very_wrong_distribution).numpy()"
      ],
      "metadata": {
        "id": "IfTf-h_zFBof",
        "outputId": "576060ab-7d72-4bf6-9c47-1ad26523f62b",
        "colab": {
          "base_uri": "https://localhost:8080/"
        }
      },
      "execution_count": 41,
      "outputs": [
        {
          "output_type": "execute_result",
          "data": {
            "text/plain": [
              "16.118096350958076"
            ]
          },
          "metadata": {},
          "execution_count": 41
        }
      ]
    },
    {
      "cell_type": "code",
      "metadata": {
        "id": "jw9uDuEytG6Q"
      },
      "source": [
        "# Set up the training environment\n",
        "model.compile(optimizer='sgd',\n",
        "              loss=loss_fn,\n",
        "              metrics=['accuracy'])"
      ],
      "execution_count": 42,
      "outputs": []
    },
    {
      "cell_type": "code",
      "metadata": {
        "id": "rDobEUh2tG80",
        "outputId": "e198bb9c-6888-47ab-a67e-1901f62761f3",
        "colab": {
          "base_uri": "https://localhost:8080/"
        }
      },
      "source": [
        "model.summary()"
      ],
      "execution_count": 43,
      "outputs": [
        {
          "output_type": "stream",
          "name": "stdout",
          "text": [
            "Model: \"sequential\"\n",
            "_________________________________________________________________\n",
            " Layer (type)                Output Shape              Param #   \n",
            "=================================================================\n",
            " flatten (Flatten)           (None, 784)               0         \n",
            "                                                                 \n",
            " dense (Dense)               (None, 128)               100480    \n",
            "                                                                 \n",
            " dense_1 (Dense)             (None, 128)               16512     \n",
            "                                                                 \n",
            " dense_2 (Dense)             (None, 10)                1290      \n",
            "                                                                 \n",
            "=================================================================\n",
            "Total params: 118,282\n",
            "Trainable params: 118,282\n",
            "Non-trainable params: 0\n",
            "_________________________________________________________________\n"
          ]
        }
      ]
    },
    {
      "cell_type": "code",
      "source": [
        "# Understand the number of parameters\n",
        "# The first dense layer has 784 * 128 connections with the input layer\n",
        "print(\"First dense layer:\")\n",
        "print(\"# of weight parameters:\", 784 * 128)\n",
        "print(\"# of bias parameters:\", 128)\n",
        "print(\"Total:\", 784 * 128 + 128)\n",
        "\n",
        "print('=' * 30)\n",
        "print(\"Second dense layer:\")\n",
        "print(\"# of weight parameters:\", 128 * 128)\n",
        "print(\"# of bias parameters:\", 128)\n",
        "print(\"Total:\", 128 * 128 + 128)\n",
        "\n",
        "print('=' * 30)\n",
        "print(\"Third dense layer:\")\n",
        "print(\"# of weight parameters:\", 128 * 10)\n",
        "print(\"# of bias parameters:\", 10)\n",
        "print(\"Total:\", 128 * 10 + 10)"
      ],
      "metadata": {
        "id": "gz244qRlIXe6",
        "outputId": "9bd84297-46d4-4684-bb33-dc4489e9e5fe",
        "colab": {
          "base_uri": "https://localhost:8080/"
        }
      },
      "execution_count": 47,
      "outputs": [
        {
          "output_type": "stream",
          "name": "stdout",
          "text": [
            "First dense layer:\n",
            "# of weight parameters: 100352\n",
            "# of bias parameters: 128\n",
            "Total: 100480\n",
            "==============================\n",
            "Second dense layer:\n",
            "# of weight parameters: 16384\n",
            "# of bias parameters: 128\n",
            "Total: 16512\n",
            "==============================\n",
            "Third dense layer:\n",
            "# of weight parameters: 1280\n",
            "# of bias parameters: 10\n",
            "Total: 1290\n"
          ]
        }
      ]
    },
    {
      "cell_type": "code",
      "metadata": {
        "id": "RZ5sa_9jtG_X",
        "outputId": "c44be730-b745-4a05-bdee-086c992e3fa1",
        "colab": {
          "base_uri": "https://localhost:8080/"
        }
      },
      "source": [
        "# The Model.fit method adjusts the model parameters to minimize the loss\n",
        "history = model.fit(x_train, y_train, epochs=10)"
      ],
      "execution_count": 53,
      "outputs": [
        {
          "output_type": "stream",
          "name": "stdout",
          "text": [
            "Epoch 1/10\n",
            "1875/1875 [==============================] - 4s 2ms/step - loss: 0.1660 - accuracy: 0.9527\n",
            "Epoch 2/10\n",
            "1875/1875 [==============================] - 4s 2ms/step - loss: 0.1501 - accuracy: 0.9566\n",
            "Epoch 3/10\n",
            "1875/1875 [==============================] - 4s 2ms/step - loss: 0.1366 - accuracy: 0.9610\n",
            "Epoch 4/10\n",
            "1875/1875 [==============================] - 4s 2ms/step - loss: 0.1252 - accuracy: 0.9645\n",
            "Epoch 5/10\n",
            "1875/1875 [==============================] - 4s 2ms/step - loss: 0.1151 - accuracy: 0.9671\n",
            "Epoch 6/10\n",
            "1875/1875 [==============================] - 4s 2ms/step - loss: 0.1070 - accuracy: 0.9695\n",
            "Epoch 7/10\n",
            "1875/1875 [==============================] - 4s 2ms/step - loss: 0.0991 - accuracy: 0.9719\n",
            "Epoch 8/10\n",
            "1875/1875 [==============================] - 4s 2ms/step - loss: 0.0924 - accuracy: 0.9740\n",
            "Epoch 9/10\n",
            "1875/1875 [==============================] - 4s 2ms/step - loss: 0.0866 - accuracy: 0.9754\n",
            "Epoch 10/10\n",
            "1875/1875 [==============================] - 5s 3ms/step - loss: 0.0813 - accuracy: 0.9775\n"
          ]
        }
      ]
    },
    {
      "cell_type": "markdown",
      "source": [
        "The `fit()` method returns a `History` object containing\n",
        "- the training parameters (`history.params`), \n",
        "- the list of epochs it went through (`history.epoch`), \n",
        "- a dictionary (`history.history`) containing the loss and extra metrics it\n",
        "measured at the end of each epoch on the training set and on the validation set"
      ],
      "metadata": {
        "id": "sMaQWXcSwnsj"
      }
    },
    {
      "cell_type": "code",
      "source": [
        "history.params"
      ],
      "metadata": {
        "id": "QbnzQMSTMdc4",
        "outputId": "f5e4abd6-ae74-4602-c69c-63a3d6635d20",
        "colab": {
          "base_uri": "https://localhost:8080/"
        }
      },
      "execution_count": 49,
      "outputs": [
        {
          "output_type": "execute_result",
          "data": {
            "text/plain": [
              "{'verbose': 1, 'epochs': 5, 'steps': 1875}"
            ]
          },
          "metadata": {},
          "execution_count": 49
        }
      ]
    },
    {
      "cell_type": "code",
      "source": [
        "history.epoch"
      ],
      "metadata": {
        "id": "8PdnGJaXMsug",
        "outputId": "2a98b596-b8a9-4bdb-91bc-5e4534a07c8f",
        "colab": {
          "base_uri": "https://localhost:8080/"
        }
      },
      "execution_count": 50,
      "outputs": [
        {
          "output_type": "execute_result",
          "data": {
            "text/plain": [
              "[0, 1, 2, 3, 4]"
            ]
          },
          "metadata": {},
          "execution_count": 50
        }
      ]
    },
    {
      "cell_type": "code",
      "source": [
        "history.history"
      ],
      "metadata": {
        "id": "zsupJdTmMveP",
        "outputId": "c2f21af9-c52e-4ef8-cd67-1538c9b3d828",
        "colab": {
          "base_uri": "https://localhost:8080/"
        }
      },
      "execution_count": 51,
      "outputs": [
        {
          "output_type": "execute_result",
          "data": {
            "text/plain": [
              "{'loss': [0.6348854303359985,\n",
              "  0.296861857175827,\n",
              "  0.24601028859615326,\n",
              "  0.2122013419866562,\n",
              "  0.18605060875415802],\n",
              " 'accuracy': [0.8327666521072388,\n",
              "  0.9139999747276306,\n",
              "  0.929183304309845,\n",
              "  0.9388499855995178,\n",
              "  0.9470999836921692]}"
            ]
          },
          "metadata": {},
          "execution_count": 51
        }
      ]
    },
    {
      "cell_type": "code",
      "source": [
        "# Visualize the training process\n",
        "import pandas as pd\n",
        "pd.DataFrame(history.history).plot(figsize=(8, 5))\n",
        "plt.grid(True)\n",
        "plt.ylim([0, 1]) # set the vertical range to [0-1]\n",
        "plt.show()"
      ],
      "metadata": {
        "id": "2mWi1nNWw8pM",
        "outputId": "46fb8b3f-b54d-4965-bec5-367bb572f43c",
        "colab": {
          "base_uri": "https://localhost:8080/",
          "height": 324
        }
      },
      "execution_count": 52,
      "outputs": [
        {
          "output_type": "display_data",
          "data": {
            "text/plain": [
              "<Figure size 576x360 with 1 Axes>"
            ],
            "image/png": "[encoded data removed]"
          },
          "metadata": {
            "needs_background": "light"
          }
        }
      ]
    },
    {
      "cell_type": "code",
      "metadata": {
        "id": "mWwe44uwtHB-",
        "outputId": "80a6fd12-eee9-4e5c-f11d-4479bd6dfe45",
        "colab": {
          "base_uri": "https://localhost:8080/"
        }
      },
      "source": [
        "# The above loss and accuracy is for the training data. Let's evaluate the model on the test set.\n",
        "model.evaluate(x_test, y_test)"
      ],
      "execution_count": 54,
      "outputs": [
        {
          "output_type": "stream",
          "name": "stdout",
          "text": [
            "313/313 [==============================] - 1s 3ms/step - loss: 0.0971 - accuracy: 0.9703\n"
          ]
        },
        {
          "output_type": "execute_result",
          "data": {
            "text/plain": [
              "[0.09708760678768158, 0.970300018787384]"
            ]
          },
          "metadata": {},
          "execution_count": 54
        }
      ]
    },
    {
      "cell_type": "code",
      "source": [
        "# Show the confusion matrix\n",
        "from sklearn.metrics import confusion_matrix\n",
        "predictions = model.predict(x_test)\n",
        "classes = np.argmax(predictions, axis=1)\n",
        "mat = confusion_matrix(y_test, classes)\n",
        "print(mat)"
      ],
      "metadata": {
        "id": "aEX8sIVkxjP-"
      },
      "execution_count": null,
      "outputs": []
    },
    {
      "cell_type": "markdown",
      "metadata": {
        "id": "TCUr9uNVvTUd"
      },
      "source": [
        "The image classifier is now trained to ~98% accuracy on this dataset. Let's create a test case ourselves. For example, we can use MS Paint to draw a digit. Remember to resize the canvas to 28*28 pixels\n",
        "\n",
        "Upload the image to Colab environment by clicking the \"Upload to Session Storage\" button in the File tab on the left."
      ]
    },
    {
      "cell_type": "code",
      "metadata": {
        "id": "Xmz8T3bkvMub"
      },
      "source": [
        "# import pillow for image transformation\n",
        "import PIL\n",
        "img = PIL.Image.open(\"Test.png\")\n",
        "img = img.convert('1') # convert image to black and white\n",
        "print(img.size)"
      ],
      "execution_count": null,
      "outputs": []
    },
    {
      "cell_type": "code",
      "metadata": {
        "id": "65WB0tsVwIst"
      },
      "source": [
        "# Convert the image to the proper format\n"
      ],
      "execution_count": null,
      "outputs": []
    },
    {
      "cell_type": "code",
      "metadata": {
        "id": "_w9L9LiwwPVR"
      },
      "source": [
        "# Obtain predictions from the model\n"
      ],
      "execution_count": null,
      "outputs": []
    },
    {
      "cell_type": "code",
      "metadata": {
        "id": "86aDkvT_wX-A"
      },
      "source": [],
      "execution_count": null,
      "outputs": []
    },
    {
      "cell_type": "code",
      "metadata": {
        "id": "WfdJJBhwwcc5"
      },
      "source": [
        "# y_test_pred = np.argmax(model(x_test).numpy())\n",
        "y_test_pred = []\n",
        "raw_predictions = model(x_test).numpy()\n",
        "for row_idx in range(raw_predictions.shape[0]):\n",
        "    logits = raw_predictions[row_idx, :]\n",
        "    probs = tf.nn.softmax(logits).numpy()\n",
        "    class_pred = np.argmax(probs)\n",
        "    y_test_pred.append(class_pred)\n",
        "print(y_test_pred)"
      ],
      "execution_count": null,
      "outputs": []
    },
    {
      "cell_type": "code",
      "source": [
        "# Save a model\n",
        "model.save(\"my_keras_model.h5\")"
      ],
      "metadata": {
        "id": "EwRZtSsMy8K_"
      },
      "execution_count": null,
      "outputs": []
    },
    {
      "cell_type": "code",
      "source": [
        "# Restore a model\n",
        "model = tf.keras.models.load_model(\"my_keras_model.h5\")"
      ],
      "metadata": {
        "id": "gu4Er2ihzAss"
      },
      "execution_count": null,
      "outputs": []
    },
    {
      "cell_type": "markdown",
      "metadata": {
        "id": "kBME1_pWwgpF"
      },
      "source": [
        "# Exercise 1: Are larger models better?\n",
        "Modify the neural network model in one of the following ways:\n",
        "1. Increate the number of neurons from 128 to 256.\n",
        "2. Add another layer of 128 nodes.\n",
        "Report the accuracy and the confusion matrix on the test set.\n",
        "\n"
      ]
    },
    {
      "cell_type": "code",
      "source": [],
      "metadata": {
        "id": "ZE6R4a9emymv"
      },
      "execution_count": null,
      "outputs": []
    },
    {
      "cell_type": "markdown",
      "source": [
        "**In which ways can one modify a neural network model?**"
      ],
      "metadata": {
        "id": "xvF-kDYu0SK7"
      }
    },
    {
      "cell_type": "markdown",
      "source": [
        "## Exercise 2: Train a Neural Network That Learns the XOR Operation"
      ],
      "metadata": {
        "id": "AZqfTpvTzqJU"
      }
    },
    {
      "cell_type": "code",
      "source": [],
      "metadata": {
        "id": "2RId-VSAz3PX"
      },
      "execution_count": null,
      "outputs": []
    }
  ]
}