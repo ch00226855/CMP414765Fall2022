{
  "nbformat": 4,
  "nbformat_minor": 0,
  "metadata": {
    "colab": {
      "name": "Week10_NeuralNetworks",
      "provenance": [],
      "authorship_tag": "ABX9TyMaeMPqQEflhqvSue0KXaQ1",
      "include_colab_link": true
    },
    "kernelspec": {
      "name": "python3",
      "display_name": "Python 3"
    },
    "language_info": {
      "name": "python"
    },
    "accelerator": "GPU",
    "gpuClass": "standard"
  },
  "cells": [
    {
      "cell_type": "markdown",
      "metadata": {
        "id": "view-in-github",
        "colab_type": "text"
      },
      "source": [
        "<a href=\"https://colab.research.google.com/github/ch00226855/CMP414765Fall2022/blob/main/Week10_NeuralNetworks.ipynb\" target=\"_parent\"><img src=\"https://colab.research.google.com/assets/colab-badge.svg\" alt=\"Open In Colab\"/></a>"
      ]
    },
    {
      "cell_type": "markdown",
      "metadata": {
        "id": "twdwz57JtAz9"
      },
      "source": [
        "# Week 10\n",
        "# An Introduction to Neural Networks\n",
        "\n",
        "**Training large neural networks requires a lot of calculation.** Please turn on GPU computing from \"Edit\" -> \"Notebook Setting\" -> \"Hardware Acceleration\" before running the code below."
      ]
    },
    {
      "cell_type": "markdown",
      "metadata": {
        "id": "WYcVCgQFtGeL"
      },
      "source": [
        "# Build a Classifier for Hand-Written Digits\n",
        "\n",
        "Adapted from [TensorFlow tutorial](https://www.tensorflow.org/tutorials/quickstart/beginner)\n",
        "\n",
        "1. Build a neural network that classifies images.\n",
        "2. Train this neural network.\n",
        "3. Evaluate the accuracy of the model.\n",
        "\n",
        "*Readings: Chapter 10 Introduction to Articial Neural Networks with Keras*"
      ]
    },
    {
      "cell_type": "code",
      "metadata": {
        "id": "b4Oo-6KAtGgu"
      },
      "source": [
        "# import tensorflow\n",
        "import numpy as np\n",
        "import matplotlib.pyplot as plt\n",
        "import tensorflow as tf\n",
        "print(\"TensorFlow version:\", tf.__version__)\n",
        "\n",
        "# Make numpy values easier to read.\n",
        "np.set_printoptions(precision=3, suppress=True)"
      ],
      "execution_count": null,
      "outputs": []
    },
    {
      "cell_type": "code",
      "metadata": {
        "id": "vrEKfS4ttGjS"
      },
      "source": [
        "# Load and prepare the MNIST dataset.\n",
        "mnist = tf.keras.datasets.mnist\n",
        "(x_train, y_train), (x_test, y_test) = mnist.load_data()\n",
        "\n",
        "# Convert the data from integers to floating-point numbers\n",
        "x_train, x_test = x_train / 255.0, x_test / 255.0\n",
        "\n",
        "print(x_train.shape, x_test.shape)"
      ],
      "execution_count": null,
      "outputs": []
    },
    {
      "cell_type": "code",
      "metadata": {
        "id": "8yk_3tRYtGl5"
      },
      "source": [
        "# extract the first image in x_train\n",
        "idx = 54321\n",
        "img = x_train[idx, :, :] # : means that we include all indices\n",
        "print(\"Shape of the image:\", img.shape)\n",
        "plt.imshow(img, cmap=\"Greys\")"
      ],
      "execution_count": null,
      "outputs": []
    },
    {
      "cell_type": "code",
      "metadata": {
        "id": "RTFUQ89HtGou"
      },
      "source": [
        "print(\"Shape of y_train:\", y_train.shape)\n",
        "y_train[idx]"
      ],
      "execution_count": null,
      "outputs": []
    },
    {
      "cell_type": "markdown",
      "source": [
        "Now let's build a neural network model."
      ],
      "metadata": {
        "id": "XjUqHoxSPN0F"
      }
    },
    {
      "cell_type": "code",
      "metadata": {
        "id": "jP0iuV3etGq5"
      },
      "source": [
        "# Build a neural network model by stacking layers.\n",
        "model = tf.keras.models.Sequential([\n",
        "    tf.keras.layers.Flatten(input_shape=(28, 28)), # convert a 28*28 matrix into a 784 1D array\n",
        "    tf.keras.layers.Dense(128, activation='relu'),\n",
        "    tf.keras.layers.Dense(128, activation='relu'),\n",
        "    tf.keras.layers.Dense(10, activation=\"softmax\")                                   \n",
        "])"
      ],
      "execution_count": null,
      "outputs": []
    },
    {
      "cell_type": "markdown",
      "source": [
        "- The first line creates a `Sequential` model. This is the simplest kind of Keras\n",
        "model, for neural networks that are just composed of a single stack of layers, connected sequentially. This is called the sequential API.\n",
        "-Next, we build the first layer and add it to the model. It is a Flatten layer whose\n",
        "role is simply to convert each input image into a 1D array\n",
        "- Next we add a Dense hidden layer with 128 neurons. It will use the ReLU activation function.\n",
        "- Next we add a second Dense hidden layer with 128 neurons, also using the ReLU\n",
        "activation function.\n",
        "- Finally, we add a Dense output layer with 10 neurons (one per class), using `softmax` activation function.\n"
      ],
      "metadata": {
        "id": "lacqSluQvG24"
      }
    },
    {
      "cell_type": "code",
      "metadata": {
        "id": "fy0vfyIztGtr"
      },
      "source": [
        "# For each example the model returns a vector of \"logits\", one for each class.\n",
        "index = 123\n",
        "probs = model(x_train[index:(index+1)])\n",
        "print(probs)"
      ],
      "execution_count": null,
      "outputs": []
    },
    {
      "cell_type": "code",
      "metadata": {
        "id": "1qYP96XQtGyw"
      },
      "source": [
        "# The model makes prediction based on the largest probability\n",
        "class_prediction = np.argmax(probs)\n",
        "print(class_prediction)"
      ],
      "execution_count": null,
      "outputs": []
    },
    {
      "cell_type": "code",
      "metadata": {
        "id": "dVm7q3LxtG1P"
      },
      "source": [
        "# Visualize this image\n",
        "plt.imshow(x_train[index].reshape([28, 28]), cmap=plt.cm.binary)"
      ],
      "execution_count": null,
      "outputs": []
    },
    {
      "cell_type": "markdown",
      "metadata": {
        "id": "ggOzNsa1uwja"
      },
      "source": [
        "The prediction accuracy is low, since no training has been performed yet. Let's introduce a function that measures the prediction error."
      ]
    },
    {
      "cell_type": "code",
      "metadata": {
        "id": "vjzqbX0UtG32"
      },
      "source": [
        "# Let's introduce a function that measures the prediction error.\n",
        "loss_fn = tf.keras.losses.SparseCategoricalCrossentropy()\n",
        "loss_fn(y_train[index:(index+1)], probs).numpy()"
      ],
      "execution_count": null,
      "outputs": []
    },
    {
      "cell_type": "code",
      "metadata": {
        "id": "jw9uDuEytG6Q"
      },
      "source": [
        "# Set up the training environment\n",
        "model.compile(optimizer='sgd',\n",
        "              loss=loss_fn,\n",
        "              metrics=['accuracy'])"
      ],
      "execution_count": null,
      "outputs": []
    },
    {
      "cell_type": "code",
      "metadata": {
        "id": "rDobEUh2tG80"
      },
      "source": [
        "model.summary()"
      ],
      "execution_count": null,
      "outputs": []
    },
    {
      "cell_type": "code",
      "metadata": {
        "id": "RZ5sa_9jtG_X"
      },
      "source": [
        "# The Model.fit method adjusts the model parameters to minimize the loss\n",
        "history = model.fit(x_train, y_train, epochs=5)"
      ],
      "execution_count": null,
      "outputs": []
    },
    {
      "cell_type": "markdown",
      "source": [
        "The `fit()` method returns a `History` object containing\n",
        "- the training parameters (`history.params`), \n",
        "- the list of epochs it went through (h`istory.epoch`), \n",
        "- a dictionary (`history.history`) containing the loss and extra metrics it\n",
        "measured at the end of each epoch on the training set and on the validation set"
      ],
      "metadata": {
        "id": "sMaQWXcSwnsj"
      }
    },
    {
      "cell_type": "code",
      "metadata": {
        "id": "mWwe44uwtHB-"
      },
      "source": [
        "# The above loss and accuracy is for the training data. Let's evaluate the model on the test set.\n",
        "model.evaluate(x_test, y_test)"
      ],
      "execution_count": null,
      "outputs": []
    },
    {
      "cell_type": "code",
      "source": [
        "# Show the confusion matrix\n",
        "from sklearn.metrics import confusion_matrix\n",
        "predictions = model.predict(x_test)\n",
        "classes = np.argmax(predictions, axis=1)\n",
        "mat = confusion_matrix(y_test, classes)\n",
        "print(mat)"
      ],
      "metadata": {
        "id": "aEX8sIVkxjP-"
      },
      "execution_count": null,
      "outputs": []
    },
    {
      "cell_type": "code",
      "source": [
        "# Visualize the training process\n",
        "import pandas as pd\n",
        "pd.DataFrame(history.history).plot(figsize=(8, 5))\n",
        "plt.grid(True)\n",
        "plt.ylim([0, 1]) # set the vertical range to [0-1]\n",
        "plt.show()"
      ],
      "metadata": {
        "id": "2mWi1nNWw8pM"
      },
      "execution_count": null,
      "outputs": []
    },
    {
      "cell_type": "markdown",
      "metadata": {
        "id": "TCUr9uNVvTUd"
      },
      "source": [
        "The image classifier is now trained to ~98% accuracy on this dataset. Let's create a test case ourselves. For example, we can use MS Paint to draw a digit. Remember to resize the canvas to 28*28 pixels\n",
        "\n",
        "Upload the image to Colab environment by clicking the \"Upload to Session Storage\" button in the File tab on the left."
      ]
    },
    {
      "cell_type": "code",
      "metadata": {
        "id": "Xmz8T3bkvMub"
      },
      "source": [
        "# import pillow for image transformation\n",
        "import PIL\n",
        "img = PIL.Image.open(\"Test.png\")\n",
        "img = img.convert('1') # convert image to black and white\n",
        "print(img.size)"
      ],
      "execution_count": null,
      "outputs": []
    },
    {
      "cell_type": "code",
      "metadata": {
        "id": "65WB0tsVwIst"
      },
      "source": [
        "# Convert the image to the proper format\n"
      ],
      "execution_count": null,
      "outputs": []
    },
    {
      "cell_type": "code",
      "metadata": {
        "id": "_w9L9LiwwPVR"
      },
      "source": [
        "# Obtain predictions from the model\n"
      ],
      "execution_count": null,
      "outputs": []
    },
    {
      "cell_type": "code",
      "metadata": {
        "id": "86aDkvT_wX-A"
      },
      "source": [],
      "execution_count": null,
      "outputs": []
    },
    {
      "cell_type": "code",
      "metadata": {
        "id": "WfdJJBhwwcc5"
      },
      "source": [
        "# y_test_pred = np.argmax(model(x_test).numpy())\n",
        "y_test_pred = []\n",
        "raw_predictions = model(x_test).numpy()\n",
        "for row_idx in range(raw_predictions.shape[0]):\n",
        "    logits = raw_predictions[row_idx, :]\n",
        "    probs = tf.nn.softmax(logits).numpy()\n",
        "    class_pred = np.argmax(probs)\n",
        "    y_test_pred.append(class_pred)\n",
        "print(y_test_pred)"
      ],
      "execution_count": null,
      "outputs": []
    },
    {
      "cell_type": "code",
      "source": [
        "# Save a model\n",
        "model.save(\"my_keras_model.h5\")"
      ],
      "metadata": {
        "id": "EwRZtSsMy8K_"
      },
      "execution_count": null,
      "outputs": []
    },
    {
      "cell_type": "code",
      "source": [
        "# Restore a model\n",
        "model = tf.keras.models.load_model(\"my_keras_model.h5\")"
      ],
      "metadata": {
        "id": "gu4Er2ihzAss"
      },
      "execution_count": null,
      "outputs": []
    },
    {
      "cell_type": "markdown",
      "metadata": {
        "id": "kBME1_pWwgpF"
      },
      "source": [
        "# Exercise 1: Are larger models better?\n",
        "Modify the neural network model in one of the following ways:\n",
        "1. Increate the number of neurons from 128 to 256.\n",
        "2. Add another layer of 128 nodes.\n",
        "Report the accuracy and the confusion matrix on the test set.\n",
        "\n"
      ]
    },
    {
      "cell_type": "code",
      "source": [],
      "metadata": {
        "id": "ZE6R4a9emymv"
      },
      "execution_count": null,
      "outputs": []
    },
    {
      "cell_type": "markdown",
      "source": [
        "## Exercise 2: Train a Neural Network That Learns the XOR Operation"
      ],
      "metadata": {
        "id": "AZqfTpvTzqJU"
      }
    },
    {
      "cell_type": "code",
      "source": [],
      "metadata": {
        "id": "2RId-VSAz3PX"
      },
      "execution_count": null,
      "outputs": []
    }
  ]
}