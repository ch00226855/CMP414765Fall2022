{
  "nbformat": 4,
  "nbformat_minor": 0,
  "metadata": {
    "colab": {
      "provenance": [],
      "authorship_tag": "ABX9TyPMkhu7lxkGPLPaBaiKg3fT",
      "include_colab_link": true
    },
    "kernelspec": {
      "name": "python3",
      "display_name": "Python 3"
    },
    "language_info": {
      "name": "python"
    },
    "accelerator": "GPU",
    "gpuClass": "standard"
  },
  "cells": [
    {
      "cell_type": "markdown",
      "metadata": {
        "id": "view-in-github",
        "colab_type": "text"
      },
      "source": [
        "<a href=\"https://colab.research.google.com/github/ch00226855/CMP414765Fall2022/blob/main/Week10_NeuralNetworks_Completed.ipynb\" target=\"_parent\"><img src=\"https://colab.research.google.com/assets/colab-badge.svg\" alt=\"Open In Colab\"/></a>"
      ]
    },
    {
      "cell_type": "markdown",
      "metadata": {
        "id": "twdwz57JtAz9"
      },
      "source": [
        "# Week 10\n",
        "# An Introduction to Neural Networks\n",
        "\n",
        "**Training large neural networks requires a lot of calculation.** Please turn on GPU computing from \"Edit\" -> \"Notebook Setting\" -> \"Hardware Acceleration\" before running the code below."
      ]
    },
    {
      "cell_type": "markdown",
      "metadata": {
        "id": "WYcVCgQFtGeL"
      },
      "source": [
        "# Build a Classifier for Hand-Written Digits\n",
        "\n",
        "Adapted from [TensorFlow tutorial](https://www.tensorflow.org/tutorials/quickstart/beginner)\n",
        "\n",
        "1. Build a neural network that classifies images.\n",
        "2. Train this neural network.\n",
        "3. Evaluate the accuracy of the model.\n",
        "\n",
        "*Readings: Chapter 10 Introduction to Artificial Neural Networks with Keras*"
      ]
    },
    {
      "cell_type": "code",
      "metadata": {
        "id": "b4Oo-6KAtGgu",
        "outputId": "904cb0fb-96c5-4327-8102-5988d08aae9e",
        "colab": {
          "base_uri": "https://localhost:8080/"
        }
      },
      "source": [
        "# import tensorflow\n",
        "import numpy as np\n",
        "import matplotlib.pyplot as plt\n",
        "import tensorflow as tf\n",
        "print(\"TensorFlow version:\", tf.__version__)\n",
        "\n",
        "# Make numpy values easier to read.\n",
        "np.set_printoptions(precision=3, suppress=True)"
      ],
      "execution_count": 1,
      "outputs": [
        {
          "output_type": "stream",
          "name": "stdout",
          "text": [
            "TensorFlow version: 2.9.2\n"
          ]
        }
      ]
    },
    {
      "cell_type": "code",
      "metadata": {
        "id": "vrEKfS4ttGjS",
        "outputId": "1b2f9d8e-5b4a-4dac-a0a0-ec9da7b01ddd",
        "colab": {
          "base_uri": "https://localhost:8080/"
        }
      },
      "source": [
        "# Load and prepare the MNIST dataset.\n",
        "mnist = tf.keras.datasets.mnist\n",
        "(x_train, y_train), (x_test, y_test) = mnist.load_data()\n",
        "\n",
        "# Convert the data from integers to floating-point numbers\n",
        "x_train, x_test = x_train / 255.0, x_test / 255.0\n",
        "\n",
        "print(x_train.shape, x_test.shape, y_train.shape, y_test.shape)"
      ],
      "execution_count": 2,
      "outputs": [
        {
          "output_type": "stream",
          "name": "stdout",
          "text": [
            "Downloading data from https://storage.googleapis.com/tensorflow/tf-keras-datasets/mnist.npz\n",
            "11490434/11490434 [==============================] - 0s 0us/step\n",
            "(60000, 28, 28) (10000, 28, 28) (60000,) (10000,)\n"
          ]
        }
      ]
    },
    {
      "cell_type": "code",
      "metadata": {
        "id": "8yk_3tRYtGl5",
        "outputId": "f3bc80f9-aaa5-4c57-99bb-92bb950614ee",
        "colab": {
          "base_uri": "https://localhost:8080/",
          "height": 300
        }
      },
      "source": [
        "# extract the first image in x_train\n",
        "idx = 123\n",
        "img = x_train[idx, :, :] # : means that we include all indices\n",
        "print(\"Shape of the image:\", img.shape)\n",
        "plt.imshow(img, cmap=\"Greys\")"
      ],
      "execution_count": 4,
      "outputs": [
        {
          "output_type": "stream",
          "name": "stdout",
          "text": [
            "Shape of the image: (28, 28)\n"
          ]
        },
        {
          "output_type": "execute_result",
          "data": {
            "text/plain": [
              "<matplotlib.image.AxesImage at 0x7f9264ddc850>"
            ]
          },
          "metadata": {},
          "execution_count": 4
        },
        {
          "output_type": "display_data",
          "data": {
            "text/plain": [
              "<Figure size 432x288 with 1 Axes>"
            ],
            "image/png": "[encoded data removed]"
          },
          "metadata": {
            "needs_background": "light"
          }
        }
      ]
    },
    {
      "cell_type": "code",
      "metadata": {
        "id": "RTFUQ89HtGou",
        "outputId": "26977548-ba8b-4b4f-966b-50e5e62ade0f",
        "colab": {
          "base_uri": "https://localhost:8080/"
        }
      },
      "source": [
        "print(\"Shape of y_train:\", y_train.shape)\n",
        "y_train[idx]"
      ],
      "execution_count": 5,
      "outputs": [
        {
          "output_type": "stream",
          "name": "stdout",
          "text": [
            "Shape of y_train: (60000,)\n"
          ]
        },
        {
          "output_type": "execute_result",
          "data": {
            "text/plain": [
              "7"
            ]
          },
          "metadata": {},
          "execution_count": 5
        }
      ]
    },
    {
      "cell_type": "markdown",
      "source": [
        "Now let's build a neural network model."
      ],
      "metadata": {
        "id": "XjUqHoxSPN0F"
      }
    },
    {
      "cell_type": "code",
      "metadata": {
        "id": "jP0iuV3etGq5"
      },
      "source": [
        "# Build a neural network model by stacking layers.\n",
        "model = tf.keras.models.Sequential([\n",
        "    tf.keras.layers.Flatten(input_shape=(28, 28)), # convert a 28*28 matrix into a 784 1D array\n",
        "    tf.keras.layers.Dense(128, activation='relu'),\n",
        "    tf.keras.layers.Dense(128, activation='relu'),\n",
        "    tf.keras.layers.Dense(10, activation=\"softmax\")                                   \n",
        "])"
      ],
      "execution_count": 7,
      "outputs": []
    },
    {
      "cell_type": "markdown",
      "source": [
        "- The first line creates a `Sequential` model. This is the simplest kind of Keras\n",
        "model, for neural networks that are just composed of a single stack of layers, connected sequentially. This is called the sequential API.\n",
        "-Next, we build the first layer and add it to the model. It is a Flatten layer whose\n",
        "role is simply to convert each input image into a 1D array\n",
        "- Next we add a Dense hidden layer with 128 neurons. It will use the ReLU activation function.\n",
        "- Next we add a second Dense hidden layer with 128 neurons, also using the ReLU\n",
        "activation function.\n",
        "- Finally, we add a Dense output layer with 10 neurons (one per class), using `softmax` activation function.\n"
      ],
      "metadata": {
        "id": "lacqSluQvG24"
      }
    },
    {
      "cell_type": "code",
      "metadata": {
        "id": "fy0vfyIztGtr",
        "outputId": "f11b7639-e2ae-4c35-f844-59217115c441",
        "colab": {
          "base_uri": "https://localhost:8080/"
        }
      },
      "source": [
        "# For each example the model returns a vector of \"logits\", one for each class.\n",
        "index = 1234\n",
        "probs = model(x_train[index:index+2]) # The input to this model should be an array of images. It should be a 3D array.\n",
        "print(probs)"
      ],
      "execution_count": null,
      "outputs": [
        {
          "output_type": "stream",
          "name": "stdout",
          "text": [
            "tf.Tensor(\n",
            "[[0.08  0.116 0.087 0.066 0.153 0.134 0.107 0.071 0.051 0.135]\n",
            " [0.106 0.09  0.08  0.066 0.132 0.139 0.093 0.078 0.062 0.155]], shape=(2, 10), dtype=float32)\n"
          ]
        }
      ]
    },
    {
      "cell_type": "code",
      "source": [
        "# We should make sure that the input is a 3D array.\n",
        "# x_train[index].shape              # Shape: (28, 28) X\n",
        "# x_train[index:index+1].shape      # Shape: (1, 28, 28) V\n",
        "# temp = np.array([x_train[index]]) # Shape: (1, 28, 28) V"
      ],
      "metadata": {
        "id": "6tet6E6fBN_a"
      },
      "execution_count": null,
      "outputs": []
    },
    {
      "cell_type": "code",
      "source": [
        "# probs represents a probability distribution\n",
        "print(np.sum(probs))"
      ],
      "metadata": {
        "id": "ggpPSzBzAhCZ",
        "outputId": "e9dfcb40-bbc1-4b55-8b2f-80fdd3068137",
        "colab": {
          "base_uri": "https://localhost:8080/"
        }
      },
      "execution_count": null,
      "outputs": [
        {
          "output_type": "stream",
          "name": "stdout",
          "text": [
            "2.0\n"
          ]
        }
      ]
    },
    {
      "cell_type": "code",
      "metadata": {
        "id": "1qYP96XQtGyw",
        "outputId": "3f6943a6-0d67-4331-b8d7-2fe47f4a0b22",
        "colab": {
          "base_uri": "https://localhost:8080/"
        }
      },
      "source": [
        "# The model makes prediction based on the largest probability\n",
        "class_prediction = np.argmax(probs)\n",
        "print(class_prediction)"
      ],
      "execution_count": null,
      "outputs": [
        {
          "output_type": "stream",
          "name": "stdout",
          "text": [
            "4\n"
          ]
        }
      ]
    },
    {
      "cell_type": "code",
      "metadata": {
        "id": "dVm7q3LxtG1P",
        "outputId": "6e169cd5-ddd7-41d8-8d99-d0b81bad284f",
        "colab": {
          "base_uri": "https://localhost:8080/",
          "height": 283
        }
      },
      "source": [
        "# Visualize this image\n",
        "plt.imshow(x_train[index].reshape([28, 28]), cmap=plt.cm.binary)"
      ],
      "execution_count": null,
      "outputs": [
        {
          "output_type": "execute_result",
          "data": {
            "text/plain": [
              "<matplotlib.image.AxesImage at 0x7f7de66ca550>"
            ]
          },
          "metadata": {},
          "execution_count": 18
        },
        {
          "output_type": "display_data",
          "data": {
            "text/plain": [
              "<Figure size 432x288 with 1 Axes>"
            ],
            "image/png": "[encoded data removed]"
          },
          "metadata": {
            "needs_background": "light"
          }
        }
      ]
    },
    {
      "cell_type": "markdown",
      "metadata": {
        "id": "ggOzNsa1uwja"
      },
      "source": [
        "The prediction accuracy is low, since no training has been performed yet. Let's introduce a function that measures the prediction error."
      ]
    },
    {
      "cell_type": "code",
      "metadata": {
        "id": "vjzqbX0UtG32",
        "outputId": "7cde48b4-0601-42a9-e669-590030be9d2a",
        "colab": {
          "base_uri": "https://localhost:8080/",
          "height": 204
        }
      },
      "source": [
        "# Let's introduce a function that measures the prediction error.\n",
        "loss_fn = tf.keras.losses.SparseCategoricalCrossentropy()\n",
        "loss_fn(y_train[index:(index+2)], probs).numpy()"
      ],
      "execution_count": 9,
      "outputs": [
        {
          "output_type": "error",
          "ename": "NameError",
          "evalue": "ignored",
          "traceback": [
            "\u001b[0;31m---------------------------------------------------------------------------\u001b[0m",
            "\u001b[0;31mNameError\u001b[0m                                 Traceback (most recent call last)",
            "\u001b[0;32m<ipython-input-9-053ef14deaa3>\u001b[0m in \u001b[0;36m<module>\u001b[0;34m\u001b[0m\n\u001b[1;32m      1\u001b[0m \u001b[0;31m# Let's introduce a function that measures the prediction error.\u001b[0m\u001b[0;34m\u001b[0m\u001b[0;34m\u001b[0m\u001b[0;34m\u001b[0m\u001b[0m\n\u001b[1;32m      2\u001b[0m \u001b[0mloss_fn\u001b[0m \u001b[0;34m=\u001b[0m \u001b[0mtf\u001b[0m\u001b[0;34m.\u001b[0m\u001b[0mkeras\u001b[0m\u001b[0;34m.\u001b[0m\u001b[0mlosses\u001b[0m\u001b[0;34m.\u001b[0m\u001b[0mSparseCategoricalCrossentropy\u001b[0m\u001b[0;34m(\u001b[0m\u001b[0;34m)\u001b[0m\u001b[0;34m\u001b[0m\u001b[0;34m\u001b[0m\u001b[0m\n\u001b[0;32m----> 3\u001b[0;31m \u001b[0mloss_fn\u001b[0m\u001b[0;34m(\u001b[0m\u001b[0my_train\u001b[0m\u001b[0;34m[\u001b[0m\u001b[0mindex\u001b[0m\u001b[0;34m:\u001b[0m\u001b[0;34m(\u001b[0m\u001b[0mindex\u001b[0m\u001b[0;34m+\u001b[0m\u001b[0;36m2\u001b[0m\u001b[0;34m)\u001b[0m\u001b[0;34m]\u001b[0m\u001b[0;34m,\u001b[0m \u001b[0mprobs\u001b[0m\u001b[0;34m)\u001b[0m\u001b[0;34m.\u001b[0m\u001b[0mnumpy\u001b[0m\u001b[0;34m(\u001b[0m\u001b[0;34m)\u001b[0m\u001b[0;34m\u001b[0m\u001b[0;34m\u001b[0m\u001b[0m\n\u001b[0m",
            "\u001b[0;31mNameError\u001b[0m: name 'index' is not defined"
          ]
        }
      ]
    },
    {
      "cell_type": "code",
      "source": [
        "# The cross-entropy loss is 0 if the output distribution is the same as the ground truth label\n",
        "correct_label = y_train[index]\n",
        "correct_probability_distribution = np.array([0, 0, 0, 1.0, 0, 0, 0, 0, 0, 0])\n",
        "loss_fn(correct_label, correct_probability_distribution).numpy()\n",
        "\n",
        "very_wrong_distribution = np.array([0.5, 0.3, 0.2, 0, 0, 0, 0, 0, 0, 0])\n",
        "loss_fn(correct_label, very_wrong_distribution).numpy()"
      ],
      "metadata": {
        "id": "IfTf-h_zFBof",
        "outputId": "576060ab-7d72-4bf6-9c47-1ad26523f62b",
        "colab": {
          "base_uri": "https://localhost:8080/"
        }
      },
      "execution_count": null,
      "outputs": [
        {
          "output_type": "execute_result",
          "data": {
            "text/plain": [
              "16.118096350958076"
            ]
          },
          "metadata": {},
          "execution_count": 41
        }
      ]
    },
    {
      "cell_type": "code",
      "metadata": {
        "id": "jw9uDuEytG6Q"
      },
      "source": [
        "# Set up the training environment\n",
        "model.compile(optimizer='sgd',\n",
        "              loss=loss_fn,\n",
        "              metrics=['accuracy'])"
      ],
      "execution_count": 10,
      "outputs": []
    },
    {
      "cell_type": "code",
      "metadata": {
        "id": "rDobEUh2tG80",
        "outputId": "4dfdda09-73d7-4693-842b-530c5fd49469",
        "colab": {
          "base_uri": "https://localhost:8080/"
        }
      },
      "source": [
        "model.summary()"
      ],
      "execution_count": 11,
      "outputs": [
        {
          "output_type": "stream",
          "name": "stdout",
          "text": [
            "Model: \"sequential\"\n",
            "_________________________________________________________________\n",
            " Layer (type)                Output Shape              Param #   \n",
            "=================================================================\n",
            " flatten (Flatten)           (None, 784)               0         \n",
            "                                                                 \n",
            " dense (Dense)               (None, 128)               100480    \n",
            "                                                                 \n",
            " dense_1 (Dense)             (None, 128)               16512     \n",
            "                                                                 \n",
            " dense_2 (Dense)             (None, 10)                1290      \n",
            "                                                                 \n",
            "=================================================================\n",
            "Total params: 118,282\n",
            "Trainable params: 118,282\n",
            "Non-trainable params: 0\n",
            "_________________________________________________________________\n"
          ]
        }
      ]
    },
    {
      "cell_type": "code",
      "source": [
        "# Understand the number of parameters\n",
        "# The first dense layer has 784 * 128 connections with the input layer\n",
        "print(\"First dense layer:\")\n",
        "print(\"# of weight parameters:\", 784 * 128)\n",
        "print(\"# of bias parameters:\", 128)\n",
        "print(\"Total:\", 784 * 128 + 128)\n",
        "\n",
        "print('=' * 30)\n",
        "print(\"Second dense layer:\")\n",
        "print(\"# of weight parameters:\", 128 * 128)\n",
        "print(\"# of bias parameters:\", 128)\n",
        "print(\"Total:\", 128 * 128 + 128)\n",
        "\n",
        "print('=' * 30)\n",
        "print(\"Third dense layer:\")\n",
        "print(\"# of weight parameters:\", 128 * 10)\n",
        "print(\"# of bias parameters:\", 10)\n",
        "print(\"Total:\", 128 * 10 + 10)"
      ],
      "metadata": {
        "id": "gz244qRlIXe6",
        "outputId": "9bd84297-46d4-4684-bb33-dc4489e9e5fe",
        "colab": {
          "base_uri": "https://localhost:8080/"
        }
      },
      "execution_count": null,
      "outputs": [
        {
          "output_type": "stream",
          "name": "stdout",
          "text": [
            "First dense layer:\n",
            "# of weight parameters: 100352\n",
            "# of bias parameters: 128\n",
            "Total: 100480\n",
            "==============================\n",
            "Second dense layer:\n",
            "# of weight parameters: 16384\n",
            "# of bias parameters: 128\n",
            "Total: 16512\n",
            "==============================\n",
            "Third dense layer:\n",
            "# of weight parameters: 1280\n",
            "# of bias parameters: 10\n",
            "Total: 1290\n"
          ]
        }
      ]
    },
    {
      "cell_type": "code",
      "metadata": {
        "id": "RZ5sa_9jtG_X",
        "outputId": "3455b52e-1ab3-4e85-ae1c-439630fc7004",
        "colab": {
          "base_uri": "https://localhost:8080/"
        }
      },
      "source": [
        "# The Model.fit method adjusts the model parameters to minimize the loss\n",
        "history = model.fit(x_train, y_train, epochs=10)"
      ],
      "execution_count": 12,
      "outputs": [
        {
          "output_type": "stream",
          "name": "stdout",
          "text": [
            "Epoch 1/10\n",
            "1875/1875 [==============================] - 6s 2ms/step - loss: 0.6468 - accuracy: 0.8308\n",
            "Epoch 2/10\n",
            "1875/1875 [==============================] - 4s 2ms/step - loss: 0.2969 - accuracy: 0.9141\n",
            "Epoch 3/10\n",
            "1875/1875 [==============================] - 4s 2ms/step - loss: 0.2437 - accuracy: 0.9303\n",
            "Epoch 4/10\n",
            "1875/1875 [==============================] - 4s 2ms/step - loss: 0.2094 - accuracy: 0.9398\n",
            "Epoch 5/10\n",
            "1875/1875 [==============================] - 4s 2ms/step - loss: 0.1841 - accuracy: 0.9469\n",
            "Epoch 6/10\n",
            "1875/1875 [==============================] - 4s 2ms/step - loss: 0.1647 - accuracy: 0.9524\n",
            "Epoch 7/10\n",
            "1875/1875 [==============================] - 5s 2ms/step - loss: 0.1489 - accuracy: 0.9570\n",
            "Epoch 8/10\n",
            "1875/1875 [==============================] - 4s 2ms/step - loss: 0.1356 - accuracy: 0.9610\n",
            "Epoch 9/10\n",
            "1875/1875 [==============================] - 4s 2ms/step - loss: 0.1245 - accuracy: 0.9643\n",
            "Epoch 10/10\n",
            "1875/1875 [==============================] - 4s 2ms/step - loss: 0.1152 - accuracy: 0.9670\n"
          ]
        }
      ]
    },
    {
      "cell_type": "markdown",
      "source": [
        "The `fit()` method returns a `History` object containing\n",
        "- the training parameters (`history.params`), \n",
        "- the list of epochs it went through (`history.epoch`), \n",
        "- a dictionary (`history.history`) containing the loss and extra metrics it\n",
        "measured at the end of each epoch on the training set and on the validation set"
      ],
      "metadata": {
        "id": "sMaQWXcSwnsj"
      }
    },
    {
      "cell_type": "code",
      "source": [
        "history.params"
      ],
      "metadata": {
        "id": "QbnzQMSTMdc4",
        "outputId": "16057a92-d7b4-4c1a-f664-8cb3e1020ce0",
        "colab": {
          "base_uri": "https://localhost:8080/"
        }
      },
      "execution_count": 13,
      "outputs": [
        {
          "output_type": "execute_result",
          "data": {
            "text/plain": [
              "{'verbose': 1, 'epochs': 10, 'steps': 1875}"
            ]
          },
          "metadata": {},
          "execution_count": 13
        }
      ]
    },
    {
      "cell_type": "code",
      "source": [
        "history.epoch"
      ],
      "metadata": {
        "id": "8PdnGJaXMsug",
        "outputId": "121e310f-e424-47fe-fbbb-552b29a86d0d",
        "colab": {
          "base_uri": "https://localhost:8080/"
        }
      },
      "execution_count": 14,
      "outputs": [
        {
          "output_type": "execute_result",
          "data": {
            "text/plain": [
              "[0, 1, 2, 3, 4, 5, 6, 7, 8, 9]"
            ]
          },
          "metadata": {},
          "execution_count": 14
        }
      ]
    },
    {
      "cell_type": "code",
      "source": [
        "history.history"
      ],
      "metadata": {
        "id": "zsupJdTmMveP",
        "outputId": "22378d01-5d38-4c6d-bab5-733e2645241a",
        "colab": {
          "base_uri": "https://localhost:8080/"
        }
      },
      "execution_count": 15,
      "outputs": [
        {
          "output_type": "execute_result",
          "data": {
            "text/plain": [
              "{'loss': [0.6467854380607605,\n",
              "  0.2969343364238739,\n",
              "  0.24372079968452454,\n",
              "  0.20940661430358887,\n",
              "  0.1841200888156891,\n",
              "  0.16469746828079224,\n",
              "  0.14887024462223053,\n",
              "  0.1356145292520523,\n",
              "  0.12450359016656876,\n",
              "  0.11524232476949692],\n",
              " 'accuracy': [0.8308166861534119,\n",
              "  0.9140833616256714,\n",
              "  0.9302833080291748,\n",
              "  0.9398499727249146,\n",
              "  0.9469166398048401,\n",
              "  0.9524166584014893,\n",
              "  0.9570333361625671,\n",
              "  0.9610000252723694,\n",
              "  0.9643166661262512,\n",
              "  0.9670000076293945]}"
            ]
          },
          "metadata": {},
          "execution_count": 15
        }
      ]
    },
    {
      "cell_type": "code",
      "source": [
        "# Visualize the training process\n",
        "import pandas as pd\n",
        "pd.DataFrame(history.history).plot(figsize=(8, 5))\n",
        "plt.grid(True)\n",
        "plt.ylim([0, 1]) # set the vertical range to [0-1]\n",
        "plt.show()"
      ],
      "metadata": {
        "id": "2mWi1nNWw8pM",
        "outputId": "ad672119-9179-4bfb-9340-2dc31e2b52ea",
        "colab": {
          "base_uri": "https://localhost:8080/",
          "height": 324
        }
      },
      "execution_count": 16,
      "outputs": [
        {
          "output_type": "display_data",
          "data": {
            "text/plain": [
              "<Figure size 576x360 with 1 Axes>"
            ],
            "image/png": "[encoded data removed]"
          },
          "metadata": {
            "needs_background": "light"
          }
        }
      ]
    },
    {
      "cell_type": "code",
      "metadata": {
        "id": "mWwe44uwtHB-",
        "outputId": "0f2cc707-fbc9-4d6e-e5ea-b55e1a35549b",
        "colab": {
          "base_uri": "https://localhost:8080/"
        }
      },
      "source": [
        "# The above loss and accuracy is for the training data. Let's evaluate the model on the test set.\n",
        "model.evaluate(x_test, y_test)"
      ],
      "execution_count": 17,
      "outputs": [
        {
          "output_type": "stream",
          "name": "stdout",
          "text": [
            "313/313 [==============================] - 1s 2ms/step - loss: 0.1191 - accuracy: 0.9652\n"
          ]
        },
        {
          "output_type": "execute_result",
          "data": {
            "text/plain": [
              "[0.11913841217756271, 0.9652000069618225]"
            ]
          },
          "metadata": {},
          "execution_count": 17
        }
      ]
    },
    {
      "cell_type": "code",
      "source": [
        "# Obtain the predictions on the test set\n",
        "predictions = model.predict(x_test)\n",
        "print(predictions[0:2, :])"
      ],
      "metadata": {
        "colab": {
          "base_uri": "https://localhost:8080/"
        },
        "id": "vM_EuW46Tf7C",
        "outputId": "0f4f5388-cb97-4006-df91-a8623773a395"
      },
      "execution_count": 20,
      "outputs": [
        {
          "output_type": "stream",
          "name": "stdout",
          "text": [
            "313/313 [==============================] - 1s 2ms/step\n",
            "[[0.    0.    0.001 0.006 0.    0.    0.    0.993 0.    0.   ]\n",
            " [0.    0.001 0.985 0.012 0.    0.002 0.    0.    0.    0.   ]]\n"
          ]
        }
      ]
    },
    {
      "cell_type": "code",
      "source": [
        "plt.imshow(x_test[1, :, :], cmap=\"Greys\")"
      ],
      "metadata": {
        "colab": {
          "base_uri": "https://localhost:8080/",
          "height": 283
        },
        "id": "kEBadhFmUDOd",
        "outputId": "e683e9f3-76b9-48d5-9953-8fe11d89ba2b"
      },
      "execution_count": 22,
      "outputs": [
        {
          "output_type": "execute_result",
          "data": {
            "text/plain": [
              "<matplotlib.image.AxesImage at 0x7f91b7d78fd0>"
            ]
          },
          "metadata": {},
          "execution_count": 22
        },
        {
          "output_type": "display_data",
          "data": {
            "text/plain": [
              "<Figure size 432x288 with 1 Axes>"
            ],
            "image/png": "[encoded data removed]"
          },
          "metadata": {
            "needs_background": "light"
          }
        }
      ]
    },
    {
      "cell_type": "code",
      "source": [
        "# Convert probability distributions to class predictions\n",
        "classes = np.argmax(predictions, axis=1) # axis=0 finds the largest value in each column\n",
        "                                         # axis=1 finds the largest value in each row\n",
        "print(classes)"
      ],
      "metadata": {
        "colab": {
          "base_uri": "https://localhost:8080/"
        },
        "id": "v6-f2cm9UbD1",
        "outputId": "ee9597c2-b7ce-45d5-ff38-eaeb145f3a5a"
      },
      "execution_count": 23,
      "outputs": [
        {
          "output_type": "stream",
          "name": "stdout",
          "text": [
            "[7 2 1 ... 4 5 6]\n"
          ]
        }
      ]
    },
    {
      "cell_type": "code",
      "source": [
        "# Show the confusion matrix\n",
        "from sklearn.metrics import confusion_matrix\n",
        "mat = confusion_matrix(y_test, classes)\n",
        "print(mat)"
      ],
      "metadata": {
        "id": "aEX8sIVkxjP-",
        "colab": {
          "base_uri": "https://localhost:8080/"
        },
        "outputId": "e8afa1f1-b3bc-481d-bf05-e7331ac6ac1b"
      },
      "execution_count": 24,
      "outputs": [
        {
          "output_type": "stream",
          "name": "stdout",
          "text": [
            "[[ 966    0    1    0    0    5    4    2    2    0]\n",
            " [   0 1121    2    1    0    1    4    0    6    0]\n",
            " [   6    2  996    8    1    1    3    7    8    0]\n",
            " [   0    1    4  976    1    9    0    8    9    2]\n",
            " [   1    0    5    0  952    0    7    1    2   14]\n",
            " [   5    1    1   10    2  856    7    0    6    4]\n",
            " [  10    3    0    0    7   11  923    0    4    0]\n",
            " [   0    8   14    4    2    1    0  984    0   15]\n",
            " [   4    2    2   12    4    7    6    5  929    3]\n",
            " [   4    8    0   11   18    2    1   10    6  949]]\n"
          ]
        }
      ]
    },
    {
      "cell_type": "code",
      "source": [
        "# How can we find those image of 9's that are mistaken for 4's?\n",
        "idxs = []\n",
        "for ind in range(len(y_test)):\n",
        "    if y_test[ind] == 9 and classes[ind] == 4:\n",
        "        idxs.append(ind)\n",
        "print(idxs)"
      ],
      "metadata": {
        "colab": {
          "base_uri": "https://localhost:8080/"
        },
        "id": "xR2yoxQaVh3t",
        "outputId": "60667549-09ef-4164-f8ad-724f4fea7a2b"
      },
      "execution_count": 26,
      "outputs": [
        {
          "output_type": "stream",
          "name": "stdout",
          "text": [
            "[1232, 1901, 2414, 2720, 2760, 2863, 3869, 3985, 4000, 4093, 4369, 4425, 4735, 4823, 4918, 6568, 9587, 9808]\n"
          ]
        }
      ]
    },
    {
      "cell_type": "code",
      "source": [
        "for ind in idxs:\n",
        "    plt.imshow(x_test[ind, :, :], cmap=\"Greys\")\n",
        "    plt.show()\n",
        "    input(\"Press anything to continue\")"
      ],
      "metadata": {
        "colab": {
          "base_uri": "https://localhost:8080/",
          "height": 1000
        },
        "id": "i7EHD4ksWPhP",
        "outputId": "a6250889-2ce8-4775-e3d4-5594259af8be"
      },
      "execution_count": 28,
      "outputs": [
        {
          "output_type": "display_data",
          "data": {
            "text/plain": [
              "<Figure size 432x288 with 1 Axes>"
            ],
            "image/png": "[encoded data removed]"
          },
          "metadata": {
            "needs_background": "light"
          }
        },
        {
          "name": "stdout",
          "output_type": "stream",
          "text": [
            "Press anything to continue\n"
          ]
        },
        {
          "output_type": "display_data",
          "data": {
            "text/plain": [
              "<Figure size 432x288 with 1 Axes>"
            ],
            "image/png": "[encoded data removed]"
          },
          "metadata": {
            "needs_background": "light"
          }
        },
        {
          "name": "stdout",
          "output_type": "stream",
          "text": [
            "Press anything to continue\n"
          ]
        },
        {
          "output_type": "display_data",
          "data": {
            "text/plain": [
              "<Figure size 432x288 with 1 Axes>"
            ],
            "image/png": "[encoded data removed]"
          },
          "metadata": {
            "needs_background": "light"
          }
        },
        {
          "name": "stdout",
          "output_type": "stream",
          "text": [
            "Press anything to continue\n"
          ]
        },
        {
          "output_type": "display_data",
          "data": {
            "text/plain": [
              "<Figure size 432x288 with 1 Axes>"
            ],
            "image/png": "[encoded data removed]"
          },
          "metadata": {
            "needs_background": "light"
          }
        },
        {
          "name": "stdout",
          "output_type": "stream",
          "text": [
            "Press anything to continue\n"
          ]
        },
        {
          "output_type": "display_data",
          "data": {
            "text/plain": [
              "<Figure size 432x288 with 1 Axes>"
            ],
            "image/png": "[encoded data removed]"
          },
          "metadata": {
            "needs_background": "light"
          }
        },
        {
          "name": "stdout",
          "output_type": "stream",
          "text": [
            "Press anything to continue\n"
          ]
        },
        {
          "output_type": "display_data",
          "data": {
            "text/plain": [
              "<Figure size 432x288 with 1 Axes>"
            ],
            "image/png": "[encoded data removed]"
          },
          "metadata": {
            "needs_background": "light"
          }
        },
        {
          "name": "stdout",
          "output_type": "stream",
          "text": [
            "Press anything to continue\n"
          ]
        },
        {
          "output_type": "display_data",
          "data": {
            "text/plain": [
              "<Figure size 432x288 with 1 Axes>"
            ],
            "image/png": "[encoded data removed]"
          },
          "metadata": {
            "needs_background": "light"
          }
        },
        {
          "name": "stdout",
          "output_type": "stream",
          "text": [
            "Press anything to continue\n"
          ]
        },
        {
          "output_type": "display_data",
          "data": {
            "text/plain": [
              "<Figure size 432x288 with 1 Axes>"
            ],
            "image/png": "[encoded data removed]"
          },
          "metadata": {
            "needs_background": "light"
          }
        },
        {
          "name": "stdout",
          "output_type": "stream",
          "text": [
            "Press anything to continue\n"
          ]
        },
        {
          "output_type": "display_data",
          "data": {
            "text/plain": [
              "<Figure size 432x288 with 1 Axes>"
            ],
            "image/png": "[encoded data removed]"
          },
          "metadata": {
            "needs_background": "light"
          }
        },
        {
          "name": "stdout",
          "output_type": "stream",
          "text": [
            "Press anything to continue\n"
          ]
        },
        {
          "output_type": "display_data",
          "data": {
            "text/plain": [
              "<Figure size 432x288 with 1 Axes>"
            ],
            "image/png": "[encoded data removed]"
          },
          "metadata": {
            "needs_background": "light"
          }
        },
        {
          "name": "stdout",
          "output_type": "stream",
          "text": [
            "Press anything to continue\n"
          ]
        },
        {
          "output_type": "display_data",
          "data": {
            "text/plain": [
              "<Figure size 432x288 with 1 Axes>"
            ],
            "image/png": "[encoded data removed]"
          },
          "metadata": {
            "needs_background": "light"
          }
        },
        {
          "name": "stdout",
          "output_type": "stream",
          "text": [
            "Press anything to continue\n"
          ]
        },
        {
          "output_type": "display_data",
          "data": {
            "text/plain": [
              "<Figure size 432x288 with 1 Axes>"
            ],
            "image/png": "[encoded data removed]"
          },
          "metadata": {
            "needs_background": "light"
          }
        },
        {
          "name": "stdout",
          "output_type": "stream",
          "text": [
            "Press anything to continue\n"
          ]
        },
        {
          "output_type": "display_data",
          "data": {
            "text/plain": [
              "<Figure size 432x288 with 1 Axes>"
            ],
            "image/png": "[encoded data removed]"
          },
          "metadata": {
            "needs_background": "light"
          }
        },
        {
          "name": "stdout",
          "output_type": "stream",
          "text": [
            "Press anything to continue\n"
          ]
        },
        {
          "output_type": "display_data",
          "data": {
            "text/plain": [
              "<Figure size 432x288 with 1 Axes>"
            ],
            "image/png": "[encoded data removed]"
          },
          "metadata": {
            "needs_background": "light"
          }
        },
        {
          "name": "stdout",
          "output_type": "stream",
          "text": [
            "Press anything to continue\n"
          ]
        },
        {
          "output_type": "display_data",
          "data": {
            "text/plain": [
              "<Figure size 432x288 with 1 Axes>"
            ],
            "image/png": "[encoded data removed]"
          },
          "metadata": {
            "needs_background": "light"
          }
        },
        {
          "name": "stdout",
          "output_type": "stream",
          "text": [
            "Press anything to continue\n"
          ]
        },
        {
          "output_type": "display_data",
          "data": {
            "text/plain": [
              "<Figure size 432x288 with 1 Axes>"
            ],
            "image/png": "[encoded data removed]"
          },
          "metadata": {
            "needs_background": "light"
          }
        },
        {
          "name": "stdout",
          "output_type": "stream",
          "text": [
            "Press anything to continue\n"
          ]
        },
        {
          "output_type": "display_data",
          "data": {
            "text/plain": [
              "<Figure size 432x288 with 1 Axes>"
            ],
            "image/png": "[encoded data removed]"
          },
          "metadata": {
            "needs_background": "light"
          }
        },
        {
          "name": "stdout",
          "output_type": "stream",
          "text": [
            "Press anything to continue\n"
          ]
        },
        {
          "output_type": "display_data",
          "data": {
            "text/plain": [
              "<Figure size 432x288 with 1 Axes>"
            ],
            "image/png": "[encoded data removed]"
          },
          "metadata": {
            "needs_background": "light"
          }
        },
        {
          "name": "stdout",
          "output_type": "stream",
          "text": [
            "Press anything to continue\n"
          ]
        }
      ]
    },
    {
      "cell_type": "markdown",
      "metadata": {
        "id": "TCUr9uNVvTUd"
      },
      "source": [
        "The image classifier is now trained to ~98% accuracy on this dataset. Let's create a test case ourselves. For example, we can use MS Paint to draw a digit. Remember to resize the canvas to 28*28 pixels\n",
        "\n",
        "Upload the image to Colab environment by clicking the \"Upload to Session Storage\" button in the File tab on the left."
      ]
    },
    {
      "cell_type": "code",
      "metadata": {
        "id": "Xmz8T3bkvMub",
        "colab": {
          "base_uri": "https://localhost:8080/"
        },
        "outputId": "1fc16374-65ce-46d2-b3cc-776ada529689"
      },
      "source": [
        "# import pillow for image transformation\n",
        "import PIL\n",
        "from PIL import ImageOps\n",
        "img = PIL.Image.open(\"Test04.png\")\n",
        "# img = img.convert('1') # Use grey scale to represent the colors\n",
        "img = ImageOps.grayscale(img)\n",
        "print(img.size)"
      ],
      "execution_count": 81,
      "outputs": [
        {
          "output_type": "stream",
          "name": "stdout",
          "text": [
            "(28, 28)\n"
          ]
        }
      ]
    },
    {
      "cell_type": "code",
      "metadata": {
        "id": "65WB0tsVwIst",
        "colab": {
          "base_uri": "https://localhost:8080/",
          "height": 300
        },
        "outputId": "28425790-286c-4804-aeee-58d4237f25cb"
      },
      "source": [
        "# Convert the image to the proper format\n",
        "ary = np.array(img) / 255.0\n",
        "print(ary.shape)\n",
        "\n",
        "ary = 1 - ary # We need to switch 0 and 1\n",
        "plt.imshow(ary, cmap=\"Greys\") "
      ],
      "execution_count": 82,
      "outputs": [
        {
          "output_type": "stream",
          "name": "stdout",
          "text": [
            "(28, 28)\n"
          ]
        },
        {
          "output_type": "execute_result",
          "data": {
            "text/plain": [
              "<matplotlib.image.AxesImage at 0x7f91b6ed2110>"
            ]
          },
          "metadata": {},
          "execution_count": 82
        },
        {
          "output_type": "display_data",
          "data": {
            "text/plain": [
              "<Figure size 432x288 with 1 Axes>"
            ],
            "image/png": "[encoded data removed]"
          },
          "metadata": {
            "needs_background": "light"
          }
        }
      ]
    },
    {
      "cell_type": "code",
      "source": [
        "# plt.imshow(1 - ary, cmap=\"Greys\")\n",
        "plt.imshow(x_train[0, :, :], cmap=\"Greys\")\n",
        "x_train[0, :, :]"
      ],
      "metadata": {
        "colab": {
          "base_uri": "https://localhost:8080/",
          "height": 1000
        },
        "id": "c56PHuKHaLXq",
        "outputId": "473ca657-22a4-4da1-ba02-18fefeb8d9f5"
      },
      "execution_count": 69,
      "outputs": [
        {
          "output_type": "execute_result",
          "data": {
            "text/plain": [
              "array([[0.   , 0.   , 0.   , 0.   , 0.   , 0.   , 0.   , 0.   , 0.   ,\n",
              "        0.   , 0.   , 0.   , 0.   , 0.   , 0.   , 0.   , 0.   , 0.   ,\n",
              "        0.   , 0.   , 0.   , 0.   , 0.   , 0.   , 0.   , 0.   , 0.   ,\n",
              "        0.   ],\n",
              "       [0.   , 0.   , 0.   , 0.   , 0.   , 0.   , 0.   , 0.   , 0.   ,\n",
              "        0.   , 0.   , 0.   , 0.   , 0.   , 0.   , 0.   , 0.   , 0.   ,\n",
              "        0.   , 0.   , 0.   , 0.   , 0.   , 0.   , 0.   , 0.   , 0.   ,\n",
              "        0.   ],\n",
              "       [0.   , 0.   , 0.   , 0.   , 0.   , 0.   , 0.   , 0.   , 0.   ,\n",
              "        0.   , 0.   , 0.   , 0.   , 0.   , 0.   , 0.   , 0.   , 0.   ,\n",
              "        0.   , 0.   , 0.   , 0.   , 0.   , 0.   , 0.   , 0.   , 0.   ,\n",
              "        0.   ],\n",
              "       [0.   , 0.   , 0.   , 0.   , 0.   , 0.   , 0.   , 0.   , 0.   ,\n",
              "        0.   , 0.   , 0.   , 0.   , 0.   , 0.   , 0.   , 0.   , 0.   ,\n",
              "        0.   , 0.   , 0.   , 0.   , 0.   , 0.   , 0.   , 0.   , 0.   ,\n",
              "        0.   ],\n",
              "       [0.   , 0.   , 0.   , 0.   , 0.   , 0.   , 0.   , 0.   , 0.   ,\n",
              "        0.   , 0.   , 0.   , 0.   , 0.   , 0.   , 0.   , 0.   , 0.   ,\n",
              "        0.   , 0.   , 0.   , 0.   , 0.   , 0.   , 0.   , 0.   , 0.   ,\n",
              "        0.   ],\n",
              "       [0.   , 0.   , 0.   , 0.   , 0.   , 0.   , 0.   , 0.   , 0.   ,\n",
              "        0.   , 0.   , 0.   , 0.012, 0.071, 0.071, 0.071, 0.494, 0.533,\n",
              "        0.686, 0.102, 0.651, 1.   , 0.969, 0.498, 0.   , 0.   , 0.   ,\n",
              "        0.   ],\n",
              "       [0.   , 0.   , 0.   , 0.   , 0.   , 0.   , 0.   , 0.   , 0.118,\n",
              "        0.141, 0.369, 0.604, 0.667, 0.992, 0.992, 0.992, 0.992, 0.992,\n",
              "        0.882, 0.675, 0.992, 0.949, 0.765, 0.251, 0.   , 0.   , 0.   ,\n",
              "        0.   ],\n",
              "       [0.   , 0.   , 0.   , 0.   , 0.   , 0.   , 0.   , 0.192, 0.933,\n",
              "        0.992, 0.992, 0.992, 0.992, 0.992, 0.992, 0.992, 0.992, 0.984,\n",
              "        0.365, 0.322, 0.322, 0.22 , 0.153, 0.   , 0.   , 0.   , 0.   ,\n",
              "        0.   ],\n",
              "       [0.   , 0.   , 0.   , 0.   , 0.   , 0.   , 0.   , 0.071, 0.859,\n",
              "        0.992, 0.992, 0.992, 0.992, 0.992, 0.776, 0.714, 0.969, 0.945,\n",
              "        0.   , 0.   , 0.   , 0.   , 0.   , 0.   , 0.   , 0.   , 0.   ,\n",
              "        0.   ],\n",
              "       [0.   , 0.   , 0.   , 0.   , 0.   , 0.   , 0.   , 0.   , 0.314,\n",
              "        0.612, 0.42 , 0.992, 0.992, 0.804, 0.043, 0.   , 0.169, 0.604,\n",
              "        0.   , 0.   , 0.   , 0.   , 0.   , 0.   , 0.   , 0.   , 0.   ,\n",
              "        0.   ],\n",
              "       [0.   , 0.   , 0.   , 0.   , 0.   , 0.   , 0.   , 0.   , 0.   ,\n",
              "        0.055, 0.004, 0.604, 0.992, 0.353, 0.   , 0.   , 0.   , 0.   ,\n",
              "        0.   , 0.   , 0.   , 0.   , 0.   , 0.   , 0.   , 0.   , 0.   ,\n",
              "        0.   ],\n",
              "       [0.   , 0.   , 0.   , 0.   , 0.   , 0.   , 0.   , 0.   , 0.   ,\n",
              "        0.   , 0.   , 0.545, 0.992, 0.745, 0.008, 0.   , 0.   , 0.   ,\n",
              "        0.   , 0.   , 0.   , 0.   , 0.   , 0.   , 0.   , 0.   , 0.   ,\n",
              "        0.   ],\n",
              "       [0.   , 0.   , 0.   , 0.   , 0.   , 0.   , 0.   , 0.   , 0.   ,\n",
              "        0.   , 0.   , 0.043, 0.745, 0.992, 0.275, 0.   , 0.   , 0.   ,\n",
              "        0.   , 0.   , 0.   , 0.   , 0.   , 0.   , 0.   , 0.   , 0.   ,\n",
              "        0.   ],\n",
              "       [0.   , 0.   , 0.   , 0.   , 0.   , 0.   , 0.   , 0.   , 0.   ,\n",
              "        0.   , 0.   , 0.   , 0.137, 0.945, 0.882, 0.627, 0.424, 0.004,\n",
              "        0.   , 0.   , 0.   , 0.   , 0.   , 0.   , 0.   , 0.   , 0.   ,\n",
              "        0.   ],\n",
              "       [0.   , 0.   , 0.   , 0.   , 0.   , 0.   , 0.   , 0.   , 0.   ,\n",
              "        0.   , 0.   , 0.   , 0.   , 0.318, 0.941, 0.992, 0.992, 0.467,\n",
              "        0.098, 0.   , 0.   , 0.   , 0.   , 0.   , 0.   , 0.   , 0.   ,\n",
              "        0.   ],\n",
              "       [0.   , 0.   , 0.   , 0.   , 0.   , 0.   , 0.   , 0.   , 0.   ,\n",
              "        0.   , 0.   , 0.   , 0.   , 0.   , 0.176, 0.729, 0.992, 0.992,\n",
              "        0.588, 0.106, 0.   , 0.   , 0.   , 0.   , 0.   , 0.   , 0.   ,\n",
              "        0.   ],\n",
              "       [0.   , 0.   , 0.   , 0.   , 0.   , 0.   , 0.   , 0.   , 0.   ,\n",
              "        0.   , 0.   , 0.   , 0.   , 0.   , 0.   , 0.063, 0.365, 0.988,\n",
              "        0.992, 0.733, 0.   , 0.   , 0.   , 0.   , 0.   , 0.   , 0.   ,\n",
              "        0.   ],\n",
              "       [0.   , 0.   , 0.   , 0.   , 0.   , 0.   , 0.   , 0.   , 0.   ,\n",
              "        0.   , 0.   , 0.   , 0.   , 0.   , 0.   , 0.   , 0.   , 0.976,\n",
              "        0.992, 0.976, 0.251, 0.   , 0.   , 0.   , 0.   , 0.   , 0.   ,\n",
              "        0.   ],\n",
              "       [0.   , 0.   , 0.   , 0.   , 0.   , 0.   , 0.   , 0.   , 0.   ,\n",
              "        0.   , 0.   , 0.   , 0.   , 0.   , 0.18 , 0.51 , 0.718, 0.992,\n",
              "        0.992, 0.812, 0.008, 0.   , 0.   , 0.   , 0.   , 0.   , 0.   ,\n",
              "        0.   ],\n",
              "       [0.   , 0.   , 0.   , 0.   , 0.   , 0.   , 0.   , 0.   , 0.   ,\n",
              "        0.   , 0.   , 0.   , 0.153, 0.58 , 0.898, 0.992, 0.992, 0.992,\n",
              "        0.98 , 0.714, 0.   , 0.   , 0.   , 0.   , 0.   , 0.   , 0.   ,\n",
              "        0.   ],\n",
              "       [0.   , 0.   , 0.   , 0.   , 0.   , 0.   , 0.   , 0.   , 0.   ,\n",
              "        0.   , 0.094, 0.447, 0.867, 0.992, 0.992, 0.992, 0.992, 0.788,\n",
              "        0.306, 0.   , 0.   , 0.   , 0.   , 0.   , 0.   , 0.   , 0.   ,\n",
              "        0.   ],\n",
              "       [0.   , 0.   , 0.   , 0.   , 0.   , 0.   , 0.   , 0.   , 0.09 ,\n",
              "        0.259, 0.835, 0.992, 0.992, 0.992, 0.992, 0.776, 0.318, 0.008,\n",
              "        0.   , 0.   , 0.   , 0.   , 0.   , 0.   , 0.   , 0.   , 0.   ,\n",
              "        0.   ],\n",
              "       [0.   , 0.   , 0.   , 0.   , 0.   , 0.   , 0.071, 0.671, 0.859,\n",
              "        0.992, 0.992, 0.992, 0.992, 0.765, 0.314, 0.035, 0.   , 0.   ,\n",
              "        0.   , 0.   , 0.   , 0.   , 0.   , 0.   , 0.   , 0.   , 0.   ,\n",
              "        0.   ],\n",
              "       [0.   , 0.   , 0.   , 0.   , 0.216, 0.675, 0.886, 0.992, 0.992,\n",
              "        0.992, 0.992, 0.957, 0.522, 0.043, 0.   , 0.   , 0.   , 0.   ,\n",
              "        0.   , 0.   , 0.   , 0.   , 0.   , 0.   , 0.   , 0.   , 0.   ,\n",
              "        0.   ],\n",
              "       [0.   , 0.   , 0.   , 0.   , 0.533, 0.992, 0.992, 0.992, 0.831,\n",
              "        0.529, 0.518, 0.063, 0.   , 0.   , 0.   , 0.   , 0.   , 0.   ,\n",
              "        0.   , 0.   , 0.   , 0.   , 0.   , 0.   , 0.   , 0.   , 0.   ,\n",
              "        0.   ],\n",
              "       [0.   , 0.   , 0.   , 0.   , 0.   , 0.   , 0.   , 0.   , 0.   ,\n",
              "        0.   , 0.   , 0.   , 0.   , 0.   , 0.   , 0.   , 0.   , 0.   ,\n",
              "        0.   , 0.   , 0.   , 0.   , 0.   , 0.   , 0.   , 0.   , 0.   ,\n",
              "        0.   ],\n",
              "       [0.   , 0.   , 0.   , 0.   , 0.   , 0.   , 0.   , 0.   , 0.   ,\n",
              "        0.   , 0.   , 0.   , 0.   , 0.   , 0.   , 0.   , 0.   , 0.   ,\n",
              "        0.   , 0.   , 0.   , 0.   , 0.   , 0.   , 0.   , 0.   , 0.   ,\n",
              "        0.   ],\n",
              "       [0.   , 0.   , 0.   , 0.   , 0.   , 0.   , 0.   , 0.   , 0.   ,\n",
              "        0.   , 0.   , 0.   , 0.   , 0.   , 0.   , 0.   , 0.   , 0.   ,\n",
              "        0.   , 0.   , 0.   , 0.   , 0.   , 0.   , 0.   , 0.   , 0.   ,\n",
              "        0.   ]])"
            ]
          },
          "metadata": {},
          "execution_count": 69
        },
        {
          "output_type": "display_data",
          "data": {
            "text/plain": [
              "<Figure size 432x288 with 1 Axes>"
            ],
            "image/png": "[encoded data removed]"
          },
          "metadata": {
            "needs_background": "light"
          }
        }
      ]
    },
    {
      "cell_type": "code",
      "metadata": {
        "id": "_w9L9LiwwPVR",
        "colab": {
          "base_uri": "https://localhost:8080/"
        },
        "outputId": "7557a626-39a9-4b64-b812-b25fb5d92bbb"
      },
      "source": [
        "# Obtain predictions from the model\n",
        "predictions = model.predict(ary.reshape(1, 28, 28))\n",
        "print(predictions)"
      ],
      "execution_count": 83,
      "outputs": [
        {
          "output_type": "stream",
          "name": "stdout",
          "text": [
            "1/1 [==============================] - 0s 15ms/step\n",
            "[[0. 0. 0. 1. 0. 0. 0. 0. 0. 0.]]\n"
          ]
        }
      ]
    },
    {
      "cell_type": "code",
      "source": [
        "# np.array([ary])\n",
        "plt.imshow(ary)"
      ],
      "metadata": {
        "colab": {
          "base_uri": "https://localhost:8080/",
          "height": 283
        },
        "id": "Qz9Wh1JxaCD0",
        "outputId": "09a39fa7-70a6-410b-c4a4-aaaec5f24d86"
      },
      "execution_count": 76,
      "outputs": [
        {
          "output_type": "execute_result",
          "data": {
            "text/plain": [
              "<matplotlib.image.AxesImage at 0x7f91b6d53450>"
            ]
          },
          "metadata": {},
          "execution_count": 76
        },
        {
          "output_type": "display_data",
          "data": {
            "text/plain": [
              "<Figure size 432x288 with 1 Axes>"
            ],
            "image/png": "[encoded data removed]"
          },
          "metadata": {
            "needs_background": "light"
          }
        }
      ]
    },
    {
      "cell_type": "code",
      "metadata": {
        "id": "86aDkvT_wX-A"
      },
      "source": [],
      "execution_count": null,
      "outputs": []
    },
    {
      "cell_type": "code",
      "source": [
        "# Save a model\n",
        "model.save(\"my_keras_model.h5\")"
      ],
      "metadata": {
        "id": "EwRZtSsMy8K_"
      },
      "execution_count": 84,
      "outputs": []
    },
    {
      "cell_type": "code",
      "source": [
        "# Where is this file stored?\n",
        "import os\n",
        "os.getcwd()"
      ],
      "metadata": {
        "colab": {
          "base_uri": "https://localhost:8080/",
          "height": 35
        },
        "id": "JpVwZhfCcSLY",
        "outputId": "7c9843f8-b412-4a3d-a8de-c0c651e08ec1"
      },
      "execution_count": 86,
      "outputs": [
        {
          "output_type": "execute_result",
          "data": {
            "text/plain": [
              "'/content'"
            ],
            "application/vnd.google.colaboratory.intrinsic+json": {
              "type": "string"
            }
          },
          "metadata": {},
          "execution_count": 86
        }
      ]
    },
    {
      "cell_type": "code",
      "source": [
        "# Restore a model\n",
        "model = tf.keras.models.load_model(\"my_keras_model.h5\")"
      ],
      "metadata": {
        "id": "gu4Er2ihzAss"
      },
      "execution_count": 85,
      "outputs": []
    },
    {
      "cell_type": "code",
      "source": [
        "# Inspect model's parameters\n",
        "weights, biases = model.layers[2].weights\n",
        "print(weights.shape, biases.shape)"
      ],
      "metadata": {
        "colab": {
          "base_uri": "https://localhost:8080/"
        },
        "id": "hE8vcuB4ce3d",
        "outputId": "1972a653-75c1-457d-f334-b7c867c043bc"
      },
      "execution_count": 91,
      "outputs": [
        {
          "output_type": "stream",
          "name": "stdout",
          "text": [
            "(128, 128) (128,)\n"
          ]
        }
      ]
    },
    {
      "cell_type": "markdown",
      "metadata": {
        "id": "kBME1_pWwgpF"
      },
      "source": [
        "# Exercise 1: Are larger models better?\n",
        "Modify the neural network model in one of the following ways:\n",
        "1. Increate the number of neurons from 128 to 256.\n",
        "2. Add another layer of 128 nodes.\n",
        "Report the accuracy and the confusion matrix on the test set.\n",
        "\n"
      ]
    },
    {
      "cell_type": "code",
      "source": [
        "model2 = tf.keras.models.Sequential([\n",
        "    tf.keras.layers.Flatten(input_shape=(28, 28)), # convert a 28*28 matrix into a 784 1D array\n",
        "    tf.keras.layers.Dense(256, activation='relu'),\n",
        "    tf.keras.layers.Dense(256, activation='relu'),\n",
        "    tf.keras.layers.Dense(10, activation=\"softmax\")                                   \n",
        "])"
      ],
      "metadata": {
        "id": "ZE6R4a9emymv"
      },
      "execution_count": 92,
      "outputs": []
    },
    {
      "cell_type": "code",
      "source": [
        "model2.compile(optimizer='sgd', loss=loss_fn, metrics=['accuracy'])"
      ],
      "metadata": {
        "id": "jTEpEno9eFkZ"
      },
      "execution_count": 95,
      "outputs": []
    },
    {
      "cell_type": "code",
      "source": [
        "model2.fit(x_train, y_train, epochs=10)"
      ],
      "metadata": {
        "colab": {
          "base_uri": "https://localhost:8080/"
        },
        "id": "XuLMC2VEeS0J",
        "outputId": "50f0a7b8-3e8b-4f8a-a0a0-90e3383bce29"
      },
      "execution_count": 96,
      "outputs": [
        {
          "output_type": "stream",
          "name": "stdout",
          "text": [
            "Epoch 1/10\n",
            "1875/1875 [==============================] - 5s 2ms/step - loss: 0.5994 - accuracy: 0.8441\n",
            "Epoch 2/10\n",
            "1875/1875 [==============================] - 4s 2ms/step - loss: 0.2816 - accuracy: 0.9197\n",
            "Epoch 3/10\n",
            "1875/1875 [==============================] - 4s 2ms/step - loss: 0.2294 - accuracy: 0.9345\n",
            "Epoch 4/10\n",
            "1875/1875 [==============================] - 5s 3ms/step - loss: 0.1944 - accuracy: 0.9440\n",
            "Epoch 5/10\n",
            "1875/1875 [==============================] - 4s 2ms/step - loss: 0.1684 - accuracy: 0.9512\n",
            "Epoch 6/10\n",
            "1875/1875 [==============================] - 4s 2ms/step - loss: 0.1486 - accuracy: 0.9573\n",
            "Epoch 7/10\n",
            "1875/1875 [==============================] - 4s 2ms/step - loss: 0.1330 - accuracy: 0.9624\n",
            "Epoch 8/10\n",
            "1875/1875 [==============================] - 4s 2ms/step - loss: 0.1202 - accuracy: 0.9654\n",
            "Epoch 9/10\n",
            "1875/1875 [==============================] - 4s 2ms/step - loss: 0.1098 - accuracy: 0.9685\n",
            "Epoch 10/10\n",
            "1875/1875 [==============================] - 4s 2ms/step - loss: 0.1001 - accuracy: 0.9715\n"
          ]
        },
        {
          "output_type": "execute_result",
          "data": {
            "text/plain": [
              "<keras.callbacks.History at 0x7f91b9a30750>"
            ]
          },
          "metadata": {},
          "execution_count": 96
        }
      ]
    },
    {
      "cell_type": "code",
      "source": [
        "model2.evaluate(x_test, y_test)"
      ],
      "metadata": {
        "colab": {
          "base_uri": "https://localhost:8080/"
        },
        "id": "Wbqs6oYVesHS",
        "outputId": "2d4bcce6-35f7-4f8b-9318-f2489813aeef"
      },
      "execution_count": 97,
      "outputs": [
        {
          "output_type": "stream",
          "name": "stdout",
          "text": [
            "313/313 [==============================] - 1s 4ms/step - loss: 0.1051 - accuracy: 0.9681\n"
          ]
        },
        {
          "output_type": "execute_result",
          "data": {
            "text/plain": [
              "[0.10506003350019455, 0.9681000113487244]"
            ]
          },
          "metadata": {},
          "execution_count": 97
        }
      ]
    },
    {
      "cell_type": "code",
      "source": [
        "model3 = tf.keras.models.Sequential([\n",
        "    tf.keras.layers.Flatten(input_shape=(28, 28)), # convert a 28*28 matrix into a 784 1D array\n",
        "    tf.keras.layers.Dense(256, activation='relu'),\n",
        "    tf.keras.layers.Dense(256, activation='relu'),\n",
        "    tf.keras.layers.Dense(256, activation='relu'),\n",
        "    tf.keras.layers.Dense(10, activation=\"softmax\")                                   \n",
        "])"
      ],
      "metadata": {
        "id": "DEiXLZN4e-vx"
      },
      "execution_count": 98,
      "outputs": []
    },
    {
      "cell_type": "code",
      "source": [
        "model3.compile(optimizer='sgd', loss=loss_fn, metrics=['accuracy'])"
      ],
      "metadata": {
        "id": "skZuEZ90fLou"
      },
      "execution_count": 99,
      "outputs": []
    },
    {
      "cell_type": "code",
      "source": [
        "model3.fit(x_train, y_train, epochs=10)"
      ],
      "metadata": {
        "colab": {
          "base_uri": "https://localhost:8080/"
        },
        "id": "1Z9_vgwjfLrP",
        "outputId": "1417af9c-5199-4b77-c879-34157ca1c6d6"
      },
      "execution_count": 100,
      "outputs": [
        {
          "output_type": "stream",
          "name": "stdout",
          "text": [
            "Epoch 1/10\n",
            "1875/1875 [==============================] - 6s 3ms/step - loss: 0.6070 - accuracy: 0.8342\n",
            "Epoch 2/10\n",
            "1875/1875 [==============================] - 5s 3ms/step - loss: 0.2583 - accuracy: 0.9250\n",
            "Epoch 3/10\n",
            "1875/1875 [==============================] - 5s 3ms/step - loss: 0.2008 - accuracy: 0.9417\n",
            "Epoch 4/10\n",
            "1875/1875 [==============================] - 5s 2ms/step - loss: 0.1645 - accuracy: 0.9520\n",
            "Epoch 5/10\n",
            "1875/1875 [==============================] - 5s 2ms/step - loss: 0.1387 - accuracy: 0.9602\n",
            "Epoch 6/10\n",
            "1875/1875 [==============================] - 5s 3ms/step - loss: 0.1196 - accuracy: 0.9651\n",
            "Epoch 7/10\n",
            "1875/1875 [==============================] - 5s 3ms/step - loss: 0.1048 - accuracy: 0.9695\n",
            "Epoch 8/10\n",
            "1875/1875 [==============================] - 5s 3ms/step - loss: 0.0931 - accuracy: 0.9725\n",
            "Epoch 9/10\n",
            "1875/1875 [==============================] - 5s 3ms/step - loss: 0.0833 - accuracy: 0.9759\n",
            "Epoch 10/10\n",
            "1875/1875 [==============================] - 5s 2ms/step - loss: 0.0744 - accuracy: 0.9784\n"
          ]
        },
        {
          "output_type": "execute_result",
          "data": {
            "text/plain": [
              "<keras.callbacks.History at 0x7f91b9855cd0>"
            ]
          },
          "metadata": {},
          "execution_count": 100
        }
      ]
    },
    {
      "cell_type": "code",
      "source": [
        "model3.evaluate(x_test, y_test)"
      ],
      "metadata": {
        "colab": {
          "base_uri": "https://localhost:8080/"
        },
        "id": "EisUpMhYfLt3",
        "outputId": "9c408e31-3149-41a0-9b67-ef2cc531a37d"
      },
      "execution_count": 101,
      "outputs": [
        {
          "output_type": "stream",
          "name": "stdout",
          "text": [
            "313/313 [==============================] - 1s 2ms/step - loss: 0.0949 - accuracy: 0.9707\n"
          ]
        },
        {
          "output_type": "execute_result",
          "data": {
            "text/plain": [
              "[0.09492892026901245, 0.9707000255584717]"
            ]
          },
          "metadata": {},
          "execution_count": 101
        }
      ]
    },
    {
      "cell_type": "code",
      "source": [
        "# What if we train the first longer?\n",
        "# At first both training acc and validation acc are improved\n",
        "# Then only training acc continues to rise. We should stop at this point to avoid overfitting the training data.\n",
        "model.fit(x_train, y_train, epochs=30, validation_split=0.1)"
      ],
      "metadata": {
        "colab": {
          "base_uri": "https://localhost:8080/"
        },
        "id": "aTey65YbfL1c",
        "outputId": "bec3e2a1-d017-486b-fd5c-96fd12b33cad"
      },
      "execution_count": 102,
      "outputs": [
        {
          "output_type": "stream",
          "name": "stdout",
          "text": [
            "Epoch 1/30\n",
            "1688/1688 [==============================] - 5s 3ms/step - loss: 0.1008 - accuracy: 0.9716 - val_loss: 0.0745 - val_accuracy: 0.9800\n",
            "Epoch 2/30\n",
            "1688/1688 [==============================] - 5s 3ms/step - loss: 0.0943 - accuracy: 0.9735 - val_loss: 0.0785 - val_accuracy: 0.9810\n",
            "Epoch 3/30\n",
            "1688/1688 [==============================] - 5s 3ms/step - loss: 0.0885 - accuracy: 0.9752 - val_loss: 0.0739 - val_accuracy: 0.9822\n",
            "Epoch 4/30\n",
            "1688/1688 [==============================] - 5s 3ms/step - loss: 0.0831 - accuracy: 0.9762 - val_loss: 0.0731 - val_accuracy: 0.9813\n",
            "Epoch 5/30\n",
            "1688/1688 [==============================] - 5s 3ms/step - loss: 0.0782 - accuracy: 0.9786 - val_loss: 0.0704 - val_accuracy: 0.9813\n",
            "Epoch 6/30\n",
            "1688/1688 [==============================] - 5s 3ms/step - loss: 0.0742 - accuracy: 0.9790 - val_loss: 0.0734 - val_accuracy: 0.9797\n",
            "Epoch 7/30\n",
            "1688/1688 [==============================] - 5s 3ms/step - loss: 0.0699 - accuracy: 0.9807 - val_loss: 0.0721 - val_accuracy: 0.9795\n",
            "Epoch 8/30\n",
            "1688/1688 [==============================] - 5s 3ms/step - loss: 0.0662 - accuracy: 0.9816 - val_loss: 0.0732 - val_accuracy: 0.9803\n",
            "Epoch 9/30\n",
            "1688/1688 [==============================] - 5s 3ms/step - loss: 0.0627 - accuracy: 0.9827 - val_loss: 0.0679 - val_accuracy: 0.9823\n",
            "Epoch 10/30\n",
            "1688/1688 [==============================] - 5s 3ms/step - loss: 0.0595 - accuracy: 0.9840 - val_loss: 0.0725 - val_accuracy: 0.9803\n",
            "Epoch 11/30\n",
            "1688/1688 [==============================] - 5s 3ms/step - loss: 0.0567 - accuracy: 0.9844 - val_loss: 0.0691 - val_accuracy: 0.9797\n",
            "Epoch 12/30\n",
            "1688/1688 [==============================] - 5s 3ms/step - loss: 0.0539 - accuracy: 0.9852 - val_loss: 0.0667 - val_accuracy: 0.9808\n",
            "Epoch 13/30\n",
            "1688/1688 [==============================] - 6s 4ms/step - loss: 0.0513 - accuracy: 0.9860 - val_loss: 0.0677 - val_accuracy: 0.9800\n",
            "Epoch 14/30\n",
            "1688/1688 [==============================] - 5s 3ms/step - loss: 0.0487 - accuracy: 0.9870 - val_loss: 0.0654 - val_accuracy: 0.9830\n",
            "Epoch 15/30\n",
            "1688/1688 [==============================] - 5s 3ms/step - loss: 0.0467 - accuracy: 0.9874 - val_loss: 0.0645 - val_accuracy: 0.9815\n",
            "Epoch 16/30\n",
            "1688/1688 [==============================] - 5s 3ms/step - loss: 0.0445 - accuracy: 0.9882 - val_loss: 0.0652 - val_accuracy: 0.9830\n",
            "Epoch 17/30\n",
            "1688/1688 [==============================] - 5s 3ms/step - loss: 0.0421 - accuracy: 0.9890 - val_loss: 0.0649 - val_accuracy: 0.9823\n",
            "Epoch 18/30\n",
            "1688/1688 [==============================] - 5s 3ms/step - loss: 0.0405 - accuracy: 0.9895 - val_loss: 0.0658 - val_accuracy: 0.9802\n",
            "Epoch 19/30\n",
            "1688/1688 [==============================] - 5s 3ms/step - loss: 0.0387 - accuracy: 0.9898 - val_loss: 0.0648 - val_accuracy: 0.9822\n",
            "Epoch 20/30\n",
            "1688/1688 [==============================] - 5s 3ms/step - loss: 0.0368 - accuracy: 0.9907 - val_loss: 0.0629 - val_accuracy: 0.9830\n",
            "Epoch 21/30\n",
            "1688/1688 [==============================] - 5s 3ms/step - loss: 0.0353 - accuracy: 0.9911 - val_loss: 0.0630 - val_accuracy: 0.9842\n",
            "Epoch 22/30\n",
            "1688/1688 [==============================] - 5s 3ms/step - loss: 0.0336 - accuracy: 0.9916 - val_loss: 0.0632 - val_accuracy: 0.9825\n",
            "Epoch 23/30\n",
            "1688/1688 [==============================] - 5s 3ms/step - loss: 0.0321 - accuracy: 0.9926 - val_loss: 0.0642 - val_accuracy: 0.9823\n",
            "Epoch 24/30\n",
            "1688/1688 [==============================] - 5s 3ms/step - loss: 0.0306 - accuracy: 0.9925 - val_loss: 0.0637 - val_accuracy: 0.9825\n",
            "Epoch 25/30\n",
            "1688/1688 [==============================] - 5s 3ms/step - loss: 0.0294 - accuracy: 0.9931 - val_loss: 0.0644 - val_accuracy: 0.9815\n",
            "Epoch 26/30\n",
            "1688/1688 [==============================] - 5s 3ms/step - loss: 0.0281 - accuracy: 0.9933 - val_loss: 0.0649 - val_accuracy: 0.9830\n",
            "Epoch 27/30\n",
            "1688/1688 [==============================] - 5s 3ms/step - loss: 0.0268 - accuracy: 0.9936 - val_loss: 0.0640 - val_accuracy: 0.9822\n",
            "Epoch 28/30\n",
            "1688/1688 [==============================] - 5s 3ms/step - loss: 0.0256 - accuracy: 0.9942 - val_loss: 0.0640 - val_accuracy: 0.9823\n",
            "Epoch 29/30\n",
            "1688/1688 [==============================] - 5s 3ms/step - loss: 0.0245 - accuracy: 0.9944 - val_loss: 0.0644 - val_accuracy: 0.9830\n",
            "Epoch 30/30\n",
            "1688/1688 [==============================] - 5s 3ms/step - loss: 0.0232 - accuracy: 0.9951 - val_loss: 0.0650 - val_accuracy: 0.9830\n"
          ]
        },
        {
          "output_type": "execute_result",
          "data": {
            "text/plain": [
              "<keras.callbacks.History at 0x7f91b258f250>"
            ]
          },
          "metadata": {},
          "execution_count": 102
        }
      ]
    },
    {
      "cell_type": "code",
      "source": [
        "model.evaluate(x_test, y_test)"
      ],
      "metadata": {
        "colab": {
          "base_uri": "https://localhost:8080/"
        },
        "id": "9-8QAcpVhS6b",
        "outputId": "b61e6bfe-b9d2-48d2-c1b3-02868d656237"
      },
      "execution_count": 103,
      "outputs": [
        {
          "output_type": "stream",
          "name": "stdout",
          "text": [
            "313/313 [==============================] - 1s 2ms/step - loss: 0.0739 - accuracy: 0.9783\n"
          ]
        },
        {
          "output_type": "execute_result",
          "data": {
            "text/plain": [
              "[0.0739297941327095, 0.9782999753952026]"
            ]
          },
          "metadata": {},
          "execution_count": 103
        }
      ]
    },
    {
      "cell_type": "markdown",
      "source": [
        "**In which ways can one modify a neural network model?**"
      ],
      "metadata": {
        "id": "xvF-kDYu0SK7"
      }
    },
    {
      "cell_type": "markdown",
      "source": [
        "## Exercise 2: Train a Neural Network That Learns the XOR Operation"
      ],
      "metadata": {
        "id": "AZqfTpvTzqJU"
      }
    },
    {
      "cell_type": "code",
      "source": [],
      "metadata": {
        "id": "2RId-VSAz3PX"
      },
      "execution_count": null,
      "outputs": []
    }
  ]
}